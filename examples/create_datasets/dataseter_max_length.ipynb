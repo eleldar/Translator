{
 "cells": [
  {
   "cell_type": "markdown",
   "id": "23d91b54",
   "metadata": {},
   "source": [
    "# Формирование корпусов в csv-файлы"
   ]
  },
  {
   "cell_type": "code",
   "execution_count": 1,
   "id": "dd3e8338",
   "metadata": {},
   "outputs": [],
   "source": [
    "import pandas as pd\n",
    "from os import listdir\n",
    "import gzip\n",
    "from csv import DictWriter\n",
    "from tqdm.notebook import tqdm as tn"
   ]
  },
  {
   "cell_type": "markdown",
   "id": "739235d2",
   "metadata": {},
   "source": [
    "## Англо-русский набор"
   ]
  },
  {
   "cell_type": "code",
   "execution_count": 2,
   "id": "684223c1",
   "metadata": {
    "scrolled": true
   },
   "outputs": [
    {
     "data": {
      "text/plain": [
       "['dev.id',\n",
       " 'dev.src',\n",
       " 'dev.trg',\n",
       " 'README.md',\n",
       " 'test.id',\n",
       " 'test.src',\n",
       " 'test.trg',\n",
       " 'train.id.gz',\n",
       " 'train.src.gz',\n",
       " 'train.trg.gz']"
      ]
     },
     "execution_count": 2,
     "metadata": {},
     "output_type": "execute_result"
    }
   ],
   "source": [
    "listdir('../../../../Desktop/eng-rus/')"
   ]
  },
  {
   "cell_type": "code",
   "execution_count": 3,
   "id": "08a26049",
   "metadata": {},
   "outputs": [
    {
     "data": {
      "application/vnd.jupyter.widget-view+json": {
       "model_id": "0fe4dd2da18041578db7a113a5a5a00c",
       "version_major": 2,
       "version_minor": 0
      },
      "text/plain": [
       "0it [00:00, ?it/s]"
      ]
     },
     "metadata": {},
     "output_type": "display_data"
    },
    {
     "name": "stdout",
     "output_type": "stream",
     "text": [
      "................................................................................................................................................................................................................................................................................................................................................................................................................................................................................................................................................................................................................................................................................................................................................................................................................................................................................................................................................................................................................................................................................................................................................................................................................................................................................................................................................................................................................................................................................................................................................................................................................................................................................................................................................................................................................................................................................................................................................................................................................................................................................................................................................................................................................................................................\n",
      "Обработано 217612504 предложений\n"
     ]
    }
   ],
   "source": [
    "path = '../../../../Desktop/eng-rus/'\n",
    "source_title = 'EN'\n",
    "target_title = 'RU'\n",
    "max_length = 405\n",
    "\n",
    "file_name = f'file_max_{max_length}.csv'\n",
    "source_file = path + 'train.src.gz' \n",
    "target_file = path + 'train.trg.gz'\n",
    "\n",
    "source = gzip.open(source_file, mode='r')\n",
    "target = gzip.open(target_file, mode='r')\n",
    "\n",
    "headers = [source_title, target_title]\n",
    "\n",
    "with open(path + file_name, 'w', encoding='utf-8') as f:\n",
    "    head = \",\".join(headers)\n",
    "    f.write(f'{head}\\n')\n",
    "    \n",
    "file = open(path + file_name, 'a', newline='', encoding='utf-8')\n",
    "\n",
    "n = 0\n",
    "dictwriter_object = DictWriter(file, fieldnames=headers)\n",
    "for s, t in tn(zip(source, target)):\n",
    "    if len(s.split()) <= max_length and len(t.split()) <= max_length:\n",
    "        s = s.decode('utf-8').strip()\n",
    "        t = t.decode('utf-8').strip()\n",
    "        row = {source_title: s, target_title: t}\n",
    "        dictwriter_object.writerow(row)        \n",
    "    n += 1    \n",
    "    if not n % 100000:\n",
    "        print('.', end='', sep='')\n",
    "\n",
    "source.close()\n",
    "target.close()\n",
    "file.close()\n",
    "\n",
    "print(f'\\nОбработано {n} предложений')"
   ]
  },
  {
   "cell_type": "markdown",
   "id": "01acb36b",
   "metadata": {},
   "source": [
    "## Арабско-русский набор"
   ]
  },
  {
   "cell_type": "code",
   "execution_count": 4,
   "id": "44ebe210",
   "metadata": {},
   "outputs": [
    {
     "data": {
      "application/vnd.jupyter.widget-view+json": {
       "model_id": "1b9c2239087a41138e61a2a5eda5946f",
       "version_major": 2,
       "version_minor": 0
      },
      "text/plain": [
       "0it [00:00, ?it/s]"
      ]
     },
     "metadata": {},
     "output_type": "display_data"
    },
    {
     "name": "stdout",
     "output_type": "stream",
     "text": [
      "................................................................................................................................................................................................................................................................................................................................................................................................................................................................................................................................................................................................................................\n",
      "Обработано 60875366 предложений\n"
     ]
    }
   ],
   "source": [
    "path = '../../../../Desktop/ara-rus/'\n",
    "source_title = 'AR'\n",
    "target_title = 'RU'\n",
    "max_length = 405\n",
    "\n",
    "file_name = f'file_max_{max_length}.csv'\n",
    "source_file = path + 'train.src.gz' \n",
    "target_file = path + 'train.trg.gz'\n",
    "\n",
    "source = gzip.open(source_file, mode='r')\n",
    "target = gzip.open(target_file, mode='r')\n",
    "\n",
    "headers = [source_title, target_title]\n",
    "\n",
    "with open(path + file_name, 'w', encoding='utf-8') as f:\n",
    "    head = \",\".join(headers)\n",
    "    f.write(f'{head}\\n')\n",
    "    \n",
    "file = open(path + file_name, 'a', newline='', encoding='utf-8')\n",
    "\n",
    "n = 0\n",
    "dictwriter_object = DictWriter(file, fieldnames=headers)\n",
    "for s, t in tn(zip(source, target)):\n",
    "    if len(s.split()) <= max_length and len(t.split()) <= max_length:\n",
    "        s = s.decode('utf-8').strip()\n",
    "        t = t.decode('utf-8').strip()\n",
    "        row = {source_title: s, target_title: t}\n",
    "        dictwriter_object.writerow(row)        \n",
    "    n += 1    \n",
    "    if not n % 100000:\n",
    "        print('.', end='', sep='')\n",
    "\n",
    "source.close()\n",
    "target.close()\n",
    "file.close()\n",
    "\n",
    "print(f'\\nОбработано {n} предложений')"
   ]
  },
  {
   "cell_type": "markdown",
   "id": "243abd80",
   "metadata": {},
   "source": [
    "## Арабско-английский набор"
   ]
  },
  {
   "cell_type": "code",
   "execution_count": 5,
   "id": "205c685d",
   "metadata": {
    "scrolled": false
   },
   "outputs": [
    {
     "data": {
      "application/vnd.jupyter.widget-view+json": {
       "model_id": "be2bb0c5de344ac78d2233ebbc5b401d",
       "version_major": 2,
       "version_minor": 0
      },
      "text/plain": [
       "0it [00:00, ?it/s]"
      ]
     },
     "metadata": {},
     "output_type": "display_data"
    },
    {
     "name": "stdout",
     "output_type": "stream",
     "text": [
      ".................................................................................................................................................................................................................................................................................................................................................................................................................................................................................................................................................................................................................................................................................................................................................................................................................................................................................................................................................................................................................................................................................................................................................................................................................................................................................................................\n",
      "Обработано 126590524 предложений\n"
     ]
    }
   ],
   "source": [
    "path = '../../../../Desktop/ara-eng/'\n",
    "source_title = 'AR'\n",
    "target_title = 'EN'\n",
    "max_length = 405\n",
    "\n",
    "file_name = f'file_max_{max_length}.csv'\n",
    "source_file = path + 'train.src.gz' \n",
    "target_file = path + 'train.trg.gz'\n",
    "\n",
    "source = gzip.open(source_file, mode='r')\n",
    "target = gzip.open(target_file, mode='r')\n",
    "\n",
    "headers = [source_title, target_title]\n",
    "\n",
    "with open(path + file_name, 'w', encoding='utf-8') as f:\n",
    "    head = \",\".join(headers)\n",
    "    f.write(f'{head}\\n')\n",
    "    \n",
    "file = open(path + file_name, 'a', newline='', encoding='utf-8')\n",
    "\n",
    "n = 0\n",
    "dictwriter_object = DictWriter(file, fieldnames=headers)\n",
    "for s, t in tn(zip(source, target)):\n",
    "    if len(s.split()) <= max_length and len(t.split()) <= max_length:\n",
    "        s = s.decode('utf-8').strip()\n",
    "        t = t.decode('utf-8').strip()\n",
    "        row = {source_title: s, target_title: t}\n",
    "        dictwriter_object.writerow(row)        \n",
    "    n += 1    \n",
    "    if not n % 100000:\n",
    "        print('.', end='', sep='')\n",
    "\n",
    "source.close()\n",
    "target.close()\n",
    "file.close()\n",
    "\n",
    "print(f'\\nОбработано {n} предложений')"
   ]
  },
  {
   "cell_type": "code",
   "execution_count": null,
   "id": "20a1439a",
   "metadata": {},
   "outputs": [],
   "source": []
  }
 ],
 "metadata": {
  "kernelspec": {
   "display_name": "Python 3 (ipykernel)",
   "language": "python",
   "name": "python3"
  },
  "language_info": {
   "codemirror_mode": {
    "name": "ipython",
    "version": 3
   },
   "file_extension": ".py",
   "mimetype": "text/x-python",
   "name": "python",
   "nbconvert_exporter": "python",
   "pygments_lexer": "ipython3",
   "version": "3.9.7"
  }
 },
 "nbformat": 4,
 "nbformat_minor": 5
}
