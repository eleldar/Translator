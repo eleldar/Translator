{
 "cells": [
  {
   "cell_type": "markdown",
   "id": "23d91b54",
   "metadata": {},
   "source": [
    "# Краткие корпуса в csv-файлы"
   ]
  },
  {
   "cell_type": "code",
   "execution_count": 1,
   "id": "dd3e8338",
   "metadata": {},
   "outputs": [],
   "source": [
    "import pandas as pd\n",
    "from os import listdir\n",
    "import gzip\n",
    "from csv import DictWriter\n",
    "from tqdm.notebook import tqdm as tn"
   ]
  },
  {
   "cell_type": "markdown",
   "id": "739235d2",
   "metadata": {},
   "source": [
    "## Англо-русский набор"
   ]
  },
  {
   "cell_type": "code",
   "execution_count": 21,
   "id": "684223c1",
   "metadata": {
    "scrolled": true
   },
   "outputs": [
    {
     "data": {
      "text/plain": [
       "['dev.id',\n",
       " 'dev.src',\n",
       " 'dev.trg',\n",
       " 'README.md',\n",
       " 'test.id',\n",
       " 'test.src',\n",
       " 'test.trg',\n",
       " 'train.id.gz',\n",
       " 'train.src.gz',\n",
       " 'train.trg.gz']"
      ]
     },
     "execution_count": 21,
     "metadata": {},
     "output_type": "execute_result"
    }
   ],
   "source": [
    "listdir('../../Desktop/eng-rus/')"
   ]
  },
  {
   "cell_type": "code",
   "execution_count": 4,
   "id": "08a26049",
   "metadata": {},
   "outputs": [
    {
     "data": {
      "application/vnd.jupyter.widget-view+json": {
       "model_id": "e6c46a16fd144f789220b12e4fcbe210",
       "version_major": 2,
       "version_minor": 0
      },
      "text/plain": [
       "0it [00:00, ?it/s]"
      ]
     },
     "metadata": {},
     "output_type": "display_data"
    },
    {
     "name": "stdout",
     "output_type": "stream",
     "text": [
      "\n",
      "Обработано 100000 предложений\n"
     ]
    }
   ],
   "source": [
    "path = '../../Desktop/eng-rus/'\n",
    "inx_file = path + 'train.id.gz' \n",
    "en_file = path + 'train.src.gz' \n",
    "ru_file = path + 'train.trg.gz'\n",
    "\n",
    "inx = gzip.open(inx_file, mode='r')\n",
    "en = gzip.open(en_file, mode='r')\n",
    "ru = gzip.open(ru_file, mode='r')\n",
    "\n",
    "headers = ['INDEX','EN','RU']\n",
    "\n",
    "with open(path + 'sh_file.csv', 'w', encoding='utf-8') as f:\n",
    "    head = \",\".join(headers)\n",
    "    f.write(f'{head}\\n')\n",
    "    \n",
    "file = open(path + 'sh_file.csv', 'a', newline='', encoding='utf-8')\n",
    "\n",
    "s = 0\n",
    "dictwriter_object = DictWriter(file, fieldnames=headers)\n",
    "for i, e, r in tn(zip(inx, en, ru)):\n",
    "    i = i.decode('utf-8').strip().split()[0]\n",
    "    e = e.decode('utf-8').strip()\n",
    "    r = r.decode('utf-8').strip()\n",
    "    row = {'INDEX': i, 'EN': e,'RU': r}\n",
    "    dictwriter_object.writerow(row)    \n",
    "    s += 1    \n",
    "    if not s % 100000:\n",
    "        break\n",
    "\n",
    "inx.close()\n",
    "en.close()\n",
    "ru.close()\n",
    "file.close()\n",
    "\n",
    "print(f'\\nОбработано {s} предложений')"
   ]
  },
  {
   "cell_type": "markdown",
   "id": "01acb36b",
   "metadata": {},
   "source": [
    "## Арабско-русский набор"
   ]
  },
  {
   "cell_type": "code",
   "execution_count": 17,
   "id": "44ebe210",
   "metadata": {},
   "outputs": [
    {
     "data": {
      "application/vnd.jupyter.widget-view+json": {
       "model_id": "0257d21aea3243efbdb04cf0f1c41055",
       "version_major": 2,
       "version_minor": 0
      },
      "text/plain": [
       "0it [00:00, ?it/s]"
      ]
     },
     "metadata": {},
     "output_type": "display_data"
    },
    {
     "name": "stdout",
     "output_type": "stream",
     "text": [
      "................................................................................................................................................................................................................................................................................................................................................................................................................................................................................................................................................................................................................................\n",
      "Обработано 60875366 предложений\n"
     ]
    }
   ],
   "source": [
    "path = '../../Desktop/ara-rus/'\n",
    "inx_file = path + 'train.id.gz' \n",
    "ar_file = path + 'train.src.gz' \n",
    "ru_file = path + 'train.trg.gz'\n",
    "\n",
    "inx = gzip.open(inx_file, mode='r')\n",
    "ar = gzip.open(ar_file, mode='r')\n",
    "ru = gzip.open(ru_file, mode='r')\n",
    "\n",
    "headers = ['INDEX','AR','RU']\n",
    "\n",
    "with open(path + 'sh_file.csv', 'w', encoding='utf-8') as f:\n",
    "    head = \",\".join(headers)\n",
    "    f.write(f'{head}\\n')\n",
    "    \n",
    "file = open(path + 'sh_file.csv', 'a', newline='', encoding='utf-8')\n",
    "\n",
    "s = 0\n",
    "dictwriter_object = DictWriter(file, fieldnames=headers)\n",
    "for i, a, r in tn(zip(inx, en, ru)):\n",
    "    i = i.decode('utf-8').strip().split()[0]\n",
    "    a = a.decode('utf-8').strip()\n",
    "    r = r.decode('utf-8').strip()\n",
    "    row = {'INDEX': i, 'AR': a,'RU': r}\n",
    "    dictwriter_object.writerow(row)    \n",
    "    s += 1    \n",
    "    if not s % 100000:\n",
    "        break\n",
    "\n",
    "inx.close()\n",
    "ar.close()\n",
    "ru.close()\n",
    "file.close()\n",
    "\n",
    "print(f'\\nОбработано {s} предложений')"
   ]
  },
  {
   "cell_type": "markdown",
   "id": "243abd80",
   "metadata": {},
   "source": [
    "## Арабско-английский набор"
   ]
  },
  {
   "cell_type": "code",
   "execution_count": 3,
   "id": "205c685d",
   "metadata": {
    "scrolled": false
   },
   "outputs": [
    {
     "data": {
      "application/vnd.jupyter.widget-view+json": {
       "model_id": "ff1636b03dc24b4eb48cca065649931e",
       "version_major": 2,
       "version_minor": 0
      },
      "text/plain": [
       "0it [00:00, ?it/s]"
      ]
     },
     "metadata": {},
     "output_type": "display_data"
    },
    {
     "name": "stdout",
     "output_type": "stream",
     "text": [
      ".................................................................................................................................................................................................................................................................................................................................................................................................................................................................................................................................................................................................................................................................................................................................................................................................................................................................................................................................................................................................................................................................................................................................................................................................................................................................................................................\n",
      "Обработано 126590524 предложений\n"
     ]
    }
   ],
   "source": [
    "path = '../../Desktop/ara-eng/'\n",
    "inx_file = path + 'train.id.gz' \n",
    "ar_file = path + 'train.src.gz' \n",
    "en_file = path + 'train.trg.gz'\n",
    "\n",
    "inx = gzip.open(inx_file, mode='r')\n",
    "ar = gzip.open(ar_file, mode='r')\n",
    "en = gzip.open(en_file, mode='r')\n",
    "\n",
    "headers = ['INDEX','AR','EN']\n",
    "\n",
    "with open(path + 'sh_file.csv', 'w', encoding='utf-8') as f:\n",
    "    head = \",\".join(headers)\n",
    "    f.write(f'{head}\\n')\n",
    "    \n",
    "file = open(path + 'sh_file.csv', 'a', newline='', encoding='utf-8')\n",
    "\n",
    "s = 0\n",
    "dictwriter_object = DictWriter(file, fieldnames=headers)\n",
    "for i, a, e in tn(zip(inx, ar, en)):\n",
    "    i = i.decode('utf-8').strip().split()[0]\n",
    "    a = a.decode('utf-8').strip()\n",
    "    e = e.decode('utf-8').strip()\n",
    "    row = {'INDEX': i, 'AR': a,'EN': e}\n",
    "    dictwriter_object.writerow(row)    \n",
    "    s += 1    \n",
    "    if not s % 100000:\n",
    "        break\n",
    "\n",
    "inx.close()\n",
    "ar.close()\n",
    "en.close()\n",
    "file.close()\n",
    "\n",
    "print(f'\\nОбработано {s} предложений')"
   ]
  },
  {
   "cell_type": "code",
   "execution_count": null,
   "id": "20a1439a",
   "metadata": {},
   "outputs": [],
   "source": []
  }
 ],
 "metadata": {
  "kernelspec": {
   "display_name": "Python 3 (ipykernel)",
   "language": "python",
   "name": "python3"
  },
  "language_info": {
   "codemirror_mode": {
    "name": "ipython",
    "version": 3
   },
   "file_extension": ".py",
   "mimetype": "text/x-python",
   "name": "python",
   "nbconvert_exporter": "python",
   "pygments_lexer": "ipython3",
   "version": "3.9.7"
  }
 },
 "nbformat": 4,
 "nbformat_minor": 5
}
