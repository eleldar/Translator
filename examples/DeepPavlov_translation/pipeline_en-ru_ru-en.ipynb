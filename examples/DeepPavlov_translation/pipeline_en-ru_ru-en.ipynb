{
 "cells": [
  {
   "cell_type": "markdown",
   "id": "a8e7db3f",
   "metadata": {},
   "source": [
    "# Пример использования моделей DeepPavlov (en-ru и ru-en)"
   ]
  },
  {
   "cell_type": "code",
   "execution_count": 1,
   "id": "cbde5aa6",
   "metadata": {},
   "outputs": [],
   "source": [
    "from transformers import AutoTokenizer, AutoModelForSeq2SeqLM\n",
    "# Англо-русский перевод\n",
    "tokenizer_en_ru = AutoTokenizer.from_pretrained(\"DeepPavlov/marianmt-tatoeba-enru\")\n",
    "model_en_ru = AutoModelForSeq2SeqLM.from_pretrained(\"DeepPavlov/marianmt-tatoeba-enru\")\n",
    "# Русско-английский перевод\n",
    "tokenizer_ru_en = AutoTokenizer.from_pretrained(\"DeepPavlov/marianmt-tatoeba-ruen\")\n",
    "model_ru_en = AutoModelForSeq2SeqLM.from_pretrained(\"DeepPavlov/marianmt-tatoeba-ruen\")"
   ]
  },
  {
   "cell_type": "markdown",
   "id": "812f0016",
   "metadata": {},
   "source": [
    "## Англо-русский перевод"
   ]
  },
  {
   "cell_type": "code",
   "execution_count": 7,
   "id": "a26122cb",
   "metadata": {},
   "outputs": [
    {
     "data": {
      "text/plain": [
       "'Я не спал в течение 24 часов'"
      ]
     },
     "execution_count": 7,
     "metadata": {},
     "output_type": "execute_result"
    }
   ],
   "source": [
    "def en_ru_translate(text='Hello, World!'):\n",
    "    input_ids = tokenizer_en_ru(text, return_tensors=\"pt\").input_ids # Batch size 1\n",
    "    output_ids = model_en_ru.generate(input_ids)[0]\n",
    "    output = tokenizer_en_ru.decode(output_ids, skip_special_tokens=True)\n",
    "    return output\n",
    "en_ru_translate('I haven’t been sleeping for 24 hours')"
   ]
  },
  {
   "cell_type": "markdown",
   "id": "6f57695d",
   "metadata": {},
   "source": [
    "## Русско-английский перевод"
   ]
  },
  {
   "cell_type": "code",
   "execution_count": 120,
   "id": "19cb015e",
   "metadata": {},
   "outputs": [
    {
     "data": {
      "text/plain": [
       "'Hey, my friend!'"
      ]
     },
     "execution_count": 120,
     "metadata": {},
     "output_type": "execute_result"
    }
   ],
   "source": [
    "def ru_en_translate(text='Привет Мир!'):\n",
    "    input_ids = tokenizer_ru_en(text, return_tensors=\"pt\").input_ids # Batch size 1\n",
    "    output_ids = model_ru_en.generate(input_ids)[0]\n",
    "    output = tokenizer_ru_en.decode(output_ids, skip_special_tokens=True)\n",
    "    return output\n",
    "\n",
    "ru_en_translate('Привет, мой друг!')"
   ]
  },
  {
   "cell_type": "markdown",
   "id": "5a265a57",
   "metadata": {},
   "source": [
    "## Преобразовать в формат npz"
   ]
  },
  {
   "cell_type": "code",
   "execution_count": 122,
   "id": "1b4948bc",
   "metadata": {},
   "outputs": [],
   "source": [
    "# ... возможно ли это?"
   ]
  }
 ],
 "metadata": {
  "kernelspec": {
   "display_name": "Python 3 (ipykernel)",
   "language": "python",
   "name": "python3"
  },
  "language_info": {
   "codemirror_mode": {
    "name": "ipython",
    "version": 3
   },
   "file_extension": ".py",
   "mimetype": "text/x-python",
   "name": "python",
   "nbconvert_exporter": "python",
   "pygments_lexer": "ipython3",
   "version": "3.9.7"
  }
 },
 "nbformat": 4,
 "nbformat_minor": 5
}
