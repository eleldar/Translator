{
 "cells": [
  {
   "cell_type": "code",
   "execution_count": 1,
   "metadata": {
    "colab": {
     "base_uri": "https://localhost:8080/"
    },
    "id": "H6yyho4uswpC",
    "outputId": "fec60339-05fd-46d3-b940-41e33627477a"
   },
   "outputs": [],
   "source": [
    "# !pip install -q transformers[sentencepiece]\n",
    "# !pip install -q datasets\n",
    "# !pip install -q sacrebleu\n",
    "# !pip uninstall -y tqdm\n",
    "# !pip install -q tqdm"
   ]
  },
  {
   "cell_type": "code",
   "execution_count": 1,
   "metadata": {
    "id": "9D0r_U7KuO0s"
   },
   "outputs": [],
   "source": [
    "import pandas as pd\n",
    "import numpy as np\n",
    "import seaborn as sns \n",
    "import matplotlib.pyplot as plt\n",
    "from datasets import Dataset,load_metric\n",
    "from sklearn.model_selection import train_test_split\n",
    "import torch\n",
    "from tqdm.auto import tqdm\n",
    "from transformers import DataCollatorForSeq2Seq, MarianConfig, MarianMTModel, MarianTokenizer,  AdamW\n",
    "checkpoint = 'Helsinki-NLP/opus-mt-en-ru' # предобученная модель EN-RU"
   ]
  },
  {
   "cell_type": "markdown",
   "metadata": {},
   "source": [
    "## Подготовка датафрейма"
   ]
  },
  {
   "cell_type": "code",
   "execution_count": 3,
   "metadata": {
    "colab": {
     "base_uri": "https://localhost:8080/",
     "height": 203
    },
    "id": "57UTaZsrt-2e",
    "outputId": "08ff6d84-44be-4d9f-9b31-f373843c08c9",
    "scrolled": false
   },
   "outputs": [],
   "source": [
    "# чтение файла\n",
    "df = pd.read_csv('content/Russian.csv')"
   ]
  },
  {
   "cell_type": "code",
   "execution_count": 4,
   "metadata": {},
   "outputs": [
    {
     "data": {
      "text/html": [
       "<div>\n",
       "<style scoped>\n",
       "    .dataframe tbody tr th:only-of-type {\n",
       "        vertical-align: middle;\n",
       "    }\n",
       "\n",
       "    .dataframe tbody tr th {\n",
       "        vertical-align: top;\n",
       "    }\n",
       "\n",
       "    .dataframe thead th {\n",
       "        text-align: right;\n",
       "    }\n",
       "</style>\n",
       "<table border=\"1\" class=\"dataframe\">\n",
       "  <thead>\n",
       "    <tr style=\"text-align: right;\">\n",
       "      <th></th>\n",
       "      <th>INDEX</th>\n",
       "      <th>EN</th>\n",
       "      <th>RU</th>\n",
       "    </tr>\n",
       "  </thead>\n",
       "  <tbody>\n",
       "    <tr>\n",
       "      <th>0</th>\n",
       "      <td>CCMatrix-v1</td>\n",
       "      <td>Security of online payments:</td>\n",
       "      <td>Безопасность онлайн Платежей:</td>\n",
       "    </tr>\n",
       "    <tr>\n",
       "      <th>1</th>\n",
       "      <td>CCMatrix-v1</td>\n",
       "      <td>The quality, alongside several other advantage...</td>\n",
       "      <td>Эти, а также многие другие преимущества делают...</td>\n",
       "    </tr>\n",
       "    <tr>\n",
       "      <th>2</th>\n",
       "      <td>CCAligned-v1</td>\n",
       "      <td>science &amp; research</td>\n",
       "      <td>Наука и исследования</td>\n",
       "    </tr>\n",
       "  </tbody>\n",
       "</table>\n",
       "</div>"
      ],
      "text/plain": [
       "          INDEX                                                 EN  \\\n",
       "0   CCMatrix-v1                       Security of online payments:   \n",
       "1   CCMatrix-v1  The quality, alongside several other advantage...   \n",
       "2  CCAligned-v1                                 science & research   \n",
       "\n",
       "                                                  RU  \n",
       "0                      Безопасность онлайн Платежей:  \n",
       "1  Эти, а также многие другие преимущества делают...  \n",
       "2                               Наука и исследования  "
      ]
     },
     "execution_count": 4,
     "metadata": {},
     "output_type": "execute_result"
    }
   ],
   "source": [
    "df.head(3)"
   ]
  },
  {
   "cell_type": "code",
   "execution_count": 5,
   "metadata": {},
   "outputs": [],
   "source": [
    "# удаление постороннего столбца\n",
    "df.drop('INDEX', axis=1, inplace=True)"
   ]
  },
  {
   "cell_type": "code",
   "execution_count": 6,
   "metadata": {},
   "outputs": [
    {
     "data": {
      "text/html": [
       "<div>\n",
       "<style scoped>\n",
       "    .dataframe tbody tr th:only-of-type {\n",
       "        vertical-align: middle;\n",
       "    }\n",
       "\n",
       "    .dataframe tbody tr th {\n",
       "        vertical-align: top;\n",
       "    }\n",
       "\n",
       "    .dataframe thead th {\n",
       "        text-align: right;\n",
       "    }\n",
       "</style>\n",
       "<table border=\"1\" class=\"dataframe\">\n",
       "  <thead>\n",
       "    <tr style=\"text-align: right;\">\n",
       "      <th></th>\n",
       "      <th>EN</th>\n",
       "      <th>RU</th>\n",
       "    </tr>\n",
       "  </thead>\n",
       "  <tbody>\n",
       "    <tr>\n",
       "      <th>0</th>\n",
       "      <td>Security of online payments:</td>\n",
       "      <td>Безопасность онлайн Платежей:</td>\n",
       "    </tr>\n",
       "    <tr>\n",
       "      <th>1</th>\n",
       "      <td>The quality, alongside several other advantage...</td>\n",
       "      <td>Эти, а также многие другие преимущества делают...</td>\n",
       "    </tr>\n",
       "    <tr>\n",
       "      <th>2</th>\n",
       "      <td>science &amp; research</td>\n",
       "      <td>Наука и исследования</td>\n",
       "    </tr>\n",
       "  </tbody>\n",
       "</table>\n",
       "</div>"
      ],
      "text/plain": [
       "                                                  EN  \\\n",
       "0                       Security of online payments:   \n",
       "1  The quality, alongside several other advantage...   \n",
       "2                                 science & research   \n",
       "\n",
       "                                                  RU  \n",
       "0                      Безопасность онлайн Платежей:  \n",
       "1  Эти, а также многие другие преимущества делают...  \n",
       "2                               Наука и исследования  "
      ]
     },
     "execution_count": 6,
     "metadata": {},
     "output_type": "execute_result"
    }
   ],
   "source": [
    "df.head(3)"
   ]
  },
  {
   "cell_type": "code",
   "execution_count": 7,
   "metadata": {},
   "outputs": [
    {
     "data": {
      "text/plain": [
       "(100000, 2)"
      ]
     },
     "execution_count": 7,
     "metadata": {},
     "output_type": "execute_result"
    }
   ],
   "source": [
    "# исходный размер\n",
    "df.shape"
   ]
  },
  {
   "cell_type": "code",
   "execution_count": 8,
   "metadata": {
    "colab": {
     "base_uri": "https://localhost:8080/"
    },
    "id": "0GaVsnDXuM2l",
    "outputId": "4f788eae-e4d0-4129-d5b3-35da972cadbc"
   },
   "outputs": [
    {
     "data": {
      "text/plain": [
       "EN      0\n",
       "RU    105\n",
       "dtype: int64"
      ]
     },
     "execution_count": 8,
     "metadata": {},
     "output_type": "execute_result"
    }
   ],
   "source": [
    "# число пропущенных данных\n",
    "df.isnull().sum()"
   ]
  },
  {
   "cell_type": "code",
   "execution_count": 9,
   "metadata": {
    "id": "hxkO9mYwuzpZ"
   },
   "outputs": [],
   "source": [
    "# Избавились от пустых значений (но прочий мусор следует удалять вручную!)\n",
    "df.dropna(axis = 0, inplace=True)\n",
    "df.reset_index(inplace=True)\n",
    "df.drop('index', axis=1, inplace=True)"
   ]
  },
  {
   "cell_type": "code",
   "execution_count": 10,
   "metadata": {},
   "outputs": [
    {
     "data": {
      "text/plain": [
       "EN    0\n",
       "RU    0\n",
       "dtype: int64"
      ]
     },
     "execution_count": 10,
     "metadata": {},
     "output_type": "execute_result"
    }
   ],
   "source": [
    "# Нулевые значенения отсутствуют\n",
    "df.isnull().sum()"
   ]
  },
  {
   "cell_type": "code",
   "execution_count": 11,
   "metadata": {
    "colab": {
     "base_uri": "https://localhost:8080/",
     "height": 203
    },
    "id": "Q5-KiB3yvStk",
    "outputId": "ffb6e8ca-b7fa-469d-ed6f-a16e06e70cb4"
   },
   "outputs": [
    {
     "data": {
      "text/html": [
       "<div>\n",
       "<style scoped>\n",
       "    .dataframe tbody tr th:only-of-type {\n",
       "        vertical-align: middle;\n",
       "    }\n",
       "\n",
       "    .dataframe tbody tr th {\n",
       "        vertical-align: top;\n",
       "    }\n",
       "\n",
       "    .dataframe thead th {\n",
       "        text-align: right;\n",
       "    }\n",
       "</style>\n",
       "<table border=\"1\" class=\"dataframe\">\n",
       "  <thead>\n",
       "    <tr style=\"text-align: right;\">\n",
       "      <th></th>\n",
       "      <th>EN</th>\n",
       "      <th>RU</th>\n",
       "    </tr>\n",
       "  </thead>\n",
       "  <tbody>\n",
       "    <tr>\n",
       "      <th>0</th>\n",
       "      <td>Security of online payments:</td>\n",
       "      <td>Безопасность онлайн Платежей:</td>\n",
       "    </tr>\n",
       "    <tr>\n",
       "      <th>1</th>\n",
       "      <td>The quality, alongside several other advantage...</td>\n",
       "      <td>Эти, а также многие другие преимущества делают...</td>\n",
       "    </tr>\n",
       "    <tr>\n",
       "      <th>2</th>\n",
       "      <td>science &amp; research</td>\n",
       "      <td>Наука и исследования</td>\n",
       "    </tr>\n",
       "  </tbody>\n",
       "</table>\n",
       "</div>"
      ],
      "text/plain": [
       "                                                  EN  \\\n",
       "0                       Security of online payments:   \n",
       "1  The quality, alongside several other advantage...   \n",
       "2                                 science & research   \n",
       "\n",
       "                                                  RU  \n",
       "0                      Безопасность онлайн Платежей:  \n",
       "1  Эти, а также многие другие преимущества делают...  \n",
       "2                               Наука и исследования  "
      ]
     },
     "execution_count": 11,
     "metadata": {},
     "output_type": "execute_result"
    }
   ],
   "source": [
    "df.head(3)"
   ]
  },
  {
   "cell_type": "code",
   "execution_count": 12,
   "metadata": {},
   "outputs": [
    {
     "data": {
      "text/plain": [
       "(99895, 2)"
      ]
     },
     "execution_count": 12,
     "metadata": {},
     "output_type": "execute_result"
    }
   ],
   "source": [
    "# Конечный размер\n",
    "df.shape"
   ]
  },
  {
   "cell_type": "code",
   "execution_count": 13,
   "metadata": {},
   "outputs": [],
   "source": [
    "# Оставим всего n-процентов первых данных от исходного набора\n",
    "n = 5\n",
    "df = df.head(int(len(df)*(n/100)))"
   ]
  },
  {
   "cell_type": "code",
   "execution_count": 14,
   "metadata": {},
   "outputs": [
    {
     "data": {
      "text/plain": [
       "(4994, 2)"
      ]
     },
     "execution_count": 14,
     "metadata": {},
     "output_type": "execute_result"
    }
   ],
   "source": [
    "# Размер данных, который будем использовать\n",
    "df.shape"
   ]
  },
  {
   "cell_type": "code",
   "execution_count": 15,
   "metadata": {
    "id": "0b9z6sQGvUp1"
   },
   "outputs": [],
   "source": [
    "# разбиение на учебные и тестовые данных\n",
    "train_df, val_df = train_test_split(df, random_state=42, test_size=0.2)"
   ]
  },
  {
   "cell_type": "code",
   "execution_count": 16,
   "metadata": {
    "colab": {
     "base_uri": "https://localhost:8080/"
    },
    "id": "RY_djd4qvkmr",
    "outputId": "3651f7ea-e727-4d7f-ff11-755222966f2e"
   },
   "outputs": [
    {
     "data": {
      "text/plain": [
       "((3995, 2), (999, 2))"
      ]
     },
     "execution_count": 16,
     "metadata": {},
     "output_type": "execute_result"
    }
   ],
   "source": [
    "# размеры учебных и тестовых данных\n",
    "train_df.shape, val_df.shape"
   ]
  },
  {
   "cell_type": "markdown",
   "metadata": {},
   "source": [
    "## Настройка"
   ]
  },
  {
   "cell_type": "code",
   "execution_count": 17,
   "metadata": {},
   "outputs": [
    {
     "name": "stderr",
     "output_type": "stream",
     "text": [
      "C:\\Users\\e.boltachev\\Anaconda3\\lib\\site-packages\\torch\\cuda\\__init__.py:80: UserWarning: CUDA initialization: CUDA unknown error - this may be due to an incorrectly set up environment, e.g. changing env variable CUDA_VISIBLE_DEVICES after program start. Setting the available devices to be zero. (Triggered internally at  ..\\c10\\cuda\\CUDAFunctions.cpp:112.)\n",
      "  return torch._C._cuda_getDeviceCount() > 0\n"
     ]
    }
   ],
   "source": [
    "# выбор железа для обучения\n",
    "device = torch.device('cuda') if torch.cuda.is_available() else torch.device('cpu')"
   ]
  },
  {
   "cell_type": "code",
   "execution_count": 18,
   "metadata": {},
   "outputs": [
    {
     "data": {
      "text/plain": [
       "device(type='cpu')"
      ]
     },
     "execution_count": 18,
     "metadata": {},
     "output_type": "execute_result"
    }
   ],
   "source": [
    "device"
   ]
  },
  {
   "cell_type": "code",
   "execution_count": 19,
   "metadata": {
    "id": "79bm281YzXQT"
   },
   "outputs": [],
   "source": [
    "# гиперпараметры\n",
    "max_length = 512\n",
    "batch_size = 8\n",
    "learning_rate = 1e-5"
   ]
  },
  {
   "cell_type": "markdown",
   "metadata": {},
   "source": [
    "## Описательная статистика "
   ]
  },
  {
   "cell_type": "markdown",
   "metadata": {},
   "source": [
    "### Английский язык"
   ]
  },
  {
   "cell_type": "code",
   "execution_count": 20,
   "metadata": {},
   "outputs": [],
   "source": [
    "length_list = [len(i) for i in train_df.EN]\n",
    "data = pd.DataFrame({'Распределение длины английских предложений': length_list})"
   ]
  },
  {
   "cell_type": "code",
   "execution_count": 21,
   "metadata": {},
   "outputs": [
    {
     "data": {
      "text/html": [
       "<div>\n",
       "<style scoped>\n",
       "    .dataframe tbody tr th:only-of-type {\n",
       "        vertical-align: middle;\n",
       "    }\n",
       "\n",
       "    .dataframe tbody tr th {\n",
       "        vertical-align: top;\n",
       "    }\n",
       "\n",
       "    .dataframe thead th {\n",
       "        text-align: right;\n",
       "    }\n",
       "</style>\n",
       "<table border=\"1\" class=\"dataframe\">\n",
       "  <thead>\n",
       "    <tr style=\"text-align: right;\">\n",
       "      <th></th>\n",
       "      <th>Распределение длины английских предложений</th>\n",
       "    </tr>\n",
       "  </thead>\n",
       "  <tbody>\n",
       "    <tr>\n",
       "      <th>count</th>\n",
       "      <td>3995.000000</td>\n",
       "    </tr>\n",
       "    <tr>\n",
       "      <th>mean</th>\n",
       "      <td>103.423029</td>\n",
       "    </tr>\n",
       "    <tr>\n",
       "      <th>std</th>\n",
       "      <td>90.403254</td>\n",
       "    </tr>\n",
       "    <tr>\n",
       "      <th>min</th>\n",
       "      <td>3.000000</td>\n",
       "    </tr>\n",
       "    <tr>\n",
       "      <th>25%</th>\n",
       "      <td>41.000000</td>\n",
       "    </tr>\n",
       "    <tr>\n",
       "      <th>50%</th>\n",
       "      <td>80.000000</td>\n",
       "    </tr>\n",
       "    <tr>\n",
       "      <th>75%</th>\n",
       "      <td>142.000000</td>\n",
       "    </tr>\n",
       "    <tr>\n",
       "      <th>max</th>\n",
       "      <td>2387.000000</td>\n",
       "    </tr>\n",
       "  </tbody>\n",
       "</table>\n",
       "</div>"
      ],
      "text/plain": [
       "       Распределение длины английских предложений\n",
       "count                                 3995.000000\n",
       "mean                                   103.423029\n",
       "std                                     90.403254\n",
       "min                                      3.000000\n",
       "25%                                     41.000000\n",
       "50%                                     80.000000\n",
       "75%                                    142.000000\n",
       "max                                   2387.000000"
      ]
     },
     "execution_count": 21,
     "metadata": {},
     "output_type": "execute_result"
    }
   ],
   "source": [
    "data.describe()"
   ]
  },
  {
   "cell_type": "code",
   "execution_count": 22,
   "metadata": {
    "colab": {
     "base_uri": "https://localhost:8080/",
     "height": 281
    },
    "id": "uIduJsnQvnma",
    "outputId": "46fcc0b1-03ca-4d88-f1b0-18fb82f8dcf4",
    "scrolled": true
   },
   "outputs": [
    {
     "data": {
      "image/png": "[encoded data removed]",
      "text/plain": [
       "<Figure size 432x288 with 1 Axes>"
      ]
     },
     "metadata": {
      "needs_background": "light"
     },
     "output_type": "display_data"
    }
   ],
   "source": [
    "data.hist(bins=50);"
   ]
  },
  {
   "cell_type": "markdown",
   "metadata": {},
   "source": [
    "### Русский язык"
   ]
  },
  {
   "cell_type": "code",
   "execution_count": 23,
   "metadata": {},
   "outputs": [],
   "source": [
    "length_list = [len(i) for i in train_df.RU]\n",
    "data = pd.DataFrame({'Распределение длины русских предложений': length_list})"
   ]
  },
  {
   "cell_type": "code",
   "execution_count": 24,
   "metadata": {},
   "outputs": [
    {
     "data": {
      "text/html": [
       "<div>\n",
       "<style scoped>\n",
       "    .dataframe tbody tr th:only-of-type {\n",
       "        vertical-align: middle;\n",
       "    }\n",
       "\n",
       "    .dataframe tbody tr th {\n",
       "        vertical-align: top;\n",
       "    }\n",
       "\n",
       "    .dataframe thead th {\n",
       "        text-align: right;\n",
       "    }\n",
       "</style>\n",
       "<table border=\"1\" class=\"dataframe\">\n",
       "  <thead>\n",
       "    <tr style=\"text-align: right;\">\n",
       "      <th></th>\n",
       "      <th>Распределение длины русских предложений</th>\n",
       "    </tr>\n",
       "  </thead>\n",
       "  <tbody>\n",
       "    <tr>\n",
       "      <th>count</th>\n",
       "      <td>3995.000000</td>\n",
       "    </tr>\n",
       "    <tr>\n",
       "      <th>mean</th>\n",
       "      <td>107.318899</td>\n",
       "    </tr>\n",
       "    <tr>\n",
       "      <th>std</th>\n",
       "      <td>87.885079</td>\n",
       "    </tr>\n",
       "    <tr>\n",
       "      <th>min</th>\n",
       "      <td>3.000000</td>\n",
       "    </tr>\n",
       "    <tr>\n",
       "      <th>25%</th>\n",
       "      <td>42.000000</td>\n",
       "    </tr>\n",
       "    <tr>\n",
       "      <th>50%</th>\n",
       "      <td>83.000000</td>\n",
       "    </tr>\n",
       "    <tr>\n",
       "      <th>75%</th>\n",
       "      <td>147.500000</td>\n",
       "    </tr>\n",
       "    <tr>\n",
       "      <th>max</th>\n",
       "      <td>814.000000</td>\n",
       "    </tr>\n",
       "  </tbody>\n",
       "</table>\n",
       "</div>"
      ],
      "text/plain": [
       "       Распределение длины русских предложений\n",
       "count                              3995.000000\n",
       "mean                                107.318899\n",
       "std                                  87.885079\n",
       "min                                   3.000000\n",
       "25%                                  42.000000\n",
       "50%                                  83.000000\n",
       "75%                                 147.500000\n",
       "max                                 814.000000"
      ]
     },
     "execution_count": 24,
     "metadata": {},
     "output_type": "execute_result"
    }
   ],
   "source": [
    "data.describe()"
   ]
  },
  {
   "cell_type": "code",
   "execution_count": 25,
   "metadata": {
    "colab": {
     "base_uri": "https://localhost:8080/",
     "height": 281
    },
    "id": "uIduJsnQvnma",
    "outputId": "46fcc0b1-03ca-4d88-f1b0-18fb82f8dcf4",
    "scrolled": true
   },
   "outputs": [
    {
     "data": {
      "image/png": "[encoded data removed]",
      "text/plain": [
       "<Figure size 432x288 with 1 Axes>"
      ]
     },
     "metadata": {
      "needs_background": "light"
     },
     "output_type": "display_data"
    }
   ],
   "source": [
    "data.hist(bins=50);"
   ]
  },
  {
   "cell_type": "markdown",
   "metadata": {},
   "source": [
    "## Формирование JSON из нашего датасета"
   ]
  },
  {
   "cell_type": "code",
   "execution_count": 26,
   "metadata": {
    "colab": {
     "base_uri": "https://localhost:8080/"
    },
    "id": "KKOgnIZ1w1VK",
    "outputId": "e69d4ec8-8ec9-46f2-fe9e-a58585b2af49"
   },
   "outputs": [],
   "source": [
    "train_dataset = Dataset.from_pandas(train_df)\n",
    "val_dataset = Dataset.from_pandas(val_df)\n",
    "train_dataset = train_dataset.remove_columns(['__index_level_0__'])\n",
    "val_dataset = val_dataset.remove_columns(['__index_level_0__'])"
   ]
  },
  {
   "cell_type": "code",
   "execution_count": 27,
   "metadata": {},
   "outputs": [
    {
     "data": {
      "text/plain": [
       "(Dataset({\n",
       "     features: ['EN', 'RU'],\n",
       "     num_rows: 3995\n",
       " }),\n",
       " Dataset({\n",
       "     features: ['EN', 'RU'],\n",
       "     num_rows: 999\n",
       " }))"
      ]
     },
     "execution_count": 27,
     "metadata": {},
     "output_type": "execute_result"
    }
   ],
   "source": [
    "train_dataset, val_dataset"
   ]
  },
  {
   "cell_type": "markdown",
   "metadata": {},
   "source": [
    "## Загрузка предобученных модели и токенизатора"
   ]
  },
  {
   "cell_type": "code",
   "execution_count": 2,
   "metadata": {
    "colab": {
     "base_uri": "https://localhost:8080/",
     "height": 298,
     "referenced_widgets": [
      "06123d1283924d51846cc92b5e78f8eb",
      "00e002ee7e8942d6985748ab85a797cb",
      "eef750ea6dbd40e5b41a84aae8ffa0cc",
      "a3fd2be427b44a94bc1a0817dff0144d",
      "7dd3c85e335e4b7a849845ffdc0eccae",
      "e8fe4494a613407f842845ddc7478901",
      "e48221e356644f96bdfbbdfb335b71fa",
      "572d12cabc434a6998d90b448caa78d6",
      "f77619fe93c2477f969436acec54c719",
      "5987d744f0fb461a8a68892599b8713d",
      "ee8055fd9ecc4ff684ea74e70b4cfa6b",
      "04995a4d9f104237a24f6bf2e3a2ccb2",
      "63f3b2007da24c6682b3019fea89d5c1",
      "1f6eb2fa496b4e71a62dd06251d87b8e",
      "ee84a9583ed8411fadac3b2fd0471420",
      "98be713009544d038f6cff2ab9158acd",
      "27fa03f9bfa64667b5301171ba256b83",
      "dd31e0d0a801407c9143750f7d970a75",
      "1101f3cbe48b44a0ad84b355b083e67a",
      "5d5a4b4281834ffeaae24a6b9a91d7e4",
      "f59f588ea54e4c69a125c93c7909690c",
      "303c22c57f4540a1a7c0c152890e59d2",
      "3f19581f8f9746508959b2e6b40f140f",
      "7107b9dc49834c13bdc2413df22cb838",
      "df8a1c791f194ae7af30c81ac667a585",
      "904c660ef10f4bf2bb3417e5b1e264e0",
      "be138232ae6c41aba486fcbf3b92eaae",
      "a39702d2c6434eac961a1410ef0b28e9",
      "2e33a7fc8d19445992d5b6072161daab",
      "5498c93002c3472eaa8c88a687a83cd1",
      "6ba35d2e61344c0a858e880f799758ab",
      "a5b6df6a76624334b267642083cd2df0",
      "2f19e47095a549c2988f7e8112712faf",
      "20bfb38681f442aca8176a5388522364",
      "5dde82cbe93c4169a7685c7f3b60eee1",
      "7a7a845b9ac04cae8c3a70c3e1b28f57",
      "c8b730694b4446c487afe76c918301d5",
      "d3d6975382774e01b21c3f2a906e134b",
      "3f1a343fa7b940e8920564237d1ae4ee",
      "e765f7f84ac749dfa41ceece6d0fb709"
     ]
    },
    "id": "HC2UmaWgx-IT",
    "outputId": "9e83c0ae-41da-4796-e3ee-20e2de7fb14a"
   },
   "outputs": [],
   "source": [
    "model = MarianMTModel.from_pretrained(checkpoint)\n",
    "tokenizer = MarianTokenizer.from_pretrained(checkpoint)"
   ]
  },
  {
   "cell_type": "markdown",
   "metadata": {},
   "source": [
    "### Токенизатор"
   ]
  },
  {
   "cell_type": "markdown",
   "metadata": {},
   "source": [
    "***Следующий вывод отражает:***\n",
    "* размер словаря 62518 токенов\n",
    "* максимальная длина входной последовательности 512\n",
    "* ```</s>``` - токен окончания предложения\n",
    "* ```<unk>``` - токен неизвестного слова в предложении\n",
    "* ```<pad>``` - токен заполнения"
   ]
  },
  {
   "cell_type": "code",
   "execution_count": 29,
   "metadata": {},
   "outputs": [
    {
     "data": {
      "text/plain": [
       "PreTrainedTokenizer(name_or_path='Helsinki-NLP/opus-mt-en-ru', vocab_size=62518, model_max_len=512, is_fast=False, padding_side='right', special_tokens={'eos_token': '</s>', 'unk_token': '<unk>', 'pad_token': '<pad>'})"
      ]
     },
     "execution_count": 29,
     "metadata": {},
     "output_type": "execute_result"
    }
   ],
   "source": [
    "tokenizer"
   ]
  },
  {
   "cell_type": "markdown",
   "metadata": {},
   "source": [
    "### Модель"
   ]
  },
  {
   "cell_type": "markdown",
   "metadata": {},
   "source": [
    "***Следующий вывод показывает, что id токена заполнителя равен 62517***"
   ]
  },
  {
   "cell_type": "code",
   "execution_count": 30,
   "metadata": {
    "colab": {
     "base_uri": "https://localhost:8080/",
     "height": 82,
     "referenced_widgets": [
      "1f4c23fa77c94e6097beae421d7927f7",
      "dfe7d047f1324d2385a795e481e320ef",
      "cfe8eddf3d7a4b87993d904e74d0f18f",
      "7479c74ba9e246e787614113b5236ae1",
      "96465616a0b743888d560c5efdc9ff6e",
      "7303fba5f33f4e1f8f86d0a947a87767",
      "eac1c0b89bc34234b91ddd5189f577f5",
      "8ef309208b614942a8ac0681a80478e9"
     ]
    },
    "id": "nO9loKljzKIa",
    "outputId": "26846f32-7f4a-4816-fe72-57d3ff06d5f6"
   },
   "outputs": [
    {
     "data": {
      "text/plain": [
       "62517"
      ]
     },
     "execution_count": 30,
     "metadata": {},
     "output_type": "execute_result"
    }
   ],
   "source": [
    "model.config.pad_token_id"
   ]
  },
  {
   "cell_type": "markdown",
   "metadata": {},
   "source": [
    "> Это значение далее заменим на -100 в метках; для этого создадим переменную PAD"
   ]
  },
  {
   "cell_type": "code",
   "execution_count": 31,
   "metadata": {},
   "outputs": [],
   "source": [
    "PAD = 62517"
   ]
  },
  {
   "cell_type": "markdown",
   "metadata": {},
   "source": [
    "## Предобработка входных данных"
   ]
  },
  {
   "cell_type": "code",
   "execution_count": 32,
   "metadata": {
    "id": "jwRmAfpwzM9M"
   },
   "outputs": [],
   "source": [
    "def preprocess(examples, MAX_LENGTH=max_length):\n",
    "    '''добавляет к входным данным столбцы эмбедингов слов и масок'''\n",
    "    model_inputs = tokenizer(examples['EN'], # input_ids и attention_mask для исходного языка\n",
    "                             max_length=MAX_LENGTH, padding = 'max_length', \n",
    "                             truncation=True, return_attention_mask=True)\n",
    "    with tokenizer.as_target_tokenizer():\n",
    "        targets = tokenizer(examples['RU'], max_length=max_length,\n",
    "                        padding='max_length', truncation=True,\n",
    "                        return_attention_mask=True)\n",
    "    model_inputs['labels'] = targets['input_ids'] # labels для целевого языка\n",
    "    model_inputs['decoder_input_ids'] = targets['input_ids'] # decoder_input_ids для целевого языка\n",
    "    model_inputs['decoder_attention_mask'] = targets['attention_mask'] # decoder_attention_mask для целевого языка\n",
    "    return model_inputs"
   ]
  },
  {
   "cell_type": "code",
   "execution_count": 33,
   "metadata": {
    "colab": {
     "base_uri": "https://localhost:8080/",
     "height": 114,
     "referenced_widgets": [
      "6a8286497e2d43559ef4407fd2480f51",
      "d92f40c1f86e4984b24ab37a24015132",
      "87c8e143d2064f5ca5c09ab2d22c141f",
      "013627b5f9d04e5ebfb73f93215f0fd9",
      "0f8270821ebf4f8d9c69f387f18ca178",
      "5327674e8beb44d99e7ce50b0ef0b3ca",
      "da656f2a4789462eabfbfe2aa4d3b873",
      "674a6fd8ef264e62a34b0c1da5734eb0",
      "1d1cdc3c279e44eba322a9a5ee86a12c",
      "1266bd441878459782118960822a76c1",
      "7683475738a04071812732ed19822efc",
      "f0fe69b54c9e45129ba4d839ff4d0e5e",
      "9a5f83b5a24b40699d8aed73d7ebfcc0",
      "db90524b7385413d8f2091489526c7a3",
      "d4b93645801845f2a31d50a6f27b9b35",
      "9d84318a00d44e08ad8020fbae6b2b5c"
     ]
    },
    "id": "ElSq_vkzz038",
    "outputId": "c47c33b9-4799-4100-9ee5-e2752ea5b950"
   },
   "outputs": [
    {
     "data": {
      "application/vnd.jupyter.widget-view+json": {
       "model_id": "c6ca0cb8fe53499a839a28d460628ffd",
       "version_major": 2,
       "version_minor": 0
      },
      "text/plain": [
       "  0%|          | 0/4 [00:00<?, ?ba/s]"
      ]
     },
     "metadata": {},
     "output_type": "display_data"
    },
    {
     "data": {
      "application/vnd.jupyter.widget-view+json": {
       "model_id": "5ecf20c613934436934873b8b85361e9",
       "version_major": 2,
       "version_minor": 0
      },
      "text/plain": [
       "  0%|          | 0/1 [00:00<?, ?ba/s]"
      ]
     },
     "metadata": {},
     "output_type": "display_data"
    }
   ],
   "source": [
    "# обновили входные данные через функцию предобработки\n",
    "train_inputs = train_dataset.map(preprocess, batched=True)\n",
    "val_inputs = val_dataset.map(preprocess, batched=True)"
   ]
  },
  {
   "cell_type": "code",
   "execution_count": 34,
   "metadata": {},
   "outputs": [],
   "source": [
    "# удалили столбцы с именами языков\n",
    "train_inputs = train_inputs.remove_columns(['EN','RU'])\n",
    "val_inputs = val_inputs.remove_columns(['EN','RU'])"
   ]
  },
  {
   "cell_type": "markdown",
   "metadata": {},
   "source": [
    "## Подготовка модели к данным"
   ]
  },
  {
   "cell_type": "code",
   "execution_count": 35,
   "metadata": {
    "id": "tHv_U6xgz8Y0"
   },
   "outputs": [],
   "source": [
    "# настройки архитектуры модели\n",
    "data_collator = DataCollatorForSeq2Seq(tokenizer=tokenizer,\n",
    "                                       max_length=max_length,\n",
    "                                       model = model)"
   ]
  },
  {
   "cell_type": "code",
   "execution_count": 36,
   "metadata": {
    "id": "dsS7-adT0OY6"
   },
   "outputs": [],
   "source": [
    "# отформатированные наборы данных для подачи в модель\n",
    "train_dataloader = torch.utils.data.DataLoader(train_inputs,\n",
    "                                               batch_size = batch_size,\n",
    "                                               shuffle = True,\n",
    "                                               collate_fn = data_collator)\n",
    "val_dataloader = torch.utils.data.DataLoader(val_inputs,\n",
    "                                             batch_size = batch_size,\n",
    "                                             shuffle = False,\n",
    "                                             collate_fn = data_collator)"
   ]
  },
  {
   "cell_type": "code",
   "execution_count": 37,
   "metadata": {
    "colab": {
     "base_uri": "https://localhost:8080/"
    },
    "id": "YWsGNlE30Sd3",
    "outputId": "20c2facc-b9a1-4736-de54-3f5ab923ce40"
   },
   "outputs": [
    {
     "name": "stderr",
     "output_type": "stream",
     "text": [
      "C:\\Users\\e.boltachev\\Anaconda3\\lib\\site-packages\\transformers\\tokenization_utils_base.py:2228: UserWarning: `max_length` is ignored when `padding`=`True` and there is no truncation strategy. To pad to max length, use `padding='max_length'`.\n",
      "  warnings.warn(\n"
     ]
    },
    {
     "data": {
      "text/plain": [
       "{'attention_mask': tensor([[1, 1, 1,  ..., 0, 0, 0],\n",
       "        [1, 1, 1,  ..., 0, 0, 0],\n",
       "        [1, 1, 1,  ..., 0, 0, 0],\n",
       "        ...,\n",
       "        [1, 1, 1,  ..., 0, 0, 0],\n",
       "        [1, 1, 1,  ..., 0, 0, 0],\n",
       "        [1, 1, 1,  ..., 0, 0, 0]]), 'decoder_attention_mask': tensor([[1, 1, 1,  ..., 0, 0, 0],\n",
       "        [1, 1, 1,  ..., 0, 0, 0],\n",
       "        [1, 1, 1,  ..., 0, 0, 0],\n",
       "        ...,\n",
       "        [1, 1, 1,  ..., 0, 0, 0],\n",
       "        [1, 1, 1,  ..., 0, 0, 0],\n",
       "        [1, 1, 1,  ..., 0, 0, 0]]), 'decoder_input_ids': tensor([[62517,  4720,    21,  ..., 62517, 62517, 62517],\n",
       "        [62517,   304,   463,  ..., 62517, 62517, 62517],\n",
       "        [62517, 10747,   965,  ..., 62517, 62517, 62517],\n",
       "        ...,\n",
       "        [62517,   261,   442,  ..., 62517, 62517, 62517],\n",
       "        [62517,    49,  2440,  ..., 62517, 62517, 62517],\n",
       "        [62517, 27284, 18567,  ..., 62517, 62517, 62517]]), 'input_ids': tensor([[ 4658,     4,  7531,  ..., 62517, 62517, 62517],\n",
       "        [  215,  1674,  2733,  ..., 62517, 62517, 62517],\n",
       "        [ 3302,    87,     0,  ..., 62517, 62517, 62517],\n",
       "        ...,\n",
       "        [  453,  1832,    55,  ..., 62517, 62517, 62517],\n",
       "        [27673,    80, 24438,  ..., 62517, 62517, 62517],\n",
       "        [ 1684,  2368,    85,  ..., 62517, 62517, 62517]]), 'labels': tensor([[ 4720,    21,  9839,  ..., 62517, 62517, 62517],\n",
       "        [  304,   463,  2189,  ..., 62517, 62517, 62517],\n",
       "        [10747,   965,     0,  ..., 62517, 62517, 62517],\n",
       "        ...,\n",
       "        [  261,   442,   187,  ..., 62517, 62517, 62517],\n",
       "        [   49,  2440,  6180,  ..., 62517, 62517, 62517],\n",
       "        [27284, 18567,  6747,  ..., 62517, 62517, 62517]])}"
      ]
     },
     "execution_count": 37,
     "metadata": {},
     "output_type": "execute_result"
    }
   ],
   "source": [
    "# пример одного пакета, содержащий эмбединги batch_size предложений\n",
    "[i for i in train_dataloader][0]"
   ]
  },
  {
   "cell_type": "code",
   "execution_count": 38,
   "metadata": {},
   "outputs": [
    {
     "name": "stdout",
     "output_type": "stream",
     "text": [
      "tensor([[ 4720,    21,  9839,  ...,  -100,  -100,  -100],\n",
      "        [  304,   463,  2189,  ...,  -100,  -100,  -100],\n",
      "        [10747,   965,     0,  ...,  -100,  -100,  -100],\n",
      "        ...,\n",
      "        [  261,   442,   187,  ...,  -100,  -100,  -100],\n",
      "        [   49,  2440,  6180,  ...,  -100,  -100,  -100],\n",
      "        [27284, 18567,  6747,  ...,  -100,  -100,  -100]])\n"
     ]
    }
   ],
   "source": [
    "# пример замены id \"пустышки\" на значение -100\n",
    "batch = _\n",
    "batch['labels'][batch['labels']==PAD] = -100\n",
    "print(batch['labels'])"
   ]
  },
  {
   "cell_type": "markdown",
   "metadata": {},
   "source": [
    "## Характеристики предобученной модели"
   ]
  },
  {
   "cell_type": "code",
   "execution_count": 39,
   "metadata": {},
   "outputs": [],
   "source": [
    "# пропускаем через модель эмбединги batch_size предложений \n",
    "model.to(device)\n",
    "outputs = model(**batch)"
   ]
  },
  {
   "cell_type": "code",
   "execution_count": 40,
   "metadata": {},
   "outputs": [
    {
     "data": {
      "text/plain": [
       "torch.Size([8, 512, 62518])"
      ]
     },
     "execution_count": 40,
     "metadata": {},
     "output_type": "execute_result"
    }
   ],
   "source": [
    "# Размер выходного тензора: число батчей, длина предложений, размер словаря\n",
    "outputs.logits.shape"
   ]
  },
  {
   "cell_type": "code",
   "execution_count": 41,
   "metadata": {},
   "outputs": [
    {
     "data": {
      "text/plain": [
       "tensor(2.0373, grad_fn=<NllLossBackward0>)"
      ]
     },
     "execution_count": 41,
     "metadata": {},
     "output_type": "execute_result"
    }
   ],
   "source": [
    "# Текущее значение показателя потерь\n",
    "outputs.loss"
   ]
  },
  {
   "cell_type": "code",
   "execution_count": 42,
   "metadata": {},
   "outputs": [],
   "source": [
    "# вычисление индексов слов для целевого предложения\n",
    "id_output = torch.argmax(outputs.logits,dim =-1)"
   ]
  },
  {
   "cell_type": "code",
   "execution_count": 43,
   "metadata": {},
   "outputs": [
    {
     "data": {
      "text/plain": [
       "torch.Size([8, 512])"
      ]
     },
     "execution_count": 43,
     "metadata": {},
     "output_type": "execute_result"
    }
   ],
   "source": [
    "# его размер очевиден: число батчей и длина предложений\n",
    "id_output.shape"
   ]
  },
  {
   "cell_type": "code",
   "execution_count": 44,
   "metadata": {
    "id": "kU-PozZy0U3o"
   },
   "outputs": [
    {
     "name": "stdout",
     "output_type": "stream",
     "text": [
      "Даже белыйбелдныйлицый, чей Бог  и с говорит с ним как как друг другу не может быть общей судьбы.\n",
      "\n",
      "10 месяцев назад:::32:Hamsterье\n",
      "\n",
      "Второй комитет\n"
     ]
    }
   ],
   "source": [
    "# получение 3-x предложений целевого языка на основе вычисленных индексов\n",
    "print(*tokenizer.batch_decode(id_output)[:3], sep=\"\\n\\n\")"
   ]
  },
  {
   "cell_type": "markdown",
   "metadata": {},
   "source": [
    "## Настройки обучения"
   ]
  },
  {
   "cell_type": "code",
   "execution_count": 45,
   "metadata": {
    "colab": {
     "base_uri": "https://localhost:8080/"
    },
    "id": "IMJ0gvPr09Ik",
    "outputId": "cf988d61-c148-4442-a829-3f820cfe25a4"
   },
   "outputs": [],
   "source": [
    "# число этох\n",
    "num_epochs = 2"
   ]
  },
  {
   "cell_type": "code",
   "execution_count": 46,
   "metadata": {},
   "outputs": [
    {
     "data": {
      "text/plain": [
       "1000"
      ]
     },
     "execution_count": 46,
     "metadata": {},
     "output_type": "execute_result"
    }
   ],
   "source": [
    "# число проходов с учетом батчей\n",
    "num_epochs * len(train_dataloader)"
   ]
  },
  {
   "cell_type": "code",
   "execution_count": 47,
   "metadata": {},
   "outputs": [],
   "source": [
    "num_training_steps = _"
   ]
  },
  {
   "cell_type": "code",
   "execution_count": 48,
   "metadata": {
    "id": "l3Tr72Wt1ZYk"
   },
   "outputs": [],
   "source": [
    "# параметры оптимизатора\n",
    "optimizer = AdamW(model.parameters(), lr = learning_rate)"
   ]
  },
  {
   "cell_type": "markdown",
   "metadata": {},
   "source": [
    "## Обучение"
   ]
  },
  {
   "cell_type": "code",
   "execution_count": null,
   "metadata": {
    "colab": {
     "base_uri": "https://localhost:8080/",
     "height": 116,
     "referenced_widgets": [
      "00a838ab7b55497ca11a4b90b8218434",
      "02847bfc31454a42805dac48b214c48a",
      "67f0f401cbde4da89d3acbc69650c8a0",
      "f62f2c2d82954fd8aac362e87eeba3f9",
      "2ea1edb39bec472392759a73863ca9c0",
      "f1e277cc10304b8c90398b3215c63cd7",
      "01559d5f323e4fe98f767f82e3c3f64c",
      "36034963b9fe4648a3e3a1801fe078bb"
     ]
    },
    "id": "SVX1tW661eKh",
    "outputId": "a504b939-eb56-46ca-9fb5-3f3597c1e1f0",
    "scrolled": true
   },
   "outputs": [
    {
     "data": {
      "application/vnd.jupyter.widget-view+json": {
       "model_id": "11170949153c41cd908d8d6389f89343",
       "version_major": 2,
       "version_minor": 0
      },
      "text/plain": [
       "  0%|          | 0/1000 [00:00<?, ?it/s]"
      ]
     },
     "metadata": {},
     "output_type": "display_data"
    },
    {
     "name": "stdout",
     "output_type": "stream",
     "text": [
      "tensor(1.4519, grad_fn=<NllLossBackward0>)\n",
      "tensor(2.4299, grad_fn=<NllLossBackward0>)\n",
      "tensor(1.7628, grad_fn=<NllLossBackward0>)\n",
      "tensor(1.6449, grad_fn=<NllLossBackward0>)\n",
      "tensor(1.7089, grad_fn=<NllLossBackward0>)\n",
      "tensor(1.5694, grad_fn=<NllLossBackward0>)\n",
      "tensor(1.7568, grad_fn=<NllLossBackward0>)\n",
      "tensor(1.5541, grad_fn=<NllLossBackward0>)\n",
      "tensor(1.3397, grad_fn=<NllLossBackward0>)\n",
      "tensor(2.1370, grad_fn=<NllLossBackward0>)\n",
      "tensor(0.9533, grad_fn=<NllLossBackward0>)\n",
      "tensor(1.2611, grad_fn=<NllLossBackward0>)\n",
      "tensor(2.0606, grad_fn=<NllLossBackward0>)\n",
      "tensor(1.6705, grad_fn=<NllLossBackward0>)\n",
      "tensor(1.2416, grad_fn=<NllLossBackward0>)\n",
      "tensor(1.5715, grad_fn=<NllLossBackward0>)\n",
      "tensor(1.6520, grad_fn=<NllLossBackward0>)\n",
      "tensor(1.8931, grad_fn=<NllLossBackward0>)\n",
      "tensor(1.6375, grad_fn=<NllLossBackward0>)\n",
      "tensor(1.5110, grad_fn=<NllLossBackward0>)\n",
      "tensor(1.4635, grad_fn=<NllLossBackward0>)\n",
      "tensor(1.8201, grad_fn=<NllLossBackward0>)\n",
      "tensor(1.5555, grad_fn=<NllLossBackward0>)\n",
      "tensor(2.0734, grad_fn=<NllLossBackward0>)\n",
      "tensor(1.9070, grad_fn=<NllLossBackward0>)\n",
      "tensor(1.5970, grad_fn=<NllLossBackward0>)\n",
      "tensor(1.8203, grad_fn=<NllLossBackward0>)\n",
      "tensor(1.8016, grad_fn=<NllLossBackward0>)\n",
      "tensor(1.7339, grad_fn=<NllLossBackward0>)\n",
      "tensor(1.2709, grad_fn=<NllLossBackward0>)\n",
      "tensor(1.1311, grad_fn=<NllLossBackward0>)\n",
      "tensor(1.9374, grad_fn=<NllLossBackward0>)\n",
      "tensor(1.5598, grad_fn=<NllLossBackward0>)\n",
      "tensor(1.4527, grad_fn=<NllLossBackward0>)\n",
      "tensor(2.0651, grad_fn=<NllLossBackward0>)\n",
      "tensor(1.2682, grad_fn=<NllLossBackward0>)\n",
      "tensor(1.7519, grad_fn=<NllLossBackward0>)\n",
      "tensor(2.1683, grad_fn=<NllLossBackward0>)\n",
      "tensor(1.3483, grad_fn=<NllLossBackward0>)\n",
      "tensor(1.7297, grad_fn=<NllLossBackward0>)\n",
      "tensor(1.2843, grad_fn=<NllLossBackward0>)\n",
      "tensor(2.2650, grad_fn=<NllLossBackward0>)\n",
      "tensor(1.3606, grad_fn=<NllLossBackward0>)\n",
      "tensor(1.5534, grad_fn=<NllLossBackward0>)\n",
      "tensor(2.4064, grad_fn=<NllLossBackward0>)\n",
      "tensor(1.7129, grad_fn=<NllLossBackward0>)\n",
      "tensor(2.3237, grad_fn=<NllLossBackward0>)\n",
      "tensor(1.5710, grad_fn=<NllLossBackward0>)\n",
      "tensor(1.6680, grad_fn=<NllLossBackward0>)\n",
      "tensor(1.4536, grad_fn=<NllLossBackward0>)\n",
      "tensor(2.2984, grad_fn=<NllLossBackward0>)\n",
      "tensor(1.3386, grad_fn=<NllLossBackward0>)\n",
      "tensor(1.2548, grad_fn=<NllLossBackward0>)\n",
      "tensor(1.5149, grad_fn=<NllLossBackward0>)\n",
      "tensor(1.3358, grad_fn=<NllLossBackward0>)\n",
      "tensor(1.4540, grad_fn=<NllLossBackward0>)\n",
      "tensor(1.5776, grad_fn=<NllLossBackward0>)\n",
      "tensor(2.3248, grad_fn=<NllLossBackward0>)\n",
      "tensor(1.7738, grad_fn=<NllLossBackward0>)\n",
      "tensor(1.7122, grad_fn=<NllLossBackward0>)\n",
      "tensor(1.6485, grad_fn=<NllLossBackward0>)\n",
      "tensor(2.0086, grad_fn=<NllLossBackward0>)\n",
      "tensor(2.0798, grad_fn=<NllLossBackward0>)\n",
      "tensor(1.5477, grad_fn=<NllLossBackward0>)\n",
      "tensor(1.7246, grad_fn=<NllLossBackward0>)\n",
      "tensor(1.8616, grad_fn=<NllLossBackward0>)\n",
      "tensor(2.0499, grad_fn=<NllLossBackward0>)\n",
      "tensor(1.3455, grad_fn=<NllLossBackward0>)\n",
      "tensor(2.4685, grad_fn=<NllLossBackward0>)\n",
      "tensor(1.5543, grad_fn=<NllLossBackward0>)\n",
      "tensor(1.4613, grad_fn=<NllLossBackward0>)\n",
      "tensor(1.2137, grad_fn=<NllLossBackward0>)\n",
      "tensor(1.2568, grad_fn=<NllLossBackward0>)\n",
      "tensor(1.6111, grad_fn=<NllLossBackward0>)\n",
      "tensor(1.9074, grad_fn=<NllLossBackward0>)\n",
      "tensor(1.0282, grad_fn=<NllLossBackward0>)\n",
      "tensor(1.5814, grad_fn=<NllLossBackward0>)\n",
      "tensor(1.4217, grad_fn=<NllLossBackward0>)\n",
      "tensor(1.2084, grad_fn=<NllLossBackward0>)\n",
      "tensor(1.1942, grad_fn=<NllLossBackward0>)\n",
      "tensor(1.8210, grad_fn=<NllLossBackward0>)\n",
      "tensor(1.5935, grad_fn=<NllLossBackward0>)\n",
      "tensor(2.0522, grad_fn=<NllLossBackward0>)\n",
      "tensor(1.5358, grad_fn=<NllLossBackward0>)\n",
      "tensor(1.7751, grad_fn=<NllLossBackward0>)\n",
      "tensor(1.4890, grad_fn=<NllLossBackward0>)\n",
      "tensor(1.4672, grad_fn=<NllLossBackward0>)\n",
      "tensor(1.7569, grad_fn=<NllLossBackward0>)\n",
      "tensor(2.2698, grad_fn=<NllLossBackward0>)\n",
      "tensor(2.3197, grad_fn=<NllLossBackward0>)\n",
      "tensor(1.2479, grad_fn=<NllLossBackward0>)\n",
      "tensor(1.8149, grad_fn=<NllLossBackward0>)\n",
      "tensor(1.4049, grad_fn=<NllLossBackward0>)\n",
      "tensor(1.6489, grad_fn=<NllLossBackward0>)\n",
      "tensor(1.1378, grad_fn=<NllLossBackward0>)\n",
      "tensor(1.5750, grad_fn=<NllLossBackward0>)\n",
      "tensor(1.8724, grad_fn=<NllLossBackward0>)\n",
      "tensor(1.2020, grad_fn=<NllLossBackward0>)\n",
      "tensor(2.8339, grad_fn=<NllLossBackward0>)\n",
      "tensor(1.2812, grad_fn=<NllLossBackward0>)\n",
      "tensor(1.2769, grad_fn=<NllLossBackward0>)\n",
      "tensor(1.9745, grad_fn=<NllLossBackward0>)\n",
      "tensor(1.5594, grad_fn=<NllLossBackward0>)\n",
      "tensor(1.9576, grad_fn=<NllLossBackward0>)\n",
      "tensor(1.7039, grad_fn=<NllLossBackward0>)\n",
      "tensor(2.3308, grad_fn=<NllLossBackward0>)\n",
      "tensor(1.7537, grad_fn=<NllLossBackward0>)\n",
      "tensor(1.6515, grad_fn=<NllLossBackward0>)\n",
      "tensor(1.5140, grad_fn=<NllLossBackward0>)\n",
      "tensor(1.9908, grad_fn=<NllLossBackward0>)\n",
      "tensor(2.1954, grad_fn=<NllLossBackward0>)\n",
      "tensor(1.4408, grad_fn=<NllLossBackward0>)\n",
      "tensor(1.5819, grad_fn=<NllLossBackward0>)\n",
      "tensor(1.7895, grad_fn=<NllLossBackward0>)\n",
      "tensor(2.7558, grad_fn=<NllLossBackward0>)\n",
      "tensor(2.1902, grad_fn=<NllLossBackward0>)\n",
      "tensor(1.8981, grad_fn=<NllLossBackward0>)\n",
      "tensor(2.3517, grad_fn=<NllLossBackward0>)\n",
      "tensor(1.8201, grad_fn=<NllLossBackward0>)\n",
      "tensor(1.7675, grad_fn=<NllLossBackward0>)\n",
      "tensor(1.5157, grad_fn=<NllLossBackward0>)\n",
      "tensor(1.5983, grad_fn=<NllLossBackward0>)\n",
      "tensor(0.9811, grad_fn=<NllLossBackward0>)\n",
      "tensor(2.2770, grad_fn=<NllLossBackward0>)\n",
      "tensor(1.9278, grad_fn=<NllLossBackward0>)\n",
      "tensor(1.3260, grad_fn=<NllLossBackward0>)\n",
      "tensor(1.5677, grad_fn=<NllLossBackward0>)\n",
      "tensor(1.3243, grad_fn=<NllLossBackward0>)\n",
      "tensor(1.4102, grad_fn=<NllLossBackward0>)\n",
      "tensor(2.1549, grad_fn=<NllLossBackward0>)\n",
      "tensor(2.7392, grad_fn=<NllLossBackward0>)\n",
      "tensor(1.7852, grad_fn=<NllLossBackward0>)\n",
      "tensor(1.9561, grad_fn=<NllLossBackward0>)\n",
      "tensor(1.2507, grad_fn=<NllLossBackward0>)\n",
      "tensor(1.8091, grad_fn=<NllLossBackward0>)\n",
      "tensor(1.5007, grad_fn=<NllLossBackward0>)\n",
      "tensor(1.1858, grad_fn=<NllLossBackward0>)\n",
      "tensor(2.1413, grad_fn=<NllLossBackward0>)\n",
      "tensor(1.0307, grad_fn=<NllLossBackward0>)\n",
      "tensor(1.8522, grad_fn=<NllLossBackward0>)\n",
      "tensor(1.3630, grad_fn=<NllLossBackward0>)\n",
      "tensor(1.3573, grad_fn=<NllLossBackward0>)\n",
      "tensor(1.4741, grad_fn=<NllLossBackward0>)\n",
      "tensor(2.0452, grad_fn=<NllLossBackward0>)\n",
      "tensor(1.4783, grad_fn=<NllLossBackward0>)\n",
      "tensor(1.5553, grad_fn=<NllLossBackward0>)\n",
      "tensor(1.1942, grad_fn=<NllLossBackward0>)\n",
      "tensor(1.1609, grad_fn=<NllLossBackward0>)\n",
      "tensor(1.0877, grad_fn=<NllLossBackward0>)\n",
      "tensor(2.3256, grad_fn=<NllLossBackward0>)\n",
      "tensor(1.4042, grad_fn=<NllLossBackward0>)\n",
      "tensor(1.9475, grad_fn=<NllLossBackward0>)\n",
      "tensor(1.4106, grad_fn=<NllLossBackward0>)\n",
      "tensor(1.8024, grad_fn=<NllLossBackward0>)\n",
      "tensor(1.8830, grad_fn=<NllLossBackward0>)\n",
      "tensor(1.1756, grad_fn=<NllLossBackward0>)\n",
      "tensor(1.4956, grad_fn=<NllLossBackward0>)\n",
      "tensor(1.5280, grad_fn=<NllLossBackward0>)\n",
      "tensor(1.4130, grad_fn=<NllLossBackward0>)\n",
      "tensor(2.3636, grad_fn=<NllLossBackward0>)\n",
      "tensor(1.8846, grad_fn=<NllLossBackward0>)\n",
      "tensor(1.6408, grad_fn=<NllLossBackward0>)\n",
      "tensor(1.8697, grad_fn=<NllLossBackward0>)\n",
      "tensor(0.9329, grad_fn=<NllLossBackward0>)\n",
      "tensor(1.5676, grad_fn=<NllLossBackward0>)\n",
      "tensor(1.8447, grad_fn=<NllLossBackward0>)\n",
      "tensor(1.2022, grad_fn=<NllLossBackward0>)\n",
      "tensor(2.0109, grad_fn=<NllLossBackward0>)\n",
      "tensor(2.4898, grad_fn=<NllLossBackward0>)\n",
      "tensor(1.2435, grad_fn=<NllLossBackward0>)\n",
      "tensor(1.2206, grad_fn=<NllLossBackward0>)\n",
      "tensor(2.0353, grad_fn=<NllLossBackward0>)\n",
      "tensor(1.4323, grad_fn=<NllLossBackward0>)\n",
      "tensor(1.4474, grad_fn=<NllLossBackward0>)\n",
      "tensor(2.0105, grad_fn=<NllLossBackward0>)\n",
      "tensor(1.5356, grad_fn=<NllLossBackward0>)\n",
      "tensor(2.0145, grad_fn=<NllLossBackward0>)\n",
      "tensor(1.7942, grad_fn=<NllLossBackward0>)\n",
      "tensor(1.4541, grad_fn=<NllLossBackward0>)\n",
      "tensor(1.7602, grad_fn=<NllLossBackward0>)\n",
      "tensor(1.6579, grad_fn=<NllLossBackward0>)\n",
      "tensor(1.4234, grad_fn=<NllLossBackward0>)\n",
      "tensor(1.4727, grad_fn=<NllLossBackward0>)\n",
      "tensor(1.3872, grad_fn=<NllLossBackward0>)\n",
      "tensor(2.1635, grad_fn=<NllLossBackward0>)\n",
      "tensor(1.2919, grad_fn=<NllLossBackward0>)\n",
      "tensor(1.7116, grad_fn=<NllLossBackward0>)\n",
      "tensor(1.5414, grad_fn=<NllLossBackward0>)\n",
      "tensor(1.5683, grad_fn=<NllLossBackward0>)\n",
      "tensor(2.3122, grad_fn=<NllLossBackward0>)\n",
      "tensor(1.7759, grad_fn=<NllLossBackward0>)\n"
     ]
    },
    {
     "name": "stdout",
     "output_type": "stream",
     "text": [
      "tensor(1.4005, grad_fn=<NllLossBackward0>)\n",
      "tensor(1.9641, grad_fn=<NllLossBackward0>)\n",
      "tensor(1.6089, grad_fn=<NllLossBackward0>)\n",
      "tensor(2.1204, grad_fn=<NllLossBackward0>)\n",
      "tensor(1.7407, grad_fn=<NllLossBackward0>)\n",
      "tensor(1.8591, grad_fn=<NllLossBackward0>)\n",
      "tensor(1.8169, grad_fn=<NllLossBackward0>)\n",
      "tensor(1.1662, grad_fn=<NllLossBackward0>)\n",
      "tensor(2.2214, grad_fn=<NllLossBackward0>)\n",
      "tensor(1.1723, grad_fn=<NllLossBackward0>)\n",
      "tensor(1.2965, grad_fn=<NllLossBackward0>)\n",
      "tensor(1.6929, grad_fn=<NllLossBackward0>)\n",
      "tensor(2.1154, grad_fn=<NllLossBackward0>)\n",
      "tensor(1.3952, grad_fn=<NllLossBackward0>)\n",
      "tensor(2.3491, grad_fn=<NllLossBackward0>)\n",
      "tensor(1.7400, grad_fn=<NllLossBackward0>)\n",
      "tensor(1.6099, grad_fn=<NllLossBackward0>)\n",
      "tensor(1.3429, grad_fn=<NllLossBackward0>)\n",
      "tensor(1.3082, grad_fn=<NllLossBackward0>)\n",
      "tensor(1.3727, grad_fn=<NllLossBackward0>)\n",
      "tensor(1.5471, grad_fn=<NllLossBackward0>)\n",
      "tensor(1.8318, grad_fn=<NllLossBackward0>)\n",
      "tensor(1.5909, grad_fn=<NllLossBackward0>)\n",
      "tensor(1.3003, grad_fn=<NllLossBackward0>)\n",
      "tensor(2.2523, grad_fn=<NllLossBackward0>)\n",
      "tensor(1.0616, grad_fn=<NllLossBackward0>)\n",
      "tensor(1.4837, grad_fn=<NllLossBackward0>)\n",
      "tensor(1.5198, grad_fn=<NllLossBackward0>)\n",
      "tensor(1.1328, grad_fn=<NllLossBackward0>)\n",
      "tensor(1.9071, grad_fn=<NllLossBackward0>)\n",
      "tensor(1.6876, grad_fn=<NllLossBackward0>)\n",
      "tensor(1.7648, grad_fn=<NllLossBackward0>)\n",
      "tensor(2.6753, grad_fn=<NllLossBackward0>)\n",
      "tensor(1.0965, grad_fn=<NllLossBackward0>)\n",
      "tensor(1.5135, grad_fn=<NllLossBackward0>)\n",
      "tensor(1.3097, grad_fn=<NllLossBackward0>)\n",
      "tensor(2.1840, grad_fn=<NllLossBackward0>)\n",
      "tensor(1.8237, grad_fn=<NllLossBackward0>)\n",
      "tensor(1.4643, grad_fn=<NllLossBackward0>)\n",
      "tensor(1.7011, grad_fn=<NllLossBackward0>)\n",
      "tensor(1.7074, grad_fn=<NllLossBackward0>)\n",
      "tensor(1.5350, grad_fn=<NllLossBackward0>)\n",
      "tensor(1.4646, grad_fn=<NllLossBackward0>)\n",
      "tensor(1.8518, grad_fn=<NllLossBackward0>)\n",
      "tensor(1.6445, grad_fn=<NllLossBackward0>)\n",
      "tensor(1.1749, grad_fn=<NllLossBackward0>)\n",
      "tensor(1.3290, grad_fn=<NllLossBackward0>)\n",
      "tensor(2.1476, grad_fn=<NllLossBackward0>)\n",
      "tensor(1.9624, grad_fn=<NllLossBackward0>)\n",
      "tensor(1.0756, grad_fn=<NllLossBackward0>)\n",
      "tensor(1.2967, grad_fn=<NllLossBackward0>)\n",
      "tensor(1.8113, grad_fn=<NllLossBackward0>)\n",
      "tensor(1.9093, grad_fn=<NllLossBackward0>)\n",
      "tensor(1.7220, grad_fn=<NllLossBackward0>)\n",
      "tensor(1.7240, grad_fn=<NllLossBackward0>)\n",
      "tensor(1.6476, grad_fn=<NllLossBackward0>)\n",
      "tensor(1.9216, grad_fn=<NllLossBackward0>)\n",
      "tensor(1.6009, grad_fn=<NllLossBackward0>)\n",
      "tensor(1.5623, grad_fn=<NllLossBackward0>)\n",
      "tensor(1.9796, grad_fn=<NllLossBackward0>)\n",
      "tensor(2.0629, grad_fn=<NllLossBackward0>)\n",
      "tensor(1.3876, grad_fn=<NllLossBackward0>)\n",
      "tensor(1.0428, grad_fn=<NllLossBackward0>)\n",
      "tensor(1.3302, grad_fn=<NllLossBackward0>)\n",
      "tensor(1.6682, grad_fn=<NllLossBackward0>)\n",
      "tensor(1.4293, grad_fn=<NllLossBackward0>)\n",
      "tensor(1.3791, grad_fn=<NllLossBackward0>)\n",
      "tensor(1.7154, grad_fn=<NllLossBackward0>)\n",
      "tensor(1.3524, grad_fn=<NllLossBackward0>)\n",
      "tensor(1.6132, grad_fn=<NllLossBackward0>)\n",
      "tensor(1.5626, grad_fn=<NllLossBackward0>)\n",
      "tensor(1.2016, grad_fn=<NllLossBackward0>)\n",
      "tensor(1.6358, grad_fn=<NllLossBackward0>)\n",
      "tensor(1.5536, grad_fn=<NllLossBackward0>)\n",
      "tensor(2.1003, grad_fn=<NllLossBackward0>)\n",
      "tensor(1.9181, grad_fn=<NllLossBackward0>)\n",
      "tensor(1.8996, grad_fn=<NllLossBackward0>)\n",
      "tensor(2.0069, grad_fn=<NllLossBackward0>)\n",
      "tensor(1.5240, grad_fn=<NllLossBackward0>)\n",
      "tensor(1.0910, grad_fn=<NllLossBackward0>)\n",
      "tensor(1.3574, grad_fn=<NllLossBackward0>)\n",
      "tensor(1.2864, grad_fn=<NllLossBackward0>)\n",
      "tensor(1.4452, grad_fn=<NllLossBackward0>)\n",
      "tensor(1.7215, grad_fn=<NllLossBackward0>)\n",
      "tensor(1.9803, grad_fn=<NllLossBackward0>)\n",
      "tensor(1.6160, grad_fn=<NllLossBackward0>)\n",
      "tensor(1.6336, grad_fn=<NllLossBackward0>)\n",
      "tensor(1.4712, grad_fn=<NllLossBackward0>)\n",
      "tensor(1.6095, grad_fn=<NllLossBackward0>)\n",
      "tensor(2.0026, grad_fn=<NllLossBackward0>)\n",
      "tensor(2.0211, grad_fn=<NllLossBackward0>)\n",
      "tensor(1.3482, grad_fn=<NllLossBackward0>)\n",
      "tensor(1.7365, grad_fn=<NllLossBackward0>)\n",
      "tensor(1.6136, grad_fn=<NllLossBackward0>)\n",
      "tensor(1.3321, grad_fn=<NllLossBackward0>)\n",
      "tensor(1.4295, grad_fn=<NllLossBackward0>)\n",
      "tensor(2.1948, grad_fn=<NllLossBackward0>)\n",
      "tensor(2.1087, grad_fn=<NllLossBackward0>)\n",
      "tensor(1.6887, grad_fn=<NllLossBackward0>)\n",
      "tensor(1.2103, grad_fn=<NllLossBackward0>)\n",
      "tensor(1.7821, grad_fn=<NllLossBackward0>)\n",
      "tensor(1.1998, grad_fn=<NllLossBackward0>)\n",
      "tensor(2.1420, grad_fn=<NllLossBackward0>)\n",
      "tensor(1.3614, grad_fn=<NllLossBackward0>)\n",
      "tensor(1.4609, grad_fn=<NllLossBackward0>)\n",
      "tensor(1.5071, grad_fn=<NllLossBackward0>)\n",
      "tensor(1.6333, grad_fn=<NllLossBackward0>)\n",
      "tensor(1.4820, grad_fn=<NllLossBackward0>)\n",
      "tensor(1.3440, grad_fn=<NllLossBackward0>)\n",
      "tensor(1.3048, grad_fn=<NllLossBackward0>)\n",
      "tensor(1.5331, grad_fn=<NllLossBackward0>)\n",
      "tensor(1.8076, grad_fn=<NllLossBackward0>)\n",
      "tensor(1.4139, grad_fn=<NllLossBackward0>)\n",
      "tensor(1.3313, grad_fn=<NllLossBackward0>)\n",
      "tensor(1.8324, grad_fn=<NllLossBackward0>)\n",
      "tensor(1.2162, grad_fn=<NllLossBackward0>)\n",
      "tensor(1.0851, grad_fn=<NllLossBackward0>)\n",
      "tensor(1.5277, grad_fn=<NllLossBackward0>)\n",
      "tensor(2.1114, grad_fn=<NllLossBackward0>)\n",
      "tensor(2.9746, grad_fn=<NllLossBackward0>)\n",
      "tensor(1.3334, grad_fn=<NllLossBackward0>)\n",
      "tensor(1.6736, grad_fn=<NllLossBackward0>)\n",
      "tensor(1.2213, grad_fn=<NllLossBackward0>)\n",
      "tensor(1.4147, grad_fn=<NllLossBackward0>)\n",
      "tensor(2.0001, grad_fn=<NllLossBackward0>)\n",
      "tensor(1.9447, grad_fn=<NllLossBackward0>)\n",
      "tensor(2.3312, grad_fn=<NllLossBackward0>)\n",
      "tensor(1.5976, grad_fn=<NllLossBackward0>)\n",
      "tensor(2.1991, grad_fn=<NllLossBackward0>)\n",
      "tensor(1.3355, grad_fn=<NllLossBackward0>)\n",
      "tensor(1.3347, grad_fn=<NllLossBackward0>)\n",
      "tensor(1.6850, grad_fn=<NllLossBackward0>)\n",
      "tensor(2.0115, grad_fn=<NllLossBackward0>)\n",
      "tensor(2.0397, grad_fn=<NllLossBackward0>)\n",
      "tensor(1.5281, grad_fn=<NllLossBackward0>)\n",
      "tensor(1.0307, grad_fn=<NllLossBackward0>)\n",
      "tensor(1.7333, grad_fn=<NllLossBackward0>)\n",
      "tensor(1.7823, grad_fn=<NllLossBackward0>)\n",
      "tensor(2.1217, grad_fn=<NllLossBackward0>)\n",
      "tensor(2.2825, grad_fn=<NllLossBackward0>)\n",
      "tensor(2.2879, grad_fn=<NllLossBackward0>)\n",
      "tensor(2.3345, grad_fn=<NllLossBackward0>)\n",
      "tensor(1.7107, grad_fn=<NllLossBackward0>)\n",
      "tensor(1.5493, grad_fn=<NllLossBackward0>)\n",
      "tensor(1.8922, grad_fn=<NllLossBackward0>)\n",
      "tensor(1.2693, grad_fn=<NllLossBackward0>)\n",
      "tensor(1.8183, grad_fn=<NllLossBackward0>)\n",
      "tensor(1.9093, grad_fn=<NllLossBackward0>)\n",
      "tensor(1.4770, grad_fn=<NllLossBackward0>)\n",
      "tensor(1.4850, grad_fn=<NllLossBackward0>)\n",
      "tensor(1.9616, grad_fn=<NllLossBackward0>)\n",
      "tensor(1.8730, grad_fn=<NllLossBackward0>)\n",
      "tensor(1.2509, grad_fn=<NllLossBackward0>)\n",
      "tensor(1.0156, grad_fn=<NllLossBackward0>)\n",
      "tensor(1.6312, grad_fn=<NllLossBackward0>)\n",
      "tensor(1.5504, grad_fn=<NllLossBackward0>)\n",
      "tensor(1.6898, grad_fn=<NllLossBackward0>)\n",
      "tensor(1.6318, grad_fn=<NllLossBackward0>)\n",
      "tensor(1.6410, grad_fn=<NllLossBackward0>)\n",
      "tensor(1.7177, grad_fn=<NllLossBackward0>)\n",
      "tensor(2.1346, grad_fn=<NllLossBackward0>)\n",
      "tensor(1.3150, grad_fn=<NllLossBackward0>)\n",
      "tensor(1.5706, grad_fn=<NllLossBackward0>)\n",
      "tensor(1.6895, grad_fn=<NllLossBackward0>)\n",
      "tensor(2.0331, grad_fn=<NllLossBackward0>)\n",
      "tensor(1.3190, grad_fn=<NllLossBackward0>)\n",
      "tensor(1.8011, grad_fn=<NllLossBackward0>)\n",
      "tensor(1.5547, grad_fn=<NllLossBackward0>)\n",
      "tensor(1.6537, grad_fn=<NllLossBackward0>)\n",
      "tensor(1.4794, grad_fn=<NllLossBackward0>)\n",
      "tensor(1.4016, grad_fn=<NllLossBackward0>)\n",
      "tensor(1.5348, grad_fn=<NllLossBackward0>)\n",
      "tensor(1.8881, grad_fn=<NllLossBackward0>)\n",
      "tensor(1.5231, grad_fn=<NllLossBackward0>)\n",
      "tensor(1.1093, grad_fn=<NllLossBackward0>)\n",
      "tensor(2.2222, grad_fn=<NllLossBackward0>)\n",
      "tensor(1.9118, grad_fn=<NllLossBackward0>)\n",
      "tensor(1.2550, grad_fn=<NllLossBackward0>)\n",
      "tensor(1.2866, grad_fn=<NllLossBackward0>)\n",
      "tensor(2.0361, grad_fn=<NllLossBackward0>)\n",
      "tensor(1.6319, grad_fn=<NllLossBackward0>)\n",
      "tensor(1.1917, grad_fn=<NllLossBackward0>)\n",
      "tensor(2.0969, grad_fn=<NllLossBackward0>)\n",
      "tensor(1.6771, grad_fn=<NllLossBackward0>)\n",
      "tensor(1.5668, grad_fn=<NllLossBackward0>)\n",
      "tensor(1.5310, grad_fn=<NllLossBackward0>)\n",
      "tensor(0.9581, grad_fn=<NllLossBackward0>)\n",
      "tensor(1.7998, grad_fn=<NllLossBackward0>)\n",
      "tensor(1.5509, grad_fn=<NllLossBackward0>)\n",
      "tensor(1.2055, grad_fn=<NllLossBackward0>)\n",
      "tensor(1.0856, grad_fn=<NllLossBackward0>)\n"
     ]
    },
    {
     "name": "stdout",
     "output_type": "stream",
     "text": [
      "tensor(1.2898, grad_fn=<NllLossBackward0>)\n",
      "tensor(1.4488, grad_fn=<NllLossBackward0>)\n",
      "tensor(1.8003, grad_fn=<NllLossBackward0>)\n",
      "tensor(1.6970, grad_fn=<NllLossBackward0>)\n",
      "tensor(1.1789, grad_fn=<NllLossBackward0>)\n",
      "tensor(1.2003, grad_fn=<NllLossBackward0>)\n",
      "tensor(1.2958, grad_fn=<NllLossBackward0>)\n",
      "tensor(1.6166, grad_fn=<NllLossBackward0>)\n",
      "tensor(1.2379, grad_fn=<NllLossBackward0>)\n",
      "tensor(1.2493, grad_fn=<NllLossBackward0>)\n",
      "tensor(1.3293, grad_fn=<NllLossBackward0>)\n",
      "tensor(1.2230, grad_fn=<NllLossBackward0>)\n",
      "tensor(1.8720, grad_fn=<NllLossBackward0>)\n",
      "tensor(1.4533, grad_fn=<NllLossBackward0>)\n",
      "tensor(2.3008, grad_fn=<NllLossBackward0>)\n",
      "tensor(1.3880, grad_fn=<NllLossBackward0>)\n",
      "tensor(1.7764, grad_fn=<NllLossBackward0>)\n",
      "tensor(1.1730, grad_fn=<NllLossBackward0>)\n",
      "tensor(1.5696, grad_fn=<NllLossBackward0>)\n",
      "tensor(2.6682, grad_fn=<NllLossBackward0>)\n",
      "tensor(2.0925, grad_fn=<NllLossBackward0>)\n",
      "tensor(1.9818, grad_fn=<NllLossBackward0>)\n",
      "tensor(1.1931, grad_fn=<NllLossBackward0>)\n",
      "tensor(1.5016, grad_fn=<NllLossBackward0>)\n",
      "tensor(2.3280, grad_fn=<NllLossBackward0>)\n",
      "tensor(2.0219, grad_fn=<NllLossBackward0>)\n",
      "tensor(1.4724, grad_fn=<NllLossBackward0>)\n",
      "tensor(1.8008, grad_fn=<NllLossBackward0>)\n",
      "tensor(2.1146, grad_fn=<NllLossBackward0>)\n",
      "tensor(1.6867, grad_fn=<NllLossBackward0>)\n",
      "tensor(1.4088, grad_fn=<NllLossBackward0>)\n",
      "tensor(1.4753, grad_fn=<NllLossBackward0>)\n",
      "tensor(1.7653, grad_fn=<NllLossBackward0>)\n",
      "tensor(1.4592, grad_fn=<NllLossBackward0>)\n",
      "tensor(1.6777, grad_fn=<NllLossBackward0>)\n",
      "tensor(1.7880, grad_fn=<NllLossBackward0>)\n",
      "tensor(1.7534, grad_fn=<NllLossBackward0>)\n",
      "tensor(2.0603, grad_fn=<NllLossBackward0>)\n",
      "tensor(1.6168, grad_fn=<NllLossBackward0>)\n",
      "tensor(1.7261, grad_fn=<NllLossBackward0>)\n",
      "tensor(1.9610, grad_fn=<NllLossBackward0>)\n",
      "tensor(1.3857, grad_fn=<NllLossBackward0>)\n",
      "tensor(2.3749, grad_fn=<NllLossBackward0>)\n",
      "tensor(2.3858, grad_fn=<NllLossBackward0>)\n",
      "tensor(1.8277, grad_fn=<NllLossBackward0>)\n",
      "tensor(1.3864, grad_fn=<NllLossBackward0>)\n",
      "tensor(1.3036, grad_fn=<NllLossBackward0>)\n",
      "tensor(2.2362, grad_fn=<NllLossBackward0>)\n",
      "tensor(1.3980, grad_fn=<NllLossBackward0>)\n",
      "tensor(1.4829, grad_fn=<NllLossBackward0>)\n",
      "tensor(1.4880, grad_fn=<NllLossBackward0>)\n",
      "tensor(1.6058, grad_fn=<NllLossBackward0>)\n",
      "tensor(1.5769, grad_fn=<NllLossBackward0>)\n",
      "tensor(1.6186, grad_fn=<NllLossBackward0>)\n",
      "tensor(1.1039, grad_fn=<NllLossBackward0>)\n",
      "tensor(1.4418, grad_fn=<NllLossBackward0>)\n",
      "tensor(2.1835, grad_fn=<NllLossBackward0>)\n",
      "tensor(2.1722, grad_fn=<NllLossBackward0>)\n",
      "tensor(2.5487, grad_fn=<NllLossBackward0>)\n",
      "tensor(1.7543, grad_fn=<NllLossBackward0>)\n",
      "tensor(2.0572, grad_fn=<NllLossBackward0>)\n",
      "tensor(1.0871, grad_fn=<NllLossBackward0>)\n",
      "tensor(1.5470, grad_fn=<NllLossBackward0>)\n",
      "tensor(1.6234, grad_fn=<NllLossBackward0>)\n",
      "tensor(1.4034, grad_fn=<NllLossBackward0>)\n",
      "tensor(1.8823, grad_fn=<NllLossBackward0>)\n",
      "tensor(1.3537, grad_fn=<NllLossBackward0>)\n",
      "tensor(1.6102, grad_fn=<NllLossBackward0>)\n",
      "tensor(1.5103, grad_fn=<NllLossBackward0>)\n",
      "tensor(2.4127, grad_fn=<NllLossBackward0>)\n",
      "tensor(2.4179, grad_fn=<NllLossBackward0>)\n",
      "tensor(1.9109, grad_fn=<NllLossBackward0>)\n",
      "tensor(1.7061, grad_fn=<NllLossBackward0>)\n",
      "tensor(2.1528, grad_fn=<NllLossBackward0>)\n",
      "tensor(1.5370, grad_fn=<NllLossBackward0>)\n",
      "tensor(1.3388, grad_fn=<NllLossBackward0>)\n",
      "tensor(1.6123, grad_fn=<NllLossBackward0>)\n",
      "tensor(2.5025, grad_fn=<NllLossBackward0>)\n",
      "tensor(1.5799, grad_fn=<NllLossBackward0>)\n",
      "tensor(1.4980, grad_fn=<NllLossBackward0>)\n",
      "tensor(1.6941, grad_fn=<NllLossBackward0>)\n",
      "tensor(2.5583, grad_fn=<NllLossBackward0>)\n",
      "tensor(1.6838, grad_fn=<NllLossBackward0>)\n",
      "tensor(1.9614, grad_fn=<NllLossBackward0>)\n",
      "tensor(1.7917, grad_fn=<NllLossBackward0>)\n",
      "tensor(2.0948, grad_fn=<NllLossBackward0>)\n",
      "tensor(1.6865, grad_fn=<NllLossBackward0>)\n",
      "tensor(1.4923, grad_fn=<NllLossBackward0>)\n",
      "tensor(2.3827, grad_fn=<NllLossBackward0>)\n",
      "tensor(1.5725, grad_fn=<NllLossBackward0>)\n",
      "tensor(1.2028, grad_fn=<NllLossBackward0>)\n",
      "tensor(1.8666, grad_fn=<NllLossBackward0>)\n",
      "tensor(1.9740, grad_fn=<NllLossBackward0>)\n",
      "tensor(1.6135, grad_fn=<NllLossBackward0>)\n",
      "tensor(1.5606, grad_fn=<NllLossBackward0>)\n",
      "tensor(1.3249, grad_fn=<NllLossBackward0>)\n",
      "tensor(1.4824, grad_fn=<NllLossBackward0>)\n",
      "tensor(1.4132, grad_fn=<NllLossBackward0>)\n",
      "tensor(1.8795, grad_fn=<NllLossBackward0>)\n",
      "tensor(1.3548, grad_fn=<NllLossBackward0>)\n",
      "tensor(1.4945, grad_fn=<NllLossBackward0>)\n",
      "tensor(1.0951, grad_fn=<NllLossBackward0>)\n",
      "tensor(1.0816, grad_fn=<NllLossBackward0>)\n",
      "tensor(1.2608, grad_fn=<NllLossBackward0>)\n",
      "tensor(1.5401, grad_fn=<NllLossBackward0>)\n",
      "tensor(1.2052, grad_fn=<NllLossBackward0>)\n",
      "tensor(1.3485, grad_fn=<NllLossBackward0>)\n",
      "tensor(1.2063, grad_fn=<NllLossBackward0>)\n",
      "tensor(2.0421, grad_fn=<NllLossBackward0>)\n",
      "tensor(1.1697, grad_fn=<NllLossBackward0>)\n",
      "tensor(1.4626, grad_fn=<NllLossBackward0>)\n",
      "tensor(1.6940, grad_fn=<NllLossBackward0>)\n",
      "tensor(1.0495, grad_fn=<NllLossBackward0>)\n",
      "tensor(1.8163, grad_fn=<NllLossBackward0>)\n",
      "tensor(2.0682, grad_fn=<NllLossBackward0>)\n",
      "tensor(1.6805, grad_fn=<NllLossBackward0>)\n",
      "tensor(1.7108, grad_fn=<NllLossBackward0>)\n",
      "tensor(1.1630, grad_fn=<NllLossBackward0>)\n",
      "----------------------------------------------------------------------------------------------------\n",
      "Epoch:1====>Loss:1.6599\n",
      "tensor(1.8357, grad_fn=<NllLossBackward0>)\n",
      "tensor(1.6312, grad_fn=<NllLossBackward0>)\n",
      "tensor(1.0061, grad_fn=<NllLossBackward0>)\n",
      "tensor(1.3952, grad_fn=<NllLossBackward0>)\n",
      "tensor(1.5656, grad_fn=<NllLossBackward0>)\n",
      "tensor(1.1907, grad_fn=<NllLossBackward0>)\n",
      "tensor(1.9775, grad_fn=<NllLossBackward0>)\n",
      "tensor(1.2399, grad_fn=<NllLossBackward0>)\n",
      "tensor(1.2630, grad_fn=<NllLossBackward0>)\n",
      "tensor(2.2044, grad_fn=<NllLossBackward0>)\n",
      "tensor(1.4790, grad_fn=<NllLossBackward0>)\n",
      "tensor(1.3102, grad_fn=<NllLossBackward0>)\n",
      "tensor(1.9933, grad_fn=<NllLossBackward0>)\n",
      "tensor(1.8327, grad_fn=<NllLossBackward0>)\n",
      "tensor(1.4494, grad_fn=<NllLossBackward0>)\n",
      "tensor(1.4091, grad_fn=<NllLossBackward0>)\n",
      "tensor(1.0325, grad_fn=<NllLossBackward0>)\n",
      "tensor(1.3868, grad_fn=<NllLossBackward0>)\n",
      "tensor(1.6335, grad_fn=<NllLossBackward0>)\n",
      "tensor(1.5688, grad_fn=<NllLossBackward0>)\n",
      "tensor(1.4945, grad_fn=<NllLossBackward0>)\n",
      "tensor(1.4682, grad_fn=<NllLossBackward0>)\n",
      "tensor(1.4650, grad_fn=<NllLossBackward0>)\n",
      "tensor(1.4397, grad_fn=<NllLossBackward0>)\n",
      "tensor(2.5611, grad_fn=<NllLossBackward0>)\n",
      "tensor(1.6073, grad_fn=<NllLossBackward0>)\n",
      "tensor(1.1176, grad_fn=<NllLossBackward0>)\n",
      "tensor(1.8968, grad_fn=<NllLossBackward0>)\n",
      "tensor(0.3675, grad_fn=<NllLossBackward0>)\n",
      "tensor(1.6924, grad_fn=<NllLossBackward0>)\n",
      "tensor(1.6390, grad_fn=<NllLossBackward0>)\n",
      "tensor(1.1015, grad_fn=<NllLossBackward0>)\n",
      "tensor(1.0462, grad_fn=<NllLossBackward0>)\n",
      "tensor(1.2090, grad_fn=<NllLossBackward0>)\n",
      "tensor(1.1329, grad_fn=<NllLossBackward0>)\n",
      "tensor(1.4833, grad_fn=<NllLossBackward0>)\n",
      "tensor(2.1720, grad_fn=<NllLossBackward0>)\n",
      "tensor(1.5608, grad_fn=<NllLossBackward0>)\n",
      "tensor(0.9574, grad_fn=<NllLossBackward0>)\n",
      "tensor(1.2020, grad_fn=<NllLossBackward0>)\n",
      "tensor(1.2994, grad_fn=<NllLossBackward0>)\n",
      "tensor(1.7936, grad_fn=<NllLossBackward0>)\n",
      "tensor(2.0195, grad_fn=<NllLossBackward0>)\n",
      "tensor(1.1323, grad_fn=<NllLossBackward0>)\n",
      "tensor(1.2000, grad_fn=<NllLossBackward0>)\n",
      "tensor(1.5350, grad_fn=<NllLossBackward0>)\n",
      "tensor(1.2679, grad_fn=<NllLossBackward0>)\n",
      "tensor(0.7643, grad_fn=<NllLossBackward0>)\n",
      "tensor(1.8352, grad_fn=<NllLossBackward0>)\n",
      "tensor(1.5011, grad_fn=<NllLossBackward0>)\n",
      "tensor(1.4407, grad_fn=<NllLossBackward0>)\n",
      "tensor(1.5610, grad_fn=<NllLossBackward0>)\n",
      "tensor(1.7231, grad_fn=<NllLossBackward0>)\n",
      "tensor(1.0551, grad_fn=<NllLossBackward0>)\n",
      "tensor(1.7748, grad_fn=<NllLossBackward0>)\n",
      "tensor(1.0003, grad_fn=<NllLossBackward0>)\n",
      "tensor(1.9179, grad_fn=<NllLossBackward0>)\n",
      "tensor(1.7820, grad_fn=<NllLossBackward0>)\n",
      "tensor(1.3623, grad_fn=<NllLossBackward0>)\n",
      "tensor(1.5614, grad_fn=<NllLossBackward0>)\n",
      "tensor(1.2661, grad_fn=<NllLossBackward0>)\n",
      "tensor(1.3604, grad_fn=<NllLossBackward0>)\n",
      "tensor(1.3169, grad_fn=<NllLossBackward0>)\n",
      "tensor(1.2013, grad_fn=<NllLossBackward0>)\n",
      "tensor(1.6039, grad_fn=<NllLossBackward0>)\n",
      "tensor(1.3537, grad_fn=<NllLossBackward0>)\n",
      "tensor(1.1671, grad_fn=<NllLossBackward0>)\n",
      "tensor(1.4352, grad_fn=<NllLossBackward0>)\n",
      "tensor(1.4116, grad_fn=<NllLossBackward0>)\n",
      "tensor(1.1969, grad_fn=<NllLossBackward0>)\n"
     ]
    },
    {
     "name": "stdout",
     "output_type": "stream",
     "text": [
      "tensor(1.2498, grad_fn=<NllLossBackward0>)\n",
      "tensor(1.5841, grad_fn=<NllLossBackward0>)\n",
      "tensor(1.3530, grad_fn=<NllLossBackward0>)\n",
      "tensor(1.5180, grad_fn=<NllLossBackward0>)\n",
      "tensor(1.4690, grad_fn=<NllLossBackward0>)\n",
      "tensor(1.6210, grad_fn=<NllLossBackward0>)\n",
      "tensor(1.8028, grad_fn=<NllLossBackward0>)\n",
      "tensor(1.2683, grad_fn=<NllLossBackward0>)\n",
      "tensor(1.9016, grad_fn=<NllLossBackward0>)\n",
      "tensor(1.6583, grad_fn=<NllLossBackward0>)\n",
      "tensor(1.3289, grad_fn=<NllLossBackward0>)\n",
      "tensor(1.4325, grad_fn=<NllLossBackward0>)\n",
      "tensor(1.6610, grad_fn=<NllLossBackward0>)\n",
      "tensor(1.6078, grad_fn=<NllLossBackward0>)\n",
      "tensor(1.3890, grad_fn=<NllLossBackward0>)\n",
      "tensor(1.3397, grad_fn=<NllLossBackward0>)\n",
      "tensor(1.6632, grad_fn=<NllLossBackward0>)\n",
      "tensor(1.0788, grad_fn=<NllLossBackward0>)\n",
      "tensor(2.5394, grad_fn=<NllLossBackward0>)\n",
      "tensor(1.7682, grad_fn=<NllLossBackward0>)\n",
      "tensor(1.5561, grad_fn=<NllLossBackward0>)\n",
      "tensor(1.1137, grad_fn=<NllLossBackward0>)\n",
      "tensor(1.3275, grad_fn=<NllLossBackward0>)\n",
      "tensor(1.7251, grad_fn=<NllLossBackward0>)\n",
      "tensor(1.5286, grad_fn=<NllLossBackward0>)\n",
      "tensor(1.7511, grad_fn=<NllLossBackward0>)\n",
      "tensor(1.3790, grad_fn=<NllLossBackward0>)\n",
      "tensor(1.2871, grad_fn=<NllLossBackward0>)\n",
      "tensor(1.8140, grad_fn=<NllLossBackward0>)\n",
      "tensor(1.7693, grad_fn=<NllLossBackward0>)\n",
      "tensor(1.5244, grad_fn=<NllLossBackward0>)\n",
      "tensor(1.3424, grad_fn=<NllLossBackward0>)\n",
      "tensor(1.4752, grad_fn=<NllLossBackward0>)\n",
      "tensor(1.6077, grad_fn=<NllLossBackward0>)\n",
      "tensor(1.4861, grad_fn=<NllLossBackward0>)\n",
      "tensor(1.7865, grad_fn=<NllLossBackward0>)\n",
      "tensor(1.7026, grad_fn=<NllLossBackward0>)\n",
      "tensor(1.2567, grad_fn=<NllLossBackward0>)\n",
      "tensor(1.5480, grad_fn=<NllLossBackward0>)\n",
      "tensor(1.3194, grad_fn=<NllLossBackward0>)\n",
      "tensor(2.2045, grad_fn=<NllLossBackward0>)\n",
      "tensor(1.1622, grad_fn=<NllLossBackward0>)\n",
      "tensor(0.9548, grad_fn=<NllLossBackward0>)\n",
      "tensor(1.2492, grad_fn=<NllLossBackward0>)\n",
      "tensor(1.5460, grad_fn=<NllLossBackward0>)\n",
      "tensor(1.5108, grad_fn=<NllLossBackward0>)\n",
      "tensor(1.9001, grad_fn=<NllLossBackward0>)\n",
      "tensor(1.0198, grad_fn=<NllLossBackward0>)\n",
      "tensor(1.8015, grad_fn=<NllLossBackward0>)\n",
      "tensor(1.4404, grad_fn=<NllLossBackward0>)\n",
      "tensor(1.5276, grad_fn=<NllLossBackward0>)\n",
      "tensor(1.5710, grad_fn=<NllLossBackward0>)\n",
      "tensor(1.4751, grad_fn=<NllLossBackward0>)\n",
      "tensor(1.2795, grad_fn=<NllLossBackward0>)\n",
      "tensor(1.5562, grad_fn=<NllLossBackward0>)\n",
      "tensor(1.5090, grad_fn=<NllLossBackward0>)\n",
      "tensor(1.3664, grad_fn=<NllLossBackward0>)\n",
      "tensor(1.2677, grad_fn=<NllLossBackward0>)\n",
      "tensor(1.6944, grad_fn=<NllLossBackward0>)\n",
      "tensor(1.4935, grad_fn=<NllLossBackward0>)\n",
      "tensor(1.1588, grad_fn=<NllLossBackward0>)\n",
      "tensor(1.6627, grad_fn=<NllLossBackward0>)\n",
      "tensor(1.7394, grad_fn=<NllLossBackward0>)\n",
      "tensor(1.8234, grad_fn=<NllLossBackward0>)\n",
      "tensor(1.0200, grad_fn=<NllLossBackward0>)\n",
      "tensor(1.6918, grad_fn=<NllLossBackward0>)\n",
      "tensor(1.3955, grad_fn=<NllLossBackward0>)\n",
      "tensor(1.9506, grad_fn=<NllLossBackward0>)\n",
      "tensor(1.3817, grad_fn=<NllLossBackward0>)\n",
      "tensor(1.2567, grad_fn=<NllLossBackward0>)\n",
      "tensor(1.6578, grad_fn=<NllLossBackward0>)\n",
      "tensor(1.4647, grad_fn=<NllLossBackward0>)\n",
      "tensor(1.2214, grad_fn=<NllLossBackward0>)\n",
      "tensor(1.6235, grad_fn=<NllLossBackward0>)\n",
      "tensor(1.1359, grad_fn=<NllLossBackward0>)\n",
      "tensor(1.5037, grad_fn=<NllLossBackward0>)\n",
      "tensor(1.8037, grad_fn=<NllLossBackward0>)\n",
      "tensor(1.0371, grad_fn=<NllLossBackward0>)\n",
      "tensor(1.3729, grad_fn=<NllLossBackward0>)\n",
      "tensor(1.2794, grad_fn=<NllLossBackward0>)\n",
      "tensor(1.3710, grad_fn=<NllLossBackward0>)\n",
      "tensor(1.2483, grad_fn=<NllLossBackward0>)\n",
      "tensor(1.9491, grad_fn=<NllLossBackward0>)\n",
      "tensor(1.6375, grad_fn=<NllLossBackward0>)\n",
      "tensor(1.4050, grad_fn=<NllLossBackward0>)\n",
      "tensor(1.1258, grad_fn=<NllLossBackward0>)\n",
      "tensor(0.9086, grad_fn=<NllLossBackward0>)\n",
      "tensor(1.5421, grad_fn=<NllLossBackward0>)\n",
      "tensor(1.1950, grad_fn=<NllLossBackward0>)\n",
      "tensor(1.0249, grad_fn=<NllLossBackward0>)\n",
      "tensor(1.1714, grad_fn=<NllLossBackward0>)\n",
      "tensor(1.5680, grad_fn=<NllLossBackward0>)\n",
      "tensor(1.3991, grad_fn=<NllLossBackward0>)\n",
      "tensor(1.5314, grad_fn=<NllLossBackward0>)\n",
      "tensor(2.0560, grad_fn=<NllLossBackward0>)\n",
      "tensor(1.3557, grad_fn=<NllLossBackward0>)\n",
      "tensor(1.3742, grad_fn=<NllLossBackward0>)\n",
      "tensor(1.2033, grad_fn=<NllLossBackward0>)\n",
      "tensor(1.0970, grad_fn=<NllLossBackward0>)\n",
      "tensor(1.4077, grad_fn=<NllLossBackward0>)\n",
      "tensor(1.3590, grad_fn=<NllLossBackward0>)\n",
      "tensor(1.3370, grad_fn=<NllLossBackward0>)\n",
      "tensor(1.0654, grad_fn=<NllLossBackward0>)\n",
      "tensor(1.2262, grad_fn=<NllLossBackward0>)\n",
      "tensor(1.7677, grad_fn=<NllLossBackward0>)\n",
      "tensor(1.3160, grad_fn=<NllLossBackward0>)\n",
      "tensor(1.0648, grad_fn=<NllLossBackward0>)\n",
      "tensor(1.2714, grad_fn=<NllLossBackward0>)\n",
      "tensor(1.2747, grad_fn=<NllLossBackward0>)\n",
      "tensor(1.2241, grad_fn=<NllLossBackward0>)\n",
      "tensor(1.0811, grad_fn=<NllLossBackward0>)\n",
      "tensor(1.3675, grad_fn=<NllLossBackward0>)\n",
      "tensor(1.6789, grad_fn=<NllLossBackward0>)\n",
      "tensor(1.6810, grad_fn=<NllLossBackward0>)\n",
      "tensor(1.7035, grad_fn=<NllLossBackward0>)\n",
      "tensor(1.5451, grad_fn=<NllLossBackward0>)\n",
      "tensor(1.3484, grad_fn=<NllLossBackward0>)\n",
      "tensor(1.0820, grad_fn=<NllLossBackward0>)\n",
      "tensor(0.8705, grad_fn=<NllLossBackward0>)\n",
      "tensor(1.2928, grad_fn=<NllLossBackward0>)\n",
      "tensor(1.1266, grad_fn=<NllLossBackward0>)\n",
      "tensor(1.5444, grad_fn=<NllLossBackward0>)\n",
      "tensor(1.1112, grad_fn=<NllLossBackward0>)\n",
      "tensor(1.7162, grad_fn=<NllLossBackward0>)\n",
      "tensor(1.3008, grad_fn=<NllLossBackward0>)\n",
      "tensor(1.3501, grad_fn=<NllLossBackward0>)\n",
      "tensor(1.6367, grad_fn=<NllLossBackward0>)\n",
      "tensor(1.2312, grad_fn=<NllLossBackward0>)\n",
      "tensor(1.3978, grad_fn=<NllLossBackward0>)\n",
      "tensor(1.5015, grad_fn=<NllLossBackward0>)\n",
      "tensor(1.6078, grad_fn=<NllLossBackward0>)\n",
      "tensor(1.8381, grad_fn=<NllLossBackward0>)\n",
      "tensor(1.8732, grad_fn=<NllLossBackward0>)\n",
      "tensor(1.1094, grad_fn=<NllLossBackward0>)\n",
      "tensor(1.1680, grad_fn=<NllLossBackward0>)\n",
      "tensor(1.6286, grad_fn=<NllLossBackward0>)\n",
      "tensor(0.7576, grad_fn=<NllLossBackward0>)\n",
      "tensor(1.5654, grad_fn=<NllLossBackward0>)\n",
      "tensor(1.4995, grad_fn=<NllLossBackward0>)\n",
      "tensor(1.9860, grad_fn=<NllLossBackward0>)\n",
      "tensor(2.0301, grad_fn=<NllLossBackward0>)\n",
      "tensor(1.5912, grad_fn=<NllLossBackward0>)\n",
      "tensor(2.1445, grad_fn=<NllLossBackward0>)\n",
      "tensor(2.0901, grad_fn=<NllLossBackward0>)\n",
      "tensor(2.1913, grad_fn=<NllLossBackward0>)\n",
      "tensor(1.2187, grad_fn=<NllLossBackward0>)\n",
      "tensor(1.7232, grad_fn=<NllLossBackward0>)\n",
      "tensor(1.8312, grad_fn=<NllLossBackward0>)\n",
      "tensor(0.8560, grad_fn=<NllLossBackward0>)\n",
      "tensor(1.5208, grad_fn=<NllLossBackward0>)\n",
      "tensor(1.3258, grad_fn=<NllLossBackward0>)\n",
      "tensor(1.9858, grad_fn=<NllLossBackward0>)\n",
      "tensor(1.9182, grad_fn=<NllLossBackward0>)\n",
      "tensor(1.2857, grad_fn=<NllLossBackward0>)\n",
      "tensor(1.1491, grad_fn=<NllLossBackward0>)\n",
      "tensor(2.2073, grad_fn=<NllLossBackward0>)\n",
      "tensor(1.5728, grad_fn=<NllLossBackward0>)\n",
      "tensor(1.7543, grad_fn=<NllLossBackward0>)\n",
      "tensor(1.9459, grad_fn=<NllLossBackward0>)\n",
      "tensor(1.1656, grad_fn=<NllLossBackward0>)\n",
      "tensor(1.4653, grad_fn=<NllLossBackward0>)\n",
      "tensor(1.2748, grad_fn=<NllLossBackward0>)\n",
      "tensor(1.2759, grad_fn=<NllLossBackward0>)\n",
      "tensor(1.4200, grad_fn=<NllLossBackward0>)\n",
      "tensor(1.9039, grad_fn=<NllLossBackward0>)\n",
      "tensor(1.8235, grad_fn=<NllLossBackward0>)\n",
      "tensor(1.4539, grad_fn=<NllLossBackward0>)\n",
      "tensor(2.0388, grad_fn=<NllLossBackward0>)\n",
      "tensor(1.2795, grad_fn=<NllLossBackward0>)\n",
      "tensor(1.8924, grad_fn=<NllLossBackward0>)\n",
      "tensor(1.6111, grad_fn=<NllLossBackward0>)\n",
      "tensor(1.5657, grad_fn=<NllLossBackward0>)\n",
      "tensor(1.3817, grad_fn=<NllLossBackward0>)\n",
      "tensor(1.5067, grad_fn=<NllLossBackward0>)\n",
      "tensor(2.0634, grad_fn=<NllLossBackward0>)\n",
      "tensor(0.8691, grad_fn=<NllLossBackward0>)\n",
      "tensor(1.3797, grad_fn=<NllLossBackward0>)\n",
      "tensor(0.9779, grad_fn=<NllLossBackward0>)\n",
      "tensor(0.9992, grad_fn=<NllLossBackward0>)\n",
      "tensor(1.6741, grad_fn=<NllLossBackward0>)\n",
      "tensor(1.4879, grad_fn=<NllLossBackward0>)\n",
      "tensor(1.6118, grad_fn=<NllLossBackward0>)\n",
      "tensor(0.9169, grad_fn=<NllLossBackward0>)\n",
      "tensor(1.5941, grad_fn=<NllLossBackward0>)\n",
      "tensor(1.5109, grad_fn=<NllLossBackward0>)\n",
      "tensor(2.4136, grad_fn=<NllLossBackward0>)\n",
      "tensor(1.1021, grad_fn=<NllLossBackward0>)\n",
      "tensor(1.6123, grad_fn=<NllLossBackward0>)\n",
      "tensor(1.3671, grad_fn=<NllLossBackward0>)\n",
      "tensor(1.6001, grad_fn=<NllLossBackward0>)\n",
      "tensor(1.6896, grad_fn=<NllLossBackward0>)\n"
     ]
    },
    {
     "name": "stdout",
     "output_type": "stream",
     "text": [
      "tensor(1.8995, grad_fn=<NllLossBackward0>)\n",
      "tensor(1.1854, grad_fn=<NllLossBackward0>)\n",
      "tensor(1.3488, grad_fn=<NllLossBackward0>)\n",
      "tensor(1.4934, grad_fn=<NllLossBackward0>)\n",
      "tensor(0.8210, grad_fn=<NllLossBackward0>)\n",
      "tensor(1.8624, grad_fn=<NllLossBackward0>)\n",
      "tensor(1.4242, grad_fn=<NllLossBackward0>)\n",
      "tensor(1.5516, grad_fn=<NllLossBackward0>)\n",
      "tensor(1.4622, grad_fn=<NllLossBackward0>)\n",
      "tensor(1.7764, grad_fn=<NllLossBackward0>)\n",
      "tensor(1.3485, grad_fn=<NllLossBackward0>)\n",
      "tensor(1.2544, grad_fn=<NllLossBackward0>)\n",
      "tensor(1.8687, grad_fn=<NllLossBackward0>)\n",
      "tensor(1.4903, grad_fn=<NllLossBackward0>)\n",
      "tensor(1.3386, grad_fn=<NllLossBackward0>)\n",
      "tensor(1.7221, grad_fn=<NllLossBackward0>)\n",
      "tensor(1.2828, grad_fn=<NllLossBackward0>)\n",
      "tensor(1.3327, grad_fn=<NllLossBackward0>)\n",
      "tensor(1.1439, grad_fn=<NllLossBackward0>)\n",
      "tensor(1.0899, grad_fn=<NllLossBackward0>)\n",
      "tensor(1.3365, grad_fn=<NllLossBackward0>)\n",
      "tensor(1.7816, grad_fn=<NllLossBackward0>)\n",
      "tensor(1.2350, grad_fn=<NllLossBackward0>)\n",
      "tensor(1.1894, grad_fn=<NllLossBackward0>)\n",
      "tensor(1.5073, grad_fn=<NllLossBackward0>)\n",
      "tensor(1.1912, grad_fn=<NllLossBackward0>)\n",
      "tensor(1.3250, grad_fn=<NllLossBackward0>)\n",
      "tensor(1.4205, grad_fn=<NllLossBackward0>)\n",
      "tensor(1.9183, grad_fn=<NllLossBackward0>)\n",
      "tensor(1.3476, grad_fn=<NllLossBackward0>)\n",
      "tensor(2.0036, grad_fn=<NllLossBackward0>)\n",
      "tensor(1.2712, grad_fn=<NllLossBackward0>)\n",
      "tensor(2.3153, grad_fn=<NllLossBackward0>)\n",
      "tensor(1.5777, grad_fn=<NllLossBackward0>)\n",
      "tensor(1.3102, grad_fn=<NllLossBackward0>)\n",
      "tensor(1.3557, grad_fn=<NllLossBackward0>)\n",
      "tensor(2.1474, grad_fn=<NllLossBackward0>)\n",
      "tensor(1.8713, grad_fn=<NllLossBackward0>)\n",
      "tensor(1.0990, grad_fn=<NllLossBackward0>)\n",
      "tensor(1.6221, grad_fn=<NllLossBackward0>)\n",
      "tensor(1.4543, grad_fn=<NllLossBackward0>)\n",
      "tensor(1.4212, grad_fn=<NllLossBackward0>)\n",
      "tensor(0.8146, grad_fn=<NllLossBackward0>)\n",
      "tensor(1.3778, grad_fn=<NllLossBackward0>)\n",
      "tensor(1.8089, grad_fn=<NllLossBackward0>)\n",
      "tensor(1.3555, grad_fn=<NllLossBackward0>)\n",
      "tensor(1.4126, grad_fn=<NllLossBackward0>)\n",
      "tensor(1.3547, grad_fn=<NllLossBackward0>)\n",
      "tensor(1.4607, grad_fn=<NllLossBackward0>)\n",
      "tensor(1.3989, grad_fn=<NllLossBackward0>)\n",
      "tensor(1.9179, grad_fn=<NllLossBackward0>)\n",
      "tensor(1.3649, grad_fn=<NllLossBackward0>)\n",
      "tensor(1.6230, grad_fn=<NllLossBackward0>)\n",
      "tensor(0.8057, grad_fn=<NllLossBackward0>)\n",
      "tensor(1.4544, grad_fn=<NllLossBackward0>)\n",
      "tensor(1.5191, grad_fn=<NllLossBackward0>)\n",
      "tensor(1.2375, grad_fn=<NllLossBackward0>)\n",
      "tensor(1.9415, grad_fn=<NllLossBackward0>)\n",
      "tensor(1.1541, grad_fn=<NllLossBackward0>)\n",
      "tensor(1.2715, grad_fn=<NllLossBackward0>)\n",
      "tensor(1.5204, grad_fn=<NllLossBackward0>)\n",
      "tensor(1.5238, grad_fn=<NllLossBackward0>)\n",
      "tensor(1.4596, grad_fn=<NllLossBackward0>)\n",
      "tensor(1.2861, grad_fn=<NllLossBackward0>)\n",
      "tensor(2.0611, grad_fn=<NllLossBackward0>)\n",
      "tensor(1.6646, grad_fn=<NllLossBackward0>)\n",
      "tensor(1.3599, grad_fn=<NllLossBackward0>)\n",
      "tensor(1.8501, grad_fn=<NllLossBackward0>)\n",
      "tensor(1.9392, grad_fn=<NllLossBackward0>)\n",
      "tensor(1.2364, grad_fn=<NllLossBackward0>)\n",
      "tensor(1.0808, grad_fn=<NllLossBackward0>)\n",
      "tensor(1.6477, grad_fn=<NllLossBackward0>)\n",
      "tensor(1.2332, grad_fn=<NllLossBackward0>)\n",
      "tensor(1.5393, grad_fn=<NllLossBackward0>)\n",
      "tensor(1.7577, grad_fn=<NllLossBackward0>)\n",
      "tensor(1.7888, grad_fn=<NllLossBackward0>)\n",
      "tensor(1.1082, grad_fn=<NllLossBackward0>)\n",
      "tensor(1.0021, grad_fn=<NllLossBackward0>)\n",
      "tensor(1.1439, grad_fn=<NllLossBackward0>)\n",
      "tensor(1.5601, grad_fn=<NllLossBackward0>)\n",
      "tensor(1.1759, grad_fn=<NllLossBackward0>)\n",
      "tensor(2.3191, grad_fn=<NllLossBackward0>)\n",
      "tensor(1.3251, grad_fn=<NllLossBackward0>)\n",
      "tensor(1.7360, grad_fn=<NllLossBackward0>)\n",
      "tensor(1.7027, grad_fn=<NllLossBackward0>)\n",
      "tensor(1.7441, grad_fn=<NllLossBackward0>)\n",
      "tensor(1.2055, grad_fn=<NllLossBackward0>)\n",
      "tensor(1.3549, grad_fn=<NllLossBackward0>)\n",
      "tensor(1.6165, grad_fn=<NllLossBackward0>)\n",
      "tensor(1.3896, grad_fn=<NllLossBackward0>)\n",
      "tensor(1.7926, grad_fn=<NllLossBackward0>)\n",
      "tensor(1.5216, grad_fn=<NllLossBackward0>)\n",
      "tensor(1.8216, grad_fn=<NllLossBackward0>)\n",
      "tensor(1.4166, grad_fn=<NllLossBackward0>)\n",
      "tensor(1.0737, grad_fn=<NllLossBackward0>)\n",
      "tensor(1.5497, grad_fn=<NllLossBackward0>)\n",
      "tensor(1.5456, grad_fn=<NllLossBackward0>)\n",
      "tensor(0.9637, grad_fn=<NllLossBackward0>)\n",
      "tensor(1.1179, grad_fn=<NllLossBackward0>)\n",
      "tensor(1.4717, grad_fn=<NllLossBackward0>)\n",
      "tensor(1.7352, grad_fn=<NllLossBackward0>)\n",
      "tensor(1.2788, grad_fn=<NllLossBackward0>)\n",
      "tensor(1.5338, grad_fn=<NllLossBackward0>)\n",
      "tensor(1.6884, grad_fn=<NllLossBackward0>)\n",
      "tensor(1.0100, grad_fn=<NllLossBackward0>)\n",
      "tensor(1.3773, grad_fn=<NllLossBackward0>)\n",
      "tensor(1.3132, grad_fn=<NllLossBackward0>)\n",
      "tensor(0.9719, grad_fn=<NllLossBackward0>)\n",
      "tensor(1.5490, grad_fn=<NllLossBackward0>)\n",
      "tensor(1.5892, grad_fn=<NllLossBackward0>)\n",
      "tensor(1.0232, grad_fn=<NllLossBackward0>)\n",
      "tensor(1.3061, grad_fn=<NllLossBackward0>)\n",
      "tensor(1.4615, grad_fn=<NllLossBackward0>)\n",
      "tensor(1.5890, grad_fn=<NllLossBackward0>)\n",
      "tensor(1.0464, grad_fn=<NllLossBackward0>)\n",
      "tensor(1.6141, grad_fn=<NllLossBackward0>)\n",
      "tensor(1.7054, grad_fn=<NllLossBackward0>)\n",
      "tensor(1.6886, grad_fn=<NllLossBackward0>)\n",
      "tensor(1.3293, grad_fn=<NllLossBackward0>)\n",
      "tensor(1.4280, grad_fn=<NllLossBackward0>)\n",
      "tensor(1.9103, grad_fn=<NllLossBackward0>)\n",
      "tensor(1.4252, grad_fn=<NllLossBackward0>)\n",
      "tensor(1.5265, grad_fn=<NllLossBackward0>)\n"
     ]
    }
   ],
   "source": [
    "model.to(device) # установка модели\n",
    "progress_bar = tqdm(range(num_training_steps)) # прогресс\n",
    "model.train() # установка режима обучения\n",
    "for epoch in range(num_epochs):\n",
    "    epoch_loss, run_loss = 0.0, 0.0 # переменные потерь\n",
    "    for batch in train_dataloader:\n",
    "        batch['labels'][batch['labels']==PAD] = -100 # PAD = 62517\n",
    "        batch = {k: v.to(device) for k, v in batch.items()}\n",
    "        outputs = model(**batch)\n",
    "        loss = outputs.loss\n",
    "        run_loss += loss \n",
    "        loss.backward() # вычисление градиента потери\n",
    "        optimizer.step() # обновляет все параметры, на основе \n",
    "        optimizer.zero_grad() # обнуление градиента \n",
    "        progress_bar.update(1) # шаг обновления прогрессбара\n",
    "        print(outputs.loss)\n",
    "    epoch_loss = run_loss / len(train_dataloader)\n",
    "    print(100*'-')\n",
    "    print(f'Epoch:{epoch + 1}====>Loss:{epoch_loss:.4f}')"
   ]
  },
  {
   "cell_type": "markdown",
   "metadata": {},
   "source": [
    "## Использование полученной модели для перевода"
   ]
  },
  {
   "cell_type": "code",
   "execution_count": 3,
   "metadata": {},
   "outputs": [
    {
     "data": {
      "text/plain": [
       "'Обеспечение онлайновых платежей'"
      ]
     },
     "execution_count": 3,
     "metadata": {},
     "output_type": "execute_result"
    }
   ],
   "source": [
    "def translate(text='Hello, World!'):\n",
    "    input_ids = tokenizer(text, return_tensors=\"pt\").input_ids # Batch size 1\n",
    "    output_ids = model.generate(input_ids)[0]\n",
    "    output = tokenizer.decode(output_ids, skip_special_tokens=True)\n",
    "    return output\n",
    "translate('Security of online payments')"
   ]
  },
  {
   "cell_type": "markdown",
   "metadata": {},
   "source": [
    "## Загрузка модели на сайт"
   ]
  },
  {
   "cell_type": "code",
   "execution_count": null,
   "metadata": {
    "colab": {
     "base_uri": "https://localhost:8080/"
    },
    "id": "OojO4miPppFk",
    "outputId": "d243052f-312e-4fb3-9722-15b89a2a2c2f",
    "scrolled": true
   },
   "outputs": [],
   "source": [
    "# установка пакета\n",
    "# !sudo apt-get install git-lfs"
   ]
  },
  {
   "cell_type": "markdown",
   "metadata": {},
   "source": [
    "**Пример**\n",
    "```\n",
    "Reading package lists... Done\n",
    "Building dependency tree       \n",
    "Reading state information... Done\n",
    "The following NEW packages will be installed:\n",
    "  git-lfs\n",
    "0 upgraded, 1 newly installed, 0 to remove and 40 not upgraded.\n",
    "Need to get 2,129 kB of archives.\n",
    "After this operation, 7,662 kB of additional disk space will be used.\n",
    "Get:1 http://archive.ubuntu.com/ubuntu bionic/universe amd64 git-lfs amd64 2.3.4-1 [2,129 kB]\n",
    "Fetched 2,129 kB in 1s (1,507 kB/s)\n",
    "debconf: unable to initialize frontend: Dialog\n",
    "debconf: (No usable dialog-like program is installed, so the dialog based frontend cannot be used. at /usr/share/perl5/Debconf/FrontEnd/Dialog.pm line 76, <> line 1.)\n",
    "debconf: falling back to frontend: Readline\n",
    "debconf: unable to initialize frontend: Readline\n",
    "debconf: (This frontend requires a controlling tty.)\n",
    "debconf: falling back to frontend: Teletype\n",
    "dpkg-preconfigure: unable to re-open stdin: \n",
    "Selecting previously unselected package git-lfs.\n",
    "(Reading database ... 160837 files and directories currently installed.)\n",
    "Preparing to unpack .../git-lfs_2.3.4-1_amd64.deb ...\n",
    "Unpacking git-lfs (2.3.4-1) ...\n",
    "Setting up git-lfs (2.3.4-1) ...\n",
    "Processing triggers for man-db (2.8.3-2ubuntu0.1) ...\n",
    "```"
   ]
  },
  {
   "cell_type": "code",
   "execution_count": null,
   "metadata": {
    "colab": {
     "base_uri": "https://localhost:8080/"
    },
    "id": "LUqwk6sKan4T",
    "outputId": "8630beb0-458f-484c-f4f4-088512b26cf4",
    "scrolled": true
   },
   "outputs": [],
   "source": [
    "# создание репозитория\n",
    "# !transformers-cli repo create en-to-ru-marianmt"
   ]
  },
  {
   "cell_type": "markdown",
   "metadata": {},
   "source": [
    "**Пример:**\n",
    "```\n",
    "2021-07-31 12:42:52.050182: I tensorflow/stream_executor/platform/default/dso_loader.cc:53] Successfully opened dynamic library libcudart.so.11.0\n",
    "/usr/local/lib/python3.7/dist-packages/transformers/commands/user.py:269: UserWarning: Managing repositories through transformers-cli is deprecated. Please use `huggingface-cli` instead.\n",
    "  \"Managing repositories through transformers-cli is deprecated. Please use `huggingface-cli` instead.\"\n",
    "git version 2.17.1\n",
    "Error: unknown flag: --version\n",
    "\n",
    "Sorry, no usage text found for \"git-lfs\"\n",
    "\n",
    "You are about to create vvn/en-to-dutch-marianmt\n",
    "Proceed? [Y/n] y\n",
    "\n",
    "Your repo now lives at:\n",
    "  https://huggingface.co/vvn/en-to-dutch-marianmt\n",
    "\n",
    "You can clone it locally with the command below, and commit/push as usual.\n",
    "\n",
    "  git clone https://huggingface.co/vvn/en-to-dutch-marianmt\n",
    "```"
   ]
  },
  {
   "cell_type": "code",
   "execution_count": null,
   "metadata": {
    "colab": {
     "base_uri": "https://localhost:8080/"
    },
    "id": "1m1WrLVDarNE",
    "outputId": "c80fdd26-91e3-4ecd-80c4-3a2965d20ff0"
   },
   "outputs": [],
   "source": [
    "# загрузка в репозиторий файла большого размера\n",
    "# !git lfs install"
   ]
  },
  {
   "cell_type": "markdown",
   "metadata": {},
   "source": [
    "**Пример**\n",
    "```\n",
    "Error: Failed to call git rev-parse --git-dir --show-toplevel: \"fatal: not a git repository (or any of the parent directories): .git\\n\"\n",
    "Git LFS initialized.\n",
    "```"
   ]
  },
  {
   "cell_type": "code",
   "execution_count": null,
   "metadata": {
    "id": "KCV7sp_HawKS"
   },
   "outputs": [],
   "source": [
    "# сохранение модели\n",
    "# model.save_pretrained('en-to-ru-marianmt', push_to_hub=True)"
   ]
  },
  {
   "cell_type": "code",
   "execution_count": null,
   "metadata": {
    "colab": {
     "base_uri": "https://localhost:8080/"
    },
    "id": "6P7aImHLazDW",
    "outputId": "90891231-de9c-440f-b3c8-61aa1cc27dd1",
    "scrolled": true
   },
   "outputs": [],
   "source": [
    "# сохранение токенизатора\n",
    "# tokenizer.save_pretrained('en-to-ru-marianmt', push_to_hub=True)"
   ]
  },
  {
   "cell_type": "markdown",
   "metadata": {},
   "source": [
    "**Пример**\n",
    "```\n",
    "('vvn/en-to-dutch-marianmt/tokenizer_config.json',\n",
    " 'vvn/en-to-dutch-marianmt/special_tokens_map.json',\n",
    " PosixPath('vvn/en-to-dutch-marianmt/source_spm'),\n",
    " PosixPath('vvn/en-to-dutch-marianmt/target_spm'),\n",
    " PosixPath('vvn/en-to-dutch-marianmt/vocab'),\n",
    " PosixPath('vvn/en-to-dutch-marianmt/tokenizer_config_file'),\n",
    " 'vvn/en-to-dutch-marianmt/added_tokens.json')\n",
    "```"
   ]
  }
 ],
 "metadata": {
  "accelerator": "GPU",
  "colab": {
   "authorship_tag": "ABX9TyOn0z9WgwL6RzpVIynXYFpo",
   "collapsed_sections": [],
   "name": "Eng_to_dutch_marianmt.ipynb",
   "provenance": []
  },
  "kernelspec": {
   "display_name": "Python 3 (ipykernel)",
   "language": "python",
   "name": "python3"
  },
  "language_info": {
   "codemirror_mode": {
    "name": "ipython",
    "version": 3
   },
   "file_extension": ".py",
   "mimetype": "text/x-python",
   "name": "python",
   "nbconvert_exporter": "python",
   "pygments_lexer": "ipython3",
   "version": "3.9.7"
  },
  "widgets": {
   "application/vnd.jupyter.widget-state+json": {
    "00a838ab7b55497ca11a4b90b8218434": {
     "model_module": "@jupyter-widgets/controls",
     "model_name": "HBoxModel",
     "state": {
      "_dom_classes": [],
      "_model_module": "@jupyter-widgets/controls",
      "_model_module_version": "1.5.0",
      "_model_name": "HBoxModel",
      "_view_count": null,
      "_view_module": "@jupyter-widgets/controls",
      "_view_module_version": "1.5.0",
      "_view_name": "HBoxView",
      "box_style": "",
      "children": [
       "IPY_MODEL_67f0f401cbde4da89d3acbc69650c8a0",
       "IPY_MODEL_f62f2c2d82954fd8aac362e87eeba3f9"
      ],
      "layout": "IPY_MODEL_02847bfc31454a42805dac48b214c48a"
     }
    },
    "00e002ee7e8942d6985748ab85a797cb": {
     "model_module": "@jupyter-widgets/base",
     "model_name": "LayoutModel",
     "state": {
      "_model_module": "@jupyter-widgets/base",
      "_model_module_version": "1.2.0",
      "_model_name": "LayoutModel",
      "_view_count": null,
      "_view_module": "@jupyter-widgets/base",
      "_view_module_version": "1.2.0",
      "_view_name": "LayoutView",
      "align_content": null,
      "align_items": null,
      "align_self": null,
      "border": null,
      "bottom": null,
      "display": null,
      "flex": null,
      "flex_flow": null,
      "grid_area": null,
      "grid_auto_columns": null,
      "grid_auto_flow": null,
      "grid_auto_rows": null,
      "grid_column": null,
      "grid_gap": null,
      "grid_row": null,
      "grid_template_areas": null,
      "grid_template_columns": null,
      "grid_template_rows": null,
      "height": null,
      "justify_content": null,
      "justify_items": null,
      "left": null,
      "margin": null,
      "max_height": null,
      "max_width": null,
      "min_height": null,
      "min_width": null,
      "object_fit": null,
      "object_position": null,
      "order": null,
      "overflow": null,
      "overflow_x": null,
      "overflow_y": null,
      "padding": null,
      "right": null,
      "top": null,
      "visibility": null,
      "width": null
     }
    },
    "013627b5f9d04e5ebfb73f93215f0fd9": {
     "model_module": "@jupyter-widgets/controls",
     "model_name": "HTMLModel",
     "state": {
      "_dom_classes": [],
      "_model_module": "@jupyter-widgets/controls",
      "_model_module_version": "1.5.0",
      "_model_name": "HTMLModel",
      "_view_count": null,
      "_view_module": "@jupyter-widgets/controls",
      "_view_module_version": "1.5.0",
      "_view_name": "HTMLView",
      "description": "",
      "description_tooltip": null,
      "layout": "IPY_MODEL_674a6fd8ef264e62a34b0c1da5734eb0",
      "placeholder": "​",
      "style": "IPY_MODEL_da656f2a4789462eabfbfe2aa4d3b873",
      "value": " 79/79 [00:32&lt;00:00,  2.43ba/s]"
     }
    },
    "01559d5f323e4fe98f767f82e3c3f64c": {
     "model_module": "@jupyter-widgets/controls",
     "model_name": "DescriptionStyleModel",
     "state": {
      "_model_module": "@jupyter-widgets/controls",
      "_model_module_version": "1.5.0",
      "_model_name": "DescriptionStyleModel",
      "_view_count": null,
      "_view_module": "@jupyter-widgets/base",
      "_view_module_version": "1.2.0",
      "_view_name": "StyleView",
      "description_width": ""
     }
    },
    "02847bfc31454a42805dac48b214c48a": {
     "model_module": "@jupyter-widgets/base",
     "model_name": "LayoutModel",
     "state": {
      "_model_module": "@jupyter-widgets/base",
      "_model_module_version": "1.2.0",
      "_model_name": "LayoutModel",
      "_view_count": null,
      "_view_module": "@jupyter-widgets/base",
      "_view_module_version": "1.2.0",
      "_view_name": "LayoutView",
      "align_content": null,
      "align_items": null,
      "align_self": null,
      "border": null,
      "bottom": null,
      "display": null,
      "flex": null,
      "flex_flow": null,
      "grid_area": null,
      "grid_auto_columns": null,
      "grid_auto_flow": null,
      "grid_auto_rows": null,
      "grid_column": null,
      "grid_gap": null,
      "grid_row": null,
      "grid_template_areas": null,
      "grid_template_columns": null,
      "grid_template_rows": null,
      "height": null,
      "justify_content": null,
      "justify_items": null,
      "left": null,
      "margin": null,
      "max_height": null,
      "max_width": null,
      "min_height": null,
      "min_width": null,
      "object_fit": null,
      "object_position": null,
      "order": null,
      "overflow": null,
      "overflow_x": null,
      "overflow_y": null,
      "padding": null,
      "right": null,
      "top": null,
      "visibility": null,
      "width": null
     }
    },
    "04995a4d9f104237a24f6bf2e3a2ccb2": {
     "model_module": "@jupyter-widgets/controls",
     "model_name": "HTMLModel",
     "state": {
      "_dom_classes": [],
      "_model_module": "@jupyter-widgets/controls",
      "_model_module_version": "1.5.0",
      "_model_name": "HTMLModel",
      "_view_count": null,
      "_view_module": "@jupyter-widgets/controls",
      "_view_module_version": "1.5.0",
      "_view_name": "HTMLView",
      "description": "",
      "description_tooltip": null,
      "layout": "IPY_MODEL_98be713009544d038f6cff2ab9158acd",
      "placeholder": "​",
      "style": "IPY_MODEL_ee84a9583ed8411fadac3b2fd0471420",
      "value": " 814k/814k [00:00&lt;00:00, 926kB/s]"
     }
    },
    "06123d1283924d51846cc92b5e78f8eb": {
     "model_module": "@jupyter-widgets/controls",
     "model_name": "HBoxModel",
     "state": {
      "_dom_classes": [],
      "_model_module": "@jupyter-widgets/controls",
      "_model_module_version": "1.5.0",
      "_model_name": "HBoxModel",
      "_view_count": null,
      "_view_module": "@jupyter-widgets/controls",
      "_view_module_version": "1.5.0",
      "_view_name": "HBoxView",
      "box_style": "",
      "children": [
       "IPY_MODEL_eef750ea6dbd40e5b41a84aae8ffa0cc",
       "IPY_MODEL_a3fd2be427b44a94bc1a0817dff0144d"
      ],
      "layout": "IPY_MODEL_00e002ee7e8942d6985748ab85a797cb"
     }
    },
    "0f8270821ebf4f8d9c69f387f18ca178": {
     "model_module": "@jupyter-widgets/controls",
     "model_name": "ProgressStyleModel",
     "state": {
      "_model_module": "@jupyter-widgets/controls",
      "_model_module_version": "1.5.0",
      "_model_name": "ProgressStyleModel",
      "_view_count": null,
      "_view_module": "@jupyter-widgets/base",
      "_view_module_version": "1.2.0",
      "_view_name": "StyleView",
      "bar_color": null,
      "description_width": "initial"
     }
    },
    "1101f3cbe48b44a0ad84b355b083e67a": {
     "model_module": "@jupyter-widgets/controls",
     "model_name": "FloatProgressModel",
     "state": {
      "_dom_classes": [],
      "_model_module": "@jupyter-widgets/controls",
      "_model_module_version": "1.5.0",
      "_model_name": "FloatProgressModel",
      "_view_count": null,
      "_view_module": "@jupyter-widgets/controls",
      "_view_module_version": "1.5.0",
      "_view_name": "ProgressView",
      "bar_style": "success",
      "description": "Downloading: 100%",
      "description_tooltip": null,
      "layout": "IPY_MODEL_303c22c57f4540a1a7c0c152890e59d2",
      "max": 1660216,
      "min": 0,
      "orientation": "horizontal",
      "style": "IPY_MODEL_f59f588ea54e4c69a125c93c7909690c",
      "value": 1660216
     }
    },
    "1266bd441878459782118960822a76c1": {
     "model_module": "@jupyter-widgets/base",
     "model_name": "LayoutModel",
     "state": {
      "_model_module": "@jupyter-widgets/base",
      "_model_module_version": "1.2.0",
      "_model_name": "LayoutModel",
      "_view_count": null,
      "_view_module": "@jupyter-widgets/base",
      "_view_module_version": "1.2.0",
      "_view_name": "LayoutView",
      "align_content": null,
      "align_items": null,
      "align_self": null,
      "border": null,
      "bottom": null,
      "display": null,
      "flex": null,
      "flex_flow": null,
      "grid_area": null,
      "grid_auto_columns": null,
      "grid_auto_flow": null,
      "grid_auto_rows": null,
      "grid_column": null,
      "grid_gap": null,
      "grid_row": null,
      "grid_template_areas": null,
      "grid_template_columns": null,
      "grid_template_rows": null,
      "height": null,
      "justify_content": null,
      "justify_items": null,
      "left": null,
      "margin": null,
      "max_height": null,
      "max_width": null,
      "min_height": null,
      "min_width": null,
      "object_fit": null,
      "object_position": null,
      "order": null,
      "overflow": null,
      "overflow_x": null,
      "overflow_y": null,
      "padding": null,
      "right": null,
      "top": null,
      "visibility": null,
      "width": null
     }
    },
    "1d1cdc3c279e44eba322a9a5ee86a12c": {
     "model_module": "@jupyter-widgets/controls",
     "model_name": "HBoxModel",
     "state": {
      "_dom_classes": [],
      "_model_module": "@jupyter-widgets/controls",
      "_model_module_version": "1.5.0",
      "_model_name": "HBoxModel",
      "_view_count": null,
      "_view_module": "@jupyter-widgets/controls",
      "_view_module_version": "1.5.0",
      "_view_name": "HBoxView",
      "box_style": "",
      "children": [
       "IPY_MODEL_7683475738a04071812732ed19822efc",
       "IPY_MODEL_f0fe69b54c9e45129ba4d839ff4d0e5e"
      ],
      "layout": "IPY_MODEL_1266bd441878459782118960822a76c1"
     }
    },
    "1f4c23fa77c94e6097beae421d7927f7": {
     "model_module": "@jupyter-widgets/controls",
     "model_name": "HBoxModel",
     "state": {
      "_dom_classes": [],
      "_model_module": "@jupyter-widgets/controls",
      "_model_module_version": "1.5.0",
      "_model_name": "HBoxModel",
      "_view_count": null,
      "_view_module": "@jupyter-widgets/controls",
      "_view_module_version": "1.5.0",
      "_view_name": "HBoxView",
      "box_style": "",
      "children": [
       "IPY_MODEL_cfe8eddf3d7a4b87993d904e74d0f18f",
       "IPY_MODEL_7479c74ba9e246e787614113b5236ae1"
      ],
      "layout": "IPY_MODEL_dfe7d047f1324d2385a795e481e320ef"
     }
    },
    "1f6eb2fa496b4e71a62dd06251d87b8e": {
     "model_module": "@jupyter-widgets/base",
     "model_name": "LayoutModel",
     "state": {
      "_model_module": "@jupyter-widgets/base",
      "_model_module_version": "1.2.0",
      "_model_name": "LayoutModel",
      "_view_count": null,
      "_view_module": "@jupyter-widgets/base",
      "_view_module_version": "1.2.0",
      "_view_name": "LayoutView",
      "align_content": null,
      "align_items": null,
      "align_self": null,
      "border": null,
      "bottom": null,
      "display": null,
      "flex": null,
      "flex_flow": null,
      "grid_area": null,
      "grid_auto_columns": null,
      "grid_auto_flow": null,
      "grid_auto_rows": null,
      "grid_column": null,
      "grid_gap": null,
      "grid_row": null,
      "grid_template_areas": null,
      "grid_template_columns": null,
      "grid_template_rows": null,
      "height": null,
      "justify_content": null,
      "justify_items": null,
      "left": null,
      "margin": null,
      "max_height": null,
      "max_width": null,
      "min_height": null,
      "min_width": null,
      "object_fit": null,
      "object_position": null,
      "order": null,
      "overflow": null,
      "overflow_x": null,
      "overflow_y": null,
      "padding": null,
      "right": null,
      "top": null,
      "visibility": null,
      "width": null
     }
    },
    "20bfb38681f442aca8176a5388522364": {
     "model_module": "@jupyter-widgets/base",
     "model_name": "LayoutModel",
     "state": {
      "_model_module": "@jupyter-widgets/base",
      "_model_module_version": "1.2.0",
      "_model_name": "LayoutModel",
      "_view_count": null,
      "_view_module": "@jupyter-widgets/base",
      "_view_module_version": "1.2.0",
      "_view_name": "LayoutView",
      "align_content": null,
      "align_items": null,
      "align_self": null,
      "border": null,
      "bottom": null,
      "display": null,
      "flex": null,
      "flex_flow": null,
      "grid_area": null,
      "grid_auto_columns": null,
      "grid_auto_flow": null,
      "grid_auto_rows": null,
      "grid_column": null,
      "grid_gap": null,
      "grid_row": null,
      "grid_template_areas": null,
      "grid_template_columns": null,
      "grid_template_rows": null,
      "height": null,
      "justify_content": null,
      "justify_items": null,
      "left": null,
      "margin": null,
      "max_height": null,
      "max_width": null,
      "min_height": null,
      "min_width": null,
      "object_fit": null,
      "object_position": null,
      "order": null,
      "overflow": null,
      "overflow_x": null,
      "overflow_y": null,
      "padding": null,
      "right": null,
      "top": null,
      "visibility": null,
      "width": null
     }
    },
    "27fa03f9bfa64667b5301171ba256b83": {
     "model_module": "@jupyter-widgets/controls",
     "model_name": "HBoxModel",
     "state": {
      "_dom_classes": [],
      "_model_module": "@jupyter-widgets/controls",
      "_model_module_version": "1.5.0",
      "_model_name": "HBoxModel",
      "_view_count": null,
      "_view_module": "@jupyter-widgets/controls",
      "_view_module_version": "1.5.0",
      "_view_name": "HBoxView",
      "box_style": "",
      "children": [
       "IPY_MODEL_1101f3cbe48b44a0ad84b355b083e67a",
       "IPY_MODEL_5d5a4b4281834ffeaae24a6b9a91d7e4"
      ],
      "layout": "IPY_MODEL_dd31e0d0a801407c9143750f7d970a75"
     }
    },
    "2e33a7fc8d19445992d5b6072161daab": {
     "model_module": "@jupyter-widgets/controls",
     "model_name": "ProgressStyleModel",
     "state": {
      "_model_module": "@jupyter-widgets/controls",
      "_model_module_version": "1.5.0",
      "_model_name": "ProgressStyleModel",
      "_view_count": null,
      "_view_module": "@jupyter-widgets/base",
      "_view_module_version": "1.2.0",
      "_view_name": "StyleView",
      "bar_color": null,
      "description_width": "initial"
     }
    },
    "2ea1edb39bec472392759a73863ca9c0": {
     "model_module": "@jupyter-widgets/controls",
     "model_name": "ProgressStyleModel",
     "state": {
      "_model_module": "@jupyter-widgets/controls",
      "_model_module_version": "1.5.0",
      "_model_name": "ProgressStyleModel",
      "_view_count": null,
      "_view_module": "@jupyter-widgets/base",
      "_view_module_version": "1.2.0",
      "_view_name": "StyleView",
      "bar_color": null,
      "description_width": "initial"
     }
    },
    "2f19e47095a549c2988f7e8112712faf": {
     "model_module": "@jupyter-widgets/controls",
     "model_name": "HBoxModel",
     "state": {
      "_dom_classes": [],
      "_model_module": "@jupyter-widgets/controls",
      "_model_module_version": "1.5.0",
      "_model_name": "HBoxModel",
      "_view_count": null,
      "_view_module": "@jupyter-widgets/controls",
      "_view_module_version": "1.5.0",
      "_view_name": "HBoxView",
      "box_style": "",
      "children": [
       "IPY_MODEL_5dde82cbe93c4169a7685c7f3b60eee1",
       "IPY_MODEL_7a7a845b9ac04cae8c3a70c3e1b28f57"
      ],
      "layout": "IPY_MODEL_20bfb38681f442aca8176a5388522364"
     }
    },
    "303c22c57f4540a1a7c0c152890e59d2": {
     "model_module": "@jupyter-widgets/base",
     "model_name": "LayoutModel",
     "state": {
      "_model_module": "@jupyter-widgets/base",
      "_model_module_version": "1.2.0",
      "_model_name": "LayoutModel",
      "_view_count": null,
      "_view_module": "@jupyter-widgets/base",
      "_view_module_version": "1.2.0",
      "_view_name": "LayoutView",
      "align_content": null,
      "align_items": null,
      "align_self": null,
      "border": null,
      "bottom": null,
      "display": null,
      "flex": null,
      "flex_flow": null,
      "grid_area": null,
      "grid_auto_columns": null,
      "grid_auto_flow": null,
      "grid_auto_rows": null,
      "grid_column": null,
      "grid_gap": null,
      "grid_row": null,
      "grid_template_areas": null,
      "grid_template_columns": null,
      "grid_template_rows": null,
      "height": null,
      "justify_content": null,
      "justify_items": null,
      "left": null,
      "margin": null,
      "max_height": null,
      "max_width": null,
      "min_height": null,
      "min_width": null,
      "object_fit": null,
      "object_position": null,
      "order": null,
      "overflow": null,
      "overflow_x": null,
      "overflow_y": null,
      "padding": null,
      "right": null,
      "top": null,
      "visibility": null,
      "width": null
     }
    },
    "36034963b9fe4648a3e3a1801fe078bb": {
     "model_module": "@jupyter-widgets/base",
     "model_name": "LayoutModel",
     "state": {
      "_model_module": "@jupyter-widgets/base",
      "_model_module_version": "1.2.0",
      "_model_name": "LayoutModel",
      "_view_count": null,
      "_view_module": "@jupyter-widgets/base",
      "_view_module_version": "1.2.0",
      "_view_name": "LayoutView",
      "align_content": null,
      "align_items": null,
      "align_self": null,
      "border": null,
      "bottom": null,
      "display": null,
      "flex": null,
      "flex_flow": null,
      "grid_area": null,
      "grid_auto_columns": null,
      "grid_auto_flow": null,
      "grid_auto_rows": null,
      "grid_column": null,
      "grid_gap": null,
      "grid_row": null,
      "grid_template_areas": null,
      "grid_template_columns": null,
      "grid_template_rows": null,
      "height": null,
      "justify_content": null,
      "justify_items": null,
      "left": null,
      "margin": null,
      "max_height": null,
      "max_width": null,
      "min_height": null,
      "min_width": null,
      "object_fit": null,
      "object_position": null,
      "order": null,
      "overflow": null,
      "overflow_x": null,
      "overflow_y": null,
      "padding": null,
      "right": null,
      "top": null,
      "visibility": null,
      "width": null
     }
    },
    "3f19581f8f9746508959b2e6b40f140f": {
     "model_module": "@jupyter-widgets/controls",
     "model_name": "DescriptionStyleModel",
     "state": {
      "_model_module": "@jupyter-widgets/controls",
      "_model_module_version": "1.5.0",
      "_model_name": "DescriptionStyleModel",
      "_view_count": null,
      "_view_module": "@jupyter-widgets/base",
      "_view_module_version": "1.2.0",
      "_view_name": "StyleView",
      "description_width": ""
     }
    },
    "3f1a343fa7b940e8920564237d1ae4ee": {
     "model_module": "@jupyter-widgets/controls",
     "model_name": "DescriptionStyleModel",
     "state": {
      "_model_module": "@jupyter-widgets/controls",
      "_model_module_version": "1.5.0",
      "_model_name": "DescriptionStyleModel",
      "_view_count": null,
      "_view_module": "@jupyter-widgets/base",
      "_view_module_version": "1.2.0",
      "_view_name": "StyleView",
      "description_width": ""
     }
    },
    "5327674e8beb44d99e7ce50b0ef0b3ca": {
     "model_module": "@jupyter-widgets/base",
     "model_name": "LayoutModel",
     "state": {
      "_model_module": "@jupyter-widgets/base",
      "_model_module_version": "1.2.0",
      "_model_name": "LayoutModel",
      "_view_count": null,
      "_view_module": "@jupyter-widgets/base",
      "_view_module_version": "1.2.0",
      "_view_name": "LayoutView",
      "align_content": null,
      "align_items": null,
      "align_self": null,
      "border": null,
      "bottom": null,
      "display": null,
      "flex": null,
      "flex_flow": null,
      "grid_area": null,
      "grid_auto_columns": null,
      "grid_auto_flow": null,
      "grid_auto_rows": null,
      "grid_column": null,
      "grid_gap": null,
      "grid_row": null,
      "grid_template_areas": null,
      "grid_template_columns": null,
      "grid_template_rows": null,
      "height": null,
      "justify_content": null,
      "justify_items": null,
      "left": null,
      "margin": null,
      "max_height": null,
      "max_width": null,
      "min_height": null,
      "min_width": null,
      "object_fit": null,
      "object_position": null,
      "order": null,
      "overflow": null,
      "overflow_x": null,
      "overflow_y": null,
      "padding": null,
      "right": null,
      "top": null,
      "visibility": null,
      "width": null
     }
    },
    "5498c93002c3472eaa8c88a687a83cd1": {
     "model_module": "@jupyter-widgets/base",
     "model_name": "LayoutModel",
     "state": {
      "_model_module": "@jupyter-widgets/base",
      "_model_module_version": "1.2.0",
      "_model_name": "LayoutModel",
      "_view_count": null,
      "_view_module": "@jupyter-widgets/base",
      "_view_module_version": "1.2.0",
      "_view_name": "LayoutView",
      "align_content": null,
      "align_items": null,
      "align_self": null,
      "border": null,
      "bottom": null,
      "display": null,
      "flex": null,
      "flex_flow": null,
      "grid_area": null,
      "grid_auto_columns": null,
      "grid_auto_flow": null,
      "grid_auto_rows": null,
      "grid_column": null,
      "grid_gap": null,
      "grid_row": null,
      "grid_template_areas": null,
      "grid_template_columns": null,
      "grid_template_rows": null,
      "height": null,
      "justify_content": null,
      "justify_items": null,
      "left": null,
      "margin": null,
      "max_height": null,
      "max_width": null,
      "min_height": null,
      "min_width": null,
      "object_fit": null,
      "object_position": null,
      "order": null,
      "overflow": null,
      "overflow_x": null,
      "overflow_y": null,
      "padding": null,
      "right": null,
      "top": null,
      "visibility": null,
      "width": null
     }
    },
    "572d12cabc434a6998d90b448caa78d6": {
     "model_module": "@jupyter-widgets/base",
     "model_name": "LayoutModel",
     "state": {
      "_model_module": "@jupyter-widgets/base",
      "_model_module_version": "1.2.0",
      "_model_name": "LayoutModel",
      "_view_count": null,
      "_view_module": "@jupyter-widgets/base",
      "_view_module_version": "1.2.0",
      "_view_name": "LayoutView",
      "align_content": null,
      "align_items": null,
      "align_self": null,
      "border": null,
      "bottom": null,
      "display": null,
      "flex": null,
      "flex_flow": null,
      "grid_area": null,
      "grid_auto_columns": null,
      "grid_auto_flow": null,
      "grid_auto_rows": null,
      "grid_column": null,
      "grid_gap": null,
      "grid_row": null,
      "grid_template_areas": null,
      "grid_template_columns": null,
      "grid_template_rows": null,
      "height": null,
      "justify_content": null,
      "justify_items": null,
      "left": null,
      "margin": null,
      "max_height": null,
      "max_width": null,
      "min_height": null,
      "min_width": null,
      "object_fit": null,
      "object_position": null,
      "order": null,
      "overflow": null,
      "overflow_x": null,
      "overflow_y": null,
      "padding": null,
      "right": null,
      "top": null,
      "visibility": null,
      "width": null
     }
    },
    "5987d744f0fb461a8a68892599b8713d": {
     "model_module": "@jupyter-widgets/base",
     "model_name": "LayoutModel",
     "state": {
      "_model_module": "@jupyter-widgets/base",
      "_model_module_version": "1.2.0",
      "_model_name": "LayoutModel",
      "_view_count": null,
      "_view_module": "@jupyter-widgets/base",
      "_view_module_version": "1.2.0",
      "_view_name": "LayoutView",
      "align_content": null,
      "align_items": null,
      "align_self": null,
      "border": null,
      "bottom": null,
      "display": null,
      "flex": null,
      "flex_flow": null,
      "grid_area": null,
      "grid_auto_columns": null,
      "grid_auto_flow": null,
      "grid_auto_rows": null,
      "grid_column": null,
      "grid_gap": null,
      "grid_row": null,
      "grid_template_areas": null,
      "grid_template_columns": null,
      "grid_template_rows": null,
      "height": null,
      "justify_content": null,
      "justify_items": null,
      "left": null,
      "margin": null,
      "max_height": null,
      "max_width": null,
      "min_height": null,
      "min_width": null,
      "object_fit": null,
      "object_position": null,
      "order": null,
      "overflow": null,
      "overflow_x": null,
      "overflow_y": null,
      "padding": null,
      "right": null,
      "top": null,
      "visibility": null,
      "width": null
     }
    },
    "5d5a4b4281834ffeaae24a6b9a91d7e4": {
     "model_module": "@jupyter-widgets/controls",
     "model_name": "HTMLModel",
     "state": {
      "_dom_classes": [],
      "_model_module": "@jupyter-widgets/controls",
      "_model_module_version": "1.5.0",
      "_model_name": "HTMLModel",
      "_view_count": null,
      "_view_module": "@jupyter-widgets/controls",
      "_view_module_version": "1.5.0",
      "_view_name": "HTMLView",
      "description": "",
      "description_tooltip": null,
      "layout": "IPY_MODEL_7107b9dc49834c13bdc2413df22cb838",
      "placeholder": "​",
      "style": "IPY_MODEL_3f19581f8f9746508959b2e6b40f140f",
      "value": " 1.66M/1.66M [00:02&lt;00:00, 626kB/s]"
     }
    },
    "5dde82cbe93c4169a7685c7f3b60eee1": {
     "model_module": "@jupyter-widgets/controls",
     "model_name": "FloatProgressModel",
     "state": {
      "_dom_classes": [],
      "_model_module": "@jupyter-widgets/controls",
      "_model_module_version": "1.5.0",
      "_model_name": "FloatProgressModel",
      "_view_count": null,
      "_view_module": "@jupyter-widgets/controls",
      "_view_module_version": "1.5.0",
      "_view_name": "ProgressView",
      "bar_style": "success",
      "description": "Downloading: 100%",
      "description_tooltip": null,
      "layout": "IPY_MODEL_d3d6975382774e01b21c3f2a906e134b",
      "max": 1132,
      "min": 0,
      "orientation": "horizontal",
      "style": "IPY_MODEL_c8b730694b4446c487afe76c918301d5",
      "value": 1132
     }
    },
    "63f3b2007da24c6682b3019fea89d5c1": {
     "model_module": "@jupyter-widgets/controls",
     "model_name": "ProgressStyleModel",
     "state": {
      "_model_module": "@jupyter-widgets/controls",
      "_model_module_version": "1.5.0",
      "_model_name": "ProgressStyleModel",
      "_view_count": null,
      "_view_module": "@jupyter-widgets/base",
      "_view_module_version": "1.2.0",
      "_view_name": "StyleView",
      "bar_color": null,
      "description_width": "initial"
     }
    },
    "674a6fd8ef264e62a34b0c1da5734eb0": {
     "model_module": "@jupyter-widgets/base",
     "model_name": "LayoutModel",
     "state": {
      "_model_module": "@jupyter-widgets/base",
      "_model_module_version": "1.2.0",
      "_model_name": "LayoutModel",
      "_view_count": null,
      "_view_module": "@jupyter-widgets/base",
      "_view_module_version": "1.2.0",
      "_view_name": "LayoutView",
      "align_content": null,
      "align_items": null,
      "align_self": null,
      "border": null,
      "bottom": null,
      "display": null,
      "flex": null,
      "flex_flow": null,
      "grid_area": null,
      "grid_auto_columns": null,
      "grid_auto_flow": null,
      "grid_auto_rows": null,
      "grid_column": null,
      "grid_gap": null,
      "grid_row": null,
      "grid_template_areas": null,
      "grid_template_columns": null,
      "grid_template_rows": null,
      "height": null,
      "justify_content": null,
      "justify_items": null,
      "left": null,
      "margin": null,
      "max_height": null,
      "max_width": null,
      "min_height": null,
      "min_width": null,
      "object_fit": null,
      "object_position": null,
      "order": null,
      "overflow": null,
      "overflow_x": null,
      "overflow_y": null,
      "padding": null,
      "right": null,
      "top": null,
      "visibility": null,
      "width": null
     }
    },
    "67f0f401cbde4da89d3acbc69650c8a0": {
     "model_module": "@jupyter-widgets/controls",
     "model_name": "FloatProgressModel",
     "state": {
      "_dom_classes": [],
      "_model_module": "@jupyter-widgets/controls",
      "_model_module_version": "1.5.0",
      "_model_name": "FloatProgressModel",
      "_view_count": null,
      "_view_module": "@jupyter-widgets/controls",
      "_view_module_version": "1.5.0",
      "_view_name": "ProgressView",
      "bar_style": "",
      "description": "100%",
      "description_tooltip": null,
      "layout": "IPY_MODEL_f1e277cc10304b8c90398b3215c63cd7",
      "max": 19698,
      "min": 0,
      "orientation": "horizontal",
      "style": "IPY_MODEL_2ea1edb39bec472392759a73863ca9c0",
      "value": 19698
     }
    },
    "6a8286497e2d43559ef4407fd2480f51": {
     "model_module": "@jupyter-widgets/controls",
     "model_name": "HBoxModel",
     "state": {
      "_dom_classes": [],
      "_model_module": "@jupyter-widgets/controls",
      "_model_module_version": "1.5.0",
      "_model_name": "HBoxModel",
      "_view_count": null,
      "_view_module": "@jupyter-widgets/controls",
      "_view_module_version": "1.5.0",
      "_view_name": "HBoxView",
      "box_style": "",
      "children": [
       "IPY_MODEL_87c8e143d2064f5ca5c09ab2d22c141f",
       "IPY_MODEL_013627b5f9d04e5ebfb73f93215f0fd9"
      ],
      "layout": "IPY_MODEL_d92f40c1f86e4984b24ab37a24015132"
     }
    },
    "6ba35d2e61344c0a858e880f799758ab": {
     "model_module": "@jupyter-widgets/controls",
     "model_name": "DescriptionStyleModel",
     "state": {
      "_model_module": "@jupyter-widgets/controls",
      "_model_module_version": "1.5.0",
      "_model_name": "DescriptionStyleModel",
      "_view_count": null,
      "_view_module": "@jupyter-widgets/base",
      "_view_module_version": "1.2.0",
      "_view_name": "StyleView",
      "description_width": ""
     }
    },
    "7107b9dc49834c13bdc2413df22cb838": {
     "model_module": "@jupyter-widgets/base",
     "model_name": "LayoutModel",
     "state": {
      "_model_module": "@jupyter-widgets/base",
      "_model_module_version": "1.2.0",
      "_model_name": "LayoutModel",
      "_view_count": null,
      "_view_module": "@jupyter-widgets/base",
      "_view_module_version": "1.2.0",
      "_view_name": "LayoutView",
      "align_content": null,
      "align_items": null,
      "align_self": null,
      "border": null,
      "bottom": null,
      "display": null,
      "flex": null,
      "flex_flow": null,
      "grid_area": null,
      "grid_auto_columns": null,
      "grid_auto_flow": null,
      "grid_auto_rows": null,
      "grid_column": null,
      "grid_gap": null,
      "grid_row": null,
      "grid_template_areas": null,
      "grid_template_columns": null,
      "grid_template_rows": null,
      "height": null,
      "justify_content": null,
      "justify_items": null,
      "left": null,
      "margin": null,
      "max_height": null,
      "max_width": null,
      "min_height": null,
      "min_width": null,
      "object_fit": null,
      "object_position": null,
      "order": null,
      "overflow": null,
      "overflow_x": null,
      "overflow_y": null,
      "padding": null,
      "right": null,
      "top": null,
      "visibility": null,
      "width": null
     }
    },
    "7303fba5f33f4e1f8f86d0a947a87767": {
     "model_module": "@jupyter-widgets/base",
     "model_name": "LayoutModel",
     "state": {
      "_model_module": "@jupyter-widgets/base",
      "_model_module_version": "1.2.0",
      "_model_name": "LayoutModel",
      "_view_count": null,
      "_view_module": "@jupyter-widgets/base",
      "_view_module_version": "1.2.0",
      "_view_name": "LayoutView",
      "align_content": null,
      "align_items": null,
      "align_self": null,
      "border": null,
      "bottom": null,
      "display": null,
      "flex": null,
      "flex_flow": null,
      "grid_area": null,
      "grid_auto_columns": null,
      "grid_auto_flow": null,
      "grid_auto_rows": null,
      "grid_column": null,
      "grid_gap": null,
      "grid_row": null,
      "grid_template_areas": null,
      "grid_template_columns": null,
      "grid_template_rows": null,
      "height": null,
      "justify_content": null,
      "justify_items": null,
      "left": null,
      "margin": null,
      "max_height": null,
      "max_width": null,
      "min_height": null,
      "min_width": null,
      "object_fit": null,
      "object_position": null,
      "order": null,
      "overflow": null,
      "overflow_x": null,
      "overflow_y": null,
      "padding": null,
      "right": null,
      "top": null,
      "visibility": null,
      "width": null
     }
    },
    "7479c74ba9e246e787614113b5236ae1": {
     "model_module": "@jupyter-widgets/controls",
     "model_name": "HTMLModel",
     "state": {
      "_dom_classes": [],
      "_model_module": "@jupyter-widgets/controls",
      "_model_module_version": "1.5.0",
      "_model_name": "HTMLModel",
      "_view_count": null,
      "_view_module": "@jupyter-widgets/controls",
      "_view_module_version": "1.5.0",
      "_view_name": "HTMLView",
      "description": "",
      "description_tooltip": null,
      "layout": "IPY_MODEL_8ef309208b614942a8ac0681a80478e9",
      "placeholder": "​",
      "style": "IPY_MODEL_eac1c0b89bc34234b91ddd5189f577f5",
      "value": " 316M/316M [00:08&lt;00:00, 38.2MB/s]"
     }
    },
    "7683475738a04071812732ed19822efc": {
     "model_module": "@jupyter-widgets/controls",
     "model_name": "FloatProgressModel",
     "state": {
      "_dom_classes": [],
      "_model_module": "@jupyter-widgets/controls",
      "_model_module_version": "1.5.0",
      "_model_name": "FloatProgressModel",
      "_view_count": null,
      "_view_module": "@jupyter-widgets/controls",
      "_view_module_version": "1.5.0",
      "_view_name": "ProgressView",
      "bar_style": "success",
      "description": "100%",
      "description_tooltip": null,
      "layout": "IPY_MODEL_db90524b7385413d8f2091489526c7a3",
      "max": 20,
      "min": 0,
      "orientation": "horizontal",
      "style": "IPY_MODEL_9a5f83b5a24b40699d8aed73d7ebfcc0",
      "value": 20
     }
    },
    "7a7a845b9ac04cae8c3a70c3e1b28f57": {
     "model_module": "@jupyter-widgets/controls",
     "model_name": "HTMLModel",
     "state": {
      "_dom_classes": [],
      "_model_module": "@jupyter-widgets/controls",
      "_model_module_version": "1.5.0",
      "_model_name": "HTMLModel",
      "_view_count": null,
      "_view_module": "@jupyter-widgets/controls",
      "_view_module_version": "1.5.0",
      "_view_name": "HTMLView",
      "description": "",
      "description_tooltip": null,
      "layout": "IPY_MODEL_e765f7f84ac749dfa41ceece6d0fb709",
      "placeholder": "​",
      "style": "IPY_MODEL_3f1a343fa7b940e8920564237d1ae4ee",
      "value": " 1.13k/1.13k [00:00&lt;00:00, 19.8kB/s]"
     }
    },
    "7dd3c85e335e4b7a849845ffdc0eccae": {
     "model_module": "@jupyter-widgets/controls",
     "model_name": "ProgressStyleModel",
     "state": {
      "_model_module": "@jupyter-widgets/controls",
      "_model_module_version": "1.5.0",
      "_model_name": "ProgressStyleModel",
      "_view_count": null,
      "_view_module": "@jupyter-widgets/base",
      "_view_module_version": "1.2.0",
      "_view_name": "StyleView",
      "bar_color": null,
      "description_width": "initial"
     }
    },
    "87c8e143d2064f5ca5c09ab2d22c141f": {
     "model_module": "@jupyter-widgets/controls",
     "model_name": "FloatProgressModel",
     "state": {
      "_dom_classes": [],
      "_model_module": "@jupyter-widgets/controls",
      "_model_module_version": "1.5.0",
      "_model_name": "FloatProgressModel",
      "_view_count": null,
      "_view_module": "@jupyter-widgets/controls",
      "_view_module_version": "1.5.0",
      "_view_name": "ProgressView",
      "bar_style": "success",
      "description": "100%",
      "description_tooltip": null,
      "layout": "IPY_MODEL_5327674e8beb44d99e7ce50b0ef0b3ca",
      "max": 79,
      "min": 0,
      "orientation": "horizontal",
      "style": "IPY_MODEL_0f8270821ebf4f8d9c69f387f18ca178",
      "value": 79
     }
    },
    "8ef309208b614942a8ac0681a80478e9": {
     "model_module": "@jupyter-widgets/base",
     "model_name": "LayoutModel",
     "state": {
      "_model_module": "@jupyter-widgets/base",
      "_model_module_version": "1.2.0",
      "_model_name": "LayoutModel",
      "_view_count": null,
      "_view_module": "@jupyter-widgets/base",
      "_view_module_version": "1.2.0",
      "_view_name": "LayoutView",
      "align_content": null,
      "align_items": null,
      "align_self": null,
      "border": null,
      "bottom": null,
      "display": null,
      "flex": null,
      "flex_flow": null,
      "grid_area": null,
      "grid_auto_columns": null,
      "grid_auto_flow": null,
      "grid_auto_rows": null,
      "grid_column": null,
      "grid_gap": null,
      "grid_row": null,
      "grid_template_areas": null,
      "grid_template_columns": null,
      "grid_template_rows": null,
      "height": null,
      "justify_content": null,
      "justify_items": null,
      "left": null,
      "margin": null,
      "max_height": null,
      "max_width": null,
      "min_height": null,
      "min_width": null,
      "object_fit": null,
      "object_position": null,
      "order": null,
      "overflow": null,
      "overflow_x": null,
      "overflow_y": null,
      "padding": null,
      "right": null,
      "top": null,
      "visibility": null,
      "width": null
     }
    },
    "904c660ef10f4bf2bb3417e5b1e264e0": {
     "model_module": "@jupyter-widgets/base",
     "model_name": "LayoutModel",
     "state": {
      "_model_module": "@jupyter-widgets/base",
      "_model_module_version": "1.2.0",
      "_model_name": "LayoutModel",
      "_view_count": null,
      "_view_module": "@jupyter-widgets/base",
      "_view_module_version": "1.2.0",
      "_view_name": "LayoutView",
      "align_content": null,
      "align_items": null,
      "align_self": null,
      "border": null,
      "bottom": null,
      "display": null,
      "flex": null,
      "flex_flow": null,
      "grid_area": null,
      "grid_auto_columns": null,
      "grid_auto_flow": null,
      "grid_auto_rows": null,
      "grid_column": null,
      "grid_gap": null,
      "grid_row": null,
      "grid_template_areas": null,
      "grid_template_columns": null,
      "grid_template_rows": null,
      "height": null,
      "justify_content": null,
      "justify_items": null,
      "left": null,
      "margin": null,
      "max_height": null,
      "max_width": null,
      "min_height": null,
      "min_width": null,
      "object_fit": null,
      "object_position": null,
      "order": null,
      "overflow": null,
      "overflow_x": null,
      "overflow_y": null,
      "padding": null,
      "right": null,
      "top": null,
      "visibility": null,
      "width": null
     }
    },
    "96465616a0b743888d560c5efdc9ff6e": {
     "model_module": "@jupyter-widgets/controls",
     "model_name": "ProgressStyleModel",
     "state": {
      "_model_module": "@jupyter-widgets/controls",
      "_model_module_version": "1.5.0",
      "_model_name": "ProgressStyleModel",
      "_view_count": null,
      "_view_module": "@jupyter-widgets/base",
      "_view_module_version": "1.2.0",
      "_view_name": "StyleView",
      "bar_color": null,
      "description_width": "initial"
     }
    },
    "98be713009544d038f6cff2ab9158acd": {
     "model_module": "@jupyter-widgets/base",
     "model_name": "LayoutModel",
     "state": {
      "_model_module": "@jupyter-widgets/base",
      "_model_module_version": "1.2.0",
      "_model_name": "LayoutModel",
      "_view_count": null,
      "_view_module": "@jupyter-widgets/base",
      "_view_module_version": "1.2.0",
      "_view_name": "LayoutView",
      "align_content": null,
      "align_items": null,
      "align_self": null,
      "border": null,
      "bottom": null,
      "display": null,
      "flex": null,
      "flex_flow": null,
      "grid_area": null,
      "grid_auto_columns": null,
      "grid_auto_flow": null,
      "grid_auto_rows": null,
      "grid_column": null,
      "grid_gap": null,
      "grid_row": null,
      "grid_template_areas": null,
      "grid_template_columns": null,
      "grid_template_rows": null,
      "height": null,
      "justify_content": null,
      "justify_items": null,
      "left": null,
      "margin": null,
      "max_height": null,
      "max_width": null,
      "min_height": null,
      "min_width": null,
      "object_fit": null,
      "object_position": null,
      "order": null,
      "overflow": null,
      "overflow_x": null,
      "overflow_y": null,
      "padding": null,
      "right": null,
      "top": null,
      "visibility": null,
      "width": null
     }
    },
    "9a5f83b5a24b40699d8aed73d7ebfcc0": {
     "model_module": "@jupyter-widgets/controls",
     "model_name": "ProgressStyleModel",
     "state": {
      "_model_module": "@jupyter-widgets/controls",
      "_model_module_version": "1.5.0",
      "_model_name": "ProgressStyleModel",
      "_view_count": null,
      "_view_module": "@jupyter-widgets/base",
      "_view_module_version": "1.2.0",
      "_view_name": "StyleView",
      "bar_color": null,
      "description_width": "initial"
     }
    },
    "9d84318a00d44e08ad8020fbae6b2b5c": {
     "model_module": "@jupyter-widgets/base",
     "model_name": "LayoutModel",
     "state": {
      "_model_module": "@jupyter-widgets/base",
      "_model_module_version": "1.2.0",
      "_model_name": "LayoutModel",
      "_view_count": null,
      "_view_module": "@jupyter-widgets/base",
      "_view_module_version": "1.2.0",
      "_view_name": "LayoutView",
      "align_content": null,
      "align_items": null,
      "align_self": null,
      "border": null,
      "bottom": null,
      "display": null,
      "flex": null,
      "flex_flow": null,
      "grid_area": null,
      "grid_auto_columns": null,
      "grid_auto_flow": null,
      "grid_auto_rows": null,
      "grid_column": null,
      "grid_gap": null,
      "grid_row": null,
      "grid_template_areas": null,
      "grid_template_columns": null,
      "grid_template_rows": null,
      "height": null,
      "justify_content": null,
      "justify_items": null,
      "left": null,
      "margin": null,
      "max_height": null,
      "max_width": null,
      "min_height": null,
      "min_width": null,
      "object_fit": null,
      "object_position": null,
      "order": null,
      "overflow": null,
      "overflow_x": null,
      "overflow_y": null,
      "padding": null,
      "right": null,
      "top": null,
      "visibility": null,
      "width": null
     }
    },
    "a39702d2c6434eac961a1410ef0b28e9": {
     "model_module": "@jupyter-widgets/controls",
     "model_name": "HTMLModel",
     "state": {
      "_dom_classes": [],
      "_model_module": "@jupyter-widgets/controls",
      "_model_module_version": "1.5.0",
      "_model_name": "HTMLModel",
      "_view_count": null,
      "_view_module": "@jupyter-widgets/controls",
      "_view_module_version": "1.5.0",
      "_view_name": "HTMLView",
      "description": "",
      "description_tooltip": null,
      "layout": "IPY_MODEL_a5b6df6a76624334b267642083cd2df0",
      "placeholder": "​",
      "style": "IPY_MODEL_6ba35d2e61344c0a858e880f799758ab",
      "value": " 42.0/42.0 [00:01&lt;00:00, 41.6B/s]"
     }
    },
    "a3fd2be427b44a94bc1a0817dff0144d": {
     "model_module": "@jupyter-widgets/controls",
     "model_name": "HTMLModel",
     "state": {
      "_dom_classes": [],
      "_model_module": "@jupyter-widgets/controls",
      "_model_module_version": "1.5.0",
      "_model_name": "HTMLModel",
      "_view_count": null,
      "_view_module": "@jupyter-widgets/controls",
      "_view_module_version": "1.5.0",
      "_view_name": "HTMLView",
      "description": "",
      "description_tooltip": null,
      "layout": "IPY_MODEL_572d12cabc434a6998d90b448caa78d6",
      "placeholder": "​",
      "style": "IPY_MODEL_e48221e356644f96bdfbbdfb335b71fa",
      "value": " 790k/790k [00:04&lt;00:00, 180kB/s]"
     }
    },
    "a5b6df6a76624334b267642083cd2df0": {
     "model_module": "@jupyter-widgets/base",
     "model_name": "LayoutModel",
     "state": {
      "_model_module": "@jupyter-widgets/base",
      "_model_module_version": "1.2.0",
      "_model_name": "LayoutModel",
      "_view_count": null,
      "_view_module": "@jupyter-widgets/base",
      "_view_module_version": "1.2.0",
      "_view_name": "LayoutView",
      "align_content": null,
      "align_items": null,
      "align_self": null,
      "border": null,
      "bottom": null,
      "display": null,
      "flex": null,
      "flex_flow": null,
      "grid_area": null,
      "grid_auto_columns": null,
      "grid_auto_flow": null,
      "grid_auto_rows": null,
      "grid_column": null,
      "grid_gap": null,
      "grid_row": null,
      "grid_template_areas": null,
      "grid_template_columns": null,
      "grid_template_rows": null,
      "height": null,
      "justify_content": null,
      "justify_items": null,
      "left": null,
      "margin": null,
      "max_height": null,
      "max_width": null,
      "min_height": null,
      "min_width": null,
      "object_fit": null,
      "object_position": null,
      "order": null,
      "overflow": null,
      "overflow_x": null,
      "overflow_y": null,
      "padding": null,
      "right": null,
      "top": null,
      "visibility": null,
      "width": null
     }
    },
    "be138232ae6c41aba486fcbf3b92eaae": {
     "model_module": "@jupyter-widgets/controls",
     "model_name": "FloatProgressModel",
     "state": {
      "_dom_classes": [],
      "_model_module": "@jupyter-widgets/controls",
      "_model_module_version": "1.5.0",
      "_model_name": "FloatProgressModel",
      "_view_count": null,
      "_view_module": "@jupyter-widgets/controls",
      "_view_module_version": "1.5.0",
      "_view_name": "ProgressView",
      "bar_style": "success",
      "description": "Downloading: 100%",
      "description_tooltip": null,
      "layout": "IPY_MODEL_5498c93002c3472eaa8c88a687a83cd1",
      "max": 42,
      "min": 0,
      "orientation": "horizontal",
      "style": "IPY_MODEL_2e33a7fc8d19445992d5b6072161daab",
      "value": 42
     }
    },
    "c8b730694b4446c487afe76c918301d5": {
     "model_module": "@jupyter-widgets/controls",
     "model_name": "ProgressStyleModel",
     "state": {
      "_model_module": "@jupyter-widgets/controls",
      "_model_module_version": "1.5.0",
      "_model_name": "ProgressStyleModel",
      "_view_count": null,
      "_view_module": "@jupyter-widgets/base",
      "_view_module_version": "1.2.0",
      "_view_name": "StyleView",
      "bar_color": null,
      "description_width": "initial"
     }
    },
    "cfe8eddf3d7a4b87993d904e74d0f18f": {
     "model_module": "@jupyter-widgets/controls",
     "model_name": "FloatProgressModel",
     "state": {
      "_dom_classes": [],
      "_model_module": "@jupyter-widgets/controls",
      "_model_module_version": "1.5.0",
      "_model_name": "FloatProgressModel",
      "_view_count": null,
      "_view_module": "@jupyter-widgets/controls",
      "_view_module_version": "1.5.0",
      "_view_name": "ProgressView",
      "bar_style": "success",
      "description": "Downloading: 100%",
      "description_tooltip": null,
      "layout": "IPY_MODEL_7303fba5f33f4e1f8f86d0a947a87767",
      "max": 316246425,
      "min": 0,
      "orientation": "horizontal",
      "style": "IPY_MODEL_96465616a0b743888d560c5efdc9ff6e",
      "value": 316246425
     }
    },
    "d3d6975382774e01b21c3f2a906e134b": {
     "model_module": "@jupyter-widgets/base",
     "model_name": "LayoutModel",
     "state": {
      "_model_module": "@jupyter-widgets/base",
      "_model_module_version": "1.2.0",
      "_model_name": "LayoutModel",
      "_view_count": null,
      "_view_module": "@jupyter-widgets/base",
      "_view_module_version": "1.2.0",
      "_view_name": "LayoutView",
      "align_content": null,
      "align_items": null,
      "align_self": null,
      "border": null,
      "bottom": null,
      "display": null,
      "flex": null,
      "flex_flow": null,
      "grid_area": null,
      "grid_auto_columns": null,
      "grid_auto_flow": null,
      "grid_auto_rows": null,
      "grid_column": null,
      "grid_gap": null,
      "grid_row": null,
      "grid_template_areas": null,
      "grid_template_columns": null,
      "grid_template_rows": null,
      "height": null,
      "justify_content": null,
      "justify_items": null,
      "left": null,
      "margin": null,
      "max_height": null,
      "max_width": null,
      "min_height": null,
      "min_width": null,
      "object_fit": null,
      "object_position": null,
      "order": null,
      "overflow": null,
      "overflow_x": null,
      "overflow_y": null,
      "padding": null,
      "right": null,
      "top": null,
      "visibility": null,
      "width": null
     }
    },
    "d4b93645801845f2a31d50a6f27b9b35": {
     "model_module": "@jupyter-widgets/controls",
     "model_name": "DescriptionStyleModel",
     "state": {
      "_model_module": "@jupyter-widgets/controls",
      "_model_module_version": "1.5.0",
      "_model_name": "DescriptionStyleModel",
      "_view_count": null,
      "_view_module": "@jupyter-widgets/base",
      "_view_module_version": "1.2.0",
      "_view_name": "StyleView",
      "description_width": ""
     }
    },
    "d92f40c1f86e4984b24ab37a24015132": {
     "model_module": "@jupyter-widgets/base",
     "model_name": "LayoutModel",
     "state": {
      "_model_module": "@jupyter-widgets/base",
      "_model_module_version": "1.2.0",
      "_model_name": "LayoutModel",
      "_view_count": null,
      "_view_module": "@jupyter-widgets/base",
      "_view_module_version": "1.2.0",
      "_view_name": "LayoutView",
      "align_content": null,
      "align_items": null,
      "align_self": null,
      "border": null,
      "bottom": null,
      "display": null,
      "flex": null,
      "flex_flow": null,
      "grid_area": null,
      "grid_auto_columns": null,
      "grid_auto_flow": null,
      "grid_auto_rows": null,
      "grid_column": null,
      "grid_gap": null,
      "grid_row": null,
      "grid_template_areas": null,
      "grid_template_columns": null,
      "grid_template_rows": null,
      "height": null,
      "justify_content": null,
      "justify_items": null,
      "left": null,
      "margin": null,
      "max_height": null,
      "max_width": null,
      "min_height": null,
      "min_width": null,
      "object_fit": null,
      "object_position": null,
      "order": null,
      "overflow": null,
      "overflow_x": null,
      "overflow_y": null,
      "padding": null,
      "right": null,
      "top": null,
      "visibility": null,
      "width": null
     }
    },
    "da656f2a4789462eabfbfe2aa4d3b873": {
     "model_module": "@jupyter-widgets/controls",
     "model_name": "DescriptionStyleModel",
     "state": {
      "_model_module": "@jupyter-widgets/controls",
      "_model_module_version": "1.5.0",
      "_model_name": "DescriptionStyleModel",
      "_view_count": null,
      "_view_module": "@jupyter-widgets/base",
      "_view_module_version": "1.2.0",
      "_view_name": "StyleView",
      "description_width": ""
     }
    },
    "db90524b7385413d8f2091489526c7a3": {
     "model_module": "@jupyter-widgets/base",
     "model_name": "LayoutModel",
     "state": {
      "_model_module": "@jupyter-widgets/base",
      "_model_module_version": "1.2.0",
      "_model_name": "LayoutModel",
      "_view_count": null,
      "_view_module": "@jupyter-widgets/base",
      "_view_module_version": "1.2.0",
      "_view_name": "LayoutView",
      "align_content": null,
      "align_items": null,
      "align_self": null,
      "border": null,
      "bottom": null,
      "display": null,
      "flex": null,
      "flex_flow": null,
      "grid_area": null,
      "grid_auto_columns": null,
      "grid_auto_flow": null,
      "grid_auto_rows": null,
      "grid_column": null,
      "grid_gap": null,
      "grid_row": null,
      "grid_template_areas": null,
      "grid_template_columns": null,
      "grid_template_rows": null,
      "height": null,
      "justify_content": null,
      "justify_items": null,
      "left": null,
      "margin": null,
      "max_height": null,
      "max_width": null,
      "min_height": null,
      "min_width": null,
      "object_fit": null,
      "object_position": null,
      "order": null,
      "overflow": null,
      "overflow_x": null,
      "overflow_y": null,
      "padding": null,
      "right": null,
      "top": null,
      "visibility": null,
      "width": null
     }
    },
    "dd31e0d0a801407c9143750f7d970a75": {
     "model_module": "@jupyter-widgets/base",
     "model_name": "LayoutModel",
     "state": {
      "_model_module": "@jupyter-widgets/base",
      "_model_module_version": "1.2.0",
      "_model_name": "LayoutModel",
      "_view_count": null,
      "_view_module": "@jupyter-widgets/base",
      "_view_module_version": "1.2.0",
      "_view_name": "LayoutView",
      "align_content": null,
      "align_items": null,
      "align_self": null,
      "border": null,
      "bottom": null,
      "display": null,
      "flex": null,
      "flex_flow": null,
      "grid_area": null,
      "grid_auto_columns": null,
      "grid_auto_flow": null,
      "grid_auto_rows": null,
      "grid_column": null,
      "grid_gap": null,
      "grid_row": null,
      "grid_template_areas": null,
      "grid_template_columns": null,
      "grid_template_rows": null,
      "height": null,
      "justify_content": null,
      "justify_items": null,
      "left": null,
      "margin": null,
      "max_height": null,
      "max_width": null,
      "min_height": null,
      "min_width": null,
      "object_fit": null,
      "object_position": null,
      "order": null,
      "overflow": null,
      "overflow_x": null,
      "overflow_y": null,
      "padding": null,
      "right": null,
      "top": null,
      "visibility": null,
      "width": null
     }
    },
    "df8a1c791f194ae7af30c81ac667a585": {
     "model_module": "@jupyter-widgets/controls",
     "model_name": "HBoxModel",
     "state": {
      "_dom_classes": [],
      "_model_module": "@jupyter-widgets/controls",
      "_model_module_version": "1.5.0",
      "_model_name": "HBoxModel",
      "_view_count": null,
      "_view_module": "@jupyter-widgets/controls",
      "_view_module_version": "1.5.0",
      "_view_name": "HBoxView",
      "box_style": "",
      "children": [
       "IPY_MODEL_be138232ae6c41aba486fcbf3b92eaae",
       "IPY_MODEL_a39702d2c6434eac961a1410ef0b28e9"
      ],
      "layout": "IPY_MODEL_904c660ef10f4bf2bb3417e5b1e264e0"
     }
    },
    "dfe7d047f1324d2385a795e481e320ef": {
     "model_module": "@jupyter-widgets/base",
     "model_name": "LayoutModel",
     "state": {
      "_model_module": "@jupyter-widgets/base",
      "_model_module_version": "1.2.0",
      "_model_name": "LayoutModel",
      "_view_count": null,
      "_view_module": "@jupyter-widgets/base",
      "_view_module_version": "1.2.0",
      "_view_name": "LayoutView",
      "align_content": null,
      "align_items": null,
      "align_self": null,
      "border": null,
      "bottom": null,
      "display": null,
      "flex": null,
      "flex_flow": null,
      "grid_area": null,
      "grid_auto_columns": null,
      "grid_auto_flow": null,
      "grid_auto_rows": null,
      "grid_column": null,
      "grid_gap": null,
      "grid_row": null,
      "grid_template_areas": null,
      "grid_template_columns": null,
      "grid_template_rows": null,
      "height": null,
      "justify_content": null,
      "justify_items": null,
      "left": null,
      "margin": null,
      "max_height": null,
      "max_width": null,
      "min_height": null,
      "min_width": null,
      "object_fit": null,
      "object_position": null,
      "order": null,
      "overflow": null,
      "overflow_x": null,
      "overflow_y": null,
      "padding": null,
      "right": null,
      "top": null,
      "visibility": null,
      "width": null
     }
    },
    "e48221e356644f96bdfbbdfb335b71fa": {
     "model_module": "@jupyter-widgets/controls",
     "model_name": "DescriptionStyleModel",
     "state": {
      "_model_module": "@jupyter-widgets/controls",
      "_model_module_version": "1.5.0",
      "_model_name": "DescriptionStyleModel",
      "_view_count": null,
      "_view_module": "@jupyter-widgets/base",
      "_view_module_version": "1.2.0",
      "_view_name": "StyleView",
      "description_width": ""
     }
    },
    "e765f7f84ac749dfa41ceece6d0fb709": {
     "model_module": "@jupyter-widgets/base",
     "model_name": "LayoutModel",
     "state": {
      "_model_module": "@jupyter-widgets/base",
      "_model_module_version": "1.2.0",
      "_model_name": "LayoutModel",
      "_view_count": null,
      "_view_module": "@jupyter-widgets/base",
      "_view_module_version": "1.2.0",
      "_view_name": "LayoutView",
      "align_content": null,
      "align_items": null,
      "align_self": null,
      "border": null,
      "bottom": null,
      "display": null,
      "flex": null,
      "flex_flow": null,
      "grid_area": null,
      "grid_auto_columns": null,
      "grid_auto_flow": null,
      "grid_auto_rows": null,
      "grid_column": null,
      "grid_gap": null,
      "grid_row": null,
      "grid_template_areas": null,
      "grid_template_columns": null,
      "grid_template_rows": null,
      "height": null,
      "justify_content": null,
      "justify_items": null,
      "left": null,
      "margin": null,
      "max_height": null,
      "max_width": null,
      "min_height": null,
      "min_width": null,
      "object_fit": null,
      "object_position": null,
      "order": null,
      "overflow": null,
      "overflow_x": null,
      "overflow_y": null,
      "padding": null,
      "right": null,
      "top": null,
      "visibility": null,
      "width": null
     }
    },
    "e8fe4494a613407f842845ddc7478901": {
     "model_module": "@jupyter-widgets/base",
     "model_name": "LayoutModel",
     "state": {
      "_model_module": "@jupyter-widgets/base",
      "_model_module_version": "1.2.0",
      "_model_name": "LayoutModel",
      "_view_count": null,
      "_view_module": "@jupyter-widgets/base",
      "_view_module_version": "1.2.0",
      "_view_name": "LayoutView",
      "align_content": null,
      "align_items": null,
      "align_self": null,
      "border": null,
      "bottom": null,
      "display": null,
      "flex": null,
      "flex_flow": null,
      "grid_area": null,
      "grid_auto_columns": null,
      "grid_auto_flow": null,
      "grid_auto_rows": null,
      "grid_column": null,
      "grid_gap": null,
      "grid_row": null,
      "grid_template_areas": null,
      "grid_template_columns": null,
      "grid_template_rows": null,
      "height": null,
      "justify_content": null,
      "justify_items": null,
      "left": null,
      "margin": null,
      "max_height": null,
      "max_width": null,
      "min_height": null,
      "min_width": null,
      "object_fit": null,
      "object_position": null,
      "order": null,
      "overflow": null,
      "overflow_x": null,
      "overflow_y": null,
      "padding": null,
      "right": null,
      "top": null,
      "visibility": null,
      "width": null
     }
    },
    "eac1c0b89bc34234b91ddd5189f577f5": {
     "model_module": "@jupyter-widgets/controls",
     "model_name": "DescriptionStyleModel",
     "state": {
      "_model_module": "@jupyter-widgets/controls",
      "_model_module_version": "1.5.0",
      "_model_name": "DescriptionStyleModel",
      "_view_count": null,
      "_view_module": "@jupyter-widgets/base",
      "_view_module_version": "1.2.0",
      "_view_name": "StyleView",
      "description_width": ""
     }
    },
    "ee8055fd9ecc4ff684ea74e70b4cfa6b": {
     "model_module": "@jupyter-widgets/controls",
     "model_name": "FloatProgressModel",
     "state": {
      "_dom_classes": [],
      "_model_module": "@jupyter-widgets/controls",
      "_model_module_version": "1.5.0",
      "_model_name": "FloatProgressModel",
      "_view_count": null,
      "_view_module": "@jupyter-widgets/controls",
      "_view_module_version": "1.5.0",
      "_view_name": "ProgressView",
      "bar_style": "success",
      "description": "Downloading: 100%",
      "description_tooltip": null,
      "layout": "IPY_MODEL_1f6eb2fa496b4e71a62dd06251d87b8e",
      "max": 813866,
      "min": 0,
      "orientation": "horizontal",
      "style": "IPY_MODEL_63f3b2007da24c6682b3019fea89d5c1",
      "value": 813866
     }
    },
    "ee84a9583ed8411fadac3b2fd0471420": {
     "model_module": "@jupyter-widgets/controls",
     "model_name": "DescriptionStyleModel",
     "state": {
      "_model_module": "@jupyter-widgets/controls",
      "_model_module_version": "1.5.0",
      "_model_name": "DescriptionStyleModel",
      "_view_count": null,
      "_view_module": "@jupyter-widgets/base",
      "_view_module_version": "1.2.0",
      "_view_name": "StyleView",
      "description_width": ""
     }
    },
    "eef750ea6dbd40e5b41a84aae8ffa0cc": {
     "model_module": "@jupyter-widgets/controls",
     "model_name": "FloatProgressModel",
     "state": {
      "_dom_classes": [],
      "_model_module": "@jupyter-widgets/controls",
      "_model_module_version": "1.5.0",
      "_model_name": "FloatProgressModel",
      "_view_count": null,
      "_view_module": "@jupyter-widgets/controls",
      "_view_module_version": "1.5.0",
      "_view_name": "ProgressView",
      "bar_style": "success",
      "description": "Downloading: 100%",
      "description_tooltip": null,
      "layout": "IPY_MODEL_e8fe4494a613407f842845ddc7478901",
      "max": 789525,
      "min": 0,
      "orientation": "horizontal",
      "style": "IPY_MODEL_7dd3c85e335e4b7a849845ffdc0eccae",
      "value": 789525
     }
    },
    "f0fe69b54c9e45129ba4d839ff4d0e5e": {
     "model_module": "@jupyter-widgets/controls",
     "model_name": "HTMLModel",
     "state": {
      "_dom_classes": [],
      "_model_module": "@jupyter-widgets/controls",
      "_model_module_version": "1.5.0",
      "_model_name": "HTMLModel",
      "_view_count": null,
      "_view_module": "@jupyter-widgets/controls",
      "_view_module_version": "1.5.0",
      "_view_name": "HTMLView",
      "description": "",
      "description_tooltip": null,
      "layout": "IPY_MODEL_9d84318a00d44e08ad8020fbae6b2b5c",
      "placeholder": "​",
      "style": "IPY_MODEL_d4b93645801845f2a31d50a6f27b9b35",
      "value": " 20/20 [00:06&lt;00:00,  2.91ba/s]"
     }
    },
    "f1e277cc10304b8c90398b3215c63cd7": {
     "model_module": "@jupyter-widgets/base",
     "model_name": "LayoutModel",
     "state": {
      "_model_module": "@jupyter-widgets/base",
      "_model_module_version": "1.2.0",
      "_model_name": "LayoutModel",
      "_view_count": null,
      "_view_module": "@jupyter-widgets/base",
      "_view_module_version": "1.2.0",
      "_view_name": "LayoutView",
      "align_content": null,
      "align_items": null,
      "align_self": null,
      "border": null,
      "bottom": null,
      "display": null,
      "flex": null,
      "flex_flow": null,
      "grid_area": null,
      "grid_auto_columns": null,
      "grid_auto_flow": null,
      "grid_auto_rows": null,
      "grid_column": null,
      "grid_gap": null,
      "grid_row": null,
      "grid_template_areas": null,
      "grid_template_columns": null,
      "grid_template_rows": null,
      "height": null,
      "justify_content": null,
      "justify_items": null,
      "left": null,
      "margin": null,
      "max_height": null,
      "max_width": null,
      "min_height": null,
      "min_width": null,
      "object_fit": null,
      "object_position": null,
      "order": null,
      "overflow": null,
      "overflow_x": null,
      "overflow_y": null,
      "padding": null,
      "right": null,
      "top": null,
      "visibility": null,
      "width": null
     }
    },
    "f59f588ea54e4c69a125c93c7909690c": {
     "model_module": "@jupyter-widgets/controls",
     "model_name": "ProgressStyleModel",
     "state": {
      "_model_module": "@jupyter-widgets/controls",
      "_model_module_version": "1.5.0",
      "_model_name": "ProgressStyleModel",
      "_view_count": null,
      "_view_module": "@jupyter-widgets/base",
      "_view_module_version": "1.2.0",
      "_view_name": "StyleView",
      "bar_color": null,
      "description_width": "initial"
     }
    },
    "f62f2c2d82954fd8aac362e87eeba3f9": {
     "model_module": "@jupyter-widgets/controls",
     "model_name": "HTMLModel",
     "state": {
      "_dom_classes": [],
      "_model_module": "@jupyter-widgets/controls",
      "_model_module_version": "1.5.0",
      "_model_name": "HTMLModel",
      "_view_count": null,
      "_view_module": "@jupyter-widgets/controls",
      "_view_module_version": "1.5.0",
      "_view_name": "HTMLView",
      "description": "",
      "description_tooltip": null,
      "layout": "IPY_MODEL_36034963b9fe4648a3e3a1801fe078bb",
      "placeholder": "​",
      "style": "IPY_MODEL_01559d5f323e4fe98f767f82e3c3f64c",
      "value": " 19698/19698 [4:20:37&lt;00:00,  1.47it/s]"
     }
    },
    "f77619fe93c2477f969436acec54c719": {
     "model_module": "@jupyter-widgets/controls",
     "model_name": "HBoxModel",
     "state": {
      "_dom_classes": [],
      "_model_module": "@jupyter-widgets/controls",
      "_model_module_version": "1.5.0",
      "_model_name": "HBoxModel",
      "_view_count": null,
      "_view_module": "@jupyter-widgets/controls",
      "_view_module_version": "1.5.0",
      "_view_name": "HBoxView",
      "box_style": "",
      "children": [
       "IPY_MODEL_ee8055fd9ecc4ff684ea74e70b4cfa6b",
       "IPY_MODEL_04995a4d9f104237a24f6bf2e3a2ccb2"
      ],
      "layout": "IPY_MODEL_5987d744f0fb461a8a68892599b8713d"
     }
    }
   }
  }
 },
 "nbformat": 4,
 "nbformat_minor": 1
}
