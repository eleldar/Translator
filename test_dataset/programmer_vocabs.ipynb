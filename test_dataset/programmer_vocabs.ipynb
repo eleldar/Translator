{
 "cells": [
  {
   "cell_type": "markdown",
   "id": "56f98c1f",
   "metadata": {},
   "source": [
    "# Формирование наборов данных"
   ]
  },
  {
   "cell_type": "markdown",
   "id": "1fa1aad8",
   "metadata": {},
   "source": [
    "## Предметный корпус"
   ]
  },
  {
   "cell_type": "markdown",
   "id": "eba02060",
   "metadata": {},
   "source": [
    "###  Парсер предметного корпуса предложений"
   ]
  },
  {
   "cell_type": "markdown",
   "id": "2265a444",
   "metadata": {},
   "source": [
    "> Использован для извлечения англо-русских фраз из канала [Английский для программиста](https://t.me/english_easily) в Telegram"
   ]
  },
  {
   "cell_type": "code",
   "execution_count": 16,
   "id": "51c379dc",
   "metadata": {},
   "outputs": [],
   "source": [
    "from bs4 import BeautifulSoup\n",
    "import pandas as pd"
   ]
  },
  {
   "cell_type": "code",
   "execution_count": 44,
   "id": "676408da",
   "metadata": {},
   "outputs": [],
   "source": [
    "eng_sym = set([chr(i) for i in range(65, 91)] + [chr(i) for i in range(97, 123)])\n",
    "rus_sym = set([chr(i) for i in range(1040, 1104)])"
   ]
  },
  {
   "cell_type": "code",
   "execution_count": 173,
   "id": "8cfcf29b",
   "metadata": {
    "scrolled": false
   },
   "outputs": [
    {
     "data": {
      "text/html": [
       "<div>\n",
       "<style scoped>\n",
       "    .dataframe tbody tr th:only-of-type {\n",
       "        vertical-align: middle;\n",
       "    }\n",
       "\n",
       "    .dataframe tbody tr th {\n",
       "        vertical-align: top;\n",
       "    }\n",
       "\n",
       "    .dataframe thead th {\n",
       "        text-align: right;\n",
       "    }\n",
       "</style>\n",
       "<table border=\"1\" class=\"dataframe\">\n",
       "  <thead>\n",
       "    <tr style=\"text-align: right;\">\n",
       "      <th></th>\n",
       "      <th>en_sent</th>\n",
       "      <th>ru_sent</th>\n",
       "      <th>en_keys</th>\n",
       "      <th>ru_keys</th>\n",
       "    </tr>\n",
       "  </thead>\n",
       "  <tbody>\n",
       "    <tr>\n",
       "      <th>0</th>\n",
       "      <td>Go wash your hands</td>\n",
       "      <td>Иди мой руки.</td>\n",
       "      <td>мой</td>\n",
       "      <td>wash</td>\n",
       "    </tr>\n",
       "    <tr>\n",
       "      <th>1</th>\n",
       "      <td>He washes the car</td>\n",
       "      <td>Он моет машину.</td>\n",
       "      <td>моет</td>\n",
       "      <td>washes</td>\n",
       "    </tr>\n",
       "    <tr>\n",
       "      <th>2</th>\n",
       "      <td>He washed the car</td>\n",
       "      <td>Он помыл машину.</td>\n",
       "      <td>помыл</td>\n",
       "      <td>washed</td>\n",
       "    </tr>\n",
       "    <tr>\n",
       "      <th>3</th>\n",
       "      <td>Wash your hands well</td>\n",
       "      <td>Мой свои руки хорошенько.</td>\n",
       "      <td>мой</td>\n",
       "      <td>wash</td>\n",
       "    </tr>\n",
       "    <tr>\n",
       "      <th>4</th>\n",
       "      <td>I hope to see you again</td>\n",
       "      <td>Я надеюсь увидеться с вами снова.</td>\n",
       "      <td>again</td>\n",
       "      <td>снова</td>\n",
       "    </tr>\n",
       "    <tr>\n",
       "      <th>...</th>\n",
       "      <td>...</td>\n",
       "      <td>...</td>\n",
       "      <td>...</td>\n",
       "      <td>...</td>\n",
       "    </tr>\n",
       "    <tr>\n",
       "      <th>1798</th>\n",
       "      <td>Disable anti-virus firewall and open up port 443.</td>\n",
       "      <td>Отключите брандмауэр для защиты от вирусов и о...</td>\n",
       "      <td>firewall</td>\n",
       "      <td>брандмауэр</td>\n",
       "    </tr>\n",
       "    <tr>\n",
       "      <th>1799</th>\n",
       "      <td>We need to find a way to break through that si...</td>\n",
       "      <td>Нам нужно найти способ обойти брандмауэр сайта.</td>\n",
       "      <td>firewall</td>\n",
       "      <td>брандмауэр</td>\n",
       "    </tr>\n",
       "    <tr>\n",
       "      <th>1800</th>\n",
       "      <td>Several representatives supported incremental ...</td>\n",
       "      <td>Ряд представителей высказались за поэтапное ра...</td>\n",
       "      <td>incremental development</td>\n",
       "      <td>поэтапное развитие</td>\n",
       "    </tr>\n",
       "    <tr>\n",
       "      <th>1801</th>\n",
       "      <td>Incremental development increases affordabilit...</td>\n",
       "      <td>Поэтапное развитие повышает доступность за сче...</td>\n",
       "      <td>incremental development</td>\n",
       "      <td>поэтапное развитие</td>\n",
       "    </tr>\n",
       "    <tr>\n",
       "      <th>1802</th>\n",
       "      <td>Incremental development: This term refers to t...</td>\n",
       "      <td>Поэтапное развитие: этот термин означает посте...</td>\n",
       "      <td>incremental development</td>\n",
       "      <td>поэтапное развитие</td>\n",
       "    </tr>\n",
       "  </tbody>\n",
       "</table>\n",
       "<p>1803 rows × 4 columns</p>\n",
       "</div>"
      ],
      "text/plain": [
       "                                                en_sent  \\\n",
       "0                                    Go wash your hands   \n",
       "1                                     He washes the car   \n",
       "2                                     He washed the car   \n",
       "3                                  Wash your hands well   \n",
       "4                               I hope to see you again   \n",
       "...                                                 ...   \n",
       "1798  Disable anti-virus firewall and open up port 443.   \n",
       "1799  We need to find a way to break through that si...   \n",
       "1800  Several representatives supported incremental ...   \n",
       "1801  Incremental development increases affordabilit...   \n",
       "1802  Incremental development: This term refers to t...   \n",
       "\n",
       "                                                ru_sent  \\\n",
       "0                                         Иди мой руки.   \n",
       "1                                       Он моет машину.   \n",
       "2                                      Он помыл машину.   \n",
       "3                             Мой свои руки хорошенько.   \n",
       "4                     Я надеюсь увидеться с вами снова.   \n",
       "...                                                 ...   \n",
       "1798  Отключите брандмауэр для защиты от вирусов и о...   \n",
       "1799    Нам нужно найти способ обойти брандмауэр сайта.   \n",
       "1800  Ряд представителей высказались за поэтапное ра...   \n",
       "1801  Поэтапное развитие повышает доступность за сче...   \n",
       "1802  Поэтапное развитие: этот термин означает посте...   \n",
       "\n",
       "                      en_keys             ru_keys  \n",
       "0                         мой                wash  \n",
       "1                        моет              washes  \n",
       "2                       помыл              washed  \n",
       "3                         мой                wash  \n",
       "4                       again               снова  \n",
       "...                       ...                 ...  \n",
       "1798                 firewall          брандмауэр  \n",
       "1799                 firewall          брандмауэр  \n",
       "1800  incremental development  поэтапное развитие  \n",
       "1801  incremental development  поэтапное развитие  \n",
       "1802  incremental development  поэтапное развитие  \n",
       "\n",
       "[1803 rows x 4 columns]"
      ]
     },
     "execution_count": 173,
     "metadata": {},
     "output_type": "execute_result"
    }
   ],
   "source": [
    "def get_soup(file):\n",
    "    '''Получаем чистый суп'''\n",
    "    with open(file, 'r') as f:\n",
    "        contents = f.read()    \n",
    "        contents = contents.replace('<br><br>', '<br>')\n",
    "        contents = contents.replace('—', '-') \n",
    "        contents = contents.replace('—', '-') \n",
    "        contents = contents.replace('–', '-')     \n",
    "        contents = contents.replace('<br>- ', '-')\n",
    "        contents = contents.replace('.<br>- ', '.-')    \n",
    "        contents = contents.replace('. <br> - ', '.-')    \n",
    "        contents = contents.replace('-<br>', '-')    \n",
    "        contents = contents.replace(' - <br>', '-')    \n",
    "        contents = contents.replace('.<br> - ', '-')        \n",
    "        contents = contents.replace('.<br></strong>- ', '-')        \n",
    "        contents = contents.replace('<br></strong>- ', '-')\n",
    "        contents = contents.replace('.<br>-', '-')\n",
    "    return BeautifulSoup(contents, 'lxml')    \n",
    "\n",
    "\n",
    "def messages_list(soup):\n",
    "    '''Список всех сообщений'''\n",
    "    return soup.find_all('div', {\n",
    "        'class': 'message default clearfix'\n",
    "        })\n",
    "\n",
    "\n",
    "def key_words(text):\n",
    "    '''Список ключевых слов'''\n",
    "    result = BeautifulSoup(text, 'lxml').find_all('strong')\n",
    "    result = set(_.get_text().lower().strip() for _ in result)\n",
    "    if len(result) == 2:        \n",
    "        return tuple(result)\n",
    "    eng, rus = [], []\n",
    "    for word in sorted(result):\n",
    "        if len(set(word) & eng_sym) > 1:\n",
    "            eng.append(word)\n",
    "        else:                \n",
    "            rus.append(word)\n",
    "    eng = \", \".join(eng) if eng else None\n",
    "    rus = \", \".join(rus) if rus else None\n",
    "    return eng, rus\n",
    "\n",
    "\n",
    "def vocab(text):\n",
    "    '''Список фраз'''\n",
    "    result = None \n",
    "    data = BeautifulSoup(text, 'lxml').get_text()\n",
    "    \n",
    "    while data[0].isdigit():\n",
    "        data = data[1:]\n",
    "    try:\n",
    "        while data[0] == '.' or data[0] == ')':\n",
    "            data = data[1:]\n",
    "    except IndexError:\n",
    "        return\n",
    "    if data.count('-') == 1:\n",
    "        result = list(map(str.strip, data.split('-')))\n",
    "        return result if set(result[0]) & eng_sym else None\n",
    "    elif data.count('-') > 1:\n",
    "        tmp = data.split('-')        \n",
    "        eng, rus = [], []\n",
    "        for sent in tmp:\n",
    "            if len(set(sent) & eng_sym) > int(len(set(sent)) * 0.5) and not set(sent) & rus_sym:                \n",
    "                eng.append(sent)\n",
    "            else:                \n",
    "                rus.append(sent)\n",
    "        result = ['-'.join(eng).strip(), '-'.join(rus).strip()]\n",
    "    elif data.count('-') < 1:\n",
    "        return # Остались, те, которые не содержат тире между парой предложений либо рекламу\n",
    "    return result\n",
    "        \n",
    "\n",
    "def frame(soup):\n",
    "    '''Датафрейм с данными'''\n",
    "    result = []\n",
    "    for message in messages_list(soup):\n",
    "        message = message.find('div', {'class':\"text\"})\n",
    "        data = [_ for _ in str(message).split('<br/>') if _ and '<strong>' in _ and '</strong>' in _]\n",
    "        data[0] = data[0].split('</a>')[-1]\n",
    "        data[-1] = data[-1].split('</div>')[0].strip()\n",
    "        data[0] = data[0].replace('??', '')\n",
    "        data[0] = data[0].replace('</em>', '')\n",
    "        for text in data:\n",
    "            texts = []\n",
    "            if text.startswith('</strong>'):\n",
    "                text = text[len('</strong>'):]\n",
    "            if text.startswith('<strong>') and text[len('<strong>')].isdigit():\n",
    "                text = text[len('<strong>'):]\n",
    "                while text[0].isdigit():\n",
    "                    text = text[1:]\n",
    "                text = text[len('</strong>'):]\n",
    "            if vocab(text) and vocab(text)[1]:\n",
    "                texts.extend(vocab(text))\n",
    "                texts.extend(key_words(text))\n",
    "                result.append(texts)\n",
    "    return pd.DataFrame(result, columns=['en_sent', 'ru_sent', 'en_keys', 'ru_keys'] )\n",
    "\n",
    "\n",
    "file = 'messages.html'\n",
    "df = frame(get_soup(file)); df"
   ]
  },
  {
   "cell_type": "code",
   "execution_count": 174,
   "id": "0fb9e3fa",
   "metadata": {},
   "outputs": [],
   "source": [
    "df.to_excel('prog_vocab.xlsx')"
   ]
  },
  {
   "cell_type": "markdown",
   "id": "81bd1394",
   "metadata": {},
   "source": [
    "### Выполнена ручная корректировка корпуса\n",
    "> Сохранен файл ```prog_vocab.xlsx```"
   ]
  },
  {
   "cell_type": "code",
   "execution_count": 180,
   "id": "abd44db9",
   "metadata": {},
   "outputs": [
    {
     "data": {
      "text/html": [
       "<div>\n",
       "<style scoped>\n",
       "    .dataframe tbody tr th:only-of-type {\n",
       "        vertical-align: middle;\n",
       "    }\n",
       "\n",
       "    .dataframe tbody tr th {\n",
       "        vertical-align: top;\n",
       "    }\n",
       "\n",
       "    .dataframe thead th {\n",
       "        text-align: right;\n",
       "    }\n",
       "</style>\n",
       "<table border=\"1\" class=\"dataframe\">\n",
       "  <thead>\n",
       "    <tr style=\"text-align: right;\">\n",
       "      <th></th>\n",
       "      <th>en_sent</th>\n",
       "      <th>ru_sent</th>\n",
       "      <th>en_keys</th>\n",
       "      <th>ru_keys</th>\n",
       "    </tr>\n",
       "  </thead>\n",
       "  <tbody>\n",
       "    <tr>\n",
       "      <th>0</th>\n",
       "      <td>Please contact us as soon as possible</td>\n",
       "      <td>пожалуйста, свяжитесь с нами как можно скорее.</td>\n",
       "      <td>contact</td>\n",
       "      <td>свяжитесь</td>\n",
       "    </tr>\n",
       "    <tr>\n",
       "      <th>1</th>\n",
       "      <td>If you would like to have an additional inform...</td>\n",
       "      <td>если вы хотите получить дополнительную информа...</td>\n",
       "      <td>contact</td>\n",
       "      <td>свяжитесь</td>\n",
       "    </tr>\n",
       "    <tr>\n",
       "      <th>2</th>\n",
       "      <td>This task is difficult for me.</td>\n",
       "      <td>Это задание трудное для меня.</td>\n",
       "      <td>задание</td>\n",
       "      <td>task</td>\n",
       "    </tr>\n",
       "    <tr>\n",
       "      <th>3</th>\n",
       "      <td>Our task is to increase channel activity in th...</td>\n",
       "      <td>Наша задача состоит в том, чтобы увеличить акт...</td>\n",
       "      <td>задача</td>\n",
       "      <td>task</td>\n",
       "    </tr>\n",
       "    <tr>\n",
       "      <th>4</th>\n",
       "      <td>My employee never completes tasks on time.</td>\n",
       "      <td>Мой сотрудник никогда не делает задания в срок.</td>\n",
       "      <td>задания</td>\n",
       "      <td>tasks</td>\n",
       "    </tr>\n",
       "  </tbody>\n",
       "</table>\n",
       "</div>"
      ],
      "text/plain": [
       "                                             en_sent  \\\n",
       "0              Please contact us as soon as possible   \n",
       "1  If you would like to have an additional inform...   \n",
       "2                     This task is difficult for me.   \n",
       "3  Our task is to increase channel activity in th...   \n",
       "4         My employee never completes tasks on time.   \n",
       "\n",
       "                                             ru_sent  en_keys    ru_keys  \n",
       "0     пожалуйста, свяжитесь с нами как можно скорее.  contact  свяжитесь  \n",
       "1  если вы хотите получить дополнительную информа...  contact  свяжитесь  \n",
       "2                      Это задание трудное для меня.  задание       task  \n",
       "3  Наша задача состоит в том, чтобы увеличить акт...   задача       task  \n",
       "4    Мой сотрудник никогда не делает задания в срок.  задания      tasks  "
      ]
     },
     "execution_count": 180,
     "metadata": {},
     "output_type": "execute_result"
    }
   ],
   "source": [
    "df = pd.read_excel('corrected_vocab.xlsx'); df.head()"
   ]
  },
  {
   "cell_type": "code",
   "execution_count": 181,
   "id": "77395705",
   "metadata": {},
   "outputs": [
    {
     "data": {
      "text/plain": [
       "(1038, 4)"
      ]
     },
     "execution_count": 181,
     "metadata": {},
     "output_type": "execute_result"
    }
   ],
   "source": [
    "df.shape"
   ]
  },
  {
   "cell_type": "code",
   "execution_count": 182,
   "id": "59f9e089",
   "metadata": {},
   "outputs": [
    {
     "data": {
      "text/plain": [
       "['Please contact us as soon as possible',\n",
       " 'If you would like to have an additional information, please contact me',\n",
       " 'This task is difficult for me.',\n",
       " 'Our task is to increase channel activity in the coming month.',\n",
       " 'My employee never completes tasks on time.']"
      ]
     },
     "execution_count": 182,
     "metadata": {},
     "output_type": "execute_result"
    }
   ],
   "source": [
    "[i for i in df['en_sent']][:5]"
   ]
  },
  {
   "cell_type": "markdown",
   "id": "77e96f88",
   "metadata": {},
   "source": [
    "## Пакетные переводы"
   ]
  },
  {
   "cell_type": "markdown",
   "id": "cfeff2a5",
   "metadata": {},
   "source": [
    "### Перевод предметного корпуса"
   ]
  },
  {
   "cell_type": "code",
   "execution_count": null,
   "id": "8d310c01",
   "metadata": {},
   "outputs": [],
   "source": [
    "df = pd.read_excel('corrected_vocab.xlsx')"
   ]
  },
  {
   "cell_type": "code",
   "execution_count": 183,
   "id": "66248322",
   "metadata": {},
   "outputs": [],
   "source": [
    "import requests\n",
    "from sentence_splitter import SentenceSplitter, split_text_into_sentences\n",
    "url = 'http://localhost:5000/api/translation'\n",
    "headers = {'accept': 'application/json',\n",
    "           'Content-Type': 'application/json',\n",
    "}\n",
    "request = lambda x: '{ \\\"text\\\": \\\"'+ str(x) +'\\\", \\\"sourceLanguage\\\": \\\"en\\\", \\\"targetLanguage\\\": \\\"ru\\\"}'\n",
    "response = lambda z: requests.post(url, headers=headers, data=request(z)).json()['message']"
   ]
  },
  {
   "cell_type": "code",
   "execution_count": 184,
   "id": "6e9fcbf6",
   "metadata": {},
   "outputs": [
    {
     "name": "stdout",
     "output_type": "stream",
     "text": [
      "Wall time: 39min 24s\n"
     ]
    }
   ],
   "source": [
    "%time result = [response(i.encode('latin-1', 'ignore').decode(\"utf-8\")) for i in df['en_sent']]"
   ]
  },
  {
   "cell_type": "markdown",
   "id": "b0da1d09",
   "metadata": {},
   "source": [
    "### Добавление перевода в предметный копус"
   ]
  },
  {
   "cell_type": "code",
   "execution_count": 185,
   "id": "c259bd98",
   "metadata": {},
   "outputs": [
    {
     "data": {
      "text/plain": [
       "(1038, 1038, 1038)"
      ]
     },
     "execution_count": 185,
     "metadata": {},
     "output_type": "execute_result"
    }
   ],
   "source": [
    "len(df['en_sent']), len(df['ru_sent']), len(result)"
   ]
  },
  {
   "cell_type": "code",
   "execution_count": 186,
   "id": "3a63885b",
   "metadata": {},
   "outputs": [
    {
     "data": {
      "text/html": [
       "<div>\n",
       "<style scoped>\n",
       "    .dataframe tbody tr th:only-of-type {\n",
       "        vertical-align: middle;\n",
       "    }\n",
       "\n",
       "    .dataframe tbody tr th {\n",
       "        vertical-align: top;\n",
       "    }\n",
       "\n",
       "    .dataframe thead th {\n",
       "        text-align: right;\n",
       "    }\n",
       "</style>\n",
       "<table border=\"1\" class=\"dataframe\">\n",
       "  <thead>\n",
       "    <tr style=\"text-align: right;\">\n",
       "      <th></th>\n",
       "      <th>en_sent</th>\n",
       "      <th>ru_sent</th>\n",
       "    </tr>\n",
       "  </thead>\n",
       "  <tbody>\n",
       "    <tr>\n",
       "      <th>0</th>\n",
       "      <td>Please contact us as soon as possible</td>\n",
       "      <td>пожалуйста, свяжитесь с нами как можно скорее.</td>\n",
       "    </tr>\n",
       "    <tr>\n",
       "      <th>1</th>\n",
       "      <td>If you would like to have an additional inform...</td>\n",
       "      <td>если вы хотите получить дополнительную информа...</td>\n",
       "    </tr>\n",
       "    <tr>\n",
       "      <th>2</th>\n",
       "      <td>This task is difficult for me.</td>\n",
       "      <td>Это задание трудное для меня.</td>\n",
       "    </tr>\n",
       "    <tr>\n",
       "      <th>3</th>\n",
       "      <td>Our task is to increase channel activity in th...</td>\n",
       "      <td>Наша задача состоит в том, чтобы увеличить акт...</td>\n",
       "    </tr>\n",
       "    <tr>\n",
       "      <th>4</th>\n",
       "      <td>My employee never completes tasks on time.</td>\n",
       "      <td>Мой сотрудник никогда не делает задания в срок.</td>\n",
       "    </tr>\n",
       "    <tr>\n",
       "      <th>...</th>\n",
       "      <td>...</td>\n",
       "      <td>...</td>\n",
       "    </tr>\n",
       "    <tr>\n",
       "      <th>1033</th>\n",
       "      <td>Disable anti-virus firewall and open up port 443.</td>\n",
       "      <td>Отключите брандмауэр для защиты от вирусов и о...</td>\n",
       "    </tr>\n",
       "    <tr>\n",
       "      <th>1034</th>\n",
       "      <td>We need to find a way to break through that si...</td>\n",
       "      <td>Нам нужно найти способ обойти брандмауэр сайта.</td>\n",
       "    </tr>\n",
       "    <tr>\n",
       "      <th>1035</th>\n",
       "      <td>Several representatives supported incremental ...</td>\n",
       "      <td>Ряд представителей высказались за поэтапное ра...</td>\n",
       "    </tr>\n",
       "    <tr>\n",
       "      <th>1036</th>\n",
       "      <td>Incremental development increases affordabilit...</td>\n",
       "      <td>Поэтапное развитие повышает доступность за сче...</td>\n",
       "    </tr>\n",
       "    <tr>\n",
       "      <th>1037</th>\n",
       "      <td>Incremental development: This term refers to t...</td>\n",
       "      <td>Поэтапное развитие: этот термин означает посте...</td>\n",
       "    </tr>\n",
       "  </tbody>\n",
       "</table>\n",
       "<p>1038 rows × 2 columns</p>\n",
       "</div>"
      ],
      "text/plain": [
       "                                                en_sent  \\\n",
       "0                 Please contact us as soon as possible   \n",
       "1     If you would like to have an additional inform...   \n",
       "2                        This task is difficult for me.   \n",
       "3     Our task is to increase channel activity in th...   \n",
       "4            My employee never completes tasks on time.   \n",
       "...                                                 ...   \n",
       "1033  Disable anti-virus firewall and open up port 443.   \n",
       "1034  We need to find a way to break through that si...   \n",
       "1035  Several representatives supported incremental ...   \n",
       "1036  Incremental development increases affordabilit...   \n",
       "1037  Incremental development: This term refers to t...   \n",
       "\n",
       "                                                ru_sent  \n",
       "0        пожалуйста, свяжитесь с нами как можно скорее.  \n",
       "1     если вы хотите получить дополнительную информа...  \n",
       "2                         Это задание трудное для меня.  \n",
       "3     Наша задача состоит в том, чтобы увеличить акт...  \n",
       "4       Мой сотрудник никогда не делает задания в срок.  \n",
       "...                                                 ...  \n",
       "1033  Отключите брандмауэр для защиты от вирусов и о...  \n",
       "1034    Нам нужно найти способ обойти брандмауэр сайта.  \n",
       "1035  Ряд представителей высказались за поэтапное ра...  \n",
       "1036  Поэтапное развитие повышает доступность за сче...  \n",
       "1037  Поэтапное развитие: этот термин означает посте...  \n",
       "\n",
       "[1038 rows x 2 columns]"
      ]
     },
     "execution_count": 186,
     "metadata": {},
     "output_type": "execute_result"
    }
   ],
   "source": [
    "short_df = df[['en_sent', 'ru_sent']]\n",
    "short_df"
   ]
  },
  {
   "cell_type": "code",
   "execution_count": 187,
   "id": "ea835ff2",
   "metadata": {},
   "outputs": [
    {
     "name": "stderr",
     "output_type": "stream",
     "text": [
      "C:\\Users\\e.boltachev\\Anaconda3\\lib\\site-packages\\pandas\\core\\indexing.py:1667: SettingWithCopyWarning: \n",
      "A value is trying to be set on a copy of a slice from a DataFrame.\n",
      "Try using .loc[row_indexer,col_indexer] = value instead\n",
      "\n",
      "See the caveats in the documentation: https://pandas.pydata.org/pandas-docs/stable/user_guide/indexing.html#returning-a-view-versus-a-copy\n",
      "  self.obj[key] = value\n"
     ]
    }
   ],
   "source": [
    "short_df.loc[:, 'api'] = result"
   ]
  },
  {
   "cell_type": "code",
   "execution_count": 188,
   "id": "8a2d6309",
   "metadata": {},
   "outputs": [
    {
     "data": {
      "text/html": [
       "<div>\n",
       "<style scoped>\n",
       "    .dataframe tbody tr th:only-of-type {\n",
       "        vertical-align: middle;\n",
       "    }\n",
       "\n",
       "    .dataframe tbody tr th {\n",
       "        vertical-align: top;\n",
       "    }\n",
       "\n",
       "    .dataframe thead th {\n",
       "        text-align: right;\n",
       "    }\n",
       "</style>\n",
       "<table border=\"1\" class=\"dataframe\">\n",
       "  <thead>\n",
       "    <tr style=\"text-align: right;\">\n",
       "      <th></th>\n",
       "      <th>en_sent</th>\n",
       "      <th>ru_sent</th>\n",
       "      <th>api</th>\n",
       "    </tr>\n",
       "  </thead>\n",
       "  <tbody>\n",
       "    <tr>\n",
       "      <th>0</th>\n",
       "      <td>Please contact us as soon as possible</td>\n",
       "      <td>пожалуйста, свяжитесь с нами как можно скорее.</td>\n",
       "      <td>Пожалуйста, свяжитесь с нами как можно скорее.</td>\n",
       "    </tr>\n",
       "    <tr>\n",
       "      <th>1</th>\n",
       "      <td>If you would like to have an additional inform...</td>\n",
       "      <td>если вы хотите получить дополнительную информа...</td>\n",
       "      <td>Если вы хотите получить дополнительную информа...</td>\n",
       "    </tr>\n",
       "    <tr>\n",
       "      <th>2</th>\n",
       "      <td>This task is difficult for me.</td>\n",
       "      <td>Это задание трудное для меня.</td>\n",
       "      <td>Для меня это трудная задача.</td>\n",
       "    </tr>\n",
       "    <tr>\n",
       "      <th>3</th>\n",
       "      <td>Our task is to increase channel activity in th...</td>\n",
       "      <td>Наша задача состоит в том, чтобы увеличить акт...</td>\n",
       "      <td>Наша задача состоит в том, чтобы увеличить акт...</td>\n",
       "    </tr>\n",
       "    <tr>\n",
       "      <th>4</th>\n",
       "      <td>My employee never completes tasks on time.</td>\n",
       "      <td>Мой сотрудник никогда не делает задания в срок.</td>\n",
       "      <td>Мой сотрудник никогда не выполняет задания вов...</td>\n",
       "    </tr>\n",
       "    <tr>\n",
       "      <th>...</th>\n",
       "      <td>...</td>\n",
       "      <td>...</td>\n",
       "      <td>...</td>\n",
       "    </tr>\n",
       "    <tr>\n",
       "      <th>1033</th>\n",
       "      <td>Disable anti-virus firewall and open up port 443.</td>\n",
       "      <td>Отключите брандмауэр для защиты от вирусов и о...</td>\n",
       "      <td>Отключить антивирусный файервол и открыть порт...</td>\n",
       "    </tr>\n",
       "    <tr>\n",
       "      <th>1034</th>\n",
       "      <td>We need to find a way to break through that si...</td>\n",
       "      <td>Нам нужно найти способ обойти брандмауэр сайта.</td>\n",
       "      <td>Нам нужно найти способ прорваться через файерв...</td>\n",
       "    </tr>\n",
       "    <tr>\n",
       "      <th>1035</th>\n",
       "      <td>Several representatives supported incremental ...</td>\n",
       "      <td>Ряд представителей высказались за поэтапное ра...</td>\n",
       "      <td>Ряд представителей высказались в поддержку пос...</td>\n",
       "    </tr>\n",
       "    <tr>\n",
       "      <th>1036</th>\n",
       "      <td>Incremental development increases affordabilit...</td>\n",
       "      <td>Поэтапное развитие повышает доступность за сче...</td>\n",
       "      <td>Повышенное развитие повышает доступность за сч...</td>\n",
       "    </tr>\n",
       "    <tr>\n",
       "      <th>1037</th>\n",
       "      <td>Incremental development: This term refers to t...</td>\n",
       "      <td>Поэтапное развитие: этот термин означает посте...</td>\n",
       "      <td>Постепенное развитие: Этот термин означает пос...</td>\n",
       "    </tr>\n",
       "  </tbody>\n",
       "</table>\n",
       "<p>1038 rows × 3 columns</p>\n",
       "</div>"
      ],
      "text/plain": [
       "                                                en_sent  \\\n",
       "0                 Please contact us as soon as possible   \n",
       "1     If you would like to have an additional inform...   \n",
       "2                        This task is difficult for me.   \n",
       "3     Our task is to increase channel activity in th...   \n",
       "4            My employee never completes tasks on time.   \n",
       "...                                                 ...   \n",
       "1033  Disable anti-virus firewall and open up port 443.   \n",
       "1034  We need to find a way to break through that si...   \n",
       "1035  Several representatives supported incremental ...   \n",
       "1036  Incremental development increases affordabilit...   \n",
       "1037  Incremental development: This term refers to t...   \n",
       "\n",
       "                                                ru_sent  \\\n",
       "0        пожалуйста, свяжитесь с нами как можно скорее.   \n",
       "1     если вы хотите получить дополнительную информа...   \n",
       "2                         Это задание трудное для меня.   \n",
       "3     Наша задача состоит в том, чтобы увеличить акт...   \n",
       "4       Мой сотрудник никогда не делает задания в срок.   \n",
       "...                                                 ...   \n",
       "1033  Отключите брандмауэр для защиты от вирусов и о...   \n",
       "1034    Нам нужно найти способ обойти брандмауэр сайта.   \n",
       "1035  Ряд представителей высказались за поэтапное ра...   \n",
       "1036  Поэтапное развитие повышает доступность за сче...   \n",
       "1037  Поэтапное развитие: этот термин означает посте...   \n",
       "\n",
       "                                                    api  \n",
       "0        Пожалуйста, свяжитесь с нами как можно скорее.  \n",
       "1     Если вы хотите получить дополнительную информа...  \n",
       "2                          Для меня это трудная задача.  \n",
       "3     Наша задача состоит в том, чтобы увеличить акт...  \n",
       "4     Мой сотрудник никогда не выполняет задания вов...  \n",
       "...                                                 ...  \n",
       "1033  Отключить антивирусный файервол и открыть порт...  \n",
       "1034  Нам нужно найти способ прорваться через файерв...  \n",
       "1035  Ряд представителей высказались в поддержку пос...  \n",
       "1036  Повышенное развитие повышает доступность за сч...  \n",
       "1037  Постепенное развитие: Этот термин означает пос...  \n",
       "\n",
       "[1038 rows x 3 columns]"
      ]
     },
     "execution_count": 188,
     "metadata": {},
     "output_type": "execute_result"
    }
   ],
   "source": [
    "short_df"
   ]
  },
  {
   "cell_type": "code",
   "execution_count": 189,
   "id": "18e40217",
   "metadata": {},
   "outputs": [
    {
     "data": {
      "text/html": [
       "<div>\n",
       "<style scoped>\n",
       "    .dataframe tbody tr th:only-of-type {\n",
       "        vertical-align: middle;\n",
       "    }\n",
       "\n",
       "    .dataframe tbody tr th {\n",
       "        vertical-align: top;\n",
       "    }\n",
       "\n",
       "    .dataframe thead th {\n",
       "        text-align: right;\n",
       "    }\n",
       "</style>\n",
       "<table border=\"1\" class=\"dataframe\">\n",
       "  <thead>\n",
       "    <tr style=\"text-align: right;\">\n",
       "      <th></th>\n",
       "      <th>en_sent</th>\n",
       "      <th>ru_sent</th>\n",
       "      <th>api</th>\n",
       "    </tr>\n",
       "  </thead>\n",
       "  <tbody>\n",
       "    <tr>\n",
       "      <th>0</th>\n",
       "      <td>Please contact us as soon as possible</td>\n",
       "      <td>пожалуйста, свяжитесь с нами как можно скорее.</td>\n",
       "      <td>Пожалуйста, свяжитесь с нами как можно скорее.</td>\n",
       "    </tr>\n",
       "    <tr>\n",
       "      <th>1</th>\n",
       "      <td>If you would like to have an additional inform...</td>\n",
       "      <td>если вы хотите получить дополнительную информа...</td>\n",
       "      <td>Если вы хотите получить дополнительную информа...</td>\n",
       "    </tr>\n",
       "    <tr>\n",
       "      <th>2</th>\n",
       "      <td>This task is difficult for me.</td>\n",
       "      <td>Это задание трудное для меня.</td>\n",
       "      <td>Для меня это трудная задача.</td>\n",
       "    </tr>\n",
       "    <tr>\n",
       "      <th>3</th>\n",
       "      <td>Our task is to increase channel activity in th...</td>\n",
       "      <td>Наша задача состоит в том, чтобы увеличить акт...</td>\n",
       "      <td>Наша задача состоит в том, чтобы увеличить акт...</td>\n",
       "    </tr>\n",
       "    <tr>\n",
       "      <th>4</th>\n",
       "      <td>My employee never completes tasks on time.</td>\n",
       "      <td>Мой сотрудник никогда не делает задания в срок.</td>\n",
       "      <td>Мой сотрудник никогда не выполняет задания вов...</td>\n",
       "    </tr>\n",
       "  </tbody>\n",
       "</table>\n",
       "</div>"
      ],
      "text/plain": [
       "                                             en_sent  \\\n",
       "0              Please contact us as soon as possible   \n",
       "1  If you would like to have an additional inform...   \n",
       "2                     This task is difficult for me.   \n",
       "3  Our task is to increase channel activity in th...   \n",
       "4         My employee never completes tasks on time.   \n",
       "\n",
       "                                             ru_sent  \\\n",
       "0     пожалуйста, свяжитесь с нами как можно скорее.   \n",
       "1  если вы хотите получить дополнительную информа...   \n",
       "2                      Это задание трудное для меня.   \n",
       "3  Наша задача состоит в том, чтобы увеличить акт...   \n",
       "4    Мой сотрудник никогда не делает задания в срок.   \n",
       "\n",
       "                                                 api  \n",
       "0     Пожалуйста, свяжитесь с нами как можно скорее.  \n",
       "1  Если вы хотите получить дополнительную информа...  \n",
       "2                       Для меня это трудная задача.  \n",
       "3  Наша задача состоит в том, чтобы увеличить акт...  \n",
       "4  Мой сотрудник никогда не выполняет задания вов...  "
      ]
     },
     "execution_count": 189,
     "metadata": {},
     "output_type": "execute_result"
    }
   ],
   "source": [
    "short_df.head()"
   ]
  },
  {
   "cell_type": "markdown",
   "id": "61684cfa",
   "metadata": {},
   "source": [
    "#### Сохраняем результат перевода в файл ```translated_vocab.xlsx```"
   ]
  },
  {
   "cell_type": "code",
   "execution_count": null,
   "id": "4ae140e6",
   "metadata": {
    "scrolled": true
   },
   "outputs": [],
   "source": [
    "short_df.to_excel('translated_vocab.xlsx')"
   ]
  },
  {
   "cell_type": "markdown",
   "id": "318fa396",
   "metadata": {},
   "source": [
    "#### Создаем файл ```diff_translated_vocab.xlsx```, в котором переводы отличаются от эталона"
   ]
  },
  {
   "cell_type": "code",
   "execution_count": 191,
   "id": "47d117d5",
   "metadata": {},
   "outputs": [],
   "source": [
    "diff = short_df[short_df['ru_sent'] != short_df['api']]"
   ]
  },
  {
   "cell_type": "code",
   "execution_count": 192,
   "id": "0ea9a3f7",
   "metadata": {},
   "outputs": [],
   "source": [
    "diff.to_excel('diff_translated_vocab.xlsx')"
   ]
  },
  {
   "cell_type": "code",
   "execution_count": 193,
   "id": "f63c3651",
   "metadata": {},
   "outputs": [
    {
     "data": {
      "text/html": [
       "<div>\n",
       "<style scoped>\n",
       "    .dataframe tbody tr th:only-of-type {\n",
       "        vertical-align: middle;\n",
       "    }\n",
       "\n",
       "    .dataframe tbody tr th {\n",
       "        vertical-align: top;\n",
       "    }\n",
       "\n",
       "    .dataframe thead th {\n",
       "        text-align: right;\n",
       "    }\n",
       "</style>\n",
       "<table border=\"1\" class=\"dataframe\">\n",
       "  <thead>\n",
       "    <tr style=\"text-align: right;\">\n",
       "      <th></th>\n",
       "      <th>en_sent</th>\n",
       "      <th>ru_sent</th>\n",
       "      <th>api</th>\n",
       "    </tr>\n",
       "  </thead>\n",
       "  <tbody>\n",
       "    <tr>\n",
       "      <th>0</th>\n",
       "      <td>Please contact us as soon as possible</td>\n",
       "      <td>пожалуйста, свяжитесь с нами как можно скорее.</td>\n",
       "      <td>Пожалуйста, свяжитесь с нами как можно скорее.</td>\n",
       "    </tr>\n",
       "    <tr>\n",
       "      <th>1</th>\n",
       "      <td>If you would like to have an additional inform...</td>\n",
       "      <td>если вы хотите получить дополнительную информа...</td>\n",
       "      <td>Если вы хотите получить дополнительную информа...</td>\n",
       "    </tr>\n",
       "    <tr>\n",
       "      <th>2</th>\n",
       "      <td>This task is difficult for me.</td>\n",
       "      <td>Это задание трудное для меня.</td>\n",
       "      <td>Для меня это трудная задача.</td>\n",
       "    </tr>\n",
       "    <tr>\n",
       "      <th>3</th>\n",
       "      <td>Our task is to increase channel activity in th...</td>\n",
       "      <td>Наша задача состоит в том, чтобы увеличить акт...</td>\n",
       "      <td>Наша задача состоит в том, чтобы увеличить акт...</td>\n",
       "    </tr>\n",
       "    <tr>\n",
       "      <th>4</th>\n",
       "      <td>My employee never completes tasks on time.</td>\n",
       "      <td>Мой сотрудник никогда не делает задания в срок.</td>\n",
       "      <td>Мой сотрудник никогда не выполняет задания вов...</td>\n",
       "    </tr>\n",
       "    <tr>\n",
       "      <th>...</th>\n",
       "      <td>...</td>\n",
       "      <td>...</td>\n",
       "      <td>...</td>\n",
       "    </tr>\n",
       "    <tr>\n",
       "      <th>1033</th>\n",
       "      <td>Disable anti-virus firewall and open up port 443.</td>\n",
       "      <td>Отключите брандмауэр для защиты от вирусов и о...</td>\n",
       "      <td>Отключить антивирусный файервол и открыть порт...</td>\n",
       "    </tr>\n",
       "    <tr>\n",
       "      <th>1034</th>\n",
       "      <td>We need to find a way to break through that si...</td>\n",
       "      <td>Нам нужно найти способ обойти брандмауэр сайта.</td>\n",
       "      <td>Нам нужно найти способ прорваться через файерв...</td>\n",
       "    </tr>\n",
       "    <tr>\n",
       "      <th>1035</th>\n",
       "      <td>Several representatives supported incremental ...</td>\n",
       "      <td>Ряд представителей высказались за поэтапное ра...</td>\n",
       "      <td>Ряд представителей высказались в поддержку пос...</td>\n",
       "    </tr>\n",
       "    <tr>\n",
       "      <th>1036</th>\n",
       "      <td>Incremental development increases affordabilit...</td>\n",
       "      <td>Поэтапное развитие повышает доступность за сче...</td>\n",
       "      <td>Повышенное развитие повышает доступность за сч...</td>\n",
       "    </tr>\n",
       "    <tr>\n",
       "      <th>1037</th>\n",
       "      <td>Incremental development: This term refers to t...</td>\n",
       "      <td>Поэтапное развитие: этот термин означает посте...</td>\n",
       "      <td>Постепенное развитие: Этот термин означает пос...</td>\n",
       "    </tr>\n",
       "  </tbody>\n",
       "</table>\n",
       "<p>975 rows × 3 columns</p>\n",
       "</div>"
      ],
      "text/plain": [
       "                                                en_sent  \\\n",
       "0                 Please contact us as soon as possible   \n",
       "1     If you would like to have an additional inform...   \n",
       "2                        This task is difficult for me.   \n",
       "3     Our task is to increase channel activity in th...   \n",
       "4            My employee never completes tasks on time.   \n",
       "...                                                 ...   \n",
       "1033  Disable anti-virus firewall and open up port 443.   \n",
       "1034  We need to find a way to break through that si...   \n",
       "1035  Several representatives supported incremental ...   \n",
       "1036  Incremental development increases affordabilit...   \n",
       "1037  Incremental development: This term refers to t...   \n",
       "\n",
       "                                                ru_sent  \\\n",
       "0        пожалуйста, свяжитесь с нами как можно скорее.   \n",
       "1     если вы хотите получить дополнительную информа...   \n",
       "2                         Это задание трудное для меня.   \n",
       "3     Наша задача состоит в том, чтобы увеличить акт...   \n",
       "4       Мой сотрудник никогда не делает задания в срок.   \n",
       "...                                                 ...   \n",
       "1033  Отключите брандмауэр для защиты от вирусов и о...   \n",
       "1034    Нам нужно найти способ обойти брандмауэр сайта.   \n",
       "1035  Ряд представителей высказались за поэтапное ра...   \n",
       "1036  Поэтапное развитие повышает доступность за сче...   \n",
       "1037  Поэтапное развитие: этот термин означает посте...   \n",
       "\n",
       "                                                    api  \n",
       "0        Пожалуйста, свяжитесь с нами как можно скорее.  \n",
       "1     Если вы хотите получить дополнительную информа...  \n",
       "2                          Для меня это трудная задача.  \n",
       "3     Наша задача состоит в том, чтобы увеличить акт...  \n",
       "4     Мой сотрудник никогда не выполняет задания вов...  \n",
       "...                                                 ...  \n",
       "1033  Отключить антивирусный файервол и открыть порт...  \n",
       "1034  Нам нужно найти способ прорваться через файерв...  \n",
       "1035  Ряд представителей высказались в поддержку пос...  \n",
       "1036  Повышенное развитие повышает доступность за сч...  \n",
       "1037  Постепенное развитие: Этот термин означает пос...  \n",
       "\n",
       "[975 rows x 3 columns]"
      ]
     },
     "execution_count": 193,
     "metadata": {},
     "output_type": "execute_result"
    }
   ],
   "source": [
    "diff"
   ]
  },
  {
   "cell_type": "markdown",
   "id": "a655eb74",
   "metadata": {},
   "source": [
    "## Работа с обыденными фразами"
   ]
  },
  {
   "cell_type": "code",
   "execution_count": 225,
   "id": "f17f5285",
   "metadata": {},
   "outputs": [],
   "source": [
    "df = pd.read_excel('normal.xlsx')"
   ]
  },
  {
   "cell_type": "code",
   "execution_count": 226,
   "id": "6787421e",
   "metadata": {},
   "outputs": [
    {
     "data": {
      "text/html": [
       "<div>\n",
       "<style scoped>\n",
       "    .dataframe tbody tr th:only-of-type {\n",
       "        vertical-align: middle;\n",
       "    }\n",
       "\n",
       "    .dataframe tbody tr th {\n",
       "        vertical-align: top;\n",
       "    }\n",
       "\n",
       "    .dataframe thead th {\n",
       "        text-align: right;\n",
       "    }\n",
       "</style>\n",
       "<table border=\"1\" class=\"dataframe\">\n",
       "  <thead>\n",
       "    <tr style=\"text-align: right;\">\n",
       "      <th></th>\n",
       "      <th>en_sent</th>\n",
       "      <th>ru_sent</th>\n",
       "    </tr>\n",
       "  </thead>\n",
       "  <tbody>\n",
       "    <tr>\n",
       "      <th>0</th>\n",
       "      <td>Good morning!</td>\n",
       "      <td>Доброе утро!</td>\n",
       "    </tr>\n",
       "    <tr>\n",
       "      <th>1</th>\n",
       "      <td>Did the alarm clock go off?</td>\n",
       "      <td>Будильник звонил?</td>\n",
       "    </tr>\n",
       "    <tr>\n",
       "      <th>2</th>\n",
       "      <td>It's time to get up.</td>\n",
       "      <td>Время вставать!</td>\n",
       "    </tr>\n",
       "    <tr>\n",
       "      <th>3</th>\n",
       "      <td>Get up soon.</td>\n",
       "      <td>Вставай быстрее.</td>\n",
       "    </tr>\n",
       "    <tr>\n",
       "      <th>4</th>\n",
       "      <td>Are you awake?</td>\n",
       "      <td>Ты проснулся?</td>\n",
       "    </tr>\n",
       "  </tbody>\n",
       "</table>\n",
       "</div>"
      ],
      "text/plain": [
       "                       en_sent            ru_sent\n",
       "0                Good morning!       Доброе утро!\n",
       "1  Did the alarm clock go off?  Будильник звонил?\n",
       "2         It's time to get up.    Время вставать!\n",
       "3                 Get up soon.   Вставай быстрее.\n",
       "4               Are you awake?      Ты проснулся?"
      ]
     },
     "execution_count": 226,
     "metadata": {},
     "output_type": "execute_result"
    }
   ],
   "source": [
    "df.head()"
   ]
  },
  {
   "cell_type": "code",
   "execution_count": 196,
   "id": "597a37d1",
   "metadata": {},
   "outputs": [],
   "source": [
    "import requests\n",
    "from sentence_splitter import SentenceSplitter, split_text_into_sentences\n",
    "url = 'http://localhost:5000/api/translation'\n",
    "headers = {'accept': 'application/json',\n",
    "           'Content-Type': 'application/json',\n",
    "}\n",
    "request = lambda x: '{ \\\"text\\\": \\\"'+ str(x) +'\\\", \\\"sourceLanguage\\\": \\\"en\\\", \\\"targetLanguage\\\": \\\"ru\\\"}'\n",
    "response = lambda z: requests.post(url, headers=headers, data=request(z)).json()['message']"
   ]
  },
  {
   "cell_type": "code",
   "execution_count": 197,
   "id": "ee57a8d6",
   "metadata": {},
   "outputs": [
    {
     "name": "stdout",
     "output_type": "stream",
     "text": [
      "Wall time: 1h 37min 32s\n"
     ]
    }
   ],
   "source": [
    "%time result = [response(i.replace('\"', '\\\\\"').encode('ascii', errors='ignore').decode(\"utf-8\")) for i in df['en_sent']]"
   ]
  },
  {
   "cell_type": "code",
   "execution_count": 199,
   "id": "13b5318a",
   "metadata": {},
   "outputs": [
    {
     "data": {
      "text/plain": [
       "['Доброе утро!',\n",
       " 'Сработал будильник?',\n",
       " 'Пора вставать.',\n",
       " 'Скоро вставайте.',\n",
       " 'Ты не спишь?',\n",
       " 'Тебе плохо?',\n",
       " 'Вы хорошо спали?',\n",
       " 'Выключи будильник.',\n",
       " 'Наконец-то ты встал!',\n",
       " 'Хороший день!']"
      ]
     },
     "execution_count": 199,
     "metadata": {},
     "output_type": "execute_result"
    }
   ],
   "source": [
    "result[:10]"
   ]
  },
  {
   "cell_type": "code",
   "execution_count": 200,
   "id": "0ca959f8",
   "metadata": {},
   "outputs": [],
   "source": [
    "df.loc[:, 'api'] = result"
   ]
  },
  {
   "cell_type": "code",
   "execution_count": 230,
   "id": "150641a1",
   "metadata": {},
   "outputs": [
    {
     "data": {
      "text/html": [
       "<div>\n",
       "<style scoped>\n",
       "    .dataframe tbody tr th:only-of-type {\n",
       "        vertical-align: middle;\n",
       "    }\n",
       "\n",
       "    .dataframe tbody tr th {\n",
       "        vertical-align: top;\n",
       "    }\n",
       "\n",
       "    .dataframe thead th {\n",
       "        text-align: right;\n",
       "    }\n",
       "</style>\n",
       "<table border=\"1\" class=\"dataframe\">\n",
       "  <thead>\n",
       "    <tr style=\"text-align: right;\">\n",
       "      <th></th>\n",
       "      <th>en_sent</th>\n",
       "      <th>ru_sent</th>\n",
       "      <th>api</th>\n",
       "    </tr>\n",
       "  </thead>\n",
       "  <tbody>\n",
       "    <tr>\n",
       "      <th>0</th>\n",
       "      <td>Good morning!</td>\n",
       "      <td>Доброе утро!</td>\n",
       "      <td>Доброе утро!</td>\n",
       "    </tr>\n",
       "    <tr>\n",
       "      <th>1</th>\n",
       "      <td>Did the alarm clock go off?</td>\n",
       "      <td>Будильник звонил?</td>\n",
       "      <td>Сработал будильник?</td>\n",
       "    </tr>\n",
       "    <tr>\n",
       "      <th>2</th>\n",
       "      <td>It's time to get up.</td>\n",
       "      <td>Время вставать!</td>\n",
       "      <td>Пора вставать.</td>\n",
       "    </tr>\n",
       "    <tr>\n",
       "      <th>3</th>\n",
       "      <td>Get up soon.</td>\n",
       "      <td>Вставай быстрее.</td>\n",
       "      <td>Скоро вставайте.</td>\n",
       "    </tr>\n",
       "    <tr>\n",
       "      <th>4</th>\n",
       "      <td>Are you awake?</td>\n",
       "      <td>Ты проснулся?</td>\n",
       "      <td>Ты не спишь?</td>\n",
       "    </tr>\n",
       "  </tbody>\n",
       "</table>\n",
       "</div>"
      ],
      "text/plain": [
       "                       en_sent            ru_sent                  api\n",
       "0                Good morning!       Доброе утро!         Доброе утро!\n",
       "1  Did the alarm clock go off?  Будильник звонил?  Сработал будильник?\n",
       "2         It's time to get up.    Время вставать!       Пора вставать.\n",
       "3                 Get up soon.   Вставай быстрее.     Скоро вставайте.\n",
       "4               Are you awake?      Ты проснулся?         Ты не спишь?"
      ]
     },
     "execution_count": 230,
     "metadata": {},
     "output_type": "execute_result"
    }
   ],
   "source": [
    "df.head()"
   ]
  },
  {
   "cell_type": "code",
   "execution_count": 231,
   "id": "3128a066",
   "metadata": {},
   "outputs": [
    {
     "data": {
      "text/plain": [
       "(2664, 3)"
      ]
     },
     "execution_count": 231,
     "metadata": {},
     "output_type": "execute_result"
    }
   ],
   "source": [
    "df.shape"
   ]
  },
  {
   "cell_type": "markdown",
   "id": "fcfe931d",
   "metadata": {},
   "source": [
    "### Сохраняем результат перевода в файл ```translated_normal.xlsx```"
   ]
  },
  {
   "cell_type": "code",
   "execution_count": 215,
   "id": "dc04b5c9",
   "metadata": {},
   "outputs": [],
   "source": [
    "df.to_excel('translated_normal.xlsx')"
   ]
  },
  {
   "cell_type": "markdown",
   "id": "a7020f3e",
   "metadata": {},
   "source": [
    "### Создаем файл ```diff_translated_normal.xlsx```, в котором переводы отличаются от эталона"
   ]
  },
  {
   "cell_type": "code",
   "execution_count": 232,
   "id": "52ade2a8",
   "metadata": {},
   "outputs": [],
   "source": [
    "diff = df[df['ru_sent'] != df['api']]"
   ]
  },
  {
   "cell_type": "code",
   "execution_count": 233,
   "id": "256ab6e8",
   "metadata": {},
   "outputs": [
    {
     "data": {
      "text/html": [
       "<div>\n",
       "<style scoped>\n",
       "    .dataframe tbody tr th:only-of-type {\n",
       "        vertical-align: middle;\n",
       "    }\n",
       "\n",
       "    .dataframe tbody tr th {\n",
       "        vertical-align: top;\n",
       "    }\n",
       "\n",
       "    .dataframe thead th {\n",
       "        text-align: right;\n",
       "    }\n",
       "</style>\n",
       "<table border=\"1\" class=\"dataframe\">\n",
       "  <thead>\n",
       "    <tr style=\"text-align: right;\">\n",
       "      <th></th>\n",
       "      <th>en_sent</th>\n",
       "      <th>ru_sent</th>\n",
       "      <th>api</th>\n",
       "    </tr>\n",
       "  </thead>\n",
       "  <tbody>\n",
       "    <tr>\n",
       "      <th>1</th>\n",
       "      <td>Did the alarm clock go off?</td>\n",
       "      <td>Будильник звонил?</td>\n",
       "      <td>Сработал будильник?</td>\n",
       "    </tr>\n",
       "    <tr>\n",
       "      <th>2</th>\n",
       "      <td>It's time to get up.</td>\n",
       "      <td>Время вставать!</td>\n",
       "      <td>Пора вставать.</td>\n",
       "    </tr>\n",
       "    <tr>\n",
       "      <th>3</th>\n",
       "      <td>Get up soon.</td>\n",
       "      <td>Вставай быстрее.</td>\n",
       "      <td>Скоро вставайте.</td>\n",
       "    </tr>\n",
       "    <tr>\n",
       "      <th>4</th>\n",
       "      <td>Are you awake?</td>\n",
       "      <td>Ты проснулся?</td>\n",
       "      <td>Ты не спишь?</td>\n",
       "    </tr>\n",
       "    <tr>\n",
       "      <th>5</th>\n",
       "      <td>Are you feeling sick?</td>\n",
       "      <td>Ты болен?</td>\n",
       "      <td>Тебе плохо?</td>\n",
       "    </tr>\n",
       "  </tbody>\n",
       "</table>\n",
       "</div>"
      ],
      "text/plain": [
       "                       en_sent            ru_sent                  api\n",
       "1  Did the alarm clock go off?  Будильник звонил?  Сработал будильник?\n",
       "2         It's time to get up.    Время вставать!       Пора вставать.\n",
       "3                 Get up soon.   Вставай быстрее.     Скоро вставайте.\n",
       "4               Are you awake?      Ты проснулся?         Ты не спишь?\n",
       "5        Are you feeling sick?          Ты болен?          Тебе плохо?"
      ]
     },
     "execution_count": 233,
     "metadata": {},
     "output_type": "execute_result"
    }
   ],
   "source": [
    "diff.head()"
   ]
  },
  {
   "cell_type": "code",
   "execution_count": 234,
   "id": "226b71d1",
   "metadata": {},
   "outputs": [
    {
     "data": {
      "text/plain": [
       "(2096, 3)"
      ]
     },
     "execution_count": 234,
     "metadata": {},
     "output_type": "execute_result"
    }
   ],
   "source": [
    "diff.shape"
   ]
  },
  {
   "cell_type": "code",
   "execution_count": 235,
   "id": "61577fff",
   "metadata": {},
   "outputs": [],
   "source": [
    "diff.to_excel('diff_translated_normal.xlsx')"
   ]
  },
  {
   "cell_type": "markdown",
   "id": "e99890fc",
   "metadata": {},
   "source": [
    "## Тестовый корпус для используемой модели"
   ]
  },
  {
   "cell_type": "markdown",
   "id": "4a091b46",
   "metadata": {},
   "source": [
    "###  Парсер тестового корпуса предложений"
   ]
  },
  {
   "cell_type": "code",
   "execution_count": 21,
   "id": "7faffb92",
   "metadata": {},
   "outputs": [
    {
     "data": {
      "text/html": [
       "<div>\n",
       "<style scoped>\n",
       "    .dataframe tbody tr th:only-of-type {\n",
       "        vertical-align: middle;\n",
       "    }\n",
       "\n",
       "    .dataframe tbody tr th {\n",
       "        vertical-align: top;\n",
       "    }\n",
       "\n",
       "    .dataframe thead th {\n",
       "        text-align: right;\n",
       "    }\n",
       "</style>\n",
       "<table border=\"1\" class=\"dataframe\">\n",
       "  <thead>\n",
       "    <tr style=\"text-align: right;\">\n",
       "      <th></th>\n",
       "      <th>en</th>\n",
       "      <th>ru</th>\n",
       "    </tr>\n",
       "  </thead>\n",
       "  <tbody>\n",
       "    <tr>\n",
       "      <th>0</th>\n",
       "      <td>Have you ever been to Switzerland?</td>\n",
       "      <td>Ты уже бывал в Швейцарии?</td>\n",
       "    </tr>\n",
       "    <tr>\n",
       "      <th>1</th>\n",
       "      <td>She learned quickly.</td>\n",
       "      <td>Она быстро училась.</td>\n",
       "    </tr>\n",
       "    <tr>\n",
       "      <th>2</th>\n",
       "      <td>No one tried to stop me.</td>\n",
       "      <td>Никто не пытался меня остановить.</td>\n",
       "    </tr>\n",
       "    <tr>\n",
       "      <th>3</th>\n",
       "      <td>Guilds were an important part of society in th...</td>\n",
       "      <td>Гильдии были важной частью общества в Средние ...</td>\n",
       "    </tr>\n",
       "    <tr>\n",
       "      <th>4</th>\n",
       "      <td>You say that it is your custom to burn widows....</td>\n",
       "      <td>Вы говорите, что сжигать вдов - ваш обычай. Оч...</td>\n",
       "    </tr>\n",
       "  </tbody>\n",
       "</table>\n",
       "</div>"
      ],
      "text/plain": [
       "                                                  en  \\\n",
       "0                 Have you ever been to Switzerland?   \n",
       "1                               She learned quickly.   \n",
       "2                           No one tried to stop me.   \n",
       "3  Guilds were an important part of society in th...   \n",
       "4  You say that it is your custom to burn widows....   \n",
       "\n",
       "                                                  ru  \n",
       "0                          Ты уже бывал в Швейцарии?  \n",
       "1                                Она быстро училась.  \n",
       "2                  Никто не пытался меня остановить.  \n",
       "3  Гильдии были важной частью общества в Средние ...  \n",
       "4  Вы говорите, что сжигать вдов - ваш обычай. Оч...  "
      ]
     },
     "execution_count": 21,
     "metadata": {},
     "output_type": "execute_result"
    }
   ],
   "source": [
    "import codecs\n",
    "\n",
    "with codecs.open(\"test_en-ru_opus_1-src_2-tgt_3-translation.txt\", \"r\", \"utf_8_sig\") as f:\n",
    "    text = f.readlines()\n",
    "text = [(src.strip(), tgt.strip()) for src, tgt in zip(text[0::4], text[1::4])]\n",
    "text = pd.DataFrame(text, columns=['en', 'ru'])\n",
    "text.head()"
   ]
  },
  {
   "cell_type": "code",
   "execution_count": 22,
   "id": "5144a335",
   "metadata": {},
   "outputs": [],
   "source": [
    "text.to_excel('test_opus_en-ru_dataset.xlsx')"
   ]
  }
 ],
 "metadata": {
  "kernelspec": {
   "display_name": "Python 3 (ipykernel)",
   "language": "python",
   "name": "python3"
  },
  "language_info": {
   "codemirror_mode": {
    "name": "ipython",
    "version": 3
   },
   "file_extension": ".py",
   "mimetype": "text/x-python",
   "name": "python",
   "nbconvert_exporter": "python",
   "pygments_lexer": "ipython3",
   "version": "3.9.7"
  }
 },
 "nbformat": 4,
 "nbformat_minor": 5
}
