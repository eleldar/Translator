{
 "cells": [
  {
   "cell_type": "code",
   "execution_count": 1,
   "id": "9abeb8f6",
   "metadata": {},
   "outputs": [],
   "source": [
    "import pandas as pd"
   ]
  },
  {
   "cell_type": "markdown",
   "id": "b023401c",
   "metadata": {},
   "source": [
    "---"
   ]
  },
  {
   "cell_type": "markdown",
   "id": "5b955c55",
   "metadata": {},
   "source": [
    "# Подготовка предложений"
   ]
  },
  {
   "cell_type": "markdown",
   "id": "30c15570",
   "metadata": {},
   "source": [
    "> Для английского языка до разрыва строки можно размещать нескольких предложений (абзацы), поскольку в скрипте реализовано разбиение английского текста на предложения и модель en-ru может выполнять пакетную обработку предложений. \n",
    "\n",
    "> Для арабского языка до разрыва строки можно размещать только одно предложение (без точки \".\", т.к. знаки препинания в арабском имеют иное начертание, например: نُقْطَةٌ - точка, عَلامةُ استِفْهامٍ - вопросительный знак, عَلامَةُ تَعَجُّبٍ - восклицательный знак)!"
   ]
  },
  {
   "cell_type": "markdown",
   "id": "1095b302",
   "metadata": {},
   "source": [
    "## Арабский текст (input.ar)\n"
   ]
  },
  {
   "cell_type": "code",
   "execution_count": 2,
   "id": "9cbcd3f6",
   "metadata": {},
   "outputs": [],
   "source": [
    "# запись\n",
    "file = pd.ExcelFile('../../test_dataset/test_dataset.xlsx')\n",
    "df = file.parse()\n",
    "text = []\n",
    "s = 0\n",
    "for sent in df.iloc[:]['Арабский']:   \n",
    "    tmp = sent.replace('\\n', ' ').strip()\n",
    "    text.extend(tmp.split('.')) # убираем точку\n",
    "text = [t.strip() for t in text if t]\n",
    "with open(\"input.ar\", 'w', encoding=\"utf-8\") as f:\n",
    "    f.write('\\n'.join(text) + '\\n')"
   ]
  },
  {
   "cell_type": "code",
   "execution_count": 3,
   "id": "8ac996a5",
   "metadata": {},
   "outputs": [
    {
     "name": "stdout",
     "output_type": "stream",
     "text": [
      "حُلت تلك القضية بذات الدليل الذي وجدوه منذ 10 سنوات على الأقل، فإذا كانت العدالة هي شكل من أشكال الردع لمنع الناس من ارتكاب الجرائم، فإن الإفلات من العقاب في كولومبيا حافز مشجع على اقتراف الجُرم إذا كان من العسير أن يُدان أحدهم، حتى لو كان مُذنبًا\n",
      " يجب على الدولة أن تُدين علانية العنف ضد الصحفيين، وتجري التحقيقات، وتُحاكم المدانين بمصداقية، للقصاص منهم، وردع من تسول له نفسه لارتكاب ذات الجرم في المستقبل\n",
      " تبنت [الحكومة] الكولومبية برنامج لحماية الصحفيين تحت التهديد، والذي مازال قائمًا حتى الآن، ولكن للبرنامج سجل متضارب خاصة بعد أن فقد الصحفيون الثقة به إثر التأكد من تواطؤ بين قوات الأمن المسؤولة عن تنفيذ البرنامج ومُستهدفي الصحفيين\n",
      "\n"
     ]
    }
   ],
   "source": [
    "# чтение первых 3 предложений\n",
    "with open(\"input.ar\", encoding='utf-8') as f:\n",
    "    file = f.readlines()\n",
    "print(*file[:3])"
   ]
  },
  {
   "cell_type": "markdown",
   "id": "29fe9b5a",
   "metadata": {},
   "source": [
    "## Английский текст (input.en)"
   ]
  },
  {
   "cell_type": "code",
   "execution_count": 4,
   "id": "9b9c004b",
   "metadata": {},
   "outputs": [],
   "source": [
    "# запись\n",
    "file = pd.ExcelFile('../../test_dataset/test_dataset.xlsx')\n",
    "df = file.parse()\n",
    "text = []\n",
    "for sent in df.iloc[:]['Английский ']:\n",
    "    text.append(sent.strip())\n",
    "with open(\"input.en\", 'w', encoding=\"utf-8\") as f:\n",
    "    f.write('\\n'.join(text) + '\\n')"
   ]
  },
  {
   "cell_type": "code",
   "execution_count": 5,
   "id": "8350cf42",
   "metadata": {
    "scrolled": true
   },
   "outputs": [
    {
     "name": "stdout",
     "output_type": "stream",
     "text": [
      "This case was resolved with the same evidence that they had at least 10 years before. If justice is a form of dissuasion to prevent people from committing crimes, impunity in Colombia is almost an incentive, because it is really difficult that someone is convicted even though they are guilty.\r\n",
      " Authorities must publicly denounce violence on journalists, investigate, and prosecute them in a credible manner to punish those responsible and deter future similar crimes.\r\n",
      " Indeed, [the government of] Colombia adopted a protection program for journalists under threat, which is still running today. But the program has a mixed record, especially after journalists lost trust in it because of strong evidence of collusion between security forces running the program and those targeting journalists.\r\n",
      "\n"
     ]
    }
   ],
   "source": [
    "# чтение первых 3 абзацев\n",
    "with open(\"input.en\", encoding='utf-8', newline='') as f:\n",
    "    file = f.readlines()\n",
    "print(*file[:3])"
   ]
  },
  {
   "cell_type": "markdown",
   "id": "6faf1501",
   "metadata": {},
   "source": [
    "## Русский текст (input.ru)"
   ]
  },
  {
   "cell_type": "code",
   "execution_count": 6,
   "id": "8483695f",
   "metadata": {},
   "outputs": [],
   "source": [
    "# запись\n",
    "file = pd.ExcelFile('../../test_dataset/test_dataset.xlsx')\n",
    "df = file.parse()\n",
    "text = []\n",
    "for sent in df.iloc[:]['Русский']:\n",
    "    text.append(sent.replace('\\n', ' ').strip())\n",
    "with open(\"input.ru\", 'w', encoding=\"utf-8\") as f:\n",
    "    f.write('\\n'.join(text) + '\\n')"
   ]
  },
  {
   "cell_type": "code",
   "execution_count": 7,
   "id": "dbc66e5b",
   "metadata": {},
   "outputs": [
    {
     "name": "stdout",
     "output_type": "stream",
     "text": [
      "Это дело закрыли с теми же доказательствами, что у них имелись по крайней мере 10 лет назад. Если правосудие — это форма сдерживания людей от совершения преступлений, то безнаказанность в Колумбии — это почти стимул для злоумышленников, потому что крайне трудно осудить человека, даже если известно, что он виновен.\r\n",
      " Правительство должно публично осуждать насилие над репортёрами, проводить расследования и привлекать к реальной ответственности виновных, чтобы предотвратить подобные преступления в будущем.\r\n",
      " Конечно, [правительство] Колумбии утвердило программу по защите журналистов, находящихся под угрозой, которая действует и по сей день. Но у данной программы довольно противоречивые результаты, особенно после того, как репортёры потеряли к ней доверие, учитывая веские доказательства сговора между силами безопасности, осуществляющими программу, и теми, кто преследует журналистов.\r\n",
      "\n"
     ]
    }
   ],
   "source": [
    "# чтение первых 3 абзацев\n",
    "with open(\"input.ru\", encoding='utf-8', newline='') as f:\n",
    "    file = f.readlines()\n",
    "print(*file[:3])"
   ]
  },
  {
   "cell_type": "markdown",
   "id": "68200e80",
   "metadata": {},
   "source": [
    "---"
   ]
  },
  {
   "cell_type": "markdown",
   "id": "9ff20ae7",
   "metadata": {},
   "source": [
    "# Предобработка текста, поступающая в предобученные модели"
   ]
  },
  {
   "cell_type": "markdown",
   "id": "1e46049e",
   "metadata": {},
   "source": [
    "## Арабский"
   ]
  },
  {
   "cell_type": "markdown",
   "id": "030c411a",
   "metadata": {},
   "source": [
    "## Английский"
   ]
  },
  {
   "cell_type": "code",
   "execution_count": 8,
   "id": "b70bd192",
   "metadata": {},
   "outputs": [],
   "source": [
    "t = '▁This ▁case ▁was ▁resolved ▁with ▁the ▁same ▁evidence ▁that ▁they ▁had ▁at ▁least ▁10 ▁years ▁before . ▁If ▁justice ▁is ▁a ▁form ▁of ▁dis s ua sion ▁to ▁prevent ▁people ▁from ▁committing ▁crimes , ▁impunity ▁in ▁Colombia ▁is ▁almost ▁an ▁incentive , ▁because ▁it ▁is ▁really ▁difficult ▁that ▁someone ▁is ▁convicted ▁even ▁though ▁they ▁are ▁guilty .'"
   ]
  },
  {
   "cell_type": "code",
   "execution_count": 9,
   "id": "fc9def64",
   "metadata": {},
   "outputs": [
    {
     "data": {
      "text/plain": [
       "9601"
      ]
     },
     "execution_count": 9,
     "metadata": {},
     "output_type": "execute_result"
    }
   ],
   "source": [
    "ord(t[0])"
   ]
  },
  {
   "cell_type": "code",
   "execution_count": 10,
   "id": "aac1f9d9",
   "metadata": {},
   "outputs": [
    {
     "data": {
      "text/plain": [
       "32"
      ]
     },
     "execution_count": 10,
     "metadata": {},
     "output_type": "execute_result"
    }
   ],
   "source": [
    "ord(t[5])"
   ]
  },
  {
   "cell_type": "code",
   "execution_count": 11,
   "id": "56a3564f",
   "metadata": {},
   "outputs": [
    {
     "name": "stdout",
     "output_type": "stream",
     "text": [
      "32\n"
     ]
    }
   ],
   "source": [
    "print(ord(' '))"
   ]
  },
  {
   "cell_type": "markdown",
   "id": "a7eb5f9f",
   "metadata": {},
   "source": [
    "## Русский"
   ]
  },
  {
   "cell_type": "markdown",
   "id": "b8d4a752",
   "metadata": {},
   "source": [
    "---"
   ]
  },
  {
   "cell_type": "markdown",
   "id": "326fa42f",
   "metadata": {},
   "source": [
    "# Постобработка текста, поступающая из модели"
   ]
  },
  {
   "cell_type": "markdown",
   "id": "ebf152b7",
   "metadata": {},
   "source": [
    "## Арабский"
   ]
  },
  {
   "cell_type": "markdown",
   "id": "ae96c652",
   "metadata": {},
   "source": [
    "## Английский"
   ]
  },
  {
   "cell_type": "markdown",
   "id": "942d8137",
   "metadata": {},
   "source": [
    "## Русский"
   ]
  },
  {
   "cell_type": "markdown",
   "id": "b173979a",
   "metadata": {},
   "source": [
    "---"
   ]
  },
  {
   "cell_type": "markdown",
   "id": "d92f7074",
   "metadata": {},
   "source": [
    "# Результаты переводов"
   ]
  },
  {
   "cell_type": "markdown",
   "id": "7a76d5cb",
   "metadata": {},
   "source": [
    "## Англо-русский"
   ]
  },
  {
   "cell_type": "markdown",
   "id": "30dab0ef",
   "metadata": {},
   "source": [
    "| Английский | Модель en-ru | Русский |\n",
    "| --- | --- | --- |\n",
    "| This case was resolved with the same evidence that they had at least 10 years before. If justice is a form of dissuasion to prevent people from committing crimes, impunity in Colombia is almost an incentive, because it is really difficult that someone is convicted even though they are guilty. | Это дело было урегулировано с использованием тех же доказательств, что и по меньшей мере 10 лет назад. Если правосудие является одной из форм устрашения, чтобы не допустить совершения людьми преступлений, то безнаказанность в Колумбии является практически стимулом, поскольку действительно трудно, чтобы кто-то был осужден, даже несмотря на то, что он виновен. | Это дело закрыли с теми же доказательствами, что у них имелись по крайней мере 10 лет назад. Если правосудие — это форма сдерживания людей от совершения преступлений, то безнаказанность в Колумбии — это почти стимул для злоумышленников, потому что крайне трудно осудить человека, даже если известно, что он виновен. |"
   ]
  },
  {
   "cell_type": "markdown",
   "id": "e6698bb7",
   "metadata": {},
   "source": [
    "## Арабско-русский"
   ]
  },
  {
   "cell_type": "code",
   "execution_count": null,
   "id": "a14d7cae",
   "metadata": {},
   "outputs": [],
   "source": []
  }
 ],
 "metadata": {
  "kernelspec": {
   "display_name": "Python 3 (ipykernel)",
   "language": "python",
   "name": "python3"
  },
  "language_info": {
   "codemirror_mode": {
    "name": "ipython",
    "version": 3
   },
   "file_extension": ".py",
   "mimetype": "text/x-python",
   "name": "python",
   "nbconvert_exporter": "python",
   "pygments_lexer": "ipython3",
   "version": "3.9.7"
  }
 },
 "nbformat": 4,
 "nbformat_minor": 5
}
