{
 "cells": [
  {
   "cell_type": "markdown",
   "id": "86a661b4",
   "metadata": {},
   "source": [
    "# Анализ работы API (CPU vs GPU)"
   ]
  },
  {
   "cell_type": "code",
   "execution_count": 8,
   "id": "59f2cd33",
   "metadata": {},
   "outputs": [],
   "source": [
    "import os\n",
    "import requests\n",
    "from sentence_splitter import SentenceSplitter, split_text_into_sentences\n",
    "import time"
   ]
  },
  {
   "cell_type": "markdown",
   "id": "49287753",
   "metadata": {},
   "source": [
    "## CPU"
   ]
  },
  {
   "cell_type": "markdown",
   "id": "596ce851",
   "metadata": {},
   "source": [
    "### CPU - без переключения на device\n",
    "> CPU - 10 CPU & 16 RAM"
   ]
  },
  {
   "cell_type": "markdown",
   "id": "3c64ed9b",
   "metadata": {},
   "source": [
    "#### Английский"
   ]
  },
  {
   "cell_type": "code",
   "execution_count": 11,
   "id": "d1a5cb07",
   "metadata": {},
   "outputs": [
    {
     "name": "stdout",
     "output_type": "stream",
     "text": [
      "1 This case was resolved with the same evidence that...Это дело было урегулировано с использованием тех ж\n",
      "2 If justice is a form of dissuasion to prevent peop...Если правосудие является одной из форм устрашения \n",
      "3 Authorities must publicly denounce violence on jou...Власти должны публично осудить насилие в отношении\n",
      "4 Indeed, [the government of] Colombia adopted a pro...Действительно, [правительство] Колумбии приняло пр\n",
      "5 But the program has a mixed record, especially aft...Но эта программа имеет смешанный послужной список,\n",
      "6 In September, the People's Party presented a draft...В сентябре Народная партия представила на рассмотр\n",
      "7 While the law is still under review, its proponent...Хотя этот закон все еще находится на рассмотрении,\n",
      "8 After a deadly shooting in Almaty, the country's l...После смертельной стрельбы в Алма-Ате, крупнейшем \n",
      "9 I also learned a lot along the way about the craft...Я также многому научился на пути к искусству литер\n",
      "10 I'm still learning, I believe....Я все еще учусь, полагаю.\n",
      "11 The commercial side of things was a steep learning...Коммерческая сторона вещей также была крутой криво\n",
      "12 So, beyond the craft and commercial aspects, I lea...Так что, помимо ремесленных и коммерческих аспекто\n",
      "13 Finally, I want to do and be more of what I'd like...Наконец-то, я хочу сделать больше того, что хотел \n",
      "14 So, if I want to see more diverse South Asian book...Так что, если я хочу увидеть, как принимают и чита\n",
      "15 I find it more productive to put out positive ener...Я считаю более продуктивным использовать позитивну\n",
      "16 Right now, it's a solo venture because I can't aff...Прямо сейчас, это сольное предприятие, потому что \n",
      "17 Let's see....Посмотрим.\n",
      "18 The story is not about prisoners health, but the h...Речь идет не о здоровье заключенных, а о здоровье \n",
      "19 It is a story of oppressive tools passed down for ...Это история о репрессивных инструментах, переданны\n",
      "20 The total negation of the voice and body is the im...Полное отрицание голоса и тела является импульсом \n",
      "21 We think of an enmity as a willful decision to pur...Мы думаем о вражде как о сознательном решении вест\n",
      "22 When the feud rages, you dont see or try to unders...Когда вражда бушует, ты не видишь и не пытаешься п\n",
      "23 I become an object, something to be eliminated, de...Я становлюсь объектом, что-то, что должно быть уни\n",
      "24 An enmitys legacy is the price paid by all bodies,...Враждебное наследие - это цена, которую платят все\n",
      "25 How do we protect our childrens bodies from this l...Как защитить тела наших детей от этого наследия тю\n",
      "26 The solution does not stop with the release of det...Решение этой проблемы не ограничивается освобожден\n",
      "27 It starts with release, but must end with an imagi...Она начинается с освобождения, но должна закончить\n",
      "28 Although the Russian hydrogen strategy is the most...Хотя российская водородная стратегия является самы\n",
      "29 In fact, just like many other similar documents th...На самом деле, как и многие другие аналогичные док\n",
      "30 Dubbed by some the Swiss army knife of fuels, hydr...Водород, поверженный некоторыми швейцарскими армей\n",
      "31 As the universes most abundant element, it will ne...Поскольку вселенная является самым богатым элемент\n",
      "32 It can transform one form of energy (electrical) i...Она может преобразовывать одну форму энергии (элек\n",
      "33 Most remarkably, however, it does not emit carbon ...Однако самое удивительное заключается в том, что о\n",
      "34 In fact, it generates only water as a byproduct....На самом деле, она производит только воду в качест\n",
      "35 Many young Syrians have left southern Syria since ...Многие молодые сирийцы покинули южную часть Сирии \n",
      "36 Many of them sold their valuables in Syria to get ...Многие из них продали свои ценности в Сирии, чтобы\n",
      "37 But many never completed the journey....Но многие так и не завершили это путешествие.\n",
      "38 We were about to reach the Italian coast, when a s...Мы собирались добраться до итальянского побережья,\n",
      "39 They started pointing towards us....Они начали указывать на нас.\n",
      "40 We decided to escape, but the ship lowered a small...Мы решили сбежать, но корабль опустился на маленьк\n",
      "41 The ship approached us then, and they transferred ...Корабль подошел к нам тогда, и они перевели нас ту\n",
      "42 The European Union is responsible for Libyas barba...Европейский союз несет ответственность за варварст\n",
      "43 In Perus June elections, misinformation circulated...В ходе выборов в Перу в июне дезинформация распрос\n",
      "44 In addition to false information, real information...Помимо ложной информации, реальная информация мани\n",
      "45 For example, news circulated about the registry vo...Например, распространялись сообщения о списках изб\n",
      "46 Disinformation abounded during these protests as w...В ходе этих протестов, как, например, во время дем\n",
      "47 Local sources reported that hundreds of videos, au...Местные источники сообщили, что сотни видео, аудио\n",
      "48 Violence also takes place outside of the context o...Насилие также имеет место вне контекста публичных \n",
      "49 Stigmatizing speech and verbal attacks against the...Противоречия и словесные нападки на прессу все чащ\n",
      "50 At least four journalists have been murdered since...С января 2021 года в Латинской Америке было убито \n",
      "51 Now that the Taliban have full control, Afghan cit...Теперь, когда &lt; &lt; Талибан &gt; &gt; полность\n",
      "52 I saw men with turbans on their heads, and rifles ...Я видел людей с тюрбанами на головах и винтовками \n",
      "53 It was then that I decided to find a safer place f...Тогда я решил найти более безопасное место для сво\n",
      "54 I left for Pakistan, crossing the Chaman border ga...Я уехала в Пакистан, пересекая границы с Чаманом.\n",
      "55 The residents of Spin Boldak knew they could not c...Жители Спин-Болдака знали, что они не могут продол\n",
      "56 One of the groups most affected by the decades-lon...Одной из групп, в наибольшей степени пострадавших \n",
      "57 They fear that the loss of their lifestyles and th...Они опасаются, что утрата их образа жизни и их дос\n",
      "58 In recent years, as sex education curriculums rema...В последние годы, поскольку учебные программы по п\n",
      "59 In the rest of the Arab world, sex education is co...В остальной части арабского мира половое воспитани\n",
      "60 Meanwhile, conversations about sexuality, fertilit...Между тем разговоры о сексуальности, фертильности,\n",
      "61 If we continue to avoid these conversations and to...Если мы и впредь будем избегать этих разговоров и \n",
      "62 We are doing girls a huge disservice by keeping th...Мы оказываем девочкам огромную плохую услугу, удер\n",
      "63 They ask for donations after an earthquake, flood,...Они просят о пожертвованиях после землетрясения, н\n",
      "64 Of course we will do what is in our power to help ...Конечно, мы будем делать то, что в наших силах, чт\n",
      "65 The multiethnic population of Khuzestan, which inc...Мультиэтническое население Хузестана, в состав кот\n",
      "66 Since protests began, rallies have rippled across ...С момента начала протестов митинги охватили нескол\n",
      "67 The new protests belong to the lower middle class ...Новые протесты относятся к низшему среднему классу\n",
      "68 While the protesters in the last two decades had, ...В то время как протестующие за последние два десят\n",
      "**********************************************************************************************************\n",
      "preproc: 2.73 ms, среднее: 0.040 ms\n",
      "token: 51.36 ms, среднее: 0.755 ms\n",
      "generate: 108188.10 ms, среднее: 1591.002 ms\n",
      "decode: 150.56 ms, среднее: 2.214 ms\n",
      "memory: 1160.36 Mb, среднее: 17.06405 Mb\n",
      "предложений: 68\n",
      "Затрачено времени: 218.83 сек.\n"
     ]
    }
   ],
   "source": [
    "sourceid=\"en\"\n",
    "targetid=\"ru\"\n",
    "source = f'input.{sourceid}'\n",
    "target = f'api-output.en-{targetid}'\n",
    "url = 'http://10.239.16.89:60001/api/translation' \n",
    "headers = {'accept': 'application/json',\n",
    "           'Content-Type': 'application/json',\n",
    "}\n",
    "with open(source, encoding='utf-8') as f:\n",
    "    text = f.readlines()\n",
    "text = (\" \".join([i.strip() for i in text]))\n",
    "text = split_text_into_sentences(text, language=sourceid)\n",
    "\n",
    "result = []\n",
    "n = 0\n",
    "all_time = 0\n",
    "measure = {\"preproc\": [], \"token\": [], \"generate\": [], \"decode\": [], \"memory_start\": [], \"memory_end\": [], \"memory\": []}\n",
    "for sent in text:\n",
    "    start = time.time() # начало замера времени\n",
    "    n += 1\n",
    "    sent = sent.replace('\"', '\\\\\"').encode('ascii', errors='ignore').decode(\"utf-8\")\n",
    "    print(n, sent[:50], end='...')\n",
    "    data = '{ \\\"text\\\": \\\"'+sent+'\\\", \\\"sourceLanguage\\\": \\\"'+sourceid+'\\\", \\\"targetLanguage\\\": \\\"'+targetid+'\\\"}'\n",
    "    answer = requests.post(url, headers=headers, data=data).json()['message']\n",
    "    test = requests.post(url, headers=headers, data=data).json()['test']\n",
    "    measure[\"preproc\"].append(test[\"preproc\"])\n",
    "    measure[\"token\"].append(test[\"token\"])\n",
    "    measure[\"generate\"].append(test[\"generate\"])\n",
    "    measure[\"decode\"].append(test[\"decode\"])\n",
    "    measure[\"memory\"].append(test[\"memory\"])\n",
    "\n",
    "    end = time.time() # окончание замера времени\n",
    "    all_time += (end - start) # фиксация затраченного времени\n",
    "    print(answer[:50])\n",
    "    result.append(answer)\n",
    "    \n",
    "with open(f'new_{target}', 'w', encoding='utf-8') as f:\n",
    "    f.write(\"\\n\".join(result) + '\\n')\n",
    "\n",
    "preproc = f'{sum(measure[\"preproc\"] * 1000):.2f} ms, среднее: {sum(measure[\"preproc\"]) * 1000 / len(measure[\"preproc\"]):.3f} ms'\n",
    "token = f'{sum(measure[\"token\"] * 1000):.2f} ms, среднее: {sum(measure[\"token\"]) * 1000 / len(measure[\"token\"]):.3f} ms'\n",
    "generate = f'{sum(measure[\"generate\"] * 1000):.2f} ms, среднее: {sum(measure[\"generate\"]) * 1000 / len(measure[\"generate\"]):.3f} ms'\n",
    "decode = f'{sum(measure[\"decode\"] * 1000):.2f} ms, среднее: {sum(measure[\"decode\"]) * 1000 / len(measure[\"decode\"]):.3f} ms'\n",
    "memory = f'{sum(measure[\"memory\"]) / (1024 * 1024):.2f} Mb, среднее: {sum(measure[\"memory\"]) / len(measure[\"memory\"]) / (1024 * 1024):.5f} Mb'\n",
    "\n",
    "print('*' * 106)\n",
    "print(f'preproc: {preproc}\\ntoken: {token}\\ngenerate: {generate}\\ndecode: {decode}\\nmemory: {memory}\\nпредложений: {len(measure[\"preproc\"])}')\n",
    "print(f'Затрачено времени: {all_time:.2f} сек.')"
   ]
  },
  {
   "cell_type": "markdown",
   "id": "0309908b",
   "metadata": {},
   "source": [
    "#### Арабский"
   ]
  },
  {
   "cell_type": "code",
   "execution_count": 12,
   "id": "452d43ad",
   "metadata": {},
   "outputs": [
    {
     "name": "stdout",
     "output_type": "stream",
     "text": [
      "1 Ø­ÙÙØª ØªÙÙ Ø§ÙÙØ¶ÙØ© Ø¨Ø°Ø§Øª Ø§ÙØ¯ÙÙÙ...Это дело было раскрыто теми же доказательствами, ч\n",
      "2 ÙØ¬Ø¨ Ø¹ÙÙ Ø§ÙØ¯ÙÙØ© Ø£Ù ØªÙØ¯ÙÙ Ø¹ÙØ§Ù...Государство должно публично осудить насилие в отно\n",
      "3 ØªØ¨ÙØª [Ø§ÙØ­ÙÙÙ",
      "Ø©] Ø§ÙÙÙÙÙÙ",
      "Ø¨ÙØ© Ø¨Ø...Колумбийское [правительство] приняло программу защ\n",
      "4 ÙÙ Ø³Ø¨ØªÙ",
      "Ø¨Ø±/Ø£ÙÙÙÙØ ÙØ¯ÙÙ",
      " Ø­Ø²Ø¨ Ø§Ù...В сентябре Народная партия представила парламенту \n",
      "5 ÙÙ",
      "Ø¹ Ø£Ù Ø§ÙÙØ§ÙÙÙ ÙØ§ ÙØ²Ø§Ù ÙÙØ¯ Ø§...Хотя этот закон все еще находится на рассмотрении,\n",
      "6 ÙØ¹ÙØ¨ Ø­Ø¯ÙØ« Ø·ÙÙ ÙØ§Ø±ÙÙ Ù",
      "Ù",
      "ÙØª ÙÙ ...После того, как в Алматы, крупнейшем городе страны\n",
      "7 ØªØ¹ÙÙ",
      "Øª Ø£ÙØ¶ÙØ§ Ø§ÙÙØ«ÙØ± Ù",
      "Ù Ø§ÙØ£Ø´Ù...Я также многому научился на пути к литературному п\n",
      "8 ÙØ£Ø¤Ù",
      "Ù Ø£ÙÙÙ ÙØ§ Ø£Ø²Ø§Ù Ø£ØªØ¹ÙÙ",
      "...И я верю, что все еще учусь.\n",
      "9 ÙØ§Ù Ø§ÙØ¬Ø§ÙØ¨ Ø§ÙØªØ¬Ø§Ø±Ù Ø·Ø±ÙÙÙØ§ Ø´...Коммерческая сторона была очень труднодоступной с \n",
      "10 Ø¨Ø¯Ø£Øª Ù",
      "Ø´Ø±ÙØ¹ Ø§ÙÙØªØ§Ø¨ Ø¹Ø§Ù",
      " 2017 ÙÙÙ...Проект книги был начат в 2017 году, и он наконец-т\n",
      "11 ÙØ°Ø§Ø Ø¹ÙØ§ÙØ© Ø¹ÙÙ Ø§ÙØ¬ÙØ§ÙØ¨ Ø§ÙØ­Ø±...Так что, помимо ремесленных и коммерческих аспекто\n",
      "12 ÙØ£Ø®ÙØ±ÙØ§Ø Ø£Ø±ÙØ¯ Ø£Ù Ø£ÙÙÙ ÙØ£ÙØ¹Ù...И наконец, я хочу быть и делать то, что хочу видет\n",
      "13 ÙØ¥Ø°Ø§ ÙÙØªÙ Ø£Ø±ÙØ¯ Ù",
      "Ø²ÙØ¯ÙØ§ Ù",
      "Ù Ø§ÙÙ...Если я хочу, чтобы в Южной Азии было больше разных\n",
      "14 Ø£Ø±Ù Ø£Ù Ø¨Ø°Ù Ø§ÙØ·Ø§ÙØ© Ø§ÙØ¥ÙØ¬Ø§Ø¨ÙØ©...Я считаю, что позитивная энергия в этой работе бол\n",
      "15 Ø­Ø§ÙÙÙØ§Ø ÙÙØ¹Ø¯ Ø§ÙØ£Ù",
      "Ø± Ù",
      "Ø¬Ø§Ø²ÙØ© Ù...На данный момент, это индивидуальный риск, потому \n",
      "16 ÙÙØ±Ù...Посмотрим.\n",
      "17 Ø§ÙÙØµØ© ÙØ§ ØªØ®Øµ ØµØ­Ø© Ø§ÙÙ",
      "Ø³Ø§Ø¬ÙÙ Ø¨Ù...История касается не здоровья заключенных, а здоров\n",
      "18 Ø§ÙÙØµØ© ÙÙ Ø£Ø¯ÙØ§Øª ÙÙ",
      "Ø¹ÙØ© ØªÙØ±Ø« Ù",
      "Ù...История о репрессивных инструментах, которые унасл\n",
      "19 Ø§ÙÙÙÙ Ø§ÙØªØ§Ù",
      " ÙÙØµÙØª ÙØ§ÙØ¬Ø³Ø¯ ÙÙ...Полный отказ от голоса и тела - это самое сердце р\n",
      "20 ÙØªØµÙØ± Ø£Ù Ø§ÙÙÙÙ",
      "Ø© ØªØ¹ÙÙ ÙØ±Ø§Ø±ÙØ§...Мы считаем, что слово означает прямое решение прод\n",
      "21 ÙÙÙ Ø¥Ø°Ø§ ÙÙØª ØªØ±Ø§ÙÙ ÙØªØ³Ù",
      "Ø¹ÙÙØ Ø...Но если ты меня видишь и слышишь, шансы на то, что\n",
      "22 ÙØ¥Ù ÙÙ",
      " ÙØ³ØªÙØ¯ Ù",
      "ÙÙØ§Ø ÙØ³ØªÙ",
      "Ø± Ø¹ÙÙ...А если нет, то по крайней мере, мы будем продолжат\n",
      "23 ÙÙ",
      "Ø© Ø§ÙØ®ØµÙÙ",
      "Ø© ÙÙ Ø£ÙØ§ ØªØ±Ø§ÙÙ ÙÙØ...Величайшая вражда заключается в том, чтобы не виде\n",
      "24 Ø§ÙÙØ¬Ø± ÙÙ Ø§ÙØ®ØµÙÙ",
      "Ø© Ù",
      "ÙØ±Ø§Ø« ØªØ¯ÙØ¹...На рассвете ссора - это наследство, за которое пла\n",
      "25 ÙÙÙ ÙØ­Ù",
      "Ù Ø£Ø¬Ø³Ø§Ø¯ Ø£Ø¨ÙØ§Ø¦ÙØ§ Ù",
      "Ù Ù",
      "Ù...Ответ не заканчивается, когда заключенные освобожд\n",
      "26 Ø¹ÙÙ Ø§ÙØ±ØºÙ",
      " Ù",
      "Ù Ø£Ù Ø§Ø³ØªØ±Ø§ØªÙØ¬ÙØ© Ø...Несмотря на то, что российская стратегия по водоро\n",
      "27 ÙÙ Ø§ÙÙØ§ÙØ¹Ø ØªÙ",
      "Ø§Ù",
      "ÙØ§ Ù",
      "Ø«Ù Ø§ÙØ¹Ø¯Ù...На самом деле, как и многие другие аналогичные док\n",
      "28 ÙÙØ·ÙÙ Ø§ÙØ¨Ø¹Ø¶ Ø¹ÙÙ Ø§ÙÙÙØ¯Ø±ÙØ¬ÙÙ ...Некоторые называют водород швейцарским топливным н\n",
      "29 ÙØ¸Ø±ÙØ§ ÙÙÙÙÙ Ø§ÙØ¹ÙØµØ± Ø§ÙØ£ÙØ«Ø± Ù...Учитывая, что это самый богатый элемент во Вселенн\n",
      "30 ÙÙ",
      "ÙÙÙ ØªØ­ÙÙÙ Ø£Ø´ÙØ§Ù Ø§ÙØ·Ø§ÙØ© Ù",
      "Ù...Он может переключить энергию с (электрической) на \n",
      "31 ÙÙ",
      "Ø¹ Ø°ÙÙØ Ù",
      "Ù Ø§ÙÙØ§ÙØª ÙÙÙØ¸Ø± Ø£ÙÙ...Тем не менее, удивительно, что углекислый газ не в\n",
      "32 ÙÙ Ø§ÙÙØ§ÙØ¹Ø ÙØ§ ÙÙÙØ¯ Ø³ÙÙ Ø§ÙÙ",
      "Ø§Ø...На самом деле, только вода образуется как побочный\n",
      "33 Ø´Ø±Ø¹ ÙØ«ÙØ±Ù Ù",
      "Ù Ø§ÙØ´Ø¨Ø§Ù Ø§ÙØ³ÙØ±ÙÙ...Многие сирийские молодые люди начали покидать южну\n",
      "34 ÙØ£ÙØ¨Ù Ø§ÙÙØ«ÙØ±ÙÙ Ù",
      "ÙÙÙ",
      " Ø¹ÙÙ Ø¨ÙØ¹...Многие из них согласились продать свои драгоценные\n",
      "35 ÙØ¯ÙØ§ Ø£Ù ÙÙØªØ±Ø¨ Ù",
      "Ù Ø§ÙØ³ÙØ§Ø­Ù Ø§ÙØ...Мы чуть не приблизились к итальянскому побережью, \n",
      "36 Ø§ÙØ§ØªØ­Ø§Ø¯ Ø§ÙØ£ÙØ±ÙØ¨Ù Ù",
      "Ø³Ø¤ÙÙ Ø¹Ù Ù...Европейский союз несет ответственность за варварст\n",
      "37 Ø¨Ø§ÙØ¥Ø¶Ø§ÙØ© Ø¥ÙÙ Ø§ÙØªØ®Ø§Ø¨Ø§Øª Ø¨ÙØ±Ù ...В дополнение к июньским выборам в Перу, в Интернет\n",
      "38 Ø§ÙØªØ´Ø±Øª Ø§ÙÙ",
      "Ø¹ÙÙÙ",
      "Ø§Øª Ø§ÙÙ",
      "Ø¶ÙÙØ© Ø£Ø...В ходе этих протестов и демонстраций в Колумбии ра\n",
      "39 ÙÙ",
      "Ø§ ÙÙØ¹Øª Ø£Ø¹Ù",
      "Ø§Ù Ø¹ÙÙ Ø®Ø§Ø±Ø¬ ÙØ·Ø§Ù...Кроме того, имели место акты насилия вне рамок мас\n",
      "40 Ø§ÙØ¢ÙØ Ø¨Ø¹Ø¯ Ø³ÙØ·Ø±Ø© Ø·Ø§ÙØ¨Ø§Ù Ø§ÙÙØ§...Теперь, после полного контроля движения < < Талиба\n",
      "41 Ø±Ø£ÙØª Ø±Ø¬Ø§ÙØ§Ù Ø¨Ø¹Ù",
      "Ø§Ù",
      "Ø§Øª Ø¹ÙÙ Ø±Ø¤Ù...Я видел, как мужчины с тюрбанами на головах и ружь\n",
      "42 Ø¹ÙØ¯ÙØ§Ø ÙØ±Ø±Øª Ø£Ù Ø£Ø¬Ø¯ Ù",
      "ÙØ§ÙÙØ§ Ø£Ù...Тогда я решил найти более безопасное место для мое\n",
      "43 ØºØ§Ø¯Ø±Øª Ø¥ÙÙ Ø¨Ø§ÙØ³ØªØ§ÙØ ÙØ¹Ø¨Ø±Øª Ø¨Ù...Отбыла в Пакистан, пересекла пограничный контрольн\n",
      "44 ÙØ§Ù Ø³ÙØ§Ù Ø³Ø¨ÙÙ Ø¨ÙÙØ¯Ø§Ù ÙØ¹ÙÙ",
      "ÙÙ...Жители Спин-Больдака знали, что они не могут жить \n",
      "45 Ø¥Ø­Ø¯Ù Ø§ÙÙØ¦Ø§Øª Ø§ÙØ£ÙØ«Ø± ØªØ¶Ø±Ø±ÙØ§ Ù",
      "...Одна из групп, наиболее пострадавших от этой войны\n",
      "46 ÙØ®Ø´ÙÙ Ù",
      "Ù Ø£Ù ÙÙØ¯Ø§Ù Ø£ÙÙ",
      "Ø§Ø· Ø­ÙØ§Ø...Они опасаются, что при режиме талибов их ждет утра\n",
      "47 Ø®ÙØ§Ù Ø§ÙØ³ÙÙØ§Øª Ø§ÙØ£Ø®ÙØ±Ø©Ø ÙÙÙ",
      "Ø§ ...В последние годы, несмотря на то, что в большинств\n",
      "48 Ø£Ù",
      "Ø§ ÙÙ Ø³Ø§Ø¦Ø± Ø§ÙØ¹Ø§ÙÙ",
      " Ø§ÙØ¹Ø±Ø¨ÙØ Ù...Во всем арабском мире половое воспитание по-прежне\n",
      "49 ÙÙ Ø§ÙÙ",
      "ÙØ§Ø¨ÙØ ØªÙØªØµØ± Ø§ÙØ£Ø­Ø§Ø¯ÙØ« ...С другой стороны, разговоры о сексуальной активнос\n",
      "50 Ø¥Ø°Ø§ Ø§Ø³ØªÙ",
      "Ø±ÙÙÙØ§ Ø¨ØªØ¬ÙØ¨ ÙØ°Ù Ø§ÙØ£...Если мы будем продолжать избегать этих разговоров \n",
      "51 ÙØ­Ù ÙÙØ­Ù Ø¥Ø³Ø§Ø¡Ø© ÙØ§Ø¦ÙØ© Ø¨Ø§ÙÙØªÙ...Мы подвергаем девочек огромному насилию, скрывая о\n",
      "52 ÙØ·ÙØ¨ÙÙ Ø§ÙØªØ¨Ø±Ø¹Ø§Øª Ø¨Ø¹Ø¯ Ø²ÙØ²Ø§ÙØ ...Они просят о пожертвованиях после землетрясения, н\n",
      "53 Ø¨Ø§ÙØ·Ø¨Ø¹ Ø³ÙÙØ¹Ù Ù",
      "Ø§ Ø¨ÙØ³Ø¹ÙØ§ ÙÙ",
      "Ø³Ø§...Конечно, мы сделаем все, что в наших силах, чтобы \n",
      "54 Ø§Ø´ØªÙÙ Ø³ÙØ§Ù Ø®ÙØ²Ø³ØªØ§Ù Ù",
      "ØªØ¹Ø¯Ø¯Ù Ø§...Многоэтнические жители Хузестана, в том числе боль\n",
      "55 Ø§ÙØªØ´Ø±Øª Ø§ÙÙ",
      "Ø³ÙØ±Ø§Øª ÙÙ Ø§ÙØ¹Ø¯ÙØ¯ Ù",
      "...С момента начала протестов во многих других мухафа\n",
      "56 ØªÙØªÙ",
      "Ù Ø§ÙØ§Ø­ØªØ¬Ø§Ø¬Ø§Øª Ø§ÙØ¬Ø¯ÙØ¯Ø© Ø¥Ù...Новые протесты принадлежат к низшему среднему клас\n",
      "57 ÙØ¨ÙÙÙ",
      "Ø§ ÙØ§Ù Ø§ÙÙ",
      "ØªØ¸Ø§ÙØ±ÙÙ ÙÙ Ø§Ù...В то время как в последние два десятилетия демонст\n",
      "**********************************************************************************************************\n",
      "preproc: 2.81 ms, среднее: 0.049 ms\n",
      "token: 49.87 ms, среднее: 0.875 ms\n",
      "generate: 101798.94 ms, среднее: 1785.946 ms\n",
      "decode: 124.80 ms, среднее: 2.189 ms\n",
      "memory: 1104.54 Mb, среднее: 19.37781 Mb\n",
      "предложений: 57\n",
      "Затрачено времени: 205.56 сек.\n"
     ]
    }
   ],
   "source": [
    "sourceid=\"ar\"\n",
    "targetid=\"ru\"\n",
    "source = f'input.{sourceid}'\n",
    "target = f'api-output.en-{targetid}'\n",
    "url = 'http://10.239.16.89:60001/api/translation' \n",
    "headers = {'accept': 'application/json',\n",
    "           'Content-Type': 'application/json',\n",
    "}\n",
    "\n",
    "result = []\n",
    "all_time = 0\n",
    "measure = {\"preproc\": [], \"token\": [], \"generate\": [], \"decode\": [], \"memory_start\": [], \"memory_end\": [], \"memory\": []}\n",
    "with open(source, encoding='utf-8') as f:\n",
    "    n = 0\n",
    "    for i in f:\n",
    "        start = time.time() # начало замера времени\n",
    "        sent = i.strip()\n",
    "        n += 1\n",
    "        sent = sent.encode('utf-8').decode('latin-1', 'ignore')\n",
    "        print(n, sent[:50], end='...')\n",
    "        data = '{\\n  \"text\": \"' + str(sent) + '\",\\n  \"sourceLanguage\": \"' + sourceid + '\",\\n  \"targetLanguage\": \"' + targetid + '\"\\n}'\n",
    "        answer = requests.post(url, headers=headers, data=data).json()['message']\n",
    "        test = requests.post(url, headers=headers, data=data).json()['test']\n",
    "        measure[\"preproc\"].append(test[\"preproc\"])\n",
    "        measure[\"token\"].append(test[\"token\"])\n",
    "        measure[\"generate\"].append(test[\"generate\"])\n",
    "        measure[\"decode\"].append(test[\"decode\"])\n",
    "        measure[\"memory\"].append(test[\"memory\"])\n",
    "\n",
    "        end = time.time() # окончание замера времени\n",
    "        all_time += (end - start) # фиксация затраченного времени\n",
    "        print(answer[:50])\n",
    "        result.append(answer)\n",
    "        \n",
    "with open(f'new_{target}', 'w', encoding='utf-8') as f:\n",
    "    f.write(\"\\n\".join(result) + '\\n')\n",
    "\n",
    "preproc = f'{sum(measure[\"preproc\"] * 1000):.2f} ms, среднее: {sum(measure[\"preproc\"]) * 1000 / len(measure[\"preproc\"]):.3f} ms'\n",
    "token = f'{sum(measure[\"token\"] * 1000):.2f} ms, среднее: {sum(measure[\"token\"]) * 1000 / len(measure[\"token\"]):.3f} ms'\n",
    "generate = f'{sum(measure[\"generate\"] * 1000):.2f} ms, среднее: {sum(measure[\"generate\"]) * 1000 / len(measure[\"generate\"]):.3f} ms'\n",
    "decode = f'{sum(measure[\"decode\"] * 1000):.2f} ms, среднее: {sum(measure[\"decode\"]) * 1000 / len(measure[\"decode\"]):.3f} ms'\n",
    "memory = f'{sum(measure[\"memory\"]) / (1024 * 1024):.2f} Mb, среднее: {sum(measure[\"memory\"]) / len(measure[\"memory\"]) / (1024 * 1024):.5f} Mb'\n",
    "\n",
    "print('*' * 106)\n",
    "print(f'preproc: {preproc}\\ntoken: {token}\\ngenerate: {generate}\\ndecode: {decode}\\nmemory: {memory}\\nпредложений: {len(measure[\"preproc\"])}')\n",
    "print(f'Затрачено времени: {all_time:.2f} сек.')"
   ]
  },
  {
   "cell_type": "markdown",
   "id": "ffbd25aa",
   "metadata": {},
   "source": [
    "### CPU - используется torch.device('cpu')\n",
    "> CPU - 10 CPU & 16 RAM"
   ]
  },
  {
   "cell_type": "markdown",
   "id": "0344bbda",
   "metadata": {},
   "source": [
    "#### Английский"
   ]
  },
  {
   "cell_type": "code",
   "execution_count": 13,
   "id": "f2a50704",
   "metadata": {
    "scrolled": false
   },
   "outputs": [
    {
     "name": "stdout",
     "output_type": "stream",
     "text": [
      "1 This case was resolved with the same evidence that...Это дело было урегулировано с использованием тех ж\n",
      "2 If justice is a form of dissuasion to prevent peop...Если правосудие является одной из форм устрашения \n",
      "3 Authorities must publicly denounce violence on jou...Власти должны публично осудить насилие в отношении\n",
      "4 Indeed, [the government of] Colombia adopted a pro...Действительно, [правительство] Колумбии приняло пр\n",
      "5 But the program has a mixed record, especially aft...Но эта программа имеет смешанный послужной список,\n",
      "6 In September, the People's Party presented a draft...В сентябре Народная партия представила на рассмотр\n",
      "7 While the law is still under review, its proponent...Хотя этот закон все еще находится на рассмотрении,\n",
      "8 After a deadly shooting in Almaty, the country's l...После смертельной стрельбы в Алма-Ате, крупнейшем \n",
      "9 I also learned a lot along the way about the craft...Я также многому научился на пути к искусству литер\n",
      "10 I'm still learning, I believe....Я все еще учусь, полагаю.\n",
      "11 The commercial side of things was a steep learning...Коммерческая сторона вещей также была крутой криво\n",
      "12 So, beyond the craft and commercial aspects, I lea...Так что, помимо ремесленных и коммерческих аспекто\n",
      "13 Finally, I want to do and be more of what I'd like...Наконец-то, я хочу сделать больше того, что хотел \n",
      "14 So, if I want to see more diverse South Asian book...Так что, если я хочу увидеть, как принимают и чита\n",
      "15 I find it more productive to put out positive ener...Я считаю более продуктивным использовать позитивну\n",
      "16 Right now, it's a solo venture because I can't aff...Прямо сейчас, это сольное предприятие, потому что \n",
      "17 Let's see....Посмотрим.\n",
      "18 The story is not about prisoners health, but the h...Речь идет не о здоровье заключенных, а о здоровье \n",
      "19 It is a story of oppressive tools passed down for ...Это история о репрессивных инструментах, переданны\n",
      "20 The total negation of the voice and body is the im...Полное отрицание голоса и тела является импульсом \n",
      "21 We think of an enmity as a willful decision to pur...Мы думаем о вражде как о сознательном решении вест\n",
      "22 When the feud rages, you dont see or try to unders...Когда вражда бушует, ты не видишь и не пытаешься п\n",
      "23 I become an object, something to be eliminated, de...Я становлюсь объектом, что-то, что должно быть уни\n",
      "24 An enmitys legacy is the price paid by all bodies,...Враждебное наследие - это цена, которую платят все\n",
      "25 How do we protect our childrens bodies from this l...Как защитить тела наших детей от этого наследия тю\n",
      "26 The solution does not stop with the release of det...Решение этой проблемы не ограничивается освобожден\n",
      "27 It starts with release, but must end with an imagi...Она начинается с освобождения, но должна закончить\n",
      "28 Although the Russian hydrogen strategy is the most...Хотя российская водородная стратегия является самы\n",
      "29 In fact, just like many other similar documents th...На самом деле, как и многие другие аналогичные док\n",
      "30 Dubbed by some the Swiss army knife of fuels, hydr...Водород, поверженный некоторыми швейцарскими армей\n",
      "31 As the universes most abundant element, it will ne...Поскольку вселенная является самым богатым элемент\n",
      "32 It can transform one form of energy (electrical) i...Она может преобразовывать одну форму энергии (элек\n",
      "33 Most remarkably, however, it does not emit carbon ...Однако самое удивительное заключается в том, что о\n",
      "34 In fact, it generates only water as a byproduct....На самом деле, она производит только воду в качест\n",
      "35 Many young Syrians have left southern Syria since ...Многие молодые сирийцы покинули южную часть Сирии \n",
      "36 Many of them sold their valuables in Syria to get ...Многие из них продали свои ценности в Сирии, чтобы\n",
      "37 But many never completed the journey....Но многие так и не завершили это путешествие.\n",
      "38 We were about to reach the Italian coast, when a s...Мы собирались добраться до итальянского побережья,\n",
      "39 They started pointing towards us....Они начали указывать на нас.\n",
      "40 We decided to escape, but the ship lowered a small...Мы решили сбежать, но корабль опустился на маленьк\n",
      "41 The ship approached us then, and they transferred ...Корабль подошел к нам тогда, и они перевели нас ту\n",
      "42 The European Union is responsible for Libyas barba...Европейский союз несет ответственность за варварст\n",
      "43 In Perus June elections, misinformation circulated...В ходе выборов в Перу в июне дезинформация распрос\n",
      "44 In addition to false information, real information...Помимо ложной информации, реальная информация мани\n",
      "45 For example, news circulated about the registry vo...Например, распространялись сообщения о списках изб\n",
      "46 Disinformation abounded during these protests as w...В ходе этих протестов, как, например, во время дем\n",
      "47 Local sources reported that hundreds of videos, au...Местные источники сообщили, что сотни видео, аудио\n",
      "48 Violence also takes place outside of the context o...Насилие также имеет место вне контекста публичных \n",
      "49 Stigmatizing speech and verbal attacks against the...Противоречия и словесные нападки на прессу все чащ\n",
      "50 At least four journalists have been murdered since...С января 2021 года в Латинской Америке было убито \n",
      "51 Now that the Taliban have full control, Afghan cit...Теперь, когда &lt; &lt; Талибан &gt; &gt; полность\n",
      "52 I saw men with turbans on their heads, and rifles ...Я видел людей с тюрбанами на головах и винтовками \n",
      "53 It was then that I decided to find a safer place f...Тогда я решил найти более безопасное место для сво\n",
      "54 I left for Pakistan, crossing the Chaman border ga...Я уехала в Пакистан, пересекая границы с Чаманом.\n",
      "55 The residents of Spin Boldak knew they could not c...Жители Спин-Болдака знали, что они не могут продол\n",
      "56 One of the groups most affected by the decades-lon...Одной из групп, в наибольшей степени пострадавших \n",
      "57 They fear that the loss of their lifestyles and th...Они опасаются, что утрата их образа жизни и их дос\n",
      "58 In recent years, as sex education curriculums rema...В последние годы, поскольку учебные программы по п\n",
      "59 In the rest of the Arab world, sex education is co...В остальной части арабского мира половое воспитани\n",
      "60 Meanwhile, conversations about sexuality, fertilit...Между тем разговоры о сексуальности, фертильности,\n",
      "61 If we continue to avoid these conversations and to...Если мы и впредь будем избегать этих разговоров и \n",
      "62 We are doing girls a huge disservice by keeping th...Мы оказываем девочкам огромную плохую услугу, удер\n",
      "63 They ask for donations after an earthquake, flood,...Они просят о пожертвованиях после землетрясения, н\n",
      "64 Of course we will do what is in our power to help ...Конечно, мы будем делать то, что в наших силах, чт\n",
      "65 The multiethnic population of Khuzestan, which inc...Мультиэтническое население Хузестана, в состав кот\n",
      "66 Since protests began, rallies have rippled across ...С момента начала протестов митинги охватили нескол\n",
      "67 The new protests belong to the lower middle class ...Новые протесты относятся к низшему среднему классу\n",
      "68 While the protesters in the last two decades had, ...В то время как протестующие за последние два десят\n",
      "**********************************************************************************************************\n",
      "preproc: 2.69 ms, среднее: 0.040 ms\n",
      "token: 53.74 ms, среднее: 0.790 ms\n",
      "generate: 107267.42 ms, среднее: 1577.462 ms\n",
      "decode: 186.15 ms, среднее: 2.737 ms\n",
      "memory: 1023.79 Mb, среднее: 15.05566 Mb\n",
      "предложений: 68\n",
      "Затрачено времени: 216.07 сек.\n"
     ]
    }
   ],
   "source": [
    "sourceid=\"en\"\n",
    "targetid=\"ru\"\n",
    "source = f'input.{sourceid}'\n",
    "target = f'api-output.en-{targetid}'\n",
    "url = 'http://10.239.16.89:60001/api/translation' \n",
    "headers = {'accept': 'application/json',\n",
    "           'Content-Type': 'application/json',\n",
    "}\n",
    "with open(source, encoding='utf-8') as f:\n",
    "    text = f.readlines()\n",
    "text = (\" \".join([i.strip() for i in text]))\n",
    "text = split_text_into_sentences(text, language=sourceid)\n",
    "\n",
    "result = []\n",
    "n = 0\n",
    "all_time = 0\n",
    "measure = {\"preproc\": [], \"token\": [], \"generate\": [], \"decode\": [], \"memory_start\": [], \"memory_end\": [], \"memory\": []}\n",
    "for sent in text:\n",
    "    start = time.time() # начало замера времени\n",
    "    n += 1\n",
    "    sent = sent.replace('\"', '\\\\\"').encode('ascii', errors='ignore').decode(\"utf-8\")\n",
    "    print(n, sent[:50], end='...')\n",
    "    data = '{ \\\"text\\\": \\\"'+sent+'\\\", \\\"sourceLanguage\\\": \\\"'+sourceid+'\\\", \\\"targetLanguage\\\": \\\"'+targetid+'\\\"}'\n",
    "    answer = requests.post(url, headers=headers, data=data).json()['message']\n",
    "    test = requests.post(url, headers=headers, data=data).json()['test']\n",
    "    measure[\"preproc\"].append(test[\"preproc\"])\n",
    "    measure[\"token\"].append(test[\"token\"])\n",
    "    measure[\"generate\"].append(test[\"generate\"])\n",
    "    measure[\"decode\"].append(test[\"decode\"])\n",
    "    measure[\"memory\"].append(test[\"memory\"])\n",
    "\n",
    "    end = time.time() # окончание замера времени\n",
    "    all_time += (end - start) # фиксация затраченного времени\n",
    "    print(answer[:50])\n",
    "    result.append(answer)\n",
    "    \n",
    "with open(f'new_{target}', 'w', encoding='utf-8') as f:\n",
    "    f.write(\"\\n\".join(result) + '\\n')\n",
    "\n",
    "preproc = f'{sum(measure[\"preproc\"] * 1000):.2f} ms, среднее: {sum(measure[\"preproc\"]) * 1000 / len(measure[\"preproc\"]):.3f} ms'\n",
    "token = f'{sum(measure[\"token\"] * 1000):.2f} ms, среднее: {sum(measure[\"token\"]) * 1000 / len(measure[\"token\"]):.3f} ms'\n",
    "generate = f'{sum(measure[\"generate\"] * 1000):.2f} ms, среднее: {sum(measure[\"generate\"]) * 1000 / len(measure[\"generate\"]):.3f} ms'\n",
    "decode = f'{sum(measure[\"decode\"] * 1000):.2f} ms, среднее: {sum(measure[\"decode\"]) * 1000 / len(measure[\"decode\"]):.3f} ms'\n",
    "memory = f'{sum(measure[\"memory\"]) / (1024 * 1024):.2f} Mb, среднее: {sum(measure[\"memory\"]) / len(measure[\"memory\"]) / (1024 * 1024):.5f} Mb'\n",
    "\n",
    "print('*' * 106)\n",
    "print(f'preproc: {preproc}\\ntoken: {token}\\ngenerate: {generate}\\ndecode: {decode}\\nmemory: {memory}\\nпредложений: {len(measure[\"preproc\"])}')\n",
    "print(f'Затрачено времени: {all_time:.2f} сек.')"
   ]
  },
  {
   "cell_type": "markdown",
   "id": "fc261c32",
   "metadata": {},
   "source": [
    "#### Арабский"
   ]
  },
  {
   "cell_type": "code",
   "execution_count": 14,
   "id": "feb40855",
   "metadata": {
    "scrolled": false
   },
   "outputs": [
    {
     "name": "stdout",
     "output_type": "stream",
     "text": [
      "1 Ø­ÙÙØª ØªÙÙ Ø§ÙÙØ¶ÙØ© Ø¨Ø°Ø§Øª Ø§ÙØ¯ÙÙÙ...Это дело было раскрыто теми же доказательствами, ч\n",
      "2 ÙØ¬Ø¨ Ø¹ÙÙ Ø§ÙØ¯ÙÙØ© Ø£Ù ØªÙØ¯ÙÙ Ø¹ÙØ§Ù...Государство должно публично осудить насилие в отно\n",
      "3 ØªØ¨ÙØª [Ø§ÙØ­ÙÙÙ",
      "Ø©] Ø§ÙÙÙÙÙÙ",
      "Ø¨ÙØ© Ø¨Ø...Колумбийское [правительство] приняло программу защ\n",
      "4 ÙÙ Ø³Ø¨ØªÙ",
      "Ø¨Ø±/Ø£ÙÙÙÙØ ÙØ¯ÙÙ",
      " Ø­Ø²Ø¨ Ø§Ù...В сентябре Народная партия представила парламенту \n",
      "5 ÙÙ",
      "Ø¹ Ø£Ù Ø§ÙÙØ§ÙÙÙ ÙØ§ ÙØ²Ø§Ù ÙÙØ¯ Ø§...Хотя этот закон все еще находится на рассмотрении,\n",
      "6 ÙØ¹ÙØ¨ Ø­Ø¯ÙØ« Ø·ÙÙ ÙØ§Ø±ÙÙ Ù",
      "Ù",
      "ÙØª ÙÙ ...После того, как в Алматы, крупнейшем городе страны\n",
      "7 ØªØ¹ÙÙ",
      "Øª Ø£ÙØ¶ÙØ§ Ø§ÙÙØ«ÙØ± Ù",
      "Ù Ø§ÙØ£Ø´Ù...Я также многому научился на пути к литературному п\n",
      "8 ÙØ£Ø¤Ù",
      "Ù Ø£ÙÙÙ ÙØ§ Ø£Ø²Ø§Ù Ø£ØªØ¹ÙÙ",
      "...И я верю, что все еще учусь.\n",
      "9 ÙØ§Ù Ø§ÙØ¬Ø§ÙØ¨ Ø§ÙØªØ¬Ø§Ø±Ù Ø·Ø±ÙÙÙØ§ Ø´...Коммерческая сторона была очень труднодоступной с \n",
      "10 Ø¨Ø¯Ø£Øª Ù",
      "Ø´Ø±ÙØ¹ Ø§ÙÙØªØ§Ø¨ Ø¹Ø§Ù",
      " 2017 ÙÙÙ...Проект книги был начат в 2017 году, и он наконец-т\n",
      "11 ÙØ°Ø§Ø Ø¹ÙØ§ÙØ© Ø¹ÙÙ Ø§ÙØ¬ÙØ§ÙØ¨ Ø§ÙØ­Ø±...Так что, помимо ремесленных и коммерческих аспекто\n",
      "12 ÙØ£Ø®ÙØ±ÙØ§Ø Ø£Ø±ÙØ¯ Ø£Ù Ø£ÙÙÙ ÙØ£ÙØ¹Ù...И наконец, я хочу быть и делать то, что хочу видет\n",
      "13 ÙØ¥Ø°Ø§ ÙÙØªÙ Ø£Ø±ÙØ¯ Ù",
      "Ø²ÙØ¯ÙØ§ Ù",
      "Ù Ø§ÙÙ...Если я хочу, чтобы в Южной Азии было больше разных\n",
      "14 Ø£Ø±Ù Ø£Ù Ø¨Ø°Ù Ø§ÙØ·Ø§ÙØ© Ø§ÙØ¥ÙØ¬Ø§Ø¨ÙØ©...Я считаю, что позитивная энергия в этой работе бол\n",
      "15 Ø­Ø§ÙÙÙØ§Ø ÙÙØ¹Ø¯ Ø§ÙØ£Ù",
      "Ø± Ù",
      "Ø¬Ø§Ø²ÙØ© Ù...На данный момент, это индивидуальный риск, потому \n",
      "16 ÙÙØ±Ù...Посмотрим.\n",
      "17 Ø§ÙÙØµØ© ÙØ§ ØªØ®Øµ ØµØ­Ø© Ø§ÙÙ",
      "Ø³Ø§Ø¬ÙÙ Ø¨Ù...История касается не здоровья заключенных, а здоров\n",
      "18 Ø§ÙÙØµØ© ÙÙ Ø£Ø¯ÙØ§Øª ÙÙ",
      "Ø¹ÙØ© ØªÙØ±Ø« Ù",
      "Ù...История о репрессивных инструментах, которые унасл\n",
      "19 Ø§ÙÙÙÙ Ø§ÙØªØ§Ù",
      " ÙÙØµÙØª ÙØ§ÙØ¬Ø³Ø¯ ÙÙ...Полный отказ от голоса и тела - это самое сердце р\n",
      "20 ÙØªØµÙØ± Ø£Ù Ø§ÙÙÙÙ",
      "Ø© ØªØ¹ÙÙ ÙØ±Ø§Ø±ÙØ§...Мы считаем, что слово означает прямое решение прод\n",
      "21 ÙÙÙ Ø¥Ø°Ø§ ÙÙØª ØªØ±Ø§ÙÙ ÙØªØ³Ù",
      "Ø¹ÙÙØ Ø...Но если ты меня видишь и слышишь, шансы на то, что\n",
      "22 ÙØ¥Ù ÙÙ",
      " ÙØ³ØªÙØ¯ Ù",
      "ÙÙØ§Ø ÙØ³ØªÙ",
      "Ø± Ø¹ÙÙ...А если нет, то по крайней мере, мы будем продолжат\n",
      "23 ÙÙ",
      "Ø© Ø§ÙØ®ØµÙÙ",
      "Ø© ÙÙ Ø£ÙØ§ ØªØ±Ø§ÙÙ ÙÙØ...Величайшая вражда заключается в том, чтобы не виде\n",
      "24 Ø§ÙÙØ¬Ø± ÙÙ Ø§ÙØ®ØµÙÙ",
      "Ø© Ù",
      "ÙØ±Ø§Ø« ØªØ¯ÙØ¹...На рассвете ссора - это наследство, за которое пла\n",
      "25 ÙÙÙ ÙØ­Ù",
      "Ù Ø£Ø¬Ø³Ø§Ø¯ Ø£Ø¨ÙØ§Ø¦ÙØ§ Ù",
      "Ù Ù",
      "Ù...Ответ не заканчивается, когда заключенные освобожд\n",
      "26 Ø¹ÙÙ Ø§ÙØ±ØºÙ",
      " Ù",
      "Ù Ø£Ù Ø§Ø³ØªØ±Ø§ØªÙØ¬ÙØ© Ø...Несмотря на то, что российская стратегия по водоро\n",
      "27 ÙÙ Ø§ÙÙØ§ÙØ¹Ø ØªÙ",
      "Ø§Ù",
      "ÙØ§ Ù",
      "Ø«Ù Ø§ÙØ¹Ø¯Ù...На самом деле, как и многие другие аналогичные док\n",
      "28 ÙÙØ·ÙÙ Ø§ÙØ¨Ø¹Ø¶ Ø¹ÙÙ Ø§ÙÙÙØ¯Ø±ÙØ¬ÙÙ ...Некоторые называют водород швейцарским топливным н\n",
      "29 ÙØ¸Ø±ÙØ§ ÙÙÙÙÙ Ø§ÙØ¹ÙØµØ± Ø§ÙØ£ÙØ«Ø± Ù...Учитывая, что это самый богатый элемент во Вселенн\n",
      "30 ÙÙ",
      "ÙÙÙ ØªØ­ÙÙÙ Ø£Ø´ÙØ§Ù Ø§ÙØ·Ø§ÙØ© Ù",
      "Ù...Он может переключить энергию с (электрической) на \n",
      "31 ÙÙ",
      "Ø¹ Ø°ÙÙØ Ù",
      "Ù Ø§ÙÙØ§ÙØª ÙÙÙØ¸Ø± Ø£ÙÙ...Тем не менее, удивительно, что углекислый газ не в\n",
      "32 ÙÙ Ø§ÙÙØ§ÙØ¹Ø ÙØ§ ÙÙÙØ¯ Ø³ÙÙ Ø§ÙÙ",
      "Ø§Ø...На самом деле, только вода образуется как побочный\n",
      "33 Ø´Ø±Ø¹ ÙØ«ÙØ±Ù Ù",
      "Ù Ø§ÙØ´Ø¨Ø§Ù Ø§ÙØ³ÙØ±ÙÙ...Многие сирийские молодые люди начали покидать южну\n",
      "34 ÙØ£ÙØ¨Ù Ø§ÙÙØ«ÙØ±ÙÙ Ù",
      "ÙÙÙ",
      " Ø¹ÙÙ Ø¨ÙØ¹...Многие из них согласились продать свои драгоценные\n",
      "35 ÙØ¯ÙØ§ Ø£Ù ÙÙØªØ±Ø¨ Ù",
      "Ù Ø§ÙØ³ÙØ§Ø­Ù Ø§ÙØ...Мы чуть не приблизились к итальянскому побережью, \n",
      "36 Ø§ÙØ§ØªØ­Ø§Ø¯ Ø§ÙØ£ÙØ±ÙØ¨Ù Ù",
      "Ø³Ø¤ÙÙ Ø¹Ù Ù...Европейский союз несет ответственность за варварст\n",
      "37 Ø¨Ø§ÙØ¥Ø¶Ø§ÙØ© Ø¥ÙÙ Ø§ÙØªØ®Ø§Ø¨Ø§Øª Ø¨ÙØ±Ù ...В дополнение к июньским выборам в Перу, в Интернет\n",
      "38 Ø§ÙØªØ´Ø±Øª Ø§ÙÙ",
      "Ø¹ÙÙÙ",
      "Ø§Øª Ø§ÙÙ",
      "Ø¶ÙÙØ© Ø£Ø...В ходе этих протестов и демонстраций в Колумбии ра\n",
      "39 ÙÙ",
      "Ø§ ÙÙØ¹Øª Ø£Ø¹Ù",
      "Ø§Ù Ø¹ÙÙ Ø®Ø§Ø±Ø¬ ÙØ·Ø§Ù...Кроме того, имели место акты насилия вне рамок мас\n",
      "40 Ø§ÙØ¢ÙØ Ø¨Ø¹Ø¯ Ø³ÙØ·Ø±Ø© Ø·Ø§ÙØ¨Ø§Ù Ø§ÙÙØ§...Теперь, после полного контроля движения < < Талиба\n",
      "41 Ø±Ø£ÙØª Ø±Ø¬Ø§ÙØ§Ù Ø¨Ø¹Ù",
      "Ø§Ù",
      "Ø§Øª Ø¹ÙÙ Ø±Ø¤Ù...Я видел, как мужчины с тюрбанами на головах и ружь\n",
      "42 Ø¹ÙØ¯ÙØ§Ø ÙØ±Ø±Øª Ø£Ù Ø£Ø¬Ø¯ Ù",
      "ÙØ§ÙÙØ§ Ø£Ù...Тогда я решил найти более безопасное место для мое\n",
      "43 ØºØ§Ø¯Ø±Øª Ø¥ÙÙ Ø¨Ø§ÙØ³ØªØ§ÙØ ÙØ¹Ø¨Ø±Øª Ø¨Ù...Отбыла в Пакистан, пересекла пограничный контрольн\n",
      "44 ÙØ§Ù Ø³ÙØ§Ù Ø³Ø¨ÙÙ Ø¨ÙÙØ¯Ø§Ù ÙØ¹ÙÙ",
      "ÙÙ...Жители Спин-Больдака знали, что они не могут жить \n",
      "45 Ø¥Ø­Ø¯Ù Ø§ÙÙØ¦Ø§Øª Ø§ÙØ£ÙØ«Ø± ØªØ¶Ø±Ø±ÙØ§ Ù",
      "...Одна из групп, наиболее пострадавших от этой войны\n",
      "46 ÙØ®Ø´ÙÙ Ù",
      "Ù Ø£Ù ÙÙØ¯Ø§Ù Ø£ÙÙ",
      "Ø§Ø· Ø­ÙØ§Ø...Они опасаются, что при режиме талибов их ждет утра\n",
      "47 Ø®ÙØ§Ù Ø§ÙØ³ÙÙØ§Øª Ø§ÙØ£Ø®ÙØ±Ø©Ø ÙÙÙ",
      "Ø§ ...В последние годы, несмотря на то, что в большинств\n",
      "48 Ø£Ù",
      "Ø§ ÙÙ Ø³Ø§Ø¦Ø± Ø§ÙØ¹Ø§ÙÙ",
      " Ø§ÙØ¹Ø±Ø¨ÙØ Ù...Во всем арабском мире половое воспитание по-прежне\n",
      "49 ÙÙ Ø§ÙÙ",
      "ÙØ§Ø¨ÙØ ØªÙØªØµØ± Ø§ÙØ£Ø­Ø§Ø¯ÙØ« ...С другой стороны, разговоры о сексуальной активнос\n",
      "50 Ø¥Ø°Ø§ Ø§Ø³ØªÙ",
      "Ø±ÙÙÙØ§ Ø¨ØªØ¬ÙØ¨ ÙØ°Ù Ø§ÙØ£...Если мы будем продолжать избегать этих разговоров \n",
      "51 ÙØ­Ù ÙÙØ­Ù Ø¥Ø³Ø§Ø¡Ø© ÙØ§Ø¦ÙØ© Ø¨Ø§ÙÙØªÙ...Мы подвергаем девочек огромному насилию, скрывая о\n",
      "52 ÙØ·ÙØ¨ÙÙ Ø§ÙØªØ¨Ø±Ø¹Ø§Øª Ø¨Ø¹Ø¯ Ø²ÙØ²Ø§ÙØ ...Они просят о пожертвованиях после землетрясения, н\n",
      "53 Ø¨Ø§ÙØ·Ø¨Ø¹ Ø³ÙÙØ¹Ù Ù",
      "Ø§ Ø¨ÙØ³Ø¹ÙØ§ ÙÙ",
      "Ø³Ø§...Конечно, мы сделаем все, что в наших силах, чтобы \n",
      "54 Ø§Ø´ØªÙÙ Ø³ÙØ§Ù Ø®ÙØ²Ø³ØªØ§Ù Ù",
      "ØªØ¹Ø¯Ø¯Ù Ø§...Многоэтнические жители Хузестана, в том числе боль\n",
      "55 Ø§ÙØªØ´Ø±Øª Ø§ÙÙ",
      "Ø³ÙØ±Ø§Øª ÙÙ Ø§ÙØ¹Ø¯ÙØ¯ Ù",
      "...С момента начала протестов во многих других мухафа\n",
      "56 ØªÙØªÙ",
      "Ù Ø§ÙØ§Ø­ØªØ¬Ø§Ø¬Ø§Øª Ø§ÙØ¬Ø¯ÙØ¯Ø© Ø¥Ù...Новые протесты принадлежат к низшему среднему клас\n",
      "57 ÙØ¨ÙÙÙ",
      "Ø§ ÙØ§Ù Ø§ÙÙ",
      "ØªØ¸Ø§ÙØ±ÙÙ ÙÙ Ø§Ù...В то время как в последние два десятилетия демонст\n",
      "**********************************************************************************************************\n",
      "preproc: 2.95 ms, среднее: 0.052 ms\n",
      "token: 54.85 ms, среднее: 0.962 ms\n",
      "generate: 102396.90 ms, среднее: 1796.437 ms\n",
      "decode: 173.10 ms, среднее: 3.037 ms\n",
      "memory: 1110.68 Mb, среднее: 19.48568 Mb\n",
      "предложений: 57\n",
      "Затрачено времени: 208.01 сек.\n"
     ]
    }
   ],
   "source": [
    "sourceid=\"ar\"\n",
    "targetid=\"ru\"\n",
    "source = f'input.{sourceid}'\n",
    "target = f'api-output.en-{targetid}'\n",
    "url = 'http://10.239.16.89:60001/api/translation' \n",
    "headers = {'accept': 'application/json',\n",
    "           'Content-Type': 'application/json',\n",
    "}\n",
    "\n",
    "result = []\n",
    "all_time = 0\n",
    "measure = {\"preproc\": [], \"token\": [], \"generate\": [], \"decode\": [], \"memory_start\": [], \"memory_end\": [], \"memory\": []}\n",
    "with open(source, encoding='utf-8') as f:\n",
    "    n = 0\n",
    "    for i in f:\n",
    "        start = time.time() # начало замера времени\n",
    "        sent = i.strip()\n",
    "        n += 1\n",
    "        sent = sent.encode('utf-8').decode('latin-1', 'ignore')\n",
    "        print(n, sent[:50], end='...')\n",
    "        data = '{\\n  \"text\": \"' + str(sent) + '\",\\n  \"sourceLanguage\": \"' + sourceid + '\",\\n  \"targetLanguage\": \"' + targetid + '\"\\n}'\n",
    "        answer = requests.post(url, headers=headers, data=data).json()['message']\n",
    "        test = requests.post(url, headers=headers, data=data).json()['test']\n",
    "        measure[\"preproc\"].append(test[\"preproc\"])\n",
    "        measure[\"token\"].append(test[\"token\"])\n",
    "        measure[\"generate\"].append(test[\"generate\"])\n",
    "        measure[\"decode\"].append(test[\"decode\"])\n",
    "        measure[\"memory\"].append(test[\"memory\"])\n",
    "\n",
    "        end = time.time() # окончание замера времени\n",
    "        all_time += (end - start) # фиксация затраченного времени\n",
    "        print(answer[:50])\n",
    "        result.append(answer)\n",
    "        \n",
    "with open(f'new_{target}', 'w', encoding='utf-8') as f:\n",
    "    f.write(\"\\n\".join(result) + '\\n')\n",
    "\n",
    "preproc = f'{sum(measure[\"preproc\"] * 1000):.2f} ms, среднее: {sum(measure[\"preproc\"]) * 1000 / len(measure[\"preproc\"]):.3f} ms'\n",
    "token = f'{sum(measure[\"token\"] * 1000):.2f} ms, среднее: {sum(measure[\"token\"]) * 1000 / len(measure[\"token\"]):.3f} ms'\n",
    "generate = f'{sum(measure[\"generate\"] * 1000):.2f} ms, среднее: {sum(measure[\"generate\"]) * 1000 / len(measure[\"generate\"]):.3f} ms'\n",
    "decode = f'{sum(measure[\"decode\"] * 1000):.2f} ms, среднее: {sum(measure[\"decode\"]) * 1000 / len(measure[\"decode\"]):.3f} ms'\n",
    "memory = f'{sum(measure[\"memory\"]) / (1024 * 1024):.2f} Mb, среднее: {sum(measure[\"memory\"]) / len(measure[\"memory\"]) / (1024 * 1024):.5f} Mb'\n",
    "\n",
    "print('*' * 106)\n",
    "print(f'preproc: {preproc}\\ntoken: {token}\\ngenerate: {generate}\\ndecode: {decode}\\nmemory: {memory}\\nпредложений: {len(measure[\"preproc\"])}')\n",
    "print(f'Затрачено времени: {all_time:.2f} сек.')"
   ]
  },
  {
   "cell_type": "markdown",
   "id": "9fe3306a",
   "metadata": {},
   "source": [
    "### Увеличим CPU и RAM\n",
    "> CPU - 16 CPU & 64 RAM"
   ]
  },
  {
   "cell_type": "markdown",
   "id": "fe65de09",
   "metadata": {},
   "source": [
    "#### Английский"
   ]
  },
  {
   "cell_type": "code",
   "execution_count": 19,
   "id": "5413cbe3",
   "metadata": {},
   "outputs": [
    {
     "name": "stdout",
     "output_type": "stream",
     "text": [
      "1 This case was resolved with the same evidence that...Это дело было урегулировано с использованием тех ж\n",
      "2 If justice is a form of dissuasion to prevent peop...Если правосудие является одной из форм устрашения \n",
      "3 Authorities must publicly denounce violence on jou...Власти должны публично осудить насилие в отношении\n",
      "4 Indeed, [the government of] Colombia adopted a pro...Действительно, [правительство] Колумбии приняло пр\n",
      "5 But the program has a mixed record, especially aft...Но эта программа имеет смешанный послужной список,\n",
      "6 In September, the People's Party presented a draft...В сентябре Народная партия представила на рассмотр\n",
      "7 While the law is still under review, its proponent...Хотя этот закон все еще находится на рассмотрении,\n",
      "8 After a deadly shooting in Almaty, the country's l...После смертельной стрельбы в Алма-Ате, крупнейшем \n",
      "9 I also learned a lot along the way about the craft...Я также многому научился на пути к искусству литер\n",
      "10 I'm still learning, I believe....Я все еще учусь, полагаю.\n",
      "11 The commercial side of things was a steep learning...Коммерческая сторона вещей также была крутой криво\n",
      "12 So, beyond the craft and commercial aspects, I lea...Так что, помимо ремесленных и коммерческих аспекто\n",
      "13 Finally, I want to do and be more of what I'd like...Наконец-то, я хочу сделать больше того, что хотел \n",
      "14 So, if I want to see more diverse South Asian book...Так что, если я хочу увидеть, как принимают и чита\n",
      "15 I find it more productive to put out positive ener...Я считаю более продуктивным использовать позитивну\n",
      "16 Right now, it's a solo venture because I can't aff...Прямо сейчас, это сольное предприятие, потому что \n",
      "17 Let's see....Посмотрим.\n",
      "18 The story is not about prisoners health, but the h...Речь идет не о здоровье заключенных, а о здоровье \n",
      "19 It is a story of oppressive tools passed down for ...Это история о репрессивных инструментах, переданны\n",
      "20 The total negation of the voice and body is the im...Полное отрицание голоса и тела является импульсом \n",
      "21 We think of an enmity as a willful decision to pur...Мы думаем о вражде как о сознательном решении вест\n",
      "22 When the feud rages, you dont see or try to unders...Когда вражда бушует, ты не видишь и не пытаешься п\n",
      "23 I become an object, something to be eliminated, de...Я становлюсь объектом, что-то, что должно быть уни\n",
      "24 An enmitys legacy is the price paid by all bodies,...Враждебное наследие - это цена, которую платят все\n",
      "25 How do we protect our childrens bodies from this l...Как защитить тела наших детей от этого наследия тю\n",
      "26 The solution does not stop with the release of det...Решение этой проблемы не ограничивается освобожден\n",
      "27 It starts with release, but must end with an imagi...Она начинается с освобождения, но должна закончить\n",
      "28 Although the Russian hydrogen strategy is the most...Хотя российская водородная стратегия является самы\n",
      "29 In fact, just like many other similar documents th...На самом деле, как и многие другие аналогичные док\n",
      "30 Dubbed by some the Swiss army knife of fuels, hydr...Водород, поверженный некоторыми швейцарскими армей\n",
      "31 As the universes most abundant element, it will ne...Поскольку вселенная является самым богатым элемент\n",
      "32 It can transform one form of energy (electrical) i...Она может преобразовывать одну форму энергии (элек\n",
      "33 Most remarkably, however, it does not emit carbon ...Однако самое удивительное заключается в том, что о\n",
      "34 In fact, it generates only water as a byproduct....На самом деле, она производит только воду в качест\n",
      "35 Many young Syrians have left southern Syria since ...Многие молодые сирийцы покинули южную часть Сирии \n",
      "36 Many of them sold their valuables in Syria to get ...Многие из них продали свои ценности в Сирии, чтобы\n",
      "37 But many never completed the journey....Но многие так и не завершили это путешествие.\n",
      "38 We were about to reach the Italian coast, when a s...Мы собирались добраться до итальянского побережья,\n",
      "39 They started pointing towards us....Они начали указывать на нас.\n",
      "40 We decided to escape, but the ship lowered a small...Мы решили сбежать, но корабль опустился на маленьк\n",
      "41 The ship approached us then, and they transferred ...Корабль подошел к нам тогда, и они перевели нас ту\n",
      "42 The European Union is responsible for Libyas barba...Европейский союз несет ответственность за варварст\n",
      "43 In Perus June elections, misinformation circulated...В ходе выборов в Перу в июне дезинформация распрос\n",
      "44 In addition to false information, real information...Помимо ложной информации, реальная информация мани\n",
      "45 For example, news circulated about the registry vo...Например, распространялись сообщения о списках изб\n",
      "46 Disinformation abounded during these protests as w...В ходе этих протестов, как, например, во время дем\n",
      "47 Local sources reported that hundreds of videos, au...Местные источники сообщили, что сотни видео, аудио\n",
      "48 Violence also takes place outside of the context o...Насилие также имеет место вне контекста публичных \n",
      "49 Stigmatizing speech and verbal attacks against the...Противоречия и словесные нападки на прессу все чащ\n",
      "50 At least four journalists have been murdered since...С января 2021 года в Латинской Америке было убито \n",
      "51 Now that the Taliban have full control, Afghan cit...Теперь, когда &lt; &lt; Талибан &gt; &gt; полность\n",
      "52 I saw men with turbans on their heads, and rifles ...Я видел людей с тюрбанами на головах и винтовками \n",
      "53 It was then that I decided to find a safer place f...Тогда я решил найти более безопасное место для сво\n",
      "54 I left for Pakistan, crossing the Chaman border ga...Я уехала в Пакистан, пересекая границы с Чаманом.\n",
      "55 The residents of Spin Boldak knew they could not c...Жители Спин-Болдака знали, что они не могут продол\n",
      "56 One of the groups most affected by the decades-lon...Одной из групп, в наибольшей степени пострадавших \n",
      "57 They fear that the loss of their lifestyles and th...Они опасаются, что утрата их образа жизни и их дос\n",
      "58 In recent years, as sex education curriculums rema...В последние годы, поскольку учебные программы по п\n",
      "59 In the rest of the Arab world, sex education is co...В остальной части арабского мира половое воспитани\n",
      "60 Meanwhile, conversations about sexuality, fertilit...Между тем разговоры о сексуальности, фертильности,\n",
      "61 If we continue to avoid these conversations and to...Если мы и впредь будем избегать этих разговоров и \n",
      "62 We are doing girls a huge disservice by keeping th...Мы оказываем девочкам огромную плохую услугу, удер\n",
      "63 They ask for donations after an earthquake, flood,...Они просят о пожертвованиях после землетрясения, н\n",
      "64 Of course we will do what is in our power to help ...Конечно, мы будем делать то, что в наших силах, чт\n",
      "65 The multiethnic population of Khuzestan, which inc...Мультиэтническое население Хузестана, в состав кот\n",
      "66 Since protests began, rallies have rippled across ...С момента начала протестов митинги охватили нескол\n",
      "67 The new protests belong to the lower middle class ...Новые протесты относятся к низшему среднему классу\n",
      "68 While the protesters in the last two decades had, ...В то время как протестующие за последние два десят\n",
      "**********************************************************************************************************\n",
      "preproc: 2.54 ms, среднее: 0.037 ms\n",
      "token: 45.70 ms, среднее: 0.672 ms\n",
      "generate: 59417.63 ms, среднее: 873.789 ms\n",
      "decode: 151.00 ms, среднее: 2.221 ms\n",
      "memory: 1081.24 Mb, среднее: 15.90062 Mb\n",
      "предложений: 68\n",
      "Затрачено времени: 120.05 сек.\n"
     ]
    }
   ],
   "source": [
    "sourceid=\"en\"\n",
    "targetid=\"ru\"\n",
    "source = f'input.{sourceid}'\n",
    "target = f'api-output.en-{targetid}'\n",
    "url = 'http://10.239.16.89:60001/api/translation' \n",
    "headers = {'accept': 'application/json',\n",
    "           'Content-Type': 'application/json',\n",
    "}\n",
    "with open(source, encoding='utf-8') as f:\n",
    "    text = f.readlines()\n",
    "text = (\" \".join([i.strip() for i in text]))\n",
    "text = split_text_into_sentences(text, language=sourceid)\n",
    "\n",
    "result = []\n",
    "n = 0\n",
    "all_time = 0\n",
    "measure = {\"preproc\": [], \"token\": [], \"generate\": [], \"decode\": [], \"memory_start\": [], \"memory_end\": [], \"memory\": []}\n",
    "for sent in text:\n",
    "    start = time.time() # начало замера времени\n",
    "    n += 1\n",
    "    sent = sent.replace('\"', '\\\\\"').encode('ascii', errors='ignore').decode(\"utf-8\")\n",
    "    print(n, sent[:50], end='...')\n",
    "    data = '{ \\\"text\\\": \\\"'+sent+'\\\", \\\"sourceLanguage\\\": \\\"'+sourceid+'\\\", \\\"targetLanguage\\\": \\\"'+targetid+'\\\"}'\n",
    "    answer = requests.post(url, headers=headers, data=data).json()['message']\n",
    "    test = requests.post(url, headers=headers, data=data).json()['test']\n",
    "    measure[\"preproc\"].append(test[\"preproc\"])\n",
    "    measure[\"token\"].append(test[\"token\"])\n",
    "    measure[\"generate\"].append(test[\"generate\"])\n",
    "    measure[\"decode\"].append(test[\"decode\"])\n",
    "    measure[\"memory\"].append(test[\"memory\"])\n",
    "\n",
    "    end = time.time() # окончание замера времени\n",
    "    all_time += (end - start) # фиксация затраченного времени\n",
    "    print(answer[:50])\n",
    "    result.append(answer)\n",
    "    \n",
    "with open(f'new_{target}', 'w', encoding='utf-8') as f:\n",
    "    f.write(\"\\n\".join(result) + '\\n')\n",
    "\n",
    "preproc = f'{sum(measure[\"preproc\"] * 1000):.2f} ms, среднее: {sum(measure[\"preproc\"]) * 1000 / len(measure[\"preproc\"]):.3f} ms'\n",
    "token = f'{sum(measure[\"token\"] * 1000):.2f} ms, среднее: {sum(measure[\"token\"]) * 1000 / len(measure[\"token\"]):.3f} ms'\n",
    "generate = f'{sum(measure[\"generate\"] * 1000):.2f} ms, среднее: {sum(measure[\"generate\"]) * 1000 / len(measure[\"generate\"]):.3f} ms'\n",
    "decode = f'{sum(measure[\"decode\"] * 1000):.2f} ms, среднее: {sum(measure[\"decode\"]) * 1000 / len(measure[\"decode\"]):.3f} ms'\n",
    "memory = f'{sum(measure[\"memory\"]) / (1024 * 1024):.2f} Mb, среднее: {sum(measure[\"memory\"]) / len(measure[\"memory\"]) / (1024 * 1024):.5f} Mb'\n",
    "\n",
    "print('*' * 106)\n",
    "print(f'preproc: {preproc}\\ntoken: {token}\\ngenerate: {generate}\\ndecode: {decode}\\nmemory: {memory}\\nпредложений: {len(measure[\"preproc\"])}')\n",
    "print(f'Затрачено времени: {all_time:.2f} сек.')"
   ]
  },
  {
   "cell_type": "markdown",
   "id": "038c54b4",
   "metadata": {},
   "source": [
    "#### Арабский"
   ]
  },
  {
   "cell_type": "code",
   "execution_count": 20,
   "id": "7e4fe77a",
   "metadata": {},
   "outputs": [
    {
     "name": "stdout",
     "output_type": "stream",
     "text": [
      "1 Ø­ÙÙØª ØªÙÙ Ø§ÙÙØ¶ÙØ© Ø¨Ø°Ø§Øª Ø§ÙØ¯ÙÙÙ...Это дело было раскрыто теми же доказательствами, ч\n",
      "2 ÙØ¬Ø¨ Ø¹ÙÙ Ø§ÙØ¯ÙÙØ© Ø£Ù ØªÙØ¯ÙÙ Ø¹ÙØ§Ù...Государство должно публично осудить насилие в отно\n",
      "3 ØªØ¨ÙØª [Ø§ÙØ­ÙÙÙ",
      "Ø©] Ø§ÙÙÙÙÙÙ",
      "Ø¨ÙØ© Ø¨Ø...Колумбийское [правительство] приняло программу защ\n",
      "4 ÙÙ Ø³Ø¨ØªÙ",
      "Ø¨Ø±/Ø£ÙÙÙÙØ ÙØ¯ÙÙ",
      " Ø­Ø²Ø¨ Ø§Ù...В сентябре Народная партия представила парламенту \n",
      "5 ÙÙ",
      "Ø¹ Ø£Ù Ø§ÙÙØ§ÙÙÙ ÙØ§ ÙØ²Ø§Ù ÙÙØ¯ Ø§...Хотя этот закон все еще находится на рассмотрении,\n",
      "6 ÙØ¹ÙØ¨ Ø­Ø¯ÙØ« Ø·ÙÙ ÙØ§Ø±ÙÙ Ù",
      "Ù",
      "ÙØª ÙÙ ...После того, как в Алматы, крупнейшем городе страны\n",
      "7 ØªØ¹ÙÙ",
      "Øª Ø£ÙØ¶ÙØ§ Ø§ÙÙØ«ÙØ± Ù",
      "Ù Ø§ÙØ£Ø´Ù...Я также многому научился на пути к литературному п\n",
      "8 ÙØ£Ø¤Ù",
      "Ù Ø£ÙÙÙ ÙØ§ Ø£Ø²Ø§Ù Ø£ØªØ¹ÙÙ",
      "...И я верю, что все еще учусь.\n",
      "9 ÙØ§Ù Ø§ÙØ¬Ø§ÙØ¨ Ø§ÙØªØ¬Ø§Ø±Ù Ø·Ø±ÙÙÙØ§ Ø´...Коммерческая сторона была очень труднодоступной с \n",
      "10 Ø¨Ø¯Ø£Øª Ù",
      "Ø´Ø±ÙØ¹ Ø§ÙÙØªØ§Ø¨ Ø¹Ø§Ù",
      " 2017 ÙÙÙ...Проект книги был начат в 2017 году, и он наконец-т\n",
      "11 ÙØ°Ø§Ø Ø¹ÙØ§ÙØ© Ø¹ÙÙ Ø§ÙØ¬ÙØ§ÙØ¨ Ø§ÙØ­Ø±...Так что, помимо ремесленных и коммерческих аспекто\n",
      "12 ÙØ£Ø®ÙØ±ÙØ§Ø Ø£Ø±ÙØ¯ Ø£Ù Ø£ÙÙÙ ÙØ£ÙØ¹Ù...И наконец, я хочу быть и делать то, что хочу видет\n",
      "13 ÙØ¥Ø°Ø§ ÙÙØªÙ Ø£Ø±ÙØ¯ Ù",
      "Ø²ÙØ¯ÙØ§ Ù",
      "Ù Ø§ÙÙ...Если я хочу, чтобы в Южной Азии было больше разных\n",
      "14 Ø£Ø±Ù Ø£Ù Ø¨Ø°Ù Ø§ÙØ·Ø§ÙØ© Ø§ÙØ¥ÙØ¬Ø§Ø¨ÙØ©...Я считаю, что позитивная энергия в этой работе бол\n",
      "15 Ø­Ø§ÙÙÙØ§Ø ÙÙØ¹Ø¯ Ø§ÙØ£Ù",
      "Ø± Ù",
      "Ø¬Ø§Ø²ÙØ© Ù...На данный момент, это индивидуальный риск, потому \n",
      "16 ÙÙØ±Ù...Посмотрим.\n",
      "17 Ø§ÙÙØµØ© ÙØ§ ØªØ®Øµ ØµØ­Ø© Ø§ÙÙ",
      "Ø³Ø§Ø¬ÙÙ Ø¨Ù...История касается не здоровья заключенных, а здоров\n",
      "18 Ø§ÙÙØµØ© ÙÙ Ø£Ø¯ÙØ§Øª ÙÙ",
      "Ø¹ÙØ© ØªÙØ±Ø« Ù",
      "Ù...История о репрессивных инструментах, которые унасл\n",
      "19 Ø§ÙÙÙÙ Ø§ÙØªØ§Ù",
      " ÙÙØµÙØª ÙØ§ÙØ¬Ø³Ø¯ ÙÙ...Полный отказ от голоса и тела - это самое сердце р\n",
      "20 ÙØªØµÙØ± Ø£Ù Ø§ÙÙÙÙ",
      "Ø© ØªØ¹ÙÙ ÙØ±Ø§Ø±ÙØ§...Мы считаем, что слово означает прямое решение прод\n",
      "21 ÙÙÙ Ø¥Ø°Ø§ ÙÙØª ØªØ±Ø§ÙÙ ÙØªØ³Ù",
      "Ø¹ÙÙØ Ø...Но если ты меня видишь и слышишь, шансы на то, что\n",
      "22 ÙØ¥Ù ÙÙ",
      " ÙØ³ØªÙØ¯ Ù",
      "ÙÙØ§Ø ÙØ³ØªÙ",
      "Ø± Ø¹ÙÙ...А если нет, то по крайней мере, мы будем продолжат\n",
      "23 ÙÙ",
      "Ø© Ø§ÙØ®ØµÙÙ",
      "Ø© ÙÙ Ø£ÙØ§ ØªØ±Ø§ÙÙ ÙÙØ...Величайшая вражда заключается в том, чтобы не виде\n",
      "24 Ø§ÙÙØ¬Ø± ÙÙ Ø§ÙØ®ØµÙÙ",
      "Ø© Ù",
      "ÙØ±Ø§Ø« ØªØ¯ÙØ¹...На рассвете ссора - это наследство, за которое пла\n",
      "25 ÙÙÙ ÙØ­Ù",
      "Ù Ø£Ø¬Ø³Ø§Ø¯ Ø£Ø¨ÙØ§Ø¦ÙØ§ Ù",
      "Ù Ù",
      "Ù...Ответ не заканчивается, когда заключенные освобожд\n",
      "26 Ø¹ÙÙ Ø§ÙØ±ØºÙ",
      " Ù",
      "Ù Ø£Ù Ø§Ø³ØªØ±Ø§ØªÙØ¬ÙØ© Ø...Несмотря на то, что российская стратегия по водоро\n",
      "27 ÙÙ Ø§ÙÙØ§ÙØ¹Ø ØªÙ",
      "Ø§Ù",
      "ÙØ§ Ù",
      "Ø«Ù Ø§ÙØ¹Ø¯Ù...На самом деле, как и многие другие аналогичные док\n",
      "28 ÙÙØ·ÙÙ Ø§ÙØ¨Ø¹Ø¶ Ø¹ÙÙ Ø§ÙÙÙØ¯Ø±ÙØ¬ÙÙ ...Некоторые называют водород швейцарским топливным н\n",
      "29 ÙØ¸Ø±ÙØ§ ÙÙÙÙÙ Ø§ÙØ¹ÙØµØ± Ø§ÙØ£ÙØ«Ø± Ù...Учитывая, что это самый богатый элемент во Вселенн\n",
      "30 ÙÙ",
      "ÙÙÙ ØªØ­ÙÙÙ Ø£Ø´ÙØ§Ù Ø§ÙØ·Ø§ÙØ© Ù",
      "Ù...Он может переключить энергию с (электрической) на \n",
      "31 ÙÙ",
      "Ø¹ Ø°ÙÙØ Ù",
      "Ù Ø§ÙÙØ§ÙØª ÙÙÙØ¸Ø± Ø£ÙÙ...Тем не менее, удивительно, что углекислый газ не в\n",
      "32 ÙÙ Ø§ÙÙØ§ÙØ¹Ø ÙØ§ ÙÙÙØ¯ Ø³ÙÙ Ø§ÙÙ",
      "Ø§Ø...На самом деле, только вода образуется как побочный\n",
      "33 Ø´Ø±Ø¹ ÙØ«ÙØ±Ù Ù",
      "Ù Ø§ÙØ´Ø¨Ø§Ù Ø§ÙØ³ÙØ±ÙÙ...Многие сирийские молодые люди начали покидать южну\n",
      "34 ÙØ£ÙØ¨Ù Ø§ÙÙØ«ÙØ±ÙÙ Ù",
      "ÙÙÙ",
      " Ø¹ÙÙ Ø¨ÙØ¹...Многие из них согласились продать свои драгоценные\n",
      "35 ÙØ¯ÙØ§ Ø£Ù ÙÙØªØ±Ø¨ Ù",
      "Ù Ø§ÙØ³ÙØ§Ø­Ù Ø§ÙØ...Мы чуть не приблизились к итальянскому побережью, \n",
      "36 Ø§ÙØ§ØªØ­Ø§Ø¯ Ø§ÙØ£ÙØ±ÙØ¨Ù Ù",
      "Ø³Ø¤ÙÙ Ø¹Ù Ù...Европейский союз несет ответственность за варварст\n",
      "37 Ø¨Ø§ÙØ¥Ø¶Ø§ÙØ© Ø¥ÙÙ Ø§ÙØªØ®Ø§Ø¨Ø§Øª Ø¨ÙØ±Ù ...В дополнение к июньским выборам в Перу, в Интернет\n",
      "38 Ø§ÙØªØ´Ø±Øª Ø§ÙÙ",
      "Ø¹ÙÙÙ",
      "Ø§Øª Ø§ÙÙ",
      "Ø¶ÙÙØ© Ø£Ø...В ходе этих протестов и демонстраций в Колумбии ра\n",
      "39 ÙÙ",
      "Ø§ ÙÙØ¹Øª Ø£Ø¹Ù",
      "Ø§Ù Ø¹ÙÙ Ø®Ø§Ø±Ø¬ ÙØ·Ø§Ù...Кроме того, имели место акты насилия вне рамок мас\n",
      "40 Ø§ÙØ¢ÙØ Ø¨Ø¹Ø¯ Ø³ÙØ·Ø±Ø© Ø·Ø§ÙØ¨Ø§Ù Ø§ÙÙØ§...Теперь, после полного контроля движения < < Талиба\n",
      "41 Ø±Ø£ÙØª Ø±Ø¬Ø§ÙØ§Ù Ø¨Ø¹Ù",
      "Ø§Ù",
      "Ø§Øª Ø¹ÙÙ Ø±Ø¤Ù...Я видел, как мужчины с тюрбанами на головах и ружь\n",
      "42 Ø¹ÙØ¯ÙØ§Ø ÙØ±Ø±Øª Ø£Ù Ø£Ø¬Ø¯ Ù",
      "ÙØ§ÙÙØ§ Ø£Ù...Тогда я решил найти более безопасное место для мое\n",
      "43 ØºØ§Ø¯Ø±Øª Ø¥ÙÙ Ø¨Ø§ÙØ³ØªØ§ÙØ ÙØ¹Ø¨Ø±Øª Ø¨Ù...Отбыла в Пакистан, пересекла пограничный контрольн\n",
      "44 ÙØ§Ù Ø³ÙØ§Ù Ø³Ø¨ÙÙ Ø¨ÙÙØ¯Ø§Ù ÙØ¹ÙÙ",
      "ÙÙ...Жители Спин-Больдака знали, что они не могут жить \n",
      "45 Ø¥Ø­Ø¯Ù Ø§ÙÙØ¦Ø§Øª Ø§ÙØ£ÙØ«Ø± ØªØ¶Ø±Ø±ÙØ§ Ù",
      "...Одна из групп, наиболее пострадавших от этой войны\n",
      "46 ÙØ®Ø´ÙÙ Ù",
      "Ù Ø£Ù ÙÙØ¯Ø§Ù Ø£ÙÙ",
      "Ø§Ø· Ø­ÙØ§Ø...Они опасаются, что при режиме талибов их ждет утра\n",
      "47 Ø®ÙØ§Ù Ø§ÙØ³ÙÙØ§Øª Ø§ÙØ£Ø®ÙØ±Ø©Ø ÙÙÙ",
      "Ø§ ...В последние годы, несмотря на то, что в большинств\n",
      "48 Ø£Ù",
      "Ø§ ÙÙ Ø³Ø§Ø¦Ø± Ø§ÙØ¹Ø§ÙÙ",
      " Ø§ÙØ¹Ø±Ø¨ÙØ Ù...Во всем арабском мире половое воспитание по-прежне\n",
      "49 ÙÙ Ø§ÙÙ",
      "ÙØ§Ø¨ÙØ ØªÙØªØµØ± Ø§ÙØ£Ø­Ø§Ø¯ÙØ« ...С другой стороны, разговоры о сексуальной активнос\n",
      "50 Ø¥Ø°Ø§ Ø§Ø³ØªÙ",
      "Ø±ÙÙÙØ§ Ø¨ØªØ¬ÙØ¨ ÙØ°Ù Ø§ÙØ£...Если мы будем продолжать избегать этих разговоров \n",
      "51 ÙØ­Ù ÙÙØ­Ù Ø¥Ø³Ø§Ø¡Ø© ÙØ§Ø¦ÙØ© Ø¨Ø§ÙÙØªÙ...Мы подвергаем девочек огромному насилию, скрывая о\n",
      "52 ÙØ·ÙØ¨ÙÙ Ø§ÙØªØ¨Ø±Ø¹Ø§Øª Ø¨Ø¹Ø¯ Ø²ÙØ²Ø§ÙØ ...Они просят о пожертвованиях после землетрясения, н\n",
      "53 Ø¨Ø§ÙØ·Ø¨Ø¹ Ø³ÙÙØ¹Ù Ù",
      "Ø§ Ø¨ÙØ³Ø¹ÙØ§ ÙÙ",
      "Ø³Ø§...Конечно, мы сделаем все, что в наших силах, чтобы \n",
      "54 Ø§Ø´ØªÙÙ Ø³ÙØ§Ù Ø®ÙØ²Ø³ØªØ§Ù Ù",
      "ØªØ¹Ø¯Ø¯Ù Ø§...Многоэтнические жители Хузестана, в том числе боль\n",
      "55 Ø§ÙØªØ´Ø±Øª Ø§ÙÙ",
      "Ø³ÙØ±Ø§Øª ÙÙ Ø§ÙØ¹Ø¯ÙØ¯ Ù",
      "...С момента начала протестов во многих других мухафа\n",
      "56 ØªÙØªÙ",
      "Ù Ø§ÙØ§Ø­ØªØ¬Ø§Ø¬Ø§Øª Ø§ÙØ¬Ø¯ÙØ¯Ø© Ø¥Ù...Новые протесты принадлежат к низшему среднему клас\n",
      "57 ÙØ¨ÙÙÙ",
      "Ø§ ÙØ§Ù Ø§ÙÙ",
      "ØªØ¸Ø§ÙØ±ÙÙ ÙÙ Ø§Ù...В то время как в последние два десятилетия демонст\n",
      "**********************************************************************************************************\n",
      "preproc: 2.92 ms, среднее: 0.051 ms\n",
      "token: 57.17 ms, среднее: 1.003 ms\n",
      "generate: 59756.26 ms, среднее: 1048.356 ms\n",
      "decode: 116.61 ms, среднее: 2.046 ms\n",
      "memory: 1114.17 Mb, среднее: 19.54688 Mb\n",
      "предложений: 57\n",
      "Затрачено времени: 119.75 сек.\n"
     ]
    }
   ],
   "source": [
    "sourceid=\"ar\"\n",
    "targetid=\"ru\"\n",
    "source = f'input.{sourceid}'\n",
    "target = f'api-output.en-{targetid}'\n",
    "url = 'http://10.239.16.89:60001/api/translation' \n",
    "headers = {'accept': 'application/json',\n",
    "           'Content-Type': 'application/json',\n",
    "}\n",
    "\n",
    "result = []\n",
    "all_time = 0\n",
    "measure = {\"preproc\": [], \"token\": [], \"generate\": [], \"decode\": [], \"memory_start\": [], \"memory_end\": [], \"memory\": []}\n",
    "with open(source, encoding='utf-8') as f:\n",
    "    n = 0\n",
    "    for i in f:\n",
    "        start = time.time() # начало замера времени\n",
    "        sent = i.strip()\n",
    "        n += 1\n",
    "        sent = sent.encode('utf-8').decode('latin-1', 'ignore')\n",
    "        print(n, sent[:50], end='...')\n",
    "        data = '{\\n  \"text\": \"' + str(sent) + '\",\\n  \"sourceLanguage\": \"' + sourceid + '\",\\n  \"targetLanguage\": \"' + targetid + '\"\\n}'\n",
    "        answer = requests.post(url, headers=headers, data=data).json()['message']\n",
    "        test = requests.post(url, headers=headers, data=data).json()['test']\n",
    "        measure[\"preproc\"].append(test[\"preproc\"])\n",
    "        measure[\"token\"].append(test[\"token\"])\n",
    "        measure[\"generate\"].append(test[\"generate\"])\n",
    "        measure[\"decode\"].append(test[\"decode\"])\n",
    "        measure[\"memory\"].append(test[\"memory\"])\n",
    "\n",
    "        end = time.time() # окончание замера времени\n",
    "        all_time += (end - start) # фиксация затраченного времени\n",
    "        print(answer[:50])\n",
    "        result.append(answer)\n",
    "        \n",
    "with open(f'new_{target}', 'w', encoding='utf-8') as f:\n",
    "    f.write(\"\\n\".join(result) + '\\n')\n",
    "\n",
    "preproc = f'{sum(measure[\"preproc\"] * 1000):.2f} ms, среднее: {sum(measure[\"preproc\"]) * 1000 / len(measure[\"preproc\"]):.3f} ms'\n",
    "token = f'{sum(measure[\"token\"] * 1000):.2f} ms, среднее: {sum(measure[\"token\"]) * 1000 / len(measure[\"token\"]):.3f} ms'\n",
    "generate = f'{sum(measure[\"generate\"] * 1000):.2f} ms, среднее: {sum(measure[\"generate\"]) * 1000 / len(measure[\"generate\"]):.3f} ms'\n",
    "decode = f'{sum(measure[\"decode\"] * 1000):.2f} ms, среднее: {sum(measure[\"decode\"]) * 1000 / len(measure[\"decode\"]):.3f} ms'\n",
    "memory = f'{sum(measure[\"memory\"]) / (1024 * 1024):.2f} Mb, среднее: {sum(measure[\"memory\"]) / len(measure[\"memory\"]) / (1024 * 1024):.5f} Mb'\n",
    "\n",
    "print('*' * 106)\n",
    "print(f'preproc: {preproc}\\ntoken: {token}\\ngenerate: {generate}\\ndecode: {decode}\\nmemory: {memory}\\nпредложений: {len(measure[\"preproc\"])}')\n",
    "print(f'Затрачено времени: {all_time:.2f} сек.')"
   ]
  },
  {
   "cell_type": "markdown",
   "id": "55f31cb0",
   "metadata": {},
   "source": [
    "### Уменьшим CPU и оставим RAM таким же\n",
    "> CPU - 10 CPU & 64 RAM"
   ]
  },
  {
   "cell_type": "markdown",
   "id": "9fc136f1",
   "metadata": {},
   "source": [
    "#### Английский"
   ]
  },
  {
   "cell_type": "code",
   "execution_count": 21,
   "id": "db7c9a9d",
   "metadata": {},
   "outputs": [
    {
     "name": "stdout",
     "output_type": "stream",
     "text": [
      "1 This case was resolved with the same evidence that...Это дело было урегулировано с использованием тех ж\n",
      "2 If justice is a form of dissuasion to prevent peop...Если правосудие является одной из форм устрашения \n",
      "3 Authorities must publicly denounce violence on jou...Власти должны публично осудить насилие в отношении\n",
      "4 Indeed, [the government of] Colombia adopted a pro...Действительно, [правительство] Колумбии приняло пр\n",
      "5 But the program has a mixed record, especially aft...Но эта программа имеет смешанный послужной список,\n",
      "6 In September, the People's Party presented a draft...В сентябре Народная партия представила на рассмотр\n",
      "7 While the law is still under review, its proponent...Хотя этот закон все еще находится на рассмотрении,\n",
      "8 After a deadly shooting in Almaty, the country's l...После смертельной стрельбы в Алма-Ате, крупнейшем \n",
      "9 I also learned a lot along the way about the craft...Я также многому научился на пути к искусству литер\n",
      "10 I'm still learning, I believe....Я все еще учусь, полагаю.\n",
      "11 The commercial side of things was a steep learning...Коммерческая сторона вещей также была крутой криво\n",
      "12 So, beyond the craft and commercial aspects, I lea...Так что, помимо ремесленных и коммерческих аспекто\n",
      "13 Finally, I want to do and be more of what I'd like...Наконец-то, я хочу сделать больше того, что хотел \n",
      "14 So, if I want to see more diverse South Asian book...Так что, если я хочу увидеть, как принимают и чита\n",
      "15 I find it more productive to put out positive ener...Я считаю более продуктивным использовать позитивну\n",
      "16 Right now, it's a solo venture because I can't aff...Прямо сейчас, это сольное предприятие, потому что \n",
      "17 Let's see....Посмотрим.\n",
      "18 The story is not about prisoners health, but the h...Речь идет не о здоровье заключенных, а о здоровье \n",
      "19 It is a story of oppressive tools passed down for ...Это история о репрессивных инструментах, переданны\n",
      "20 The total negation of the voice and body is the im...Полное отрицание голоса и тела является импульсом \n",
      "21 We think of an enmity as a willful decision to pur...Мы думаем о вражде как о сознательном решении вест\n",
      "22 When the feud rages, you dont see or try to unders...Когда вражда бушует, ты не видишь и не пытаешься п\n",
      "23 I become an object, something to be eliminated, de...Я становлюсь объектом, что-то, что должно быть уни\n",
      "24 An enmitys legacy is the price paid by all bodies,...Враждебное наследие - это цена, которую платят все\n",
      "25 How do we protect our childrens bodies from this l...Как защитить тела наших детей от этого наследия тю\n",
      "26 The solution does not stop with the release of det...Решение этой проблемы не ограничивается освобожден\n",
      "27 It starts with release, but must end with an imagi...Она начинается с освобождения, но должна закончить\n",
      "28 Although the Russian hydrogen strategy is the most...Хотя российская водородная стратегия является самы\n",
      "29 In fact, just like many other similar documents th...На самом деле, как и многие другие аналогичные док\n",
      "30 Dubbed by some the Swiss army knife of fuels, hydr...Водород, поверженный некоторыми швейцарскими армей\n",
      "31 As the universes most abundant element, it will ne...Поскольку вселенная является самым богатым элемент\n",
      "32 It can transform one form of energy (electrical) i...Она может преобразовывать одну форму энергии (элек\n",
      "33 Most remarkably, however, it does not emit carbon ...Однако самое удивительное заключается в том, что о\n",
      "34 In fact, it generates only water as a byproduct....На самом деле, она производит только воду в качест\n",
      "35 Many young Syrians have left southern Syria since ...Многие молодые сирийцы покинули южную часть Сирии \n",
      "36 Many of them sold their valuables in Syria to get ...Многие из них продали свои ценности в Сирии, чтобы\n",
      "37 But many never completed the journey....Но многие так и не завершили это путешествие.\n",
      "38 We were about to reach the Italian coast, when a s...Мы собирались добраться до итальянского побережья,\n",
      "39 They started pointing towards us....Они начали указывать на нас.\n",
      "40 We decided to escape, but the ship lowered a small...Мы решили сбежать, но корабль опустился на маленьк\n",
      "41 The ship approached us then, and they transferred ...Корабль подошел к нам тогда, и они перевели нас ту\n",
      "42 The European Union is responsible for Libyas barba...Европейский союз несет ответственность за варварст\n",
      "43 In Perus June elections, misinformation circulated...В ходе выборов в Перу в июне дезинформация распрос\n",
      "44 In addition to false information, real information...Помимо ложной информации, реальная информация мани\n",
      "45 For example, news circulated about the registry vo...Например, распространялись сообщения о списках изб\n",
      "46 Disinformation abounded during these protests as w...В ходе этих протестов, как, например, во время дем\n",
      "47 Local sources reported that hundreds of videos, au...Местные источники сообщили, что сотни видео, аудио\n",
      "48 Violence also takes place outside of the context o...Насилие также имеет место вне контекста публичных \n",
      "49 Stigmatizing speech and verbal attacks against the...Противоречия и словесные нападки на прессу все чащ\n",
      "50 At least four journalists have been murdered since...С января 2021 года в Латинской Америке было убито \n",
      "51 Now that the Taliban have full control, Afghan cit...Теперь, когда &lt; &lt; Талибан &gt; &gt; полность\n",
      "52 I saw men with turbans on their heads, and rifles ...Я видел людей с тюрбанами на головах и винтовками \n",
      "53 It was then that I decided to find a safer place f...Тогда я решил найти более безопасное место для сво\n",
      "54 I left for Pakistan, crossing the Chaman border ga...Я уехала в Пакистан, пересекая границы с Чаманом.\n",
      "55 The residents of Spin Boldak knew they could not c...Жители Спин-Болдака знали, что они не могут продол\n",
      "56 One of the groups most affected by the decades-lon...Одной из групп, в наибольшей степени пострадавших \n",
      "57 They fear that the loss of their lifestyles and th...Они опасаются, что утрата их образа жизни и их дос\n",
      "58 In recent years, as sex education curriculums rema...В последние годы, поскольку учебные программы по п\n",
      "59 In the rest of the Arab world, sex education is co...В остальной части арабского мира половое воспитани\n",
      "60 Meanwhile, conversations about sexuality, fertilit...Между тем разговоры о сексуальности, фертильности,\n",
      "61 If we continue to avoid these conversations and to...Если мы и впредь будем избегать этих разговоров и \n",
      "62 We are doing girls a huge disservice by keeping th...Мы оказываем девочкам огромную плохую услугу, удер\n",
      "63 They ask for donations after an earthquake, flood,...Они просят о пожертвованиях после землетрясения, н\n",
      "64 Of course we will do what is in our power to help ...Конечно, мы будем делать то, что в наших силах, чт\n",
      "65 The multiethnic population of Khuzestan, which inc...Мультиэтническое население Хузестана, в состав кот\n",
      "66 Since protests began, rallies have rippled across ...С момента начала протестов митинги охватили нескол\n",
      "67 The new protests belong to the lower middle class ...Новые протесты относятся к низшему среднему классу\n",
      "68 While the protesters in the last two decades had, ...В то время как протестующие за последние два десят\n",
      "**********************************************************************************************************\n",
      "preproc: 2.66 ms, среднее: 0.039 ms\n",
      "token: 48.96 ms, среднее: 0.720 ms\n",
      "generate: 109040.73 ms, среднее: 1603.540 ms\n",
      "decode: 238.03 ms, среднее: 3.500 ms\n",
      "memory: 1078.88 Mb, среднее: 15.86587 Mb\n",
      "предложений: 68\n",
      "Затрачено времени: 218.49 сек.\n"
     ]
    }
   ],
   "source": [
    "sourceid=\"en\"\n",
    "targetid=\"ru\"\n",
    "source = f'input.{sourceid}'\n",
    "target = f'api-output.en-{targetid}'\n",
    "url = 'http://10.239.16.89:60001/api/translation' \n",
    "headers = {'accept': 'application/json',\n",
    "           'Content-Type': 'application/json',\n",
    "}\n",
    "with open(source, encoding='utf-8') as f:\n",
    "    text = f.readlines()\n",
    "text = (\" \".join([i.strip() for i in text]))\n",
    "text = split_text_into_sentences(text, language=sourceid)\n",
    "\n",
    "result = []\n",
    "n = 0\n",
    "all_time = 0\n",
    "measure = {\"preproc\": [], \"token\": [], \"generate\": [], \"decode\": [], \"memory_start\": [], \"memory_end\": [], \"memory\": []}\n",
    "for sent in text:\n",
    "    start = time.time() # начало замера времени\n",
    "    n += 1\n",
    "    sent = sent.replace('\"', '\\\\\"').encode('ascii', errors='ignore').decode(\"utf-8\")\n",
    "    print(n, sent[:50], end='...')\n",
    "    data = '{ \\\"text\\\": \\\"'+sent+'\\\", \\\"sourceLanguage\\\": \\\"'+sourceid+'\\\", \\\"targetLanguage\\\": \\\"'+targetid+'\\\"}'\n",
    "    answer = requests.post(url, headers=headers, data=data).json()['message']\n",
    "    test = requests.post(url, headers=headers, data=data).json()['test']\n",
    "    measure[\"preproc\"].append(test[\"preproc\"])\n",
    "    measure[\"token\"].append(test[\"token\"])\n",
    "    measure[\"generate\"].append(test[\"generate\"])\n",
    "    measure[\"decode\"].append(test[\"decode\"])\n",
    "    measure[\"memory\"].append(test[\"memory\"])\n",
    "\n",
    "    end = time.time() # окончание замера времени\n",
    "    all_time += (end - start) # фиксация затраченного времени\n",
    "    print(answer[:50])\n",
    "    result.append(answer)\n",
    "    \n",
    "with open(f'new_{target}', 'w', encoding='utf-8') as f:\n",
    "    f.write(\"\\n\".join(result) + '\\n')\n",
    "\n",
    "preproc = f'{sum(measure[\"preproc\"] * 1000):.2f} ms, среднее: {sum(measure[\"preproc\"]) * 1000 / len(measure[\"preproc\"]):.3f} ms'\n",
    "token = f'{sum(measure[\"token\"] * 1000):.2f} ms, среднее: {sum(measure[\"token\"]) * 1000 / len(measure[\"token\"]):.3f} ms'\n",
    "generate = f'{sum(measure[\"generate\"] * 1000):.2f} ms, среднее: {sum(measure[\"generate\"]) * 1000 / len(measure[\"generate\"]):.3f} ms'\n",
    "decode = f'{sum(measure[\"decode\"] * 1000):.2f} ms, среднее: {sum(measure[\"decode\"]) * 1000 / len(measure[\"decode\"]):.3f} ms'\n",
    "memory = f'{sum(measure[\"memory\"]) / (1024 * 1024):.2f} Mb, среднее: {sum(measure[\"memory\"]) / len(measure[\"memory\"]) / (1024 * 1024):.5f} Mb'\n",
    "\n",
    "print('*' * 106)\n",
    "print(f'preproc: {preproc}\\ntoken: {token}\\ngenerate: {generate}\\ndecode: {decode}\\nmemory: {memory}\\nпредложений: {len(measure[\"preproc\"])}')\n",
    "print(f'Затрачено времени: {all_time:.2f} сек.')"
   ]
  },
  {
   "cell_type": "markdown",
   "id": "e10250d7",
   "metadata": {},
   "source": [
    "#### Арабский"
   ]
  },
  {
   "cell_type": "code",
   "execution_count": 22,
   "id": "df7ac8f9",
   "metadata": {},
   "outputs": [
    {
     "name": "stdout",
     "output_type": "stream",
     "text": [
      "1 Ø­ÙÙØª ØªÙÙ Ø§ÙÙØ¶ÙØ© Ø¨Ø°Ø§Øª Ø§ÙØ¯ÙÙÙ...Это дело было раскрыто теми же доказательствами, ч\n",
      "2 ÙØ¬Ø¨ Ø¹ÙÙ Ø§ÙØ¯ÙÙØ© Ø£Ù ØªÙØ¯ÙÙ Ø¹ÙØ§Ù...Государство должно публично осудить насилие в отно\n",
      "3 ØªØ¨ÙØª [Ø§ÙØ­ÙÙÙ",
      "Ø©] Ø§ÙÙÙÙÙÙ",
      "Ø¨ÙØ© Ø¨Ø...Колумбийское [правительство] приняло программу защ\n",
      "4 ÙÙ Ø³Ø¨ØªÙ",
      "Ø¨Ø±/Ø£ÙÙÙÙØ ÙØ¯ÙÙ",
      " Ø­Ø²Ø¨ Ø§Ù...В сентябре Народная партия представила парламенту \n",
      "5 ÙÙ",
      "Ø¹ Ø£Ù Ø§ÙÙØ§ÙÙÙ ÙØ§ ÙØ²Ø§Ù ÙÙØ¯ Ø§...Хотя этот закон все еще находится на рассмотрении,\n",
      "6 ÙØ¹ÙØ¨ Ø­Ø¯ÙØ« Ø·ÙÙ ÙØ§Ø±ÙÙ Ù",
      "Ù",
      "ÙØª ÙÙ ...После того, как в Алматы, крупнейшем городе страны\n",
      "7 ØªØ¹ÙÙ",
      "Øª Ø£ÙØ¶ÙØ§ Ø§ÙÙØ«ÙØ± Ù",
      "Ù Ø§ÙØ£Ø´Ù...Я также многому научился на пути к литературному п\n",
      "8 ÙØ£Ø¤Ù",
      "Ù Ø£ÙÙÙ ÙØ§ Ø£Ø²Ø§Ù Ø£ØªØ¹ÙÙ",
      "...И я верю, что все еще учусь.\n",
      "9 ÙØ§Ù Ø§ÙØ¬Ø§ÙØ¨ Ø§ÙØªØ¬Ø§Ø±Ù Ø·Ø±ÙÙÙØ§ Ø´...Коммерческая сторона была очень труднодоступной с \n",
      "10 Ø¨Ø¯Ø£Øª Ù",
      "Ø´Ø±ÙØ¹ Ø§ÙÙØªØ§Ø¨ Ø¹Ø§Ù",
      " 2017 ÙÙÙ...Проект книги был начат в 2017 году, и он наконец-т\n",
      "11 ÙØ°Ø§Ø Ø¹ÙØ§ÙØ© Ø¹ÙÙ Ø§ÙØ¬ÙØ§ÙØ¨ Ø§ÙØ­Ø±...Так что, помимо ремесленных и коммерческих аспекто\n",
      "12 ÙØ£Ø®ÙØ±ÙØ§Ø Ø£Ø±ÙØ¯ Ø£Ù Ø£ÙÙÙ ÙØ£ÙØ¹Ù...И наконец, я хочу быть и делать то, что хочу видет\n",
      "13 ÙØ¥Ø°Ø§ ÙÙØªÙ Ø£Ø±ÙØ¯ Ù",
      "Ø²ÙØ¯ÙØ§ Ù",
      "Ù Ø§ÙÙ...Если я хочу, чтобы в Южной Азии было больше разных\n",
      "14 Ø£Ø±Ù Ø£Ù Ø¨Ø°Ù Ø§ÙØ·Ø§ÙØ© Ø§ÙØ¥ÙØ¬Ø§Ø¨ÙØ©...Я считаю, что позитивная энергия в этой работе бол\n",
      "15 Ø­Ø§ÙÙÙØ§Ø ÙÙØ¹Ø¯ Ø§ÙØ£Ù",
      "Ø± Ù",
      "Ø¬Ø§Ø²ÙØ© Ù...На данный момент, это индивидуальный риск, потому \n",
      "16 ÙÙØ±Ù...Посмотрим.\n",
      "17 Ø§ÙÙØµØ© ÙØ§ ØªØ®Øµ ØµØ­Ø© Ø§ÙÙ",
      "Ø³Ø§Ø¬ÙÙ Ø¨Ù...История касается не здоровья заключенных, а здоров\n",
      "18 Ø§ÙÙØµØ© ÙÙ Ø£Ø¯ÙØ§Øª ÙÙ",
      "Ø¹ÙØ© ØªÙØ±Ø« Ù",
      "Ù...История о репрессивных инструментах, которые унасл\n",
      "19 Ø§ÙÙÙÙ Ø§ÙØªØ§Ù",
      " ÙÙØµÙØª ÙØ§ÙØ¬Ø³Ø¯ ÙÙ...Полный отказ от голоса и тела - это самое сердце р\n",
      "20 ÙØªØµÙØ± Ø£Ù Ø§ÙÙÙÙ",
      "Ø© ØªØ¹ÙÙ ÙØ±Ø§Ø±ÙØ§...Мы считаем, что слово означает прямое решение прод\n",
      "21 ÙÙÙ Ø¥Ø°Ø§ ÙÙØª ØªØ±Ø§ÙÙ ÙØªØ³Ù",
      "Ø¹ÙÙØ Ø...Но если ты меня видишь и слышишь, шансы на то, что\n",
      "22 ÙØ¥Ù ÙÙ",
      " ÙØ³ØªÙØ¯ Ù",
      "ÙÙØ§Ø ÙØ³ØªÙ",
      "Ø± Ø¹ÙÙ...А если нет, то по крайней мере, мы будем продолжат\n",
      "23 ÙÙ",
      "Ø© Ø§ÙØ®ØµÙÙ",
      "Ø© ÙÙ Ø£ÙØ§ ØªØ±Ø§ÙÙ ÙÙØ...Величайшая вражда заключается в том, чтобы не виде\n",
      "24 Ø§ÙÙØ¬Ø± ÙÙ Ø§ÙØ®ØµÙÙ",
      "Ø© Ù",
      "ÙØ±Ø§Ø« ØªØ¯ÙØ¹...На рассвете ссора - это наследство, за которое пла\n",
      "25 ÙÙÙ ÙØ­Ù",
      "Ù Ø£Ø¬Ø³Ø§Ø¯ Ø£Ø¨ÙØ§Ø¦ÙØ§ Ù",
      "Ù Ù",
      "Ù...Ответ не заканчивается, когда заключенные освобожд\n",
      "26 Ø¹ÙÙ Ø§ÙØ±ØºÙ",
      " Ù",
      "Ù Ø£Ù Ø§Ø³ØªØ±Ø§ØªÙØ¬ÙØ© Ø...Несмотря на то, что российская стратегия по водоро\n",
      "27 ÙÙ Ø§ÙÙØ§ÙØ¹Ø ØªÙ",
      "Ø§Ù",
      "ÙØ§ Ù",
      "Ø«Ù Ø§ÙØ¹Ø¯Ù...На самом деле, как и многие другие аналогичные док\n",
      "28 ÙÙØ·ÙÙ Ø§ÙØ¨Ø¹Ø¶ Ø¹ÙÙ Ø§ÙÙÙØ¯Ø±ÙØ¬ÙÙ ...Некоторые называют водород швейцарским топливным н\n",
      "29 ÙØ¸Ø±ÙØ§ ÙÙÙÙÙ Ø§ÙØ¹ÙØµØ± Ø§ÙØ£ÙØ«Ø± Ù...Учитывая, что это самый богатый элемент во Вселенн\n",
      "30 ÙÙ",
      "ÙÙÙ ØªØ­ÙÙÙ Ø£Ø´ÙØ§Ù Ø§ÙØ·Ø§ÙØ© Ù",
      "Ù...Он может переключить энергию с (электрической) на \n",
      "31 ÙÙ",
      "Ø¹ Ø°ÙÙØ Ù",
      "Ù Ø§ÙÙØ§ÙØª ÙÙÙØ¸Ø± Ø£ÙÙ...Тем не менее, удивительно, что углекислый газ не в\n",
      "32 ÙÙ Ø§ÙÙØ§ÙØ¹Ø ÙØ§ ÙÙÙØ¯ Ø³ÙÙ Ø§ÙÙ",
      "Ø§Ø...На самом деле, только вода образуется как побочный\n",
      "33 Ø´Ø±Ø¹ ÙØ«ÙØ±Ù Ù",
      "Ù Ø§ÙØ´Ø¨Ø§Ù Ø§ÙØ³ÙØ±ÙÙ...Многие сирийские молодые люди начали покидать южну\n",
      "34 ÙØ£ÙØ¨Ù Ø§ÙÙØ«ÙØ±ÙÙ Ù",
      "ÙÙÙ",
      " Ø¹ÙÙ Ø¨ÙØ¹...Многие из них согласились продать свои драгоценные\n",
      "35 ÙØ¯ÙØ§ Ø£Ù ÙÙØªØ±Ø¨ Ù",
      "Ù Ø§ÙØ³ÙØ§Ø­Ù Ø§ÙØ...Мы чуть не приблизились к итальянскому побережью, \n",
      "36 Ø§ÙØ§ØªØ­Ø§Ø¯ Ø§ÙØ£ÙØ±ÙØ¨Ù Ù",
      "Ø³Ø¤ÙÙ Ø¹Ù Ù...Европейский союз несет ответственность за варварст\n",
      "37 Ø¨Ø§ÙØ¥Ø¶Ø§ÙØ© Ø¥ÙÙ Ø§ÙØªØ®Ø§Ø¨Ø§Øª Ø¨ÙØ±Ù ...В дополнение к июньским выборам в Перу, в Интернет\n",
      "38 Ø§ÙØªØ´Ø±Øª Ø§ÙÙ",
      "Ø¹ÙÙÙ",
      "Ø§Øª Ø§ÙÙ",
      "Ø¶ÙÙØ© Ø£Ø...В ходе этих протестов и демонстраций в Колумбии ра\n",
      "39 ÙÙ",
      "Ø§ ÙÙØ¹Øª Ø£Ø¹Ù",
      "Ø§Ù Ø¹ÙÙ Ø®Ø§Ø±Ø¬ ÙØ·Ø§Ù...Кроме того, имели место акты насилия вне рамок мас\n",
      "40 Ø§ÙØ¢ÙØ Ø¨Ø¹Ø¯ Ø³ÙØ·Ø±Ø© Ø·Ø§ÙØ¨Ø§Ù Ø§ÙÙØ§...Теперь, после полного контроля движения < < Талиба\n",
      "41 Ø±Ø£ÙØª Ø±Ø¬Ø§ÙØ§Ù Ø¨Ø¹Ù",
      "Ø§Ù",
      "Ø§Øª Ø¹ÙÙ Ø±Ø¤Ù...Я видел, как мужчины с тюрбанами на головах и ружь\n",
      "42 Ø¹ÙØ¯ÙØ§Ø ÙØ±Ø±Øª Ø£Ù Ø£Ø¬Ø¯ Ù",
      "ÙØ§ÙÙØ§ Ø£Ù...Тогда я решил найти более безопасное место для мое\n",
      "43 ØºØ§Ø¯Ø±Øª Ø¥ÙÙ Ø¨Ø§ÙØ³ØªØ§ÙØ ÙØ¹Ø¨Ø±Øª Ø¨Ù...Отбыла в Пакистан, пересекла пограничный контрольн\n",
      "44 ÙØ§Ù Ø³ÙØ§Ù Ø³Ø¨ÙÙ Ø¨ÙÙØ¯Ø§Ù ÙØ¹ÙÙ",
      "ÙÙ...Жители Спин-Больдака знали, что они не могут жить \n",
      "45 Ø¥Ø­Ø¯Ù Ø§ÙÙØ¦Ø§Øª Ø§ÙØ£ÙØ«Ø± ØªØ¶Ø±Ø±ÙØ§ Ù",
      "...Одна из групп, наиболее пострадавших от этой войны\n",
      "46 ÙØ®Ø´ÙÙ Ù",
      "Ù Ø£Ù ÙÙØ¯Ø§Ù Ø£ÙÙ",
      "Ø§Ø· Ø­ÙØ§Ø...Они опасаются, что при режиме талибов их ждет утра\n",
      "47 Ø®ÙØ§Ù Ø§ÙØ³ÙÙØ§Øª Ø§ÙØ£Ø®ÙØ±Ø©Ø ÙÙÙ",
      "Ø§ ...В последние годы, несмотря на то, что в большинств\n",
      "48 Ø£Ù",
      "Ø§ ÙÙ Ø³Ø§Ø¦Ø± Ø§ÙØ¹Ø§ÙÙ",
      " Ø§ÙØ¹Ø±Ø¨ÙØ Ù...Во всем арабском мире половое воспитание по-прежне\n",
      "49 ÙÙ Ø§ÙÙ",
      "ÙØ§Ø¨ÙØ ØªÙØªØµØ± Ø§ÙØ£Ø­Ø§Ø¯ÙØ« ...С другой стороны, разговоры о сексуальной активнос\n",
      "50 Ø¥Ø°Ø§ Ø§Ø³ØªÙ",
      "Ø±ÙÙÙØ§ Ø¨ØªØ¬ÙØ¨ ÙØ°Ù Ø§ÙØ£...Если мы будем продолжать избегать этих разговоров \n",
      "51 ÙØ­Ù ÙÙØ­Ù Ø¥Ø³Ø§Ø¡Ø© ÙØ§Ø¦ÙØ© Ø¨Ø§ÙÙØªÙ...Мы подвергаем девочек огромному насилию, скрывая о\n",
      "52 ÙØ·ÙØ¨ÙÙ Ø§ÙØªØ¨Ø±Ø¹Ø§Øª Ø¨Ø¹Ø¯ Ø²ÙØ²Ø§ÙØ ...Они просят о пожертвованиях после землетрясения, н\n",
      "53 Ø¨Ø§ÙØ·Ø¨Ø¹ Ø³ÙÙØ¹Ù Ù",
      "Ø§ Ø¨ÙØ³Ø¹ÙØ§ ÙÙ",
      "Ø³Ø§...Конечно, мы сделаем все, что в наших силах, чтобы \n",
      "54 Ø§Ø´ØªÙÙ Ø³ÙØ§Ù Ø®ÙØ²Ø³ØªØ§Ù Ù",
      "ØªØ¹Ø¯Ø¯Ù Ø§...Многоэтнические жители Хузестана, в том числе боль\n",
      "55 Ø§ÙØªØ´Ø±Øª Ø§ÙÙ",
      "Ø³ÙØ±Ø§Øª ÙÙ Ø§ÙØ¹Ø¯ÙØ¯ Ù",
      "...С момента начала протестов во многих других мухафа\n",
      "56 ØªÙØªÙ",
      "Ù Ø§ÙØ§Ø­ØªØ¬Ø§Ø¬Ø§Øª Ø§ÙØ¬Ø¯ÙØ¯Ø© Ø¥Ù...Новые протесты принадлежат к низшему среднему клас\n",
      "57 ÙØ¨ÙÙÙ",
      "Ø§ ÙØ§Ù Ø§ÙÙ",
      "ØªØ¸Ø§ÙØ±ÙÙ ÙÙ Ø§Ù...В то время как в последние два десятилетия демонст\n",
      "**********************************************************************************************************\n",
      "preproc: 2.91 ms, среднее: 0.051 ms\n",
      "token: 90.24 ms, среднее: 1.583 ms\n",
      "generate: 102496.72 ms, среднее: 1798.188 ms\n",
      "decode: 224.44 ms, среднее: 3.938 ms\n",
      "memory: 1094.59 Mb, среднее: 19.20340 Mb\n",
      "предложений: 57\n",
      "Затрачено времени: 206.48 сек.\n"
     ]
    }
   ],
   "source": [
    "sourceid=\"ar\"\n",
    "targetid=\"ru\"\n",
    "source = f'input.{sourceid}'\n",
    "target = f'api-output.en-{targetid}'\n",
    "url = 'http://10.239.16.89:60001/api/translation' \n",
    "headers = {'accept': 'application/json',\n",
    "           'Content-Type': 'application/json',\n",
    "}\n",
    "\n",
    "result = []\n",
    "all_time = 0\n",
    "measure = {\"preproc\": [], \"token\": [], \"generate\": [], \"decode\": [], \"memory_start\": [], \"memory_end\": [], \"memory\": []}\n",
    "with open(source, encoding='utf-8') as f:\n",
    "    n = 0\n",
    "    for i in f:\n",
    "        start = time.time() # начало замера времени\n",
    "        sent = i.strip()\n",
    "        n += 1\n",
    "        sent = sent.encode('utf-8').decode('latin-1', 'ignore')\n",
    "        print(n, sent[:50], end='...')\n",
    "        data = '{\\n  \"text\": \"' + str(sent) + '\",\\n  \"sourceLanguage\": \"' + sourceid + '\",\\n  \"targetLanguage\": \"' + targetid + '\"\\n}'\n",
    "        answer = requests.post(url, headers=headers, data=data).json()['message']\n",
    "        test = requests.post(url, headers=headers, data=data).json()['test']\n",
    "        measure[\"preproc\"].append(test[\"preproc\"])\n",
    "        measure[\"token\"].append(test[\"token\"])\n",
    "        measure[\"generate\"].append(test[\"generate\"])\n",
    "        measure[\"decode\"].append(test[\"decode\"])\n",
    "        measure[\"memory\"].append(test[\"memory\"])\n",
    "\n",
    "        end = time.time() # окончание замера времени\n",
    "        all_time += (end - start) # фиксация затраченного времени\n",
    "        print(answer[:50])\n",
    "        result.append(answer)\n",
    "        \n",
    "with open(f'new_{target}', 'w', encoding='utf-8') as f:\n",
    "    f.write(\"\\n\".join(result) + '\\n')\n",
    "\n",
    "preproc = f'{sum(measure[\"preproc\"] * 1000):.2f} ms, среднее: {sum(measure[\"preproc\"]) * 1000 / len(measure[\"preproc\"]):.3f} ms'\n",
    "token = f'{sum(measure[\"token\"] * 1000):.2f} ms, среднее: {sum(measure[\"token\"]) * 1000 / len(measure[\"token\"]):.3f} ms'\n",
    "generate = f'{sum(measure[\"generate\"] * 1000):.2f} ms, среднее: {sum(measure[\"generate\"]) * 1000 / len(measure[\"generate\"]):.3f} ms'\n",
    "decode = f'{sum(measure[\"decode\"] * 1000):.2f} ms, среднее: {sum(measure[\"decode\"]) * 1000 / len(measure[\"decode\"]):.3f} ms'\n",
    "memory = f'{sum(measure[\"memory\"]) / (1024 * 1024):.2f} Mb, среднее: {sum(measure[\"memory\"]) / len(measure[\"memory\"]) / (1024 * 1024):.5f} Mb'\n",
    "\n",
    "print('*' * 106)\n",
    "print(f'preproc: {preproc}\\ntoken: {token}\\ngenerate: {generate}\\ndecode: {decode}\\nmemory: {memory}\\nпредложений: {len(measure[\"preproc\"])}')\n",
    "print(f'Затрачено времени: {all_time:.2f} сек.')"
   ]
  },
  {
   "cell_type": "markdown",
   "id": "49ff6893",
   "metadata": {},
   "source": [
    "## GPU\n",
    "> CPU - 10 CPU & 16 RAM"
   ]
  },
  {
   "cell_type": "markdown",
   "id": "af8e2204",
   "metadata": {},
   "source": [
    "### GPU - используется при переводе одного предложения"
   ]
  },
  {
   "cell_type": "code",
   "execution_count": 1,
   "id": "4e93f06f",
   "metadata": {},
   "outputs": [],
   "source": [
    "import os\n",
    "import requests\n",
    "from sentence_splitter import SentenceSplitter, split_text_into_sentences\n",
    "import time"
   ]
  },
  {
   "cell_type": "markdown",
   "id": "7393e00a",
   "metadata": {},
   "source": [
    "#### Английский"
   ]
  },
  {
   "cell_type": "code",
   "execution_count": 4,
   "id": "eff51f1a",
   "metadata": {},
   "outputs": [
    {
     "name": "stdout",
     "output_type": "stream",
     "text": [
      "1 This case was resolved with the same evidence that...Это дело было урегулировано с использованием тех ж\n",
      "2 If justice is a form of dissuasion to prevent peop...Если правосудие является одной из форм устрашения \n",
      "3 Authorities must publicly denounce violence on jou...Власти должны публично осудить насилие в отношении\n",
      "4 Indeed, [the government of] Colombia adopted a pro...Действительно, [правительство] Колумбии приняло пр\n",
      "5 But the program has a mixed record, especially aft...Но эта программа имеет смешанный послужной список,\n",
      "6 In September, the People's Party presented a draft...В сентябре Народная партия представила на рассмотр\n",
      "7 While the law is still under review, its proponent...Хотя этот закон все еще находится на рассмотрении,\n",
      "8 After a deadly shooting in Almaty, the country's l...После смертельной стрельбы в Алма-Ате, крупнейшем \n",
      "9 I also learned a lot along the way about the craft...Я также многому научился на пути к искусству литер\n",
      "10 I'm still learning, I believe....Я все еще учусь, полагаю.\n",
      "11 The commercial side of things was a steep learning...Коммерческая сторона вещей также была крутой криво\n",
      "12 So, beyond the craft and commercial aspects, I lea...Так что, помимо ремесленных и коммерческих аспекто\n",
      "13 Finally, I want to do and be more of what I'd like...Наконец-то, я хочу сделать больше того, что хотел \n",
      "14 So, if I want to see more diverse South Asian book...Так что, если я хочу увидеть, как принимают и чита\n",
      "15 I find it more productive to put out positive ener...Я считаю более продуктивным использовать позитивну\n",
      "16 Right now, it's a solo venture because I can't aff...Прямо сейчас, это сольное предприятие, потому что \n",
      "17 Let's see....Посмотрим.\n",
      "18 The story is not about prisoners health, but the h...Речь идет не о здоровье заключенных, а о здоровье \n",
      "19 It is a story of oppressive tools passed down for ...Это история о репрессивных инструментах, переданны\n",
      "20 The total negation of the voice and body is the im...Абсолютное отрицание голоса и тела является\n",
      "21 We think of an enmity as a willful decision to pur...Мы думаем о вражде как о сознательном решении вест\n",
      "22 When the feud rages, you dont see or try to unders...Когда вражда бушует, ты не видишь и не пытаешься п\n",
      "23 I become an object, something to be eliminated, de...Я становлюсь объектом, что-то, что должно быть уни\n",
      "24 An enmitys legacy is the price paid by all bodies,...Враждебное наследие - это цена, которую платят все\n",
      "25 How do we protect our childrens bodies from this l...Как защитить тела наших детей от этого наследия тю\n",
      "26 The solution does not stop with the release of det...Решение этой проблемы не ограничивается освобожден\n",
      "27 It starts with release, but must end with an imagi...Она начинается с освобождения, но должна закончить\n",
      "28 Although the Russian hydrogen strategy is the most...Хотя российская водородная стратегия является самы\n",
      "29 In fact, just like many other similar documents th...На самом деле, как и многие другие аналогичные док\n",
      "30 Dubbed by some the Swiss army knife of fuels, hydr...Водород, поверженный некоторыми швейцарскими армей\n",
      "31 As the universes most abundant element, it will ne...Поскольку вселенная является самым богатым элемент\n",
      "32 It can transform one form of energy (electrical) i...Она может преобразовывать одну форму энергии (элек\n",
      "33 Most remarkably, however, it does not emit carbon ...Однако самое удивительное заключается в том, что о\n",
      "34 In fact, it generates only water as a byproduct....На самом деле, она производит только воду в качест\n",
      "35 Many young Syrians have left southern Syria since ...Многие молодые сирийцы покинули южную часть Сирии \n",
      "36 Many of them sold their valuables in Syria to get ...Многие из них продали свои ценности в Сирии, чтобы\n",
      "37 But many never completed the journey....Но многие так и не завершили это путешествие.\n",
      "38 We were about to reach the Italian coast, when a s...Мы собирались доплыть до итальянского побережья, к\n",
      "39 They started pointing towards us....Они начали указывать на нас.\n",
      "40 We decided to escape, but the ship lowered a small...Мы решили сбежать, но корабль опустился на маленьк\n",
      "41 The ship approached us then, and they transferred ...Корабль подошел к нам тогда, и они перевели нас ту\n",
      "42 The European Union is responsible for Libyas barba...Европейский союз несет ответственность за варварст\n",
      "43 In Perus June elections, misinformation circulated...В ходе выборов в Перу в июне дезинформация распрос\n",
      "44 In addition to false information, real information...Помимо ложной информации, реальная информация мани\n",
      "45 For example, news circulated about the registry vo...Например, распространялись сообщения о списках изб\n",
      "46 Disinformation abounded during these protests as w...В ходе этих протестов, как, например, во время дем\n",
      "47 Local sources reported that hundreds of videos, au...Местные источники сообщили, что сотни видео, аудио\n",
      "48 Violence also takes place outside of the context o...Насилие также имеет место вне контекста публичных \n",
      "49 Stigmatizing speech and verbal attacks against the...Противоречия и словесные нападки на прессу все чащ\n",
      "50 At least four journalists have been murdered since...С января 2021 года в Латинской Америке было убито \n",
      "51 Now that the Taliban have full control, Afghan cit...Теперь, когда &lt; &lt; Талибан &gt; &gt; полность\n",
      "52 I saw men with turbans on their heads, and rifles ...Я видел людей с тюрбанами на головах и винтовками \n",
      "53 It was then that I decided to find a safer place f...Тогда я решил найти более безопасное место для сво\n",
      "54 I left for Pakistan, crossing the Chaman border ga...Я уехала в Пакистан, пересекая границы с Чаманом.\n",
      "55 The residents of Spin Boldak knew they could not c...Жители Спин-Болдака знали, что они не могут продол\n",
      "56 One of the groups most affected by the decades-lon...Одной из групп, в наибольшей степени пострадавших \n",
      "57 They fear that the loss of their lifestyles and th...Они опасаются, что утрата их образа жизни и их дос\n",
      "58 In recent years, as sex education curriculums rema...В последние годы, поскольку учебные программы по п\n",
      "59 In the rest of the Arab world, sex education is co...В остальной части арабского мира половое воспитани\n",
      "60 Meanwhile, conversations about sexuality, fertilit...Между тем разговоры о сексуальности, фертильности,\n",
      "61 If we continue to avoid these conversations and to...Если мы и впредь будем избегать этих разговоров и \n",
      "62 We are doing girls a huge disservice by keeping th...Мы оказываем девочкам огромную плохую услугу, удер\n",
      "63 They ask for donations after an earthquake, flood,...Они просят о пожертвованиях после землетрясения, н\n",
      "64 Of course we will do what is in our power to help ...Конечно, мы будем делать то, что в наших силах, чт\n",
      "65 The multiethnic population of Khuzestan, which inc...Мультиэтническое население Хузестана, в состав кот\n",
      "66 Since protests began, rallies have rippled across ...С момента начала протестов митинги охватили нескол\n",
      "67 The new protests belong to the lower middle class ...Новые протесты относятся к низшему среднему классу\n",
      "68 While the protesters in the last two decades had, ...В то время как протестующие за последние два десят\n",
      "**********************************************************************************************************\n",
      "preproc: 2.30 ms, среднее: 0.034 ms\n",
      "token: 41.36 ms, среднее: 0.608 ms\n",
      "generate: 25563.54 ms, среднее: 375.934 ms\n",
      "decode: 76.76 ms, среднее: 1.129 ms\n",
      "memory: 8.63 Mb, среднее: 0.12695 Mb\n",
      "предложений: 68\n",
      "Затрачено времени: 52.79 сек.\n"
     ]
    }
   ],
   "source": [
    "sourceid=\"en\"\n",
    "targetid=\"ru\"\n",
    "source = f'input.{sourceid}'\n",
    "target = f'api-output.en-{targetid}'\n",
    "url = 'http://10.239.16.89:60001/api/translation' \n",
    "headers = {'accept': 'application/json',\n",
    "           'Content-Type': 'application/json',\n",
    "}\n",
    "with open(source, encoding='utf-8') as f:\n",
    "    text = f.readlines()\n",
    "text = (\" \".join([i.strip() for i in text]))\n",
    "text = split_text_into_sentences(text, language=sourceid)\n",
    "\n",
    "result = []\n",
    "n = 0\n",
    "all_time = 0\n",
    "measure = {\"preproc\": [], \"token\": [], \"generate\": [], \"decode\": [], \"memory_start\": [], \"memory_end\": [], \"memory\": []}\n",
    "for sent in text:\n",
    "    start = time.time() # начало замера времени\n",
    "    n += 1\n",
    "    sent = sent.replace('\"', '\\\\\"').encode('ascii', errors='ignore').decode(\"utf-8\")\n",
    "    print(n, sent[:50], end='...')\n",
    "    data = '{ \\\"text\\\": \\\"'+sent+'\\\", \\\"sourceLanguage\\\": \\\"'+sourceid+'\\\", \\\"targetLanguage\\\": \\\"'+targetid+'\\\"}'\n",
    "    answer = requests.post(url, headers=headers, data=data).json()['message']\n",
    "    test = requests.post(url, headers=headers, data=data).json()['test']\n",
    "    measure[\"preproc\"].append(test[\"preproc\"])\n",
    "    measure[\"token\"].append(test[\"token\"])\n",
    "    measure[\"generate\"].append(test[\"generate\"])\n",
    "    measure[\"decode\"].append(test[\"decode\"])\n",
    "    measure[\"memory\"].append(test[\"memory\"])\n",
    "\n",
    "    end = time.time() # окончание замера времени\n",
    "    all_time += (end - start) # фиксация затраченного времени\n",
    "    print(answer[:50])\n",
    "    result.append(answer)\n",
    "    \n",
    "with open(f'new_{target}', 'w', encoding='utf-8') as f:\n",
    "    f.write(\"\\n\".join(result) + '\\n')\n",
    "\n",
    "preproc = f'{sum(measure[\"preproc\"] * 1000):.2f} ms, среднее: {sum(measure[\"preproc\"]) * 1000 / len(measure[\"preproc\"]):.3f} ms'\n",
    "token = f'{sum(measure[\"token\"] * 1000):.2f} ms, среднее: {sum(measure[\"token\"]) * 1000 / len(measure[\"token\"]):.3f} ms'\n",
    "generate = f'{sum(measure[\"generate\"] * 1000):.2f} ms, среднее: {sum(measure[\"generate\"]) * 1000 / len(measure[\"generate\"]):.3f} ms'\n",
    "decode = f'{sum(measure[\"decode\"] * 1000):.2f} ms, среднее: {sum(measure[\"decode\"]) * 1000 / len(measure[\"decode\"]):.3f} ms'\n",
    "memory = f'{sum(measure[\"memory\"]) / (1024 * 1024):.2f} Mb, среднее: {sum(measure[\"memory\"]) / len(measure[\"memory\"]) / (1024 * 1024):.5f} Mb'\n",
    "\n",
    "print('*' * 106)\n",
    "print(f'preproc: {preproc}\\ntoken: {token}\\ngenerate: {generate}\\ndecode: {decode}\\nmemory: {memory}\\nпредложений: {len(measure[\"preproc\"])}')\n",
    "print(f'Затрачено времени: {all_time:.2f} сек.')"
   ]
  },
  {
   "cell_type": "markdown",
   "id": "f42805d4",
   "metadata": {},
   "source": [
    "#### Арабский"
   ]
  },
  {
   "cell_type": "code",
   "execution_count": 5,
   "id": "55041937",
   "metadata": {},
   "outputs": [
    {
     "name": "stdout",
     "output_type": "stream",
     "text": [
      "1 Ø­ÙÙØª ØªÙÙ Ø§ÙÙØ¶ÙØ© Ø¨Ø°Ø§Øª Ø§ÙØ¯ÙÙÙ...Это дело было раскрыто теми же доказательствами, ч\n",
      "2 ÙØ¬Ø¨ Ø¹ÙÙ Ø§ÙØ¯ÙÙØ© Ø£Ù ØªÙØ¯ÙÙ Ø¹ÙØ§Ù...Государство должно публично осудить насилие в отно\n",
      "3 ØªØ¨ÙØª [Ø§ÙØ­ÙÙÙ",
      "Ø©] Ø§ÙÙÙÙÙÙ",
      "Ø¨ÙØ© Ø¨Ø...Колумбийское [правительство] приняло программу защ\n",
      "4 ÙÙ Ø³Ø¨ØªÙ",
      "Ø¨Ø±/Ø£ÙÙÙÙØ ÙØ¯ÙÙ",
      " Ø­Ø²Ø¨ Ø§Ù...В сентябре Народная партия представила парламенту \n",
      "5 ÙÙ",
      "Ø¹ Ø£Ù Ø§ÙÙØ§ÙÙÙ ÙØ§ ÙØ²Ø§Ù ÙÙØ¯ Ø§...Хотя этот закон все еще находится на рассмотрении,\n",
      "6 ÙØ¹ÙØ¨ Ø­Ø¯ÙØ« Ø·ÙÙ ÙØ§Ø±ÙÙ Ù",
      "Ù",
      "ÙØª ÙÙ ...После того, как в Алматы, крупнейшем городе страны\n",
      "7 ØªØ¹ÙÙ",
      "Øª Ø£ÙØ¶ÙØ§ Ø§ÙÙØ«ÙØ± Ù",
      "Ù Ø§ÙØ£Ø´Ù...Я также многому научился на пути к литературному п\n",
      "8 ÙØ£Ø¤Ù",
      "Ù Ø£ÙÙÙ ÙØ§ Ø£Ø²Ø§Ù Ø£ØªØ¹ÙÙ",
      "...И я верю, что все еще учусь.\n",
      "9 ÙØ§Ù Ø§ÙØ¬Ø§ÙØ¨ Ø§ÙØªØ¬Ø§Ø±Ù Ø·Ø±ÙÙÙØ§ Ø´...Коммерческая сторона была очень труднодоступной с \n",
      "10 Ø¨Ø¯Ø£Øª Ù",
      "Ø´Ø±ÙØ¹ Ø§ÙÙØªØ§Ø¨ Ø¹Ø§Ù",
      " 2017 ÙÙÙ...Проект книги был начат в 2017 году, и он наконец-т\n",
      "11 ÙØ°Ø§Ø Ø¹ÙØ§ÙØ© Ø¹ÙÙ Ø§ÙØ¬ÙØ§ÙØ¨ Ø§ÙØ­Ø±...Так что, помимо ремесленных и коммерческих аспекто\n",
      "12 ÙØ£Ø®ÙØ±ÙØ§Ø Ø£Ø±ÙØ¯ Ø£Ù Ø£ÙÙÙ ÙØ£ÙØ¹Ù...И наконец, я хочу быть и делать то, что хочу видет\n",
      "13 ÙØ¥Ø°Ø§ ÙÙØªÙ Ø£Ø±ÙØ¯ Ù",
      "Ø²ÙØ¯ÙØ§ Ù",
      "Ù Ø§ÙÙ...Если я хочу, чтобы в Южной Азии было больше разных\n",
      "14 Ø£Ø±Ù Ø£Ù Ø¨Ø°Ù Ø§ÙØ·Ø§ÙØ© Ø§ÙØ¥ÙØ¬Ø§Ø¨ÙØ©...Я считаю, что позитивная энергия в этой работе бол\n",
      "15 Ø­Ø§ÙÙÙØ§Ø ÙÙØ¹Ø¯ Ø§ÙØ£Ù",
      "Ø± Ù",
      "Ø¬Ø§Ø²ÙØ© Ù...На данный момент, это индивидуальный риск, потому \n",
      "16 ÙÙØ±Ù...Посмотрим.\n",
      "17 Ø§ÙÙØµØ© ÙØ§ ØªØ®Øµ ØµØ­Ø© Ø§ÙÙ",
      "Ø³Ø§Ø¬ÙÙ Ø¨Ù...История касается не здоровья заключенных, а здоров\n",
      "18 Ø§ÙÙØµØ© ÙÙ Ø£Ø¯ÙØ§Øª ÙÙ",
      "Ø¹ÙØ© ØªÙØ±Ø« Ù",
      "Ù...История о репрессивных инструментах, которые унасл\n",
      "19 Ø§ÙÙÙÙ Ø§ÙØªØ§Ù",
      " ÙÙØµÙØª ÙØ§ÙØ¬Ø³Ø¯ ÙÙ...Полный отказ от голоса и тела - это самое сердце р\n",
      "20 ÙØªØµÙØ± Ø£Ù Ø§ÙÙÙÙ",
      "Ø© ØªØ¹ÙÙ ÙØ±Ø§Ø±ÙØ§...Мы считаем, что слово означает прямое решение прод\n",
      "21 ÙÙÙ Ø¥Ø°Ø§ ÙÙØª ØªØ±Ø§ÙÙ ÙØªØ³Ù",
      "Ø¹ÙÙØ Ø...Но если ты меня видишь и слышишь, шансы на то, что\n",
      "22 ÙØ¥Ù ÙÙ",
      " ÙØ³ØªÙØ¯ Ù",
      "ÙÙØ§Ø ÙØ³ØªÙ",
      "Ø± Ø¹ÙÙ...А если нет, то по крайней мере, мы будем продолжат\n",
      "23 ÙÙ",
      "Ø© Ø§ÙØ®ØµÙÙ",
      "Ø© ÙÙ Ø£ÙØ§ ØªØ±Ø§ÙÙ ÙÙØ...Величайшая вражда заключается в том, чтобы не виде\n",
      "24 Ø§ÙÙØ¬Ø± ÙÙ Ø§ÙØ®ØµÙÙ",
      "Ø© Ù",
      "ÙØ±Ø§Ø« ØªØ¯ÙØ¹...На рассвете ссора - это наследство, за которое пла\n",
      "25 ÙÙÙ ÙØ­Ù",
      "Ù Ø£Ø¬Ø³Ø§Ø¯ Ø£Ø¨ÙØ§Ø¦ÙØ§ Ù",
      "Ù Ù",
      "Ù...Ответ не заканчивается, когда заключенные освобожд\n",
      "26 Ø¹ÙÙ Ø§ÙØ±ØºÙ",
      " Ù",
      "Ù Ø£Ù Ø§Ø³ØªØ±Ø§ØªÙØ¬ÙØ© Ø...Несмотря на то, что российская стратегия по водоро\n",
      "27 ÙÙ Ø§ÙÙØ§ÙØ¹Ø ØªÙ",
      "Ø§Ù",
      "ÙØ§ Ù",
      "Ø«Ù Ø§ÙØ¹Ø¯Ù...На самом деле, как и многие другие аналогичные док\n",
      "28 ÙÙØ·ÙÙ Ø§ÙØ¨Ø¹Ø¶ Ø¹ÙÙ Ø§ÙÙÙØ¯Ø±ÙØ¬ÙÙ ...Некоторые называют водород швейцарским топливным н\n",
      "29 ÙØ¸Ø±ÙØ§ ÙÙÙÙÙ Ø§ÙØ¹ÙØµØ± Ø§ÙØ£ÙØ«Ø± Ù...Учитывая, что это самый богатый элемент во Вселенн\n",
      "30 ÙÙ",
      "ÙÙÙ ØªØ­ÙÙÙ Ø£Ø´ÙØ§Ù Ø§ÙØ·Ø§ÙØ© Ù",
      "Ù...Он может переключить энергию с (электрической) на \n",
      "31 ÙÙ",
      "Ø¹ Ø°ÙÙØ Ù",
      "Ù Ø§ÙÙØ§ÙØª ÙÙÙØ¸Ø± Ø£ÙÙ...Тем не менее, удивительно, что углекислый газ не в\n",
      "32 ÙÙ Ø§ÙÙØ§ÙØ¹Ø ÙØ§ ÙÙÙØ¯ Ø³ÙÙ Ø§ÙÙ",
      "Ø§Ø...На самом деле, только вода образуется как побочный\n",
      "33 Ø´Ø±Ø¹ ÙØ«ÙØ±Ù Ù",
      "Ù Ø§ÙØ´Ø¨Ø§Ù Ø§ÙØ³ÙØ±ÙÙ...Многие сирийские молодые люди начали покидать южну\n",
      "34 ÙØ£ÙØ¨Ù Ø§ÙÙØ«ÙØ±ÙÙ Ù",
      "ÙÙÙ",
      " Ø¹ÙÙ Ø¨ÙØ¹...Многие из них согласились продать свои драгоценные\n",
      "35 ÙØ¯ÙØ§ Ø£Ù ÙÙØªØ±Ø¨ Ù",
      "Ù Ø§ÙØ³ÙØ§Ø­Ù Ø§ÙØ...Мы чуть не приблизились к итальянскому побережью, \n",
      "36 Ø§ÙØ§ØªØ­Ø§Ø¯ Ø§ÙØ£ÙØ±ÙØ¨Ù Ù",
      "Ø³Ø¤ÙÙ Ø¹Ù Ù...Европейский союз несет ответственность за варварст\n",
      "37 Ø¨Ø§ÙØ¥Ø¶Ø§ÙØ© Ø¥ÙÙ Ø§ÙØªØ®Ø§Ø¨Ø§Øª Ø¨ÙØ±Ù ...В дополнение к июньским выборам в Перу, в Интернет\n",
      "38 Ø§ÙØªØ´Ø±Øª Ø§ÙÙ",
      "Ø¹ÙÙÙ",
      "Ø§Øª Ø§ÙÙ",
      "Ø¶ÙÙØ© Ø£Ø...В ходе этих протестов и демонстраций в Колумбии ра\n",
      "39 ÙÙ",
      "Ø§ ÙÙØ¹Øª Ø£Ø¹Ù",
      "Ø§Ù Ø¹ÙÙ Ø®Ø§Ø±Ø¬ ÙØ·Ø§Ù...Кроме того, имели место акты насилия вне рамок мас\n",
      "40 Ø§ÙØ¢ÙØ Ø¨Ø¹Ø¯ Ø³ÙØ·Ø±Ø© Ø·Ø§ÙØ¨Ø§Ù Ø§ÙÙØ§...Теперь, после полного контроля движения < < Талиба\n",
      "41 Ø±Ø£ÙØª Ø±Ø¬Ø§ÙØ§Ù Ø¨Ø¹Ù",
      "Ø§Ù",
      "Ø§Øª Ø¹ÙÙ Ø±Ø¤Ù...Я видел, как мужчины с тюрбанами на головах и ружь\n",
      "42 Ø¹ÙØ¯ÙØ§Ø ÙØ±Ø±Øª Ø£Ù Ø£Ø¬Ø¯ Ù",
      "ÙØ§ÙÙØ§ Ø£Ù...Тогда я решил найти более безопасное место для мое\n",
      "43 ØºØ§Ø¯Ø±Øª Ø¥ÙÙ Ø¨Ø§ÙØ³ØªØ§ÙØ ÙØ¹Ø¨Ø±Øª Ø¨Ù...Отбыла в Пакистан, пересекла пограничный контрольн\n",
      "44 ÙØ§Ù Ø³ÙØ§Ù Ø³Ø¨ÙÙ Ø¨ÙÙØ¯Ø§Ù ÙØ¹ÙÙ",
      "ÙÙ...Жители Спин-Больдака знали, что они не могут жить \n",
      "45 Ø¥Ø­Ø¯Ù Ø§ÙÙØ¦Ø§Øª Ø§ÙØ£ÙØ«Ø± ØªØ¶Ø±Ø±ÙØ§ Ù",
      "...Одна из групп, наиболее пострадавших от этой войны\n",
      "46 ÙØ®Ø´ÙÙ Ù",
      "Ù Ø£Ù ÙÙØ¯Ø§Ù Ø£ÙÙ",
      "Ø§Ø· Ø­ÙØ§Ø...Они опасаются, что при режиме талибов их ждет утра\n",
      "47 Ø®ÙØ§Ù Ø§ÙØ³ÙÙØ§Øª Ø§ÙØ£Ø®ÙØ±Ø©Ø ÙÙÙ",
      "Ø§ ...В последние годы, несмотря на то, что в большинств\n",
      "48 Ø£Ù",
      "Ø§ ÙÙ Ø³Ø§Ø¦Ø± Ø§ÙØ¹Ø§ÙÙ",
      " Ø§ÙØ¹Ø±Ø¨ÙØ Ù...Во всем арабском мире половое воспитание по-прежне\n",
      "49 ÙÙ Ø§ÙÙ",
      "ÙØ§Ø¨ÙØ ØªÙØªØµØ± Ø§ÙØ£Ø­Ø§Ø¯ÙØ« ...С другой стороны, разговоры о сексуальной активнос\n",
      "50 Ø¥Ø°Ø§ Ø§Ø³ØªÙ",
      "Ø±ÙÙÙØ§ Ø¨ØªØ¬ÙØ¨ ÙØ°Ù Ø§ÙØ£...Если мы будем продолжать избегать этих разговоров \n",
      "51 ÙØ­Ù ÙÙØ­Ù Ø¥Ø³Ø§Ø¡Ø© ÙØ§Ø¦ÙØ© Ø¨Ø§ÙÙØªÙ...Мы подвергаем девочек огромному насилию, скрывая о\n",
      "52 ÙØ·ÙØ¨ÙÙ Ø§ÙØªØ¨Ø±Ø¹Ø§Øª Ø¨Ø¹Ø¯ Ø²ÙØ²Ø§ÙØ ...Они просят о пожертвованиях после землетрясения, н\n",
      "53 Ø¨Ø§ÙØ·Ø¨Ø¹ Ø³ÙÙØ¹Ù Ù",
      "Ø§ Ø¨ÙØ³Ø¹ÙØ§ ÙÙ",
      "Ø³Ø§...Конечно, мы сделаем все, что в наших силах, чтобы \n",
      "54 Ø§Ø´ØªÙÙ Ø³ÙØ§Ù Ø®ÙØ²Ø³ØªØ§Ù Ù",
      "ØªØ¹Ø¯Ø¯Ù Ø§...Многоэтнические жители Хузестана, в том числе боль\n",
      "55 Ø§ÙØªØ´Ø±Øª Ø§ÙÙ",
      "Ø³ÙØ±Ø§Øª ÙÙ Ø§ÙØ¹Ø¯ÙØ¯ Ù",
      "...С момента начала протестов во многих других мухафа\n",
      "56 ØªÙØªÙ",
      "Ù Ø§ÙØ§Ø­ØªØ¬Ø§Ø¬Ø§Øª Ø§ÙØ¬Ø¯ÙØ¯Ø© Ø¥Ù...Новые протесты принадлежат к низшему среднему клас\n",
      "57 ÙØ¨ÙÙÙ",
      "Ø§ ÙØ§Ù Ø§ÙÙ",
      "ØªØ¸Ø§ÙØ±ÙÙ ÙÙ Ø§Ù...В то время как в последние два десятилетия демонст\n",
      "**********************************************************************************************************\n",
      "preproc: 2.64 ms, среднее: 0.046 ms\n",
      "token: 40.36 ms, среднее: 0.708 ms\n",
      "generate: 23475.10 ms, среднее: 411.844 ms\n",
      "decode: 70.15 ms, среднее: 1.231 ms\n",
      "memory: 5.84 Mb, среднее: 0.10238 Mb\n",
      "предложений: 57\n",
      "Затрачено времени: 47.95 сек.\n"
     ]
    }
   ],
   "source": [
    "sourceid=\"ar\"\n",
    "targetid=\"ru\"\n",
    "source = f'input.{sourceid}'\n",
    "target = f'api-output.en-{targetid}'\n",
    "url = 'http://10.239.16.89:60001/api/translation' \n",
    "headers = {'accept': 'application/json',\n",
    "           'Content-Type': 'application/json',\n",
    "}\n",
    "\n",
    "result = []\n",
    "all_time = 0\n",
    "measure = {\"preproc\": [], \"token\": [], \"generate\": [], \"decode\": [], \"memory_start\": [], \"memory_end\": [], \"memory\": []}\n",
    "with open(source, encoding='utf-8') as f:\n",
    "    n = 0\n",
    "    for i in f:\n",
    "        start = time.time() # начало замера времени\n",
    "        sent = i.strip()\n",
    "        n += 1\n",
    "        sent = sent.encode('utf-8').decode('latin-1', 'ignore')\n",
    "        print(n, sent[:50], end='...')\n",
    "        data = '{\\n  \"text\": \"' + str(sent) + '\",\\n  \"sourceLanguage\": \"' + sourceid + '\",\\n  \"targetLanguage\": \"' + targetid + '\"\\n}'\n",
    "        answer = requests.post(url, headers=headers, data=data).json()['message']\n",
    "        test = requests.post(url, headers=headers, data=data).json()['test']\n",
    "        measure[\"preproc\"].append(test[\"preproc\"])\n",
    "        measure[\"token\"].append(test[\"token\"])\n",
    "        measure[\"generate\"].append(test[\"generate\"])\n",
    "        measure[\"decode\"].append(test[\"decode\"])\n",
    "        measure[\"memory\"].append(test[\"memory\"])\n",
    "\n",
    "        end = time.time() # окончание замера времени\n",
    "        all_time += (end - start) # фиксация затраченного времени\n",
    "        print(answer[:50])\n",
    "        result.append(answer)\n",
    "        \n",
    "with open(f'new_{target}', 'w', encoding='utf-8') as f:\n",
    "    f.write(\"\\n\".join(result) + '\\n')\n",
    "\n",
    "preproc = f'{sum(measure[\"preproc\"] * 1000):.2f} ms, среднее: {sum(measure[\"preproc\"]) * 1000 / len(measure[\"preproc\"]):.3f} ms'\n",
    "token = f'{sum(measure[\"token\"] * 1000):.2f} ms, среднее: {sum(measure[\"token\"]) * 1000 / len(measure[\"token\"]):.3f} ms'\n",
    "generate = f'{sum(measure[\"generate\"] * 1000):.2f} ms, среднее: {sum(measure[\"generate\"]) * 1000 / len(measure[\"generate\"]):.3f} ms'\n",
    "decode = f'{sum(measure[\"decode\"] * 1000):.2f} ms, среднее: {sum(measure[\"decode\"]) * 1000 / len(measure[\"decode\"]):.3f} ms'\n",
    "memory = f'{sum(measure[\"memory\"]) / (1024 * 1024):.2f} Mb, среднее: {sum(measure[\"memory\"]) / len(measure[\"memory\"]) / (1024 * 1024):.5f} Mb'\n",
    "\n",
    "print('*' * 106)\n",
    "print(f'preproc: {preproc}\\ntoken: {token}\\ngenerate: {generate}\\ndecode: {decode}\\nmemory: {memory}\\nпредложений: {len(measure[\"preproc\"])}')\n",
    "print(f'Затрачено времени: {all_time:.2f} сек.')"
   ]
  },
  {
   "cell_type": "markdown",
   "id": "7bb28401",
   "metadata": {},
   "source": [
    "### GPU - используется при инициализации\n",
    "> CPU - 10 CPU & 16 RAM"
   ]
  },
  {
   "cell_type": "markdown",
   "id": "a08ee6c1",
   "metadata": {},
   "source": [
    "#### Английский"
   ]
  },
  {
   "cell_type": "code",
   "execution_count": 17,
   "id": "bb77dce2",
   "metadata": {},
   "outputs": [
    {
     "name": "stdout",
     "output_type": "stream",
     "text": [
      "1 This case was resolved with the same evidence that...Это дело было урегулировано с использованием тех ж\n",
      "2 If justice is a form of dissuasion to prevent peop...Если правосудие является одной из форм устрашения \n",
      "3 Authorities must publicly denounce violence on jou...Власти должны публично осудить насилие в отношении\n",
      "4 Indeed, [the government of] Colombia adopted a pro...Действительно, [правительство] Колумбии приняло пр\n",
      "5 But the program has a mixed record, especially aft...Но эта программа имеет смешанный послужной список,\n",
      "6 In September, the People's Party presented a draft...В сентябре Народная партия представила на рассмотр\n",
      "7 While the law is still under review, its proponent...Хотя этот закон все еще находится на рассмотрении,\n",
      "8 After a deadly shooting in Almaty, the country's l...После смертельной стрельбы в Алма-Ате, крупнейшем \n",
      "9 I also learned a lot along the way about the craft...Я также многому научился на пути к искусству литер\n",
      "10 I'm still learning, I believe....Я все еще учусь, полагаю.\n",
      "11 The commercial side of things was a steep learning...Коммерческая сторона вещей также была крутой криво\n",
      "12 So, beyond the craft and commercial aspects, I lea...Так что, помимо ремесленных и коммерческих аспекто\n",
      "13 Finally, I want to do and be more of what I'd like...Наконец-то, я хочу сделать больше того, что хотел \n",
      "14 So, if I want to see more diverse South Asian book...Так что, если я хочу увидеть, как принимают и чита\n",
      "15 I find it more productive to put out positive ener...Я считаю более продуктивным использовать позитивну\n",
      "16 Right now, it's a solo venture because I can't aff...Прямо сейчас, это сольное предприятие, потому что \n",
      "17 Let's see....Посмотрим.\n",
      "18 The story is not about prisoners health, but the h...Речь идет не о здоровье заключенных, а о здоровье \n",
      "19 It is a story of oppressive tools passed down for ...Это история о репрессивных инструментах, переданны\n",
      "20 The total negation of the voice and body is the im...Абсолютное отрицание голоса и тела является\n",
      "21 We think of an enmity as a willful decision to pur...Мы думаем о вражде как о сознательном решении вест\n",
      "22 When the feud rages, you dont see or try to unders...Когда вражда бушует, ты не видишь и не пытаешься п\n",
      "23 I become an object, something to be eliminated, de...Я становлюсь объектом, что-то, что должно быть уни\n",
      "24 An enmitys legacy is the price paid by all bodies,...Враждебное наследие - это цена, которую платят все\n",
      "25 How do we protect our childrens bodies from this l...Как защитить тела наших детей от этого наследия тю\n",
      "26 The solution does not stop with the release of det...Решение этой проблемы не ограничивается освобожден\n",
      "27 It starts with release, but must end with an imagi...Она начинается с освобождения, но должна закончить\n",
      "28 Although the Russian hydrogen strategy is the most...Хотя российская водородная стратегия является самы\n",
      "29 In fact, just like many other similar documents th...На самом деле, как и многие другие аналогичные док\n",
      "30 Dubbed by some the Swiss army knife of fuels, hydr...Водород, поверженный некоторыми швейцарскими армей\n",
      "31 As the universes most abundant element, it will ne...Поскольку вселенная является самым богатым элемент\n",
      "32 It can transform one form of energy (electrical) i...Она может преобразовывать одну форму энергии (элек\n",
      "33 Most remarkably, however, it does not emit carbon ...Однако самое удивительное заключается в том, что о\n",
      "34 In fact, it generates only water as a byproduct....На самом деле, она производит только воду в качест\n",
      "35 Many young Syrians have left southern Syria since ...Многие молодые сирийцы покинули южную часть Сирии \n",
      "36 Many of them sold their valuables in Syria to get ...Многие из них продали свои ценности в Сирии, чтобы\n",
      "37 But many never completed the journey....Но многие так и не завершили это путешествие.\n",
      "38 We were about to reach the Italian coast, when a s...Мы собирались доплыть до итальянского побережья, к\n",
      "39 They started pointing towards us....Они начали указывать на нас.\n",
      "40 We decided to escape, but the ship lowered a small...Мы решили сбежать, но корабль опустился на маленьк\n",
      "41 The ship approached us then, and they transferred ...Корабль подошел к нам тогда, и они перевели нас ту\n",
      "42 The European Union is responsible for Libyas barba...Европейский союз несет ответственность за варварст\n",
      "43 In Perus June elections, misinformation circulated...В ходе выборов в Перу в июне дезинформация распрос\n",
      "44 In addition to false information, real information...Помимо ложной информации, реальная информация мани\n",
      "45 For example, news circulated about the registry vo...Например, распространялись сообщения о списках изб\n",
      "46 Disinformation abounded during these protests as w...В ходе этих протестов, как, например, во время дем\n",
      "47 Local sources reported that hundreds of videos, au...Местные источники сообщили, что сотни видео, аудио\n",
      "48 Violence also takes place outside of the context o...Насилие также имеет место вне контекста публичных \n",
      "49 Stigmatizing speech and verbal attacks against the...Противоречия и словесные нападки на прессу все чащ\n",
      "50 At least four journalists have been murdered since...С января 2021 года в Латинской Америке было убито \n",
      "51 Now that the Taliban have full control, Afghan cit...Теперь, когда &lt; &lt; Талибан &gt; &gt; полность\n",
      "52 I saw men with turbans on their heads, and rifles ...Я видел людей с тюрбанами на головах и винтовками \n",
      "53 It was then that I decided to find a safer place f...Тогда я решил найти более безопасное место для сво\n",
      "54 I left for Pakistan, crossing the Chaman border ga...Я уехала в Пакистан, пересекая границы с Чаманом.\n",
      "55 The residents of Spin Boldak knew they could not c...Жители Спин-Болдака знали, что они не могут продол\n",
      "56 One of the groups most affected by the decades-lon...Одной из групп, в наибольшей степени пострадавших \n",
      "57 They fear that the loss of their lifestyles and th...Они опасаются, что утрата их образа жизни и их дос\n",
      "58 In recent years, as sex education curriculums rema...В последние годы, поскольку учебные программы по п\n",
      "59 In the rest of the Arab world, sex education is co...В остальной части арабского мира половое воспитани\n",
      "60 Meanwhile, conversations about sexuality, fertilit...Между тем разговоры о сексуальности, фертильности,\n",
      "61 If we continue to avoid these conversations and to...Если мы и впредь будем избегать этих разговоров и \n",
      "62 We are doing girls a huge disservice by keeping th...Мы оказываем девочкам огромную плохую услугу, удер\n",
      "63 They ask for donations after an earthquake, flood,...Они просят о пожертвованиях после землетрясения, н\n",
      "64 Of course we will do what is in our power to help ...Конечно, мы будем делать то, что в наших силах, чт\n",
      "65 The multiethnic population of Khuzestan, which inc...Мультиэтническое население Хузестана, в состав кот\n",
      "66 Since protests began, rallies have rippled across ...С момента начала протестов митинги охватили нескол\n",
      "67 The new protests belong to the lower middle class ...Новые протесты относятся к низшему среднему классу\n",
      "68 While the protesters in the last two decades had, ...В то время как протестующие за последние два десят\n",
      "**********************************************************************************************************\n",
      "preproc: 2.42 ms, среднее: 0.036 ms\n",
      "token: 43.57 ms, среднее: 0.641 ms\n",
      "generate: 25845.87 ms, среднее: 380.086 ms\n",
      "decode: 78.63 ms, среднее: 1.156 ms\n",
      "memory: 11.19 Mb, среднее: 0.16452 Mb\n",
      "предложений: 68\n",
      "Затрачено времени: 53.20 сек.\n"
     ]
    }
   ],
   "source": [
    "sourceid=\"en\"\n",
    "targetid=\"ru\"\n",
    "source = f'input.{sourceid}'\n",
    "target = f'api-output.en-{targetid}'\n",
    "url = 'http://10.239.16.89:60001/api/translation' \n",
    "headers = {'accept': 'application/json',\n",
    "           'Content-Type': 'application/json',\n",
    "}\n",
    "with open(source, encoding='utf-8') as f:\n",
    "    text = f.readlines()\n",
    "text = (\" \".join([i.strip() for i in text]))\n",
    "text = split_text_into_sentences(text, language=sourceid)\n",
    "\n",
    "result = []\n",
    "n = 0\n",
    "all_time = 0\n",
    "measure = {\"preproc\": [], \"token\": [], \"generate\": [], \"decode\": [], \"memory_start\": [], \"memory_end\": [], \"memory\": []}\n",
    "for sent in text:\n",
    "    start = time.time() # начало замера времени\n",
    "    n += 1\n",
    "    sent = sent.replace('\"', '\\\\\"').encode('ascii', errors='ignore').decode(\"utf-8\")\n",
    "    print(n, sent[:50], end='...')\n",
    "    data = '{ \\\"text\\\": \\\"'+sent+'\\\", \\\"sourceLanguage\\\": \\\"'+sourceid+'\\\", \\\"targetLanguage\\\": \\\"'+targetid+'\\\"}'\n",
    "    answer = requests.post(url, headers=headers, data=data).json()['message']\n",
    "    test = requests.post(url, headers=headers, data=data).json()['test']\n",
    "    measure[\"preproc\"].append(test[\"preproc\"])\n",
    "    measure[\"token\"].append(test[\"token\"])\n",
    "    measure[\"generate\"].append(test[\"generate\"])\n",
    "    measure[\"decode\"].append(test[\"decode\"])\n",
    "    measure[\"memory\"].append(test[\"memory\"])\n",
    "\n",
    "    end = time.time() # окончание замера времени\n",
    "    all_time += (end - start) # фиксация затраченного времени\n",
    "    print(answer[:50])\n",
    "    result.append(answer)\n",
    "    \n",
    "with open(f'new_{target}', 'w', encoding='utf-8') as f:\n",
    "    f.write(\"\\n\".join(result) + '\\n')\n",
    "\n",
    "preproc = f'{sum(measure[\"preproc\"] * 1000):.2f} ms, среднее: {sum(measure[\"preproc\"]) * 1000 / len(measure[\"preproc\"]):.3f} ms'\n",
    "token = f'{sum(measure[\"token\"] * 1000):.2f} ms, среднее: {sum(measure[\"token\"]) * 1000 / len(measure[\"token\"]):.3f} ms'\n",
    "generate = f'{sum(measure[\"generate\"] * 1000):.2f} ms, среднее: {sum(measure[\"generate\"]) * 1000 / len(measure[\"generate\"]):.3f} ms'\n",
    "decode = f'{sum(measure[\"decode\"] * 1000):.2f} ms, среднее: {sum(measure[\"decode\"]) * 1000 / len(measure[\"decode\"]):.3f} ms'\n",
    "memory = f'{sum(measure[\"memory\"]) / (1024 * 1024):.2f} Mb, среднее: {sum(measure[\"memory\"]) / len(measure[\"memory\"]) / (1024 * 1024):.5f} Mb'\n",
    "\n",
    "print('*' * 106)\n",
    "print(f'preproc: {preproc}\\ntoken: {token}\\ngenerate: {generate}\\ndecode: {decode}\\nmemory: {memory}\\nпредложений: {len(measure[\"preproc\"])}')\n",
    "print(f'Затрачено времени: {all_time:.2f} сек.')"
   ]
  },
  {
   "cell_type": "markdown",
   "id": "d4914ebd",
   "metadata": {},
   "source": [
    "#### Арабский"
   ]
  },
  {
   "cell_type": "code",
   "execution_count": 18,
   "id": "dda6bfa3",
   "metadata": {},
   "outputs": [
    {
     "name": "stdout",
     "output_type": "stream",
     "text": [
      "1 Ø­ÙÙØª ØªÙÙ Ø§ÙÙØ¶ÙØ© Ø¨Ø°Ø§Øª Ø§ÙØ¯ÙÙÙ...Это дело было раскрыто теми же доказательствами, ч\n",
      "2 ÙØ¬Ø¨ Ø¹ÙÙ Ø§ÙØ¯ÙÙØ© Ø£Ù ØªÙØ¯ÙÙ Ø¹ÙØ§Ù...Государство должно публично осудить насилие в отно\n",
      "3 ØªØ¨ÙØª [Ø§ÙØ­ÙÙÙ",
      "Ø©] Ø§ÙÙÙÙÙÙ",
      "Ø¨ÙØ© Ø¨Ø...Колумбийское [правительство] приняло программу защ\n",
      "4 ÙÙ Ø³Ø¨ØªÙ",
      "Ø¨Ø±/Ø£ÙÙÙÙØ ÙØ¯ÙÙ",
      " Ø­Ø²Ø¨ Ø§Ù...В сентябре Народная партия представила парламенту \n",
      "5 ÙÙ",
      "Ø¹ Ø£Ù Ø§ÙÙØ§ÙÙÙ ÙØ§ ÙØ²Ø§Ù ÙÙØ¯ Ø§...Хотя этот закон все еще находится на рассмотрении,\n",
      "6 ÙØ¹ÙØ¨ Ø­Ø¯ÙØ« Ø·ÙÙ ÙØ§Ø±ÙÙ Ù",
      "Ù",
      "ÙØª ÙÙ ...После того, как в Алматы, крупнейшем городе страны\n",
      "7 ØªØ¹ÙÙ",
      "Øª Ø£ÙØ¶ÙØ§ Ø§ÙÙØ«ÙØ± Ù",
      "Ù Ø§ÙØ£Ø´Ù...Я также многому научился на пути к литературному п\n",
      "8 ÙØ£Ø¤Ù",
      "Ù Ø£ÙÙÙ ÙØ§ Ø£Ø²Ø§Ù Ø£ØªØ¹ÙÙ",
      "...И я верю, что все еще учусь.\n",
      "9 ÙØ§Ù Ø§ÙØ¬Ø§ÙØ¨ Ø§ÙØªØ¬Ø§Ø±Ù Ø·Ø±ÙÙÙØ§ Ø´...Коммерческая сторона была очень труднодоступной с \n",
      "10 Ø¨Ø¯Ø£Øª Ù",
      "Ø´Ø±ÙØ¹ Ø§ÙÙØªØ§Ø¨ Ø¹Ø§Ù",
      " 2017 ÙÙÙ...Проект книги был начат в 2017 году, и он наконец-т\n",
      "11 ÙØ°Ø§Ø Ø¹ÙØ§ÙØ© Ø¹ÙÙ Ø§ÙØ¬ÙØ§ÙØ¨ Ø§ÙØ­Ø±...Так что, помимо ремесленных и коммерческих аспекто\n",
      "12 ÙØ£Ø®ÙØ±ÙØ§Ø Ø£Ø±ÙØ¯ Ø£Ù Ø£ÙÙÙ ÙØ£ÙØ¹Ù...И наконец, я хочу быть и делать то, что хочу видет\n",
      "13 ÙØ¥Ø°Ø§ ÙÙØªÙ Ø£Ø±ÙØ¯ Ù",
      "Ø²ÙØ¯ÙØ§ Ù",
      "Ù Ø§ÙÙ...Если я хочу, чтобы в Южной Азии было больше разных\n",
      "14 Ø£Ø±Ù Ø£Ù Ø¨Ø°Ù Ø§ÙØ·Ø§ÙØ© Ø§ÙØ¥ÙØ¬Ø§Ø¨ÙØ©...Я считаю, что позитивная энергия в этой работе бол\n",
      "15 Ø­Ø§ÙÙÙØ§Ø ÙÙØ¹Ø¯ Ø§ÙØ£Ù",
      "Ø± Ù",
      "Ø¬Ø§Ø²ÙØ© Ù...На данный момент, это индивидуальный риск, потому \n",
      "16 ÙÙØ±Ù...Посмотрим.\n",
      "17 Ø§ÙÙØµØ© ÙØ§ ØªØ®Øµ ØµØ­Ø© Ø§ÙÙ",
      "Ø³Ø§Ø¬ÙÙ Ø¨Ù...История касается не здоровья заключенных, а здоров\n",
      "18 Ø§ÙÙØµØ© ÙÙ Ø£Ø¯ÙØ§Øª ÙÙ",
      "Ø¹ÙØ© ØªÙØ±Ø« Ù",
      "Ù...История о репрессивных инструментах, которые унасл\n",
      "19 Ø§ÙÙÙÙ Ø§ÙØªØ§Ù",
      " ÙÙØµÙØª ÙØ§ÙØ¬Ø³Ø¯ ÙÙ...Полный отказ от голоса и тела - это самое сердце р\n",
      "20 ÙØªØµÙØ± Ø£Ù Ø§ÙÙÙÙ",
      "Ø© ØªØ¹ÙÙ ÙØ±Ø§Ø±ÙØ§...Мы считаем, что слово означает прямое решение прод\n",
      "21 ÙÙÙ Ø¥Ø°Ø§ ÙÙØª ØªØ±Ø§ÙÙ ÙØªØ³Ù",
      "Ø¹ÙÙØ Ø...Но если ты меня видишь и слышишь, шансы на то, что\n",
      "22 ÙØ¥Ù ÙÙ",
      " ÙØ³ØªÙØ¯ Ù",
      "ÙÙØ§Ø ÙØ³ØªÙ",
      "Ø± Ø¹ÙÙ...А если нет, то по крайней мере, мы будем продолжат\n",
      "23 ÙÙ",
      "Ø© Ø§ÙØ®ØµÙÙ",
      "Ø© ÙÙ Ø£ÙØ§ ØªØ±Ø§ÙÙ ÙÙØ...Величайшая вражда заключается в том, чтобы не виде\n",
      "24 Ø§ÙÙØ¬Ø± ÙÙ Ø§ÙØ®ØµÙÙ",
      "Ø© Ù",
      "ÙØ±Ø§Ø« ØªØ¯ÙØ¹...На рассвете ссора - это наследство, за которое пла\n",
      "25 ÙÙÙ ÙØ­Ù",
      "Ù Ø£Ø¬Ø³Ø§Ø¯ Ø£Ø¨ÙØ§Ø¦ÙØ§ Ù",
      "Ù Ù",
      "Ù...Ответ не заканчивается, когда заключенные освобожд\n",
      "26 Ø¹ÙÙ Ø§ÙØ±ØºÙ",
      " Ù",
      "Ù Ø£Ù Ø§Ø³ØªØ±Ø§ØªÙØ¬ÙØ© Ø...Несмотря на то, что российская стратегия по водоро\n",
      "27 ÙÙ Ø§ÙÙØ§ÙØ¹Ø ØªÙ",
      "Ø§Ù",
      "ÙØ§ Ù",
      "Ø«Ù Ø§ÙØ¹Ø¯Ù...На самом деле, как и многие другие аналогичные док\n",
      "28 ÙÙØ·ÙÙ Ø§ÙØ¨Ø¹Ø¶ Ø¹ÙÙ Ø§ÙÙÙØ¯Ø±ÙØ¬ÙÙ ...Некоторые называют водород швейцарским топливным н\n",
      "29 ÙØ¸Ø±ÙØ§ ÙÙÙÙÙ Ø§ÙØ¹ÙØµØ± Ø§ÙØ£ÙØ«Ø± Ù...Учитывая, что это самый богатый элемент во Вселенн\n",
      "30 ÙÙ",
      "ÙÙÙ ØªØ­ÙÙÙ Ø£Ø´ÙØ§Ù Ø§ÙØ·Ø§ÙØ© Ù",
      "Ù...Он может переключить энергию с (электрической) на \n",
      "31 ÙÙ",
      "Ø¹ Ø°ÙÙØ Ù",
      "Ù Ø§ÙÙØ§ÙØª ÙÙÙØ¸Ø± Ø£ÙÙ...Тем не менее, удивительно, что углекислый газ не в\n",
      "32 ÙÙ Ø§ÙÙØ§ÙØ¹Ø ÙØ§ ÙÙÙØ¯ Ø³ÙÙ Ø§ÙÙ",
      "Ø§Ø...На самом деле, только вода образуется как побочный\n",
      "33 Ø´Ø±Ø¹ ÙØ«ÙØ±Ù Ù",
      "Ù Ø§ÙØ´Ø¨Ø§Ù Ø§ÙØ³ÙØ±ÙÙ...Многие сирийские молодые люди начали покидать южну\n",
      "34 ÙØ£ÙØ¨Ù Ø§ÙÙØ«ÙØ±ÙÙ Ù",
      "ÙÙÙ",
      " Ø¹ÙÙ Ø¨ÙØ¹...Многие из них согласились продать свои драгоценные\n",
      "35 ÙØ¯ÙØ§ Ø£Ù ÙÙØªØ±Ø¨ Ù",
      "Ù Ø§ÙØ³ÙØ§Ø­Ù Ø§ÙØ...Мы чуть не приблизились к итальянскому побережью, \n",
      "36 Ø§ÙØ§ØªØ­Ø§Ø¯ Ø§ÙØ£ÙØ±ÙØ¨Ù Ù",
      "Ø³Ø¤ÙÙ Ø¹Ù Ù...Европейский союз несет ответственность за варварст\n",
      "37 Ø¨Ø§ÙØ¥Ø¶Ø§ÙØ© Ø¥ÙÙ Ø§ÙØªØ®Ø§Ø¨Ø§Øª Ø¨ÙØ±Ù ...В дополнение к июньским выборам в Перу, в Интернет\n",
      "38 Ø§ÙØªØ´Ø±Øª Ø§ÙÙ",
      "Ø¹ÙÙÙ",
      "Ø§Øª Ø§ÙÙ",
      "Ø¶ÙÙØ© Ø£Ø...В ходе этих протестов и демонстраций в Колумбии ра\n",
      "39 ÙÙ",
      "Ø§ ÙÙØ¹Øª Ø£Ø¹Ù",
      "Ø§Ù Ø¹ÙÙ Ø®Ø§Ø±Ø¬ ÙØ·Ø§Ù...Кроме того, имели место акты насилия вне рамок мас\n",
      "40 Ø§ÙØ¢ÙØ Ø¨Ø¹Ø¯ Ø³ÙØ·Ø±Ø© Ø·Ø§ÙØ¨Ø§Ù Ø§ÙÙØ§...Теперь, после полного контроля движения < < Талиба\n",
      "41 Ø±Ø£ÙØª Ø±Ø¬Ø§ÙØ§Ù Ø¨Ø¹Ù",
      "Ø§Ù",
      "Ø§Øª Ø¹ÙÙ Ø±Ø¤Ù...Я видел, как мужчины с тюрбанами на головах и ружь\n",
      "42 Ø¹ÙØ¯ÙØ§Ø ÙØ±Ø±Øª Ø£Ù Ø£Ø¬Ø¯ Ù",
      "ÙØ§ÙÙØ§ Ø£Ù...Тогда я решил найти более безопасное место для мое\n",
      "43 ØºØ§Ø¯Ø±Øª Ø¥ÙÙ Ø¨Ø§ÙØ³ØªØ§ÙØ ÙØ¹Ø¨Ø±Øª Ø¨Ù...Отбыла в Пакистан, пересекла пограничный контрольн\n",
      "44 ÙØ§Ù Ø³ÙØ§Ù Ø³Ø¨ÙÙ Ø¨ÙÙØ¯Ø§Ù ÙØ¹ÙÙ",
      "ÙÙ...Жители Спин-Больдака знали, что они не могут жить \n",
      "45 Ø¥Ø­Ø¯Ù Ø§ÙÙØ¦Ø§Øª Ø§ÙØ£ÙØ«Ø± ØªØ¶Ø±Ø±ÙØ§ Ù",
      "...Одна из групп, наиболее пострадавших от этой войны\n",
      "46 ÙØ®Ø´ÙÙ Ù",
      "Ù Ø£Ù ÙÙØ¯Ø§Ù Ø£ÙÙ",
      "Ø§Ø· Ø­ÙØ§Ø...Они опасаются, что при режиме талибов их ждет утра\n",
      "47 Ø®ÙØ§Ù Ø§ÙØ³ÙÙØ§Øª Ø§ÙØ£Ø®ÙØ±Ø©Ø ÙÙÙ",
      "Ø§ ...В последние годы, несмотря на то, что в большинств\n",
      "48 Ø£Ù",
      "Ø§ ÙÙ Ø³Ø§Ø¦Ø± Ø§ÙØ¹Ø§ÙÙ",
      " Ø§ÙØ¹Ø±Ø¨ÙØ Ù...Во всем арабском мире половое воспитание по-прежне\n",
      "49 ÙÙ Ø§ÙÙ",
      "ÙØ§Ø¨ÙØ ØªÙØªØµØ± Ø§ÙØ£Ø­Ø§Ø¯ÙØ« ...С другой стороны, разговоры о сексуальной активнос\n",
      "50 Ø¥Ø°Ø§ Ø§Ø³ØªÙ",
      "Ø±ÙÙÙØ§ Ø¨ØªØ¬ÙØ¨ ÙØ°Ù Ø§ÙØ£...Если мы будем продолжать избегать этих разговоров \n",
      "51 ÙØ­Ù ÙÙØ­Ù Ø¥Ø³Ø§Ø¡Ø© ÙØ§Ø¦ÙØ© Ø¨Ø§ÙÙØªÙ...Мы подвергаем девочек огромному насилию, скрывая о\n",
      "52 ÙØ·ÙØ¨ÙÙ Ø§ÙØªØ¨Ø±Ø¹Ø§Øª Ø¨Ø¹Ø¯ Ø²ÙØ²Ø§ÙØ ...Они просят о пожертвованиях после землетрясения, н\n",
      "53 Ø¨Ø§ÙØ·Ø¨Ø¹ Ø³ÙÙØ¹Ù Ù",
      "Ø§ Ø¨ÙØ³Ø¹ÙØ§ ÙÙ",
      "Ø³Ø§...Конечно, мы сделаем все, что в наших силах, чтобы \n",
      "54 Ø§Ø´ØªÙÙ Ø³ÙØ§Ù Ø®ÙØ²Ø³ØªØ§Ù Ù",
      "ØªØ¹Ø¯Ø¯Ù Ø§...Многоэтнические жители Хузестана, в том числе боль\n",
      "55 Ø§ÙØªØ´Ø±Øª Ø§ÙÙ",
      "Ø³ÙØ±Ø§Øª ÙÙ Ø§ÙØ¹Ø¯ÙØ¯ Ù",
      "...С момента начала протестов во многих других мухафа\n",
      "56 ØªÙØªÙ",
      "Ù Ø§ÙØ§Ø­ØªØ¬Ø§Ø¬Ø§Øª Ø§ÙØ¬Ø¯ÙØ¯Ø© Ø¥Ù...Новые протесты принадлежат к низшему среднему клас\n",
      "57 ÙØ¨ÙÙÙ",
      "Ø§ ÙØ§Ù Ø§ÙÙ",
      "ØªØ¸Ø§ÙØ±ÙÙ ÙÙ Ø§Ù...В то время как в последние два десятилетия демонст\n",
      "**********************************************************************************************************\n",
      "preproc: 2.71 ms, среднее: 0.047 ms\n",
      "token: 43.15 ms, среднее: 0.757 ms\n",
      "generate: 24535.07 ms, среднее: 430.440 ms\n",
      "decode: 70.84 ms, среднее: 1.243 ms\n",
      "memory: 9.11 Mb, среднее: 0.15975 Mb\n",
      "предложений: 57\n",
      "Затрачено времени: 50.08 сек.\n"
     ]
    }
   ],
   "source": [
    "sourceid=\"ar\"\n",
    "targetid=\"ru\"\n",
    "source = f'input.{sourceid}'\n",
    "target = f'api-output.en-{targetid}'\n",
    "url = 'http://10.239.16.89:60001/api/translation' \n",
    "headers = {'accept': 'application/json',\n",
    "           'Content-Type': 'application/json',\n",
    "}\n",
    "\n",
    "result = []\n",
    "all_time = 0\n",
    "measure = {\"preproc\": [], \"token\": [], \"generate\": [], \"decode\": [], \"memory_start\": [], \"memory_end\": [], \"memory\": []}\n",
    "with open(source, encoding='utf-8') as f:\n",
    "    n = 0\n",
    "    for i in f:\n",
    "        start = time.time() # начало замера времени\n",
    "        sent = i.strip()\n",
    "        n += 1\n",
    "        sent = sent.encode('utf-8').decode('latin-1', 'ignore')\n",
    "        print(n, sent[:50], end='...')\n",
    "        data = '{\\n  \"text\": \"' + str(sent) + '\",\\n  \"sourceLanguage\": \"' + sourceid + '\",\\n  \"targetLanguage\": \"' + targetid + '\"\\n}'\n",
    "        answer = requests.post(url, headers=headers, data=data).json()['message']\n",
    "        test = requests.post(url, headers=headers, data=data).json()['test']\n",
    "        measure[\"preproc\"].append(test[\"preproc\"])\n",
    "        measure[\"token\"].append(test[\"token\"])\n",
    "        measure[\"generate\"].append(test[\"generate\"])\n",
    "        measure[\"decode\"].append(test[\"decode\"])\n",
    "        measure[\"memory\"].append(test[\"memory\"])\n",
    "\n",
    "        end = time.time() # окончание замера времени\n",
    "        all_time += (end - start) # фиксация затраченного времени\n",
    "        print(answer[:50])\n",
    "        result.append(answer)\n",
    "        \n",
    "with open(f'new_{target}', 'w', encoding='utf-8') as f:\n",
    "    f.write(\"\\n\".join(result) + '\\n')\n",
    "\n",
    "preproc = f'{sum(measure[\"preproc\"] * 1000):.2f} ms, среднее: {sum(measure[\"preproc\"]) * 1000 / len(measure[\"preproc\"]):.3f} ms'\n",
    "token = f'{sum(measure[\"token\"] * 1000):.2f} ms, среднее: {sum(measure[\"token\"]) * 1000 / len(measure[\"token\"]):.3f} ms'\n",
    "generate = f'{sum(measure[\"generate\"] * 1000):.2f} ms, среднее: {sum(measure[\"generate\"]) * 1000 / len(measure[\"generate\"]):.3f} ms'\n",
    "decode = f'{sum(measure[\"decode\"] * 1000):.2f} ms, среднее: {sum(measure[\"decode\"]) * 1000 / len(measure[\"decode\"]):.3f} ms'\n",
    "memory = f'{sum(measure[\"memory\"]) / (1024 * 1024):.2f} Mb, среднее: {sum(measure[\"memory\"]) / len(measure[\"memory\"]) / (1024 * 1024):.5f} Mb'\n",
    "\n",
    "print('*' * 106)\n",
    "print(f'preproc: {preproc}\\ntoken: {token}\\ngenerate: {generate}\\ndecode: {decode}\\nmemory: {memory}\\nпредложений: {len(measure[\"preproc\"])}')\n",
    "print(f'Затрачено времени: {all_time:.2f} сек.')"
   ]
  },
  {
   "cell_type": "markdown",
   "id": "23087552",
   "metadata": {},
   "source": [
    "## Эксперименты с числом CPU"
   ]
  },
  {
   "cell_type": "markdown",
   "id": "a7dd9560",
   "metadata": {},
   "source": [
    "### Оценка влияния CPU"
   ]
  },
  {
   "cell_type": "code",
   "execution_count": 25,
   "id": "a743a6a2",
   "metadata": {},
   "outputs": [],
   "source": [
    "def en_ru(title='************'):\n",
    "    sourceid=\"en\"\n",
    "    targetid=\"ru\"\n",
    "    source = f'input.{sourceid}'\n",
    "    target = f'api-output.en-{targetid}'\n",
    "    url = 'http://10.239.16.89:60001/api/translation' \n",
    "    headers = {'accept': 'application/json',\n",
    "               'Content-Type': 'application/json',\n",
    "    }\n",
    "    with open(source, encoding='utf-8') as f:\n",
    "        text = f.readlines()\n",
    "    text = (\" \".join([i.strip() for i in text]))\n",
    "    text = split_text_into_sentences(text, language=sourceid)\n",
    "\n",
    "    result = []\n",
    "    n = 0\n",
    "    all_time = 0\n",
    "    measure = {\"preproc\": [], \"token\": [], \"generate\": [], \"decode\": [], \"memory_start\": [], \"memory_end\": [], \"memory\": []}\n",
    "    for sent in text:\n",
    "        start = time.time() # начало замера времени\n",
    "        n += 1\n",
    "        sent = sent.replace('\"', '\\\\\"').encode('ascii', errors='ignore').decode(\"utf-8\")\n",
    "        data = '{ \\\"text\\\": \\\"'+sent+'\\\", \\\"sourceLanguage\\\": \\\"'+sourceid+'\\\", \\\"targetLanguage\\\": \\\"'+targetid+'\\\"}'\n",
    "        answer = requests.post(url, headers=headers, data=data).json()['message']\n",
    "        test = requests.post(url, headers=headers, data=data).json()['test']\n",
    "        measure[\"preproc\"].append(test[\"preproc\"])\n",
    "        measure[\"token\"].append(test[\"token\"])\n",
    "        measure[\"generate\"].append(test[\"generate\"])\n",
    "        measure[\"decode\"].append(test[\"decode\"])\n",
    "        measure[\"memory\"].append(test[\"memory\"])\n",
    "\n",
    "        end = time.time() # окончание замера времени\n",
    "        all_time += (end - start) # фиксация затраченного времени\n",
    "        result.append(answer)\n",
    "\n",
    "    preproc = f'{sum(measure[\"preproc\"] * 1000):.2f} ms, среднее: {sum(measure[\"preproc\"]) * 1000 / len(measure[\"preproc\"]):.3f} ms'\n",
    "    token = f'{sum(measure[\"token\"] * 1000):.2f} ms, среднее: {sum(measure[\"token\"]) * 1000 / len(measure[\"token\"]):.3f} ms'\n",
    "    generate = f'{sum(measure[\"generate\"] * 1000):.2f} ms, среднее: {sum(measure[\"generate\"]) * 1000 / len(measure[\"generate\"]):.3f} ms'\n",
    "    decode = f'{sum(measure[\"decode\"] * 1000):.2f} ms, среднее: {sum(measure[\"decode\"]) * 1000 / len(measure[\"decode\"]):.3f} ms'\n",
    "    memory = f'{sum(measure[\"memory\"]) / (1024 * 1024):.2f} Mb, среднее: {sum(measure[\"memory\"]) / len(measure[\"memory\"]) / (1024 * 1024):.5f} Mb'\n",
    "\n",
    "    print('EN-RU\\n', title)\n",
    "    print(f'preproc: {preproc}\\ntoken: {token}\\ngenerate: {generate}\\ndecode: {decode}\\nmemory: {memory}\\nпредложений: {len(measure[\"preproc\"])}')\n",
    "    print(f'Затрачено времени: {all_time:.2f} сек.')"
   ]
  },
  {
   "cell_type": "code",
   "execution_count": 26,
   "id": "37585a84",
   "metadata": {},
   "outputs": [],
   "source": [
    "def ar_ru(title='************'):\n",
    "    sourceid=\"ar\"\n",
    "    targetid=\"ru\"\n",
    "    source = f'input.{sourceid}'\n",
    "    target = f'api-output.en-{targetid}'\n",
    "    url = 'http://10.239.16.89:60001/api/translation' \n",
    "    headers = {'accept': 'application/json',\n",
    "               'Content-Type': 'application/json',\n",
    "    }\n",
    "\n",
    "    result = []\n",
    "    all_time = 0\n",
    "    measure = {\"preproc\": [], \"token\": [], \"generate\": [], \"decode\": [], \"memory_start\": [], \"memory_end\": [], \"memory\": []}\n",
    "    with open(source, encoding='utf-8') as f:\n",
    "        n = 0\n",
    "        for i in f:\n",
    "            start = time.time() # начало замера времени\n",
    "            sent = i.strip()\n",
    "            n += 1\n",
    "            sent = sent.encode('utf-8').decode('latin-1', 'ignore')\n",
    "            data = '{\\n  \"text\": \"' + str(sent) + '\",\\n  \"sourceLanguage\": \"' + sourceid + '\",\\n  \"targetLanguage\": \"' + targetid + '\"\\n}'\n",
    "            answer = requests.post(url, headers=headers, data=data).json()['message']\n",
    "            test = requests.post(url, headers=headers, data=data).json()['test']\n",
    "            measure[\"preproc\"].append(test[\"preproc\"])\n",
    "            measure[\"token\"].append(test[\"token\"])\n",
    "            measure[\"generate\"].append(test[\"generate\"])\n",
    "            measure[\"decode\"].append(test[\"decode\"])\n",
    "            measure[\"memory\"].append(test[\"memory\"])\n",
    "\n",
    "            end = time.time() # окончание замера времени\n",
    "            all_time += (end - start) # фиксация затраченного времени\n",
    "            result.append(answer)\n",
    "\n",
    "    preproc = f'{sum(measure[\"preproc\"] * 1000):.2f} ms, среднее: {sum(measure[\"preproc\"]) * 1000 / len(measure[\"preproc\"]):.3f} ms'\n",
    "    token = f'{sum(measure[\"token\"] * 1000):.2f} ms, среднее: {sum(measure[\"token\"]) * 1000 / len(measure[\"token\"]):.3f} ms'\n",
    "    generate = f'{sum(measure[\"generate\"] * 1000):.2f} ms, среднее: {sum(measure[\"generate\"]) * 1000 / len(measure[\"generate\"]):.3f} ms'\n",
    "    decode = f'{sum(measure[\"decode\"] * 1000):.2f} ms, среднее: {sum(measure[\"decode\"]) * 1000 / len(measure[\"decode\"]):.3f} ms'\n",
    "    memory = f'{sum(measure[\"memory\"]) / (1024 * 1024):.2f} Mb, среднее: {sum(measure[\"memory\"]) / len(measure[\"memory\"]) / (1024 * 1024):.5f} Mb'\n",
    "\n",
    "    print('AR-RU\\n', title)\n",
    "    print(f'preproc: {preproc}\\ntoken: {token}\\ngenerate: {generate}\\ndecode: {decode}\\nmemory: {memory}\\nпредложений: {len(measure[\"preproc\"])}')\n",
    "    print(f'Затрачено времени: {all_time:.2f} сек.')"
   ]
  },
  {
   "cell_type": "code",
   "execution_count": 30,
   "id": "81d49557",
   "metadata": {},
   "outputs": [
    {
     "name": "stdout",
     "output_type": "stream",
     "text": [
      "EN-RU\n",
      " 1 CPU\n",
      "preproc: 6.54 ms, среднее: 0.096 ms\n",
      "token: 128.83 ms, среднее: 1.895 ms\n",
      "generate: 2499352.79 ms, среднее: 36755.188 ms\n",
      "decode: 4021.01 ms, среднее: 59.133 ms\n",
      "memory: 982.14 Mb, среднее: 14.44330 Mb\n",
      "предложений: 68\n",
      "Затрачено времени: 5037.24 сек.\n",
      "AR-RU\n",
      " 1 CPU\n",
      "preproc: 6.73 ms, среднее: 0.118 ms\n",
      "token: 213.02 ms, среднее: 3.737 ms\n",
      "generate: 2351672.69 ms, среднее: 41257.416 ms\n",
      "decode: 3246.89 ms, среднее: 56.963 ms\n",
      "memory: 1118.96 Mb, среднее: 19.63096 Mb\n",
      "предложений: 57\n",
      "Затрачено времени: 4708.34 сек.\n"
     ]
    }
   ],
   "source": [
    "title = '1 CPU'\n",
    "en_ru(title)\n",
    "ar_ru(title)"
   ]
  },
  {
   "cell_type": "code",
   "execution_count": 31,
   "id": "4f8fd3cf",
   "metadata": {
    "scrolled": true
   },
   "outputs": [
    {
     "name": "stdout",
     "output_type": "stream",
     "text": [
      "EN-RU\n",
      " 2 CPU\n",
      "preproc: 5.89 ms, среднее: 0.087 ms\n",
      "token: 111.31 ms, среднее: 1.637 ms\n",
      "generate: 1079303.48 ms, среднее: 15872.110 ms\n",
      "decode: 1239.77 ms, среднее: 18.232 ms\n",
      "memory: 1075.05 Mb, среднее: 15.80957 Mb\n",
      "предложений: 68\n",
      "Затрачено времени: 2158.52 сек.\n",
      "-------------------------\n",
      "AR-RU\n",
      " 2 CPU\n",
      "preproc: 5.19 ms, среднее: 0.091 ms\n",
      "token: 115.00 ms, среднее: 2.018 ms\n",
      "generate: 1024312.51 ms, среднее: 17970.395 ms\n",
      "decode: 1121.12 ms, среднее: 19.669 ms\n",
      "memory: 928.47 Mb, среднее: 16.28893 Mb\n",
      "предложений: 57\n",
      "Затрачено времени: 2049.86 сек.\n"
     ]
    }
   ],
   "source": [
    "title = '2 CPU'\n",
    "en_ru(title)\n",
    "print('-' * 25)\n",
    "ar_ru(title)"
   ]
  },
  {
   "cell_type": "code",
   "execution_count": 32,
   "id": "140455bb",
   "metadata": {},
   "outputs": [
    {
     "name": "stdout",
     "output_type": "stream",
     "text": [
      "EN-RU\n",
      " 3 CPU\n",
      "preproc: 4.79 ms, среднее: 0.070 ms\n",
      "token: 100.63 ms, среднее: 1.480 ms\n",
      "generate: 609500.08 ms, среднее: 8963.236 ms\n",
      "decode: 641.38 ms, среднее: 9.432 ms\n",
      "memory: 1015.39 Mb, среднее: 14.93216 Mb\n",
      "предложений: 68\n",
      "Затрачено времени: 1218.79 сек.\n",
      "-------------------------\n",
      "AR-RU\n",
      " 3 CPU\n",
      "preproc: 4.04 ms, среднее: 0.071 ms\n",
      "token: 290.89 ms, среднее: 5.103 ms\n",
      "generate: 573290.83 ms, среднее: 10057.734 ms\n",
      "decode: 385.32 ms, среднее: 6.760 ms\n",
      "memory: 1058.79 Mb, среднее: 18.57518 Mb\n",
      "предложений: 57\n",
      "Затрачено времени: 1148.05 сек.\n"
     ]
    }
   ],
   "source": [
    "title = '3 CPU'\n",
    "en_ru(title)\n",
    "print('-' * 25)\n",
    "ar_ru(title)"
   ]
  },
  {
   "cell_type": "code",
   "execution_count": 33,
   "id": "aaa381d7",
   "metadata": {},
   "outputs": [
    {
     "name": "stdout",
     "output_type": "stream",
     "text": [
      "EN-RU\n",
      " 4 CPU\n",
      "preproc: 3.83 ms, среднее: 0.056 ms\n",
      "token: 71.40 ms, среднее: 1.050 ms\n",
      "generate: 332945.86 ms, среднее: 4896.263 ms\n",
      "decode: 1121.19 ms, среднее: 16.488 ms\n",
      "memory: 926.18 Mb, среднее: 13.62023 Mb\n",
      "предложений: 68\n",
      "Затрачено времени: 671.96 сек.\n",
      "-------------------------\n",
      "AR-RU\n",
      " 4 CPU\n",
      "preproc: 3.35 ms, среднее: 0.059 ms\n",
      "token: 70.21 ms, среднее: 1.232 ms\n",
      "generate: 323899.22 ms, среднее: 5682.442 ms\n",
      "decode: 788.74 ms, среднее: 13.838 ms\n",
      "memory: 976.35 Mb, среднее: 17.12891 Mb\n",
      "предложений: 57\n",
      "Затрачено времени: 646.32 сек.\n"
     ]
    }
   ],
   "source": [
    "title = '4 CPU'\n",
    "en_ru(title)\n",
    "print('-' * 25)\n",
    "ar_ru(title)"
   ]
  },
  {
   "cell_type": "code",
   "execution_count": 34,
   "id": "38e2147c",
   "metadata": {},
   "outputs": [
    {
     "name": "stdout",
     "output_type": "stream",
     "text": [
      "EN-RU\n",
      " 5 CPU\n",
      "preproc: 3.46 ms, среднее: 0.051 ms\n",
      "token: 66.46 ms, среднее: 0.977 ms\n",
      "generate: 270910.53 ms, среднее: 3983.978 ms\n",
      "decode: 496.11 ms, среднее: 7.296 ms\n",
      "memory: 1046.01 Mb, среднее: 15.38247 Mb\n",
      "предложений: 68\n",
      "Затрачено времени: 542.30 сек.\n",
      "AR-RU\n",
      " 5 CPU\n",
      "preproc: 3.21 ms, среднее: 0.056 ms\n",
      "token: 66.39 ms, среднее: 1.165 ms\n",
      "generate: 258176.15 ms, среднее: 4529.406 ms\n",
      "decode: 454.63 ms, среднее: 7.976 ms\n",
      "memory: 1172.41 Mb, среднее: 20.56853 Mb\n",
      "предложений: 57\n",
      "Затрачено времени: 519.85 сек.\n"
     ]
    }
   ],
   "source": [
    "title = '5 CPU'\n",
    "en_ru(title)\n",
    "ar_ru(title)"
   ]
  },
  {
   "cell_type": "code",
   "execution_count": 35,
   "id": "5fd74314",
   "metadata": {},
   "outputs": [
    {
     "name": "stdout",
     "output_type": "stream",
     "text": [
      "EN-RU\n",
      " 10 CPU\n",
      "preproc: 2.73 ms, среднее: 0.040 ms\n",
      "token: 50.39 ms, среднее: 0.741 ms\n",
      "generate: 108374.31 ms, среднее: 1593.740 ms\n",
      "decode: 278.38 ms, среднее: 4.094 ms\n",
      "memory: 1074.21 Mb, среднее: 15.79716 Mb\n",
      "предложений: 68\n",
      "Затрачено времени: 220.04 сек.\n",
      "AR-RU\n",
      " 10 CPU\n",
      "preproc: 2.87 ms, среднее: 0.050 ms\n",
      "token: 52.20 ms, среднее: 0.916 ms\n",
      "generate: 106243.00 ms, среднее: 1863.912 ms\n",
      "decode: 174.66 ms, среднее: 3.064 ms\n",
      "memory: 1097.59 Mb, среднее: 19.25596 Mb\n",
      "предложений: 57\n",
      "Затрачено времени: 212.99 сек.\n"
     ]
    }
   ],
   "source": [
    "title = '10 CPU'\n",
    "en_ru(title)\n",
    "ar_ru(title)"
   ]
  },
  {
   "cell_type": "code",
   "execution_count": 36,
   "id": "22115b85",
   "metadata": {},
   "outputs": [
    {
     "name": "stdout",
     "output_type": "stream",
     "text": [
      "EN-RU\n",
      " 15 CPU\n",
      "preproc: 2.76 ms, среднее: 0.041 ms\n",
      "token: 48.96 ms, среднее: 0.720 ms\n",
      "generate: 65604.37 ms, среднее: 964.770 ms\n",
      "decode: 130.92 ms, среднее: 1.925 ms\n",
      "memory: 1084.70 Mb, среднее: 15.95146 Mb\n",
      "предложений: 68\n",
      "Затрачено времени: 133.22 сек.\n",
      "AR-RU\n",
      " 15 CPU\n",
      "preproc: 2.49 ms, среднее: 0.044 ms\n",
      "token: 46.46 ms, среднее: 0.815 ms\n",
      "generate: 62316.16 ms, среднее: 1093.266 ms\n",
      "decode: 148.56 ms, среднее: 2.606 ms\n",
      "memory: 867.43 Mb, среднее: 15.21813 Mb\n",
      "предложений: 57\n",
      "Затрачено времени: 125.73 сек.\n"
     ]
    }
   ],
   "source": [
    "title = '15 CPU'\n",
    "en_ru(title)\n",
    "ar_ru(title)"
   ]
  },
  {
   "cell_type": "code",
   "execution_count": 37,
   "id": "12fc3242",
   "metadata": {},
   "outputs": [
    {
     "name": "stdout",
     "output_type": "stream",
     "text": [
      "EN-RU\n",
      " 20 CPU\n",
      "preproc: 2.38 ms, среднее: 0.035 ms\n",
      "token: 46.25 ms, среднее: 0.680 ms\n",
      "generate: 45732.32 ms, среднее: 672.534 ms\n",
      "decode: 113.69 ms, среднее: 1.672 ms\n",
      "memory: 1098.44 Mb, среднее: 16.15349 Mb\n",
      "предложений: 68\n",
      "Затрачено времени: 93.52 сек.\n",
      "AR-RU\n",
      " 20 CPU\n",
      "preproc: 2.48 ms, среднее: 0.043 ms\n",
      "token: 48.36 ms, среднее: 0.849 ms\n",
      "generate: 43217.90 ms, среднее: 758.209 ms\n",
      "decode: 103.55 ms, среднее: 1.817 ms\n",
      "memory: 1146.10 Mb, среднее: 20.10698 Mb\n",
      "предложений: 57\n",
      "Затрачено времени: 88.47 сек.\n"
     ]
    }
   ],
   "source": [
    "title = '20 CPU'\n",
    "en_ru(title)\n",
    "ar_ru(title)"
   ]
  },
  {
   "cell_type": "code",
   "execution_count": 38,
   "id": "831728d5",
   "metadata": {},
   "outputs": [
    {
     "name": "stdout",
     "output_type": "stream",
     "text": [
      "EN-RU\n",
      " 25 CPU\n",
      "preproc: 2.39 ms, среднее: 0.035 ms\n",
      "token: 52.76 ms, среднее: 0.776 ms\n",
      "generate: 45620.25 ms, среднее: 670.886 ms\n",
      "decode: 119.57 ms, среднее: 1.758 ms\n",
      "memory: 1147.31 Mb, среднее: 16.87224 Mb\n",
      "предложений: 68\n",
      "Затрачено времени: 93.29 сек.\n",
      "AR-RU\n",
      " 25 CPU\n",
      "preproc: 2.30 ms, среднее: 0.040 ms\n",
      "token: 46.58 ms, среднее: 0.817 ms\n",
      "generate: 43122.09 ms, среднее: 756.528 ms\n",
      "decode: 111.37 ms, среднее: 1.954 ms\n",
      "memory: 1061.54 Mb, среднее: 18.62356 Mb\n",
      "предложений: 57\n",
      "Затрачено времени: 87.90 сек.\n"
     ]
    }
   ],
   "source": [
    "title = '25 CPU'\n",
    "en_ru(title)\n",
    "ar_ru(title)"
   ]
  },
  {
   "cell_type": "code",
   "execution_count": 41,
   "id": "0835af8d",
   "metadata": {},
   "outputs": [
    {
     "name": "stdout",
     "output_type": "stream",
     "text": [
      "EN-RU\n",
      " 30 CPU\n",
      "preproc: 2.38 ms, среднее: 0.035 ms\n",
      "token: 46.10 ms, среднее: 0.678 ms\n",
      "generate: 45468.98 ms, среднее: 668.662 ms\n",
      "decode: 117.23 ms, среднее: 1.724 ms\n",
      "memory: 1240.76 Mb, среднее: 18.24644 Mb\n",
      "предложений: 68\n",
      "Затрачено времени: 92.64 сек.\n",
      "AR-RU\n",
      " 30 CPU\n",
      "preproc: 2.52 ms, среднее: 0.044 ms\n",
      "token: 47.88 ms, среднее: 0.840 ms\n",
      "generate: 43858.25 ms, среднее: 769.443 ms\n",
      "decode: 111.75 ms, среднее: 1.961 ms\n",
      "memory: 1043.38 Mb, среднее: 18.30489 Mb\n",
      "предложений: 57\n",
      "Затрачено времени: 88.77 сек.\n"
     ]
    }
   ],
   "source": [
    "title = '30 CPU'\n",
    "en_ru(title)\n",
    "ar_ru(title)"
   ]
  }
 ],
 "metadata": {
  "kernelspec": {
   "display_name": "Python 3 (ipykernel)",
   "language": "python",
   "name": "python3"
  },
  "language_info": {
   "codemirror_mode": {
    "name": "ipython",
    "version": 3
   },
   "file_extension": ".py",
   "mimetype": "text/x-python",
   "name": "python",
   "nbconvert_exporter": "python",
   "pygments_lexer": "ipython3",
   "version": "3.9.7"
  }
 },
 "nbformat": 4,
 "nbformat_minor": 5
}
