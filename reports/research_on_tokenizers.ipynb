{
 "cells": [
  {
   "cell_type": "code",
   "execution_count": 1,
   "id": "7a7abab9",
   "metadata": {},
   "outputs": [],
   "source": [
    "import json"
   ]
  },
  {
   "cell_type": "code",
   "execution_count": 2,
   "id": "ce648f69",
   "metadata": {},
   "outputs": [],
   "source": [
    "with open('C++/opus.spm32k-spm32k.vocab.yml') as f:\n",
    "    cpp = f.readlines()\n",
    "cpp = {i.split(': ')[0]: i.split(': ')[1].strip() for i in cpp}"
   ]
  },
  {
   "cell_type": "code",
   "execution_count": 3,
   "id": "fd26a97e",
   "metadata": {},
   "outputs": [],
   "source": [
    "# Opening JSON file\n",
    "with open('Python/vocab.json') as f:\n",
    "    python = json.load(f)"
   ]
  },
  {
   "cell_type": "code",
   "execution_count": 4,
   "id": "2f6aaee2",
   "metadata": {},
   "outputs": [
    {
     "data": {
      "text/plain": [
       "(62518, 62517)"
      ]
     },
     "execution_count": 4,
     "metadata": {},
     "output_type": "execute_result"
    }
   ],
   "source": [
    "len(python), len(cpp)"
   ]
  },
  {
   "cell_type": "code",
   "execution_count": 5,
   "id": "1c301c8a",
   "metadata": {},
   "outputs": [
    {
     "name": "stdout",
     "output_type": "stream",
     "text": [
      "Различий нет!\n"
     ]
    }
   ],
   "source": [
    "diff = True # гипотеза о разных словарях\n",
    "for i, j in zip(cpp, python):\n",
    "    if i[0] == '\"' and i[-1] == '\"':\n",
    "        i = i[1:-1]\n",
    "    if '\\\\\"' in i:\n",
    "        i = i.replace('\\\\\"', '\"')\n",
    "    if i != j:\n",
    "        print(i, \"!=\",j)\n",
    "    else:\n",
    "        diff = False # опровегаем гипотезу\n",
    "print(\"Различий нет!\" if not diff else \"Есть различие!\")"
   ]
  },
  {
   "cell_type": "code",
   "execution_count": 6,
   "id": "d28f80c3",
   "metadata": {
    "scrolled": true
   },
   "outputs": [],
   "source": [
    "cpp_set = set()\n",
    "for i in cpp:\n",
    "    if i[0] == '\"' and i[-1] == '\"':\n",
    "        i = i[1:-1]\n",
    "    if '\\\\\"' in i:\n",
    "        i = i.replace('\\\\\"', '\"')\n",
    "    cpp_set.add(i)"
   ]
  },
  {
   "cell_type": "code",
   "execution_count": 7,
   "id": "c47ded8f",
   "metadata": {},
   "outputs": [],
   "source": [
    "python_set = set()\n",
    "for j in python:\n",
    "    python_set.add(j)"
   ]
  },
  {
   "cell_type": "code",
   "execution_count": 8,
   "id": "e1e2a83c",
   "metadata": {},
   "outputs": [
    {
     "data": {
      "text/plain": [
       "(62518, 62517)"
      ]
     },
     "execution_count": 8,
     "metadata": {},
     "output_type": "execute_result"
    }
   ],
   "source": [
    "len(python_set), len(cpp_set)"
   ]
  },
  {
   "cell_type": "code",
   "execution_count": 9,
   "id": "26443373",
   "metadata": {},
   "outputs": [
    {
     "data": {
      "text/plain": [
       "{'<pad>'}"
      ]
     },
     "execution_count": 9,
     "metadata": {},
     "output_type": "execute_result"
    }
   ],
   "source": [
    "# отличие на один служебный символ для обозначения заполнителя в transformers.\n",
    "python_set - cpp_set"
   ]
  }
 ],
 "metadata": {
  "kernelspec": {
   "display_name": "Python 3 (ipykernel)",
   "language": "python",
   "name": "python3"
  },
  "language_info": {
   "codemirror_mode": {
    "name": "ipython",
    "version": 3
   },
   "file_extension": ".py",
   "mimetype": "text/x-python",
   "name": "python",
   "nbconvert_exporter": "python",
   "pygments_lexer": "ipython3",
   "version": "3.8.10"
  }
 },
 "nbformat": 4,
 "nbformat_minor": 5
}
