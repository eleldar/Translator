{
 "cells": [
  {
   "cell_type": "markdown",
   "id": "86a661b4",
   "metadata": {},
   "source": [
    "# Анализ работы API (CPU vs GPU)"
   ]
  },
  {
   "cell_type": "code",
   "execution_count": 1,
   "id": "59f2cd33",
   "metadata": {},
   "outputs": [],
   "source": [
    "import os\n",
    "import requests\n",
    "from sentence_splitter import SentenceSplitter, split_text_into_sentences\n",
    "import time"
   ]
  },
  {
   "cell_type": "markdown",
   "id": "49287753",
   "metadata": {},
   "source": [
    "## Множество одновременных обращений к API"
   ]
  },
  {
   "cell_type": "code",
   "execution_count": 2,
   "id": "a743a6a2",
   "metadata": {},
   "outputs": [],
   "source": [
    "def en_ru(title='************'):\n",
    "    sourceid=\"en\"\n",
    "    targetid=\"ru\"\n",
    "    source = f'input.{sourceid}'\n",
    "    target = f'api-output.en-{targetid}'\n",
    "    url = 'http://10.239.16.89:60001/api/translation' \n",
    "    headers = {'accept': 'application/json',\n",
    "               'Content-Type': 'application/json',\n",
    "    }\n",
    "    with open(source, encoding='utf-8') as f:\n",
    "        text = f.readlines()\n",
    "    text = (\" \".join([i.strip() for i in text]))\n",
    "    text = split_text_into_sentences(text, language=sourceid)\n",
    "\n",
    "    result = []\n",
    "    n = 0\n",
    "    all_time = 0\n",
    "    for sent in text:\n",
    "        start = time.time() # начало замера времени\n",
    "        n += 1\n",
    "        sent = sent.replace('\"', '\\\\\"').encode('ascii', errors='ignore').decode(\"utf-8\")\n",
    "        data = '{ \\\"text\\\": \\\"'+sent+'\\\", \\\"sourceLanguage\\\": \\\"'+sourceid+'\\\", \\\"targetLanguage\\\": \\\"'+targetid+'\\\"}'\n",
    "        answer = requests.post(url, headers=headers, data=data).json()['message']        \n",
    "        end = time.time() # окончание замера времени\n",
    "        all_time += (end - start) # фиксация затраченного времени\n",
    "        result.append(answer)\n",
    "\n",
    "#     print('EN-RU\\n', title)\n",
    "#     print(f'Затрачено времени: {all_time:.2f} сек.')\n",
    "    return all_time\n"
   ]
  },
  {
   "cell_type": "code",
   "execution_count": 3,
   "id": "37585a84",
   "metadata": {},
   "outputs": [],
   "source": [
    "def ar_ru(title='************'):\n",
    "    sourceid=\"ar\"\n",
    "    targetid=\"ru\"\n",
    "    source = f'input.{sourceid}'\n",
    "    target = f'api-output.en-{targetid}'\n",
    "    url = 'http://10.239.16.89:60001/api/translation' \n",
    "    headers = {'accept': 'application/json',\n",
    "               'Content-Type': 'application/json',\n",
    "    }\n",
    "\n",
    "    result = []\n",
    "    all_time = 0\n",
    "    with open(source, encoding='utf-8') as f:\n",
    "        n = 0\n",
    "        for i in f:\n",
    "            start = time.time() # начало замера времени\n",
    "            sent = i.strip()\n",
    "            n += 1\n",
    "            sent = sent.encode('utf-8').decode('latin-1', 'ignore')\n",
    "            data = '{\\n  \"text\": \"' + str(sent) + '\",\\n  \"sourceLanguage\": \"' + sourceid + '\",\\n  \"targetLanguage\": \"' + targetid + '\"\\n}'\n",
    "            answer = requests.post(url, headers=headers, data=data).json()['message']            \n",
    "\n",
    "            end = time.time() # окончание замера времени\n",
    "            all_time += (end - start) # фиксация затраченного времени\n",
    "            result.append(answer)\n",
    "\n",
    "#     print('AR-RU\\n', title)\n",
    "#     print(f'Затрачено времени: {all_time:.2f} сек.')\n",
    "    return all_time"
   ]
  },
  {
   "cell_type": "code",
   "execution_count": 23,
   "id": "0835af8d",
   "metadata": {},
   "outputs": [
    {
     "name": "stdout",
     "output_type": "stream",
     "text": [
      "20 CPU\n",
      "Затрачено времени: 88.34 сек.\n"
     ]
    }
   ],
   "source": [
    "title = '20 CPU'\n",
    "s = 0\n",
    "s += en_ru(title)\n",
    "s += ar_ru(title)\n",
    "print(title)\n",
    "print(f'Затрачено времени: {s:.2f} сек.')"
   ]
  },
  {
   "cell_type": "code",
   "execution_count": 9,
   "id": "861e3c7e",
   "metadata": {},
   "outputs": [],
   "source": [
    "def full(title='20 CPU'):\n",
    "    s = 0\n",
    "    s += en_ru(title)\n",
    "    s += ar_ru(title)\n",
    "    print(title)\n",
    "    print(f'Затрачено времени: {s:.2f} сек.')"
   ]
  },
  {
   "cell_type": "code",
   "execution_count": 26,
   "id": "f11a08d7",
   "metadata": {},
   "outputs": [
    {
     "name": "stdout",
     "output_type": "stream",
     "text": [
      "20 CPU\n",
      "Затрачено времени: 88.46 сек.\n"
     ]
    }
   ],
   "source": [
    "full()"
   ]
  },
  {
   "cell_type": "markdown",
   "id": "8796941c",
   "metadata": {},
   "source": [
    "### Многопоточность"
   ]
  },
  {
   "cell_type": "code",
   "execution_count": 10,
   "id": "a9d66ef4",
   "metadata": {},
   "outputs": [],
   "source": [
    "from concurrent.futures import ThreadPoolExecutor\n",
    "\n",
    "def run_concurrent_burgers():\n",
    "    \n",
    "    # Выполнить три задачи, используя пул потоков\n",
    "    with ThreadPoolExecutor() as executor:\n",
    "        executor.submit(full)\n",
    "        executor.submit(full)\n",
    "        executor.submit(full)"
   ]
  },
  {
   "cell_type": "code",
   "execution_count": 32,
   "id": "a9a9fa4c",
   "metadata": {},
   "outputs": [
    {
     "name": "stdout",
     "output_type": "stream",
     "text": [
      "20 CPU\n",
      "Затрачено времени: 241.75 сек.\n",
      "20 CPU\n",
      "Затрачено времени: 241.84 сек.\n",
      "20 CPU\n",
      "Затрачено времени: 241.86 сек.\n"
     ]
    }
   ],
   "source": [
    "run_concurrent_burgers()"
   ]
  },
  {
   "cell_type": "code",
   "execution_count": 39,
   "id": "18a68dc8",
   "metadata": {},
   "outputs": [
    {
     "name": "stderr",
     "output_type": "stream",
     "text": [
      "C:\\Users\\E64B5~1.BOL\\AppData\\Local\\Temp/ipykernel_3760/535178405.py:7: RuntimeWarning: coroutine 'full' was never awaited\n",
      "  executor.submit(full)\n",
      "RuntimeWarning: Enable tracemalloc to get the object allocation traceback\n",
      "C:\\Users\\E64B5~1.BOL\\AppData\\Local\\Temp/ipykernel_3760/535178405.py:9: RuntimeWarning: coroutine 'full' was never awaited\n",
      "  executor.submit(full)\n",
      "RuntimeWarning: Enable tracemalloc to get the object allocation traceback\n"
     ]
    }
   ],
   "source": [
    "run_concurrent_burgers()"
   ]
  },
  {
   "cell_type": "markdown",
   "id": "5ac3898d",
   "metadata": {},
   "source": [
    "### Асинхронность"
   ]
  },
  {
   "cell_type": "code",
   "execution_count": 35,
   "id": "b74d9053",
   "metadata": {},
   "outputs": [],
   "source": [
    "import asyncio\n",
    "\n",
    "async def run_concurrent_burgers():\n",
    "    await asyncio.gather(\n",
    "        full(),\n",
    "        full(),\n",
    "        full(),\n",
    "    )"
   ]
  },
  {
   "cell_type": "code",
   "execution_count": 38,
   "id": "2e7106de",
   "metadata": {},
   "outputs": [
    {
     "name": "stdout",
     "output_type": "stream",
     "text": [
      "20 CPU\n",
      "Затрачено времени: 89.58 сек.\n",
      "20 CPU\n",
      "Затрачено времени: 89.81 сек.\n",
      "20 CPU\n",
      "Затрачено времени: 89.07 сек.\n"
     ]
    }
   ],
   "source": [
    "try:\n",
    "    await run_concurrent_burgers()\n",
    "except TypeError:\n",
    "    pass"
   ]
  },
  {
   "cell_type": "markdown",
   "id": "2090e080",
   "metadata": {},
   "source": [
    "### Многопроцессорность"
   ]
  },
  {
   "cell_type": "code",
   "execution_count": 42,
   "id": "5117cbb3",
   "metadata": {},
   "outputs": [],
   "source": [
    "import multiprocessing as mp\n",
    "from concurrent.futures import ProcessPoolExecutor"
   ]
  },
  {
   "cell_type": "code",
   "execution_count": 46,
   "id": "3484374a",
   "metadata": {},
   "outputs": [],
   "source": [
    "result = []"
   ]
  },
  {
   "cell_type": "code",
   "execution_count": 47,
   "id": "c47ed89c",
   "metadata": {},
   "outputs": [],
   "source": [
    "def full(title='20 CPU'):\n",
    "    s = 0\n",
    "    s += en_ru(title)\n",
    "    s += ar_ru(title)\n",
    "    result.append(s)"
   ]
  },
  {
   "cell_type": "code",
   "execution_count": 48,
   "id": "4d3031e4",
   "metadata": {},
   "outputs": [],
   "source": [
    "def run_parallel_salads():\n",
    "    result = 0\n",
    "    with ProcessPoolExecutor(16) as executor:\n",
    "        executor.submit(\n",
    "            full(),\n",
    "            full(),\n",
    "            full(),\n",
    "        )"
   ]
  },
  {
   "cell_type": "code",
   "execution_count": 49,
   "id": "60b5df68",
   "metadata": {},
   "outputs": [
    {
     "name": "stdout",
     "output_type": "stream",
     "text": [
      "[90.03459143638611, 90.22947382926941, 88.21230292320251]\n"
     ]
    }
   ],
   "source": [
    "run_parallel_salads(); print(sum(result) / len(result))"
   ]
  },
  {
   "cell_type": "code",
   "execution_count": 50,
   "id": "34a69039",
   "metadata": {},
   "outputs": [
    {
     "data": {
      "text/plain": [
       "'full(),full(),full(),full(),full(),'"
      ]
     },
     "execution_count": 50,
     "metadata": {},
     "output_type": "execute_result"
    }
   ],
   "source": [
    "\"full(),\" * 5"
   ]
  },
  {
   "cell_type": "markdown",
   "id": "9ac0f031",
   "metadata": {},
   "source": [
    "# Цикл"
   ]
  },
  {
   "cell_type": "code",
   "execution_count": null,
   "id": "3e9f8bac",
   "metadata": {},
   "outputs": [
    {
     "name": "stdout",
     "output_type": "stream",
     "text": [
      "1 89.58155274391174 89.71497964859009\n",
      "2 90.31866896152496 90.38049459457397\n",
      "3 90.21124426523845 90.25512250264485\n",
      "4 90.6158657670021 90.6448403596878\n",
      "5 89.987788438797 90.01864337921143\n",
      "6 90.05073471864064 90.08987144629161\n",
      "7 89.80033278465271 89.828122649874\n",
      "8 89.84777408838272 89.8721191585064\n"
     ]
    }
   ],
   "source": [
    "from concurrent.futures import ProcessPoolExecutor\n",
    "\n",
    "total = {}\n",
    "for i in range(1, 20):\n",
    "    result = []\n",
    "    \n",
    "    def full(title='20 CPU'):\n",
    "        s = 0\n",
    "        s += en_ru(title)\n",
    "        s += ar_ru(title)\n",
    "        result.append(s)\n",
    "    \n",
    "    cmd = \"full(),\" * i\n",
    "    \n",
    "    start = time.time() # начало замера времени\n",
    "    def main():    \n",
    "        with ProcessPoolExecutor(16) as executor:\n",
    "            executor.submit(eval(cmd))\n",
    "    main()\n",
    "    end = time.time() # окончание замера времени\n",
    "    \n",
    "    unit = sum(result) / len(result)\n",
    "    func = (end - start) / i\n",
    "    total[i] = [unit, func]\n",
    "    \n",
    "    print(i, unit, func)"
   ]
  },
  {
   "cell_type": "code",
   "execution_count": null,
   "id": "5671b1b3",
   "metadata": {},
   "outputs": [],
   "source": []
  }
 ],
 "metadata": {
  "kernelspec": {
   "display_name": "Python 3 (ipykernel)",
   "language": "python",
   "name": "python3"
  },
  "language_info": {
   "codemirror_mode": {
    "name": "ipython",
    "version": 3
   },
   "file_extension": ".py",
   "mimetype": "text/x-python",
   "name": "python",
   "nbconvert_exporter": "python",
   "pygments_lexer": "ipython3",
   "version": "3.9.7"
  }
 },
 "nbformat": 4,
 "nbformat_minor": 5
}
